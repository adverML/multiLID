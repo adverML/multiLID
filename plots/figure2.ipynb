{
 "cells": [
  {
   "cell_type": "code",
   "execution_count": 1,
   "id": "1105d042-42f4-41c1-86e1-b1a5dbe66f69",
   "metadata": {},
   "outputs": [],
   "source": [
    "import os\n",
    "import numpy as np\n",
    "from numpy import reshape\n",
    "import torch\n",
    "\n",
    "from sklearn.decomposition import PCA\n",
    "from sklearn.manifold import TSNE\n",
    "import matplotlib.pyplot as plt\n",
    "from mpl_toolkits.mplot3d import Axes3D\n",
    "import seaborn as sns\n",
    "import pandas as pd\n",
    "from pathlib import Path\n",
    "home = str(Path.home())\n",
    "base_path = os.path.join(home, 'workspace/multiLID/data/extract/run_1/')"
   ]
  },
  {
   "cell_type": "code",
   "execution_count": 4,
   "id": "61e57dcd-2e47-4fea-acf9-02bb45a9800c",
   "metadata": {},
   "outputs": [],
   "source": [
    "NR_SAMPLES=2000\n",
    "attacks = ['fgsm', 'bim', 'pgd', 'aa', 'df', 'cw']\n",
    "labels  = ['FGSM', 'BIM', 'PGD', 'AA', 'DF', 'CW']\n",
    "cdict  = {0: 'black', 1: 'pink', 2: 'blue', 3: 'red', 4: 'green', 5: 'cyan', 6: 'orange', 7: 'purple'}"
   ]
  },
  {
   "cell_type": "code",
   "execution_count": null,
   "id": "96cbc827-9343-47c4-a15d-b89a15a202d6",
   "metadata": {},
   "outputs": [],
   "source": []
  },
  {
   "cell_type": "code",
   "execution_count": 5,
   "id": "f9298981-f491-413e-8366-a330f2f2342a",
   "metadata": {},
   "outputs": [
    {
     "ename": "FileNotFoundError",
     "evalue": "[Errno 2] No such file or directory: '/home/lorenzp/workspace/multiLID/data/extract/run_1/cifar10/wrn28-10/lid/aa/k20/lid_normalos_8255.pt'",
     "output_type": "error",
     "traceback": [
      "\u001b[0;31m---------------------------------------------------------------------------\u001b[0m",
      "\u001b[0;31mFileNotFoundError\u001b[0m                         Traceback (most recent call last)",
      "Input \u001b[0;32mIn [5]\u001b[0m, in \u001b[0;36m<cell line: 3>\u001b[0;34m()\u001b[0m\n\u001b[1;32m      5\u001b[0m \u001b[38;5;28;01mif\u001b[39;00m att \u001b[38;5;129;01min\u001b[39;00m [\u001b[38;5;124m'\u001b[39m\u001b[38;5;124mfgsm\u001b[39m\u001b[38;5;124m'\u001b[39m, \u001b[38;5;124m'\u001b[39m\u001b[38;5;124mbim\u001b[39m\u001b[38;5;124m'\u001b[39m, \u001b[38;5;124m'\u001b[39m\u001b[38;5;124mpgd\u001b[39m\u001b[38;5;124m'\u001b[39m, \u001b[38;5;124m'\u001b[39m\u001b[38;5;124maa\u001b[39m\u001b[38;5;124m'\u001b[39m]:\n\u001b[1;32m      6\u001b[0m     eps \u001b[38;5;241m=\u001b[39m \u001b[38;5;124m\"\u001b[39m\u001b[38;5;124m_8255\u001b[39m\u001b[38;5;124m\"\u001b[39m\n\u001b[0;32m----> 8\u001b[0m clean     \u001b[38;5;241m=\u001b[39m \u001b[43mtorch\u001b[49m\u001b[38;5;241;43m.\u001b[39;49m\u001b[43mload\u001b[49m\u001b[43m(\u001b[49m\u001b[43mos\u001b[49m\u001b[38;5;241;43m.\u001b[39;49m\u001b[43mpath\u001b[49m\u001b[38;5;241;43m.\u001b[39;49m\u001b[43mjoin\u001b[49m\u001b[43m(\u001b[49m\u001b[43mbase_path\u001b[49m\u001b[43m,\u001b[49m\u001b[43m \u001b[49m\u001b[38;5;124;43m'\u001b[39;49m\u001b[38;5;124;43mcifar10/wrn28-10/lid/\u001b[39;49m\u001b[38;5;132;43;01m{}\u001b[39;49;00m\u001b[38;5;124;43m/k20/lid_normalos\u001b[39;49m\u001b[38;5;132;43;01m{}\u001b[39;49;00m\u001b[38;5;124;43m.pt\u001b[39;49m\u001b[38;5;124;43m'\u001b[39;49m\u001b[38;5;241;43m.\u001b[39;49m\u001b[43mformat\u001b[49m\u001b[43m(\u001b[49m\u001b[43matt\u001b[49m\u001b[43m,\u001b[49m\u001b[43m \u001b[49m\u001b[43meps\u001b[49m\u001b[43m)\u001b[49m\u001b[43m)\u001b[49m\u001b[43m \u001b[49m\u001b[43m)\u001b[49m\u001b[38;5;241m.\u001b[39mnumpy()[:NR_SAMPLES]\n\u001b[1;32m      9\u001b[0m chars_adv \u001b[38;5;241m=\u001b[39m torch\u001b[38;5;241m.\u001b[39mload(os\u001b[38;5;241m.\u001b[39mpath\u001b[38;5;241m.\u001b[39mjoin(base_path, \u001b[38;5;124m'\u001b[39m\u001b[38;5;124mcifar10/wrn28-10/lid/\u001b[39m\u001b[38;5;132;01m{}\u001b[39;00m\u001b[38;5;124m/k20/lid_adverlos\u001b[39m\u001b[38;5;132;01m{}\u001b[39;00m\u001b[38;5;124m.pt\u001b[39m\u001b[38;5;124m'\u001b[39m\u001b[38;5;241m.\u001b[39mformat(att, eps)) )\u001b[38;5;241m.\u001b[39mnumpy()[:NR_SAMPLES]\n\u001b[1;32m     11\u001b[0m characteristics_clean[att] \u001b[38;5;241m=\u001b[39m clean\n",
      "File \u001b[0;32m~/.conda/envs/cuda--11-1-1--pytorch--1-9-0/lib/python3.9/site-packages/torch/serialization.py:791\u001b[0m, in \u001b[0;36mload\u001b[0;34m(f, map_location, pickle_module, weights_only, **pickle_load_args)\u001b[0m\n\u001b[1;32m    788\u001b[0m \u001b[38;5;28;01mif\u001b[39;00m \u001b[38;5;124m'\u001b[39m\u001b[38;5;124mencoding\u001b[39m\u001b[38;5;124m'\u001b[39m \u001b[38;5;129;01mnot\u001b[39;00m \u001b[38;5;129;01min\u001b[39;00m pickle_load_args\u001b[38;5;241m.\u001b[39mkeys():\n\u001b[1;32m    789\u001b[0m     pickle_load_args[\u001b[38;5;124m'\u001b[39m\u001b[38;5;124mencoding\u001b[39m\u001b[38;5;124m'\u001b[39m] \u001b[38;5;241m=\u001b[39m \u001b[38;5;124m'\u001b[39m\u001b[38;5;124mutf-8\u001b[39m\u001b[38;5;124m'\u001b[39m\n\u001b[0;32m--> 791\u001b[0m \u001b[38;5;28;01mwith\u001b[39;00m \u001b[43m_open_file_like\u001b[49m\u001b[43m(\u001b[49m\u001b[43mf\u001b[49m\u001b[43m,\u001b[49m\u001b[43m \u001b[49m\u001b[38;5;124;43m'\u001b[39;49m\u001b[38;5;124;43mrb\u001b[39;49m\u001b[38;5;124;43m'\u001b[39;49m\u001b[43m)\u001b[49m \u001b[38;5;28;01mas\u001b[39;00m opened_file:\n\u001b[1;32m    792\u001b[0m     \u001b[38;5;28;01mif\u001b[39;00m _is_zipfile(opened_file):\n\u001b[1;32m    793\u001b[0m         \u001b[38;5;66;03m# The zipfile reader is going to advance the current file position.\u001b[39;00m\n\u001b[1;32m    794\u001b[0m         \u001b[38;5;66;03m# If we want to actually tail call to torch.jit.load, we need to\u001b[39;00m\n\u001b[1;32m    795\u001b[0m         \u001b[38;5;66;03m# reset back to the original position.\u001b[39;00m\n\u001b[1;32m    796\u001b[0m         orig_position \u001b[38;5;241m=\u001b[39m opened_file\u001b[38;5;241m.\u001b[39mtell()\n",
      "File \u001b[0;32m~/.conda/envs/cuda--11-1-1--pytorch--1-9-0/lib/python3.9/site-packages/torch/serialization.py:271\u001b[0m, in \u001b[0;36m_open_file_like\u001b[0;34m(name_or_buffer, mode)\u001b[0m\n\u001b[1;32m    269\u001b[0m \u001b[38;5;28;01mdef\u001b[39;00m \u001b[38;5;21m_open_file_like\u001b[39m(name_or_buffer, mode):\n\u001b[1;32m    270\u001b[0m     \u001b[38;5;28;01mif\u001b[39;00m _is_path(name_or_buffer):\n\u001b[0;32m--> 271\u001b[0m         \u001b[38;5;28;01mreturn\u001b[39;00m \u001b[43m_open_file\u001b[49m\u001b[43m(\u001b[49m\u001b[43mname_or_buffer\u001b[49m\u001b[43m,\u001b[49m\u001b[43m \u001b[49m\u001b[43mmode\u001b[49m\u001b[43m)\u001b[49m\n\u001b[1;32m    272\u001b[0m     \u001b[38;5;28;01melse\u001b[39;00m:\n\u001b[1;32m    273\u001b[0m         \u001b[38;5;28;01mif\u001b[39;00m \u001b[38;5;124m'\u001b[39m\u001b[38;5;124mw\u001b[39m\u001b[38;5;124m'\u001b[39m \u001b[38;5;129;01min\u001b[39;00m mode:\n",
      "File \u001b[0;32m~/.conda/envs/cuda--11-1-1--pytorch--1-9-0/lib/python3.9/site-packages/torch/serialization.py:252\u001b[0m, in \u001b[0;36m_open_file.__init__\u001b[0;34m(self, name, mode)\u001b[0m\n\u001b[1;32m    251\u001b[0m \u001b[38;5;28;01mdef\u001b[39;00m \u001b[38;5;21m__init__\u001b[39m(\u001b[38;5;28mself\u001b[39m, name, mode):\n\u001b[0;32m--> 252\u001b[0m     \u001b[38;5;28msuper\u001b[39m()\u001b[38;5;241m.\u001b[39m\u001b[38;5;21m__init__\u001b[39m(\u001b[38;5;28;43mopen\u001b[39;49m\u001b[43m(\u001b[49m\u001b[43mname\u001b[49m\u001b[43m,\u001b[49m\u001b[43m \u001b[49m\u001b[43mmode\u001b[49m\u001b[43m)\u001b[49m)\n",
      "\u001b[0;31mFileNotFoundError\u001b[0m: [Errno 2] No such file or directory: '/home/lorenzp/workspace/multiLID/data/extract/run_1/cifar10/wrn28-10/lid/aa/k20/lid_normalos_8255.pt'"
     ]
    }
   ],
   "source": [
    "characteristics_clean = {}\n",
    "characteristics_adv = {}\n",
    "for att in attacks:\n",
    "    eps = \"\"\n",
    "    if att in ['fgsm', 'bim', 'pgd', 'aa']:\n",
    "        eps = \"_8255\"\n",
    "    \n",
    "    clean     = torch.load(os.path.join(base_path, 'cifar10/wrn28-10/lid/{}/k20/lid_normalos{}.pt'.format(att, eps)) ).numpy()[:NR_SAMPLES]\n",
    "    chars_adv = torch.load(os.path.join(base_path, 'cifar10/wrn28-10/lid/{}/k20/lid_adverlos{}.pt'.format(att, eps)) ).numpy()[:NR_SAMPLES]\n",
    "    \n",
    "    characteristics_clean[att] = clean\n",
    "    characteristics_adv[att]   = chars_adv"
   ]
  },
  {
   "cell_type": "code",
   "execution_count": null,
   "id": "e54291a8-0917-4fe6-8904-0fa543a23bef",
   "metadata": {
    "tags": []
   },
   "outputs": [],
   "source": [
    "Layer_nr = 11\n",
    "\n",
    "fig, axs = plt.subplots(  1 , len(attacks), figsize=(24, 4) )\n",
    "BINS = 20\n",
    "\n",
    "fig.suptitle( \"Histogram of last feature. CIFAR10 - WRN 28-10\", fontsize=30 )\n",
    "# fig.supylabel('Frequency per Feature')\n",
    "\n",
    "for i, att in enumerate(attacks):\n",
    "    df = pd.DataFrame.from_dict(characteristics_clean[att])\n",
    "    df_adv = pd.DataFrame.from_dict(characteristics_adv[att])\n",
    "    df[int(Layer_nr)].plot.hist(ax=axs[i], bins=BINS, color='black',    alpha = 0.9)\n",
    "    df_adv[int(Layer_nr)].plot.hist( ax=axs[i], bins=BINS, color=cdict[i+1], alpha = 0.5)\n",
    "    if i  == 0:\n",
    "        axs[i].set_ylabel( \"frequency\", fontsize=25 )\n",
    "    if i  > 0:\n",
    "        axs[i].set_ylabel(\"\")\n",
    "\n",
    "    axs[i].set_title(labels[i], fontsize=25)\n",
    "    axs[i].set_xlabel(\"bins\", fontsize=25)\n",
    "        \n",
    "fig.tight_layout(rect=[0, 0, 0.99, 0.99])"
   ]
  },
  {
   "cell_type": "code",
   "execution_count": 27,
   "id": "02526008-95f2-4ff9-80ba-e00f85ac8d93",
   "metadata": {},
   "outputs": [],
   "source": [
    "fig.savefig( 'plots/' + 'bins/' + 'cifar10_hist_cif10_lid.svg')"
   ]
  },
  {
   "cell_type": "code",
   "execution_count": 28,
   "id": "7e9a45aa-ef73-4cfb-b468-a012e0e305b7",
   "metadata": {},
   "outputs": [],
   "source": [
    "fig.savefig( 'plots/' + 'bins/' + 'cifar10_hist_vert_1row_k20_new.png')"
   ]
  },
  {
   "cell_type": "code",
   "execution_count": null,
   "id": "b3caa716-26b0-4a54-890b-ace32b0c8738",
   "metadata": {},
   "outputs": [],
   "source": []
  }
 ],
 "metadata": {
  "kernelspec": {
   "display_name": "Python [conda env:.conda-cuda--11-1-1--pytorch--1-9-0]",
   "language": "python",
   "name": "conda-env-.conda-cuda--11-1-1--pytorch--1-9-0-py"
  },
  "language_info": {
   "codemirror_mode": {
    "name": "ipython",
    "version": 3
   },
   "file_extension": ".py",
   "mimetype": "text/x-python",
   "name": "python",
   "nbconvert_exporter": "python",
   "pygments_lexer": "ipython3",
   "version": "3.9.10"
  }
 },
 "nbformat": 4,
 "nbformat_minor": 5
}
