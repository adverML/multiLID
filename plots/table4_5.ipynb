{
 "cells": [
  {
   "cell_type": "code",
   "execution_count": 61,
   "id": "0b0be57e-6e73-404d-b94c-0c083affa5af",
   "metadata": {},
   "outputs": [],
   "source": [
    "import os\n",
    "import numpy as np\n",
    "import torch\n",
    "\n",
    "from sklearn.linear_model import LogisticRegressionCV, LogisticRegression\n",
    "from sklearn.ensemble import RandomForestClassifier\n",
    "from sklearn.model_selection import train_test_split\n",
    "from sklearn.metrics import roc_auc_score, accuracy_score\n",
    "from sklearn.preprocessing import MinMaxScaler, StandardScaler\n",
    "from sklearn.metrics import f1_score\n",
    "\n",
    "from sklearn.metrics import confusion_matrix, ConfusionMatrixDisplay\n",
    "from sklearn.utils.class_weight import compute_sample_weight\n",
    "from numpy import random\n",
    "\n",
    "import pandas as pd\n",
    "pd.options.display.float_format = '{:.2f}'.format\n",
    "\n",
    "from pathlib import Path\n",
    "home = str(Path.home())"
   ]
  },
  {
   "cell_type": "code",
   "execution_count": 71,
   "id": "f6bae7c8-dfac-4179-88a2-06c1b5137130",
   "metadata": {},
   "outputs": [],
   "source": [
    "def predictions(clf, X_test, scaler=None):\n",
    "    if not scaler == None:\n",
    "        X_test   = scaler.transform(X_test)\n",
    "    y_hat    = clf.predict(X_test)\n",
    "    y_hat_pr = clf.predict_proba(X_test)[:, 1]\n",
    "    return y_hat, y_hat_pr\n",
    "\n",
    "def LR(X_train, y_train, X_test, y_test):\n",
    "    scaler  = StandardScaler().fit(X_train)\n",
    "    X_train = scaler.transform(X_train)\n",
    "    kwargs = {'solver': 'liblinear', 'penalty': 'l2', 'max_iter': 100, 'C': 0.01}\n",
    "    clf = LogisticRegression(n_jobs=-1, **kwargs)\n",
    "    clf.fit(X_train, y_train)\n",
    "    y_hat, y_hat_pr = predictions(clf, X_test, scaler)\n",
    "    \n",
    "    return clf, scaler, y_hat, y_hat_pr\n",
    "\n",
    "def RF(X_train, y_train, X_test, y_test):\n",
    "    kwargs = {'n_estimators': 50, 'min_samples_split': 10, 'min_samples_leaf': 3, 'max_features': 'log2', 'max_depth': 60, 'bootstrap': False}  \n",
    "    clf = RandomForestClassifier(n_jobs=-1, **kwargs)\n",
    "    clf.fit(X_train, y_train)\n",
    "    y_hat, y_hat_pr = predictions(clf, X_test)\n",
    "    \n",
    "    return clf, y_hat, y_hat_pr"
   ]
  },
  {
   "cell_type": "code",
   "execution_count": 65,
   "id": "a36e1077-1541-4a38-a854-cafeb0a92e42",
   "metadata": {},
   "outputs": [],
   "source": [
    "def prepare_datasets(nor, adv, factor=0.8):\n",
    "    if len(nor.shape) > 2: \n",
    "        nor = nor.reshape((nor.shape[0], -1))\n",
    "        adv = adv.reshape((adv.shape[0], -1))\n",
    "\n",
    "    y_nor = np.zeros(nor.shape[0]).astype('int')\n",
    "    y_adv = np.ones(adv.shape[0]).astype('int')\n",
    "\n",
    "    x_train_n, x_test_n, y_train_n, y_test_n = train_test_split(nor, y_nor, test_size=1-factor, train_size=factor, random_state=random_state)\n",
    "    x_train_a, x_test_a, y_train_a, y_test_a = train_test_split(adv, y_adv, test_size=1-factor, train_size=factor, random_state=random_state)\n",
    "\n",
    "    X_train = np.concatenate((x_train_n, x_train_a))\n",
    "    y_train = np.concatenate((y_train_n, y_train_a))\n",
    "\n",
    "    X_test = np.concatenate((x_test_n, x_test_a))\n",
    "    y_test = np.concatenate((y_test_n, y_test_a))\n",
    "\n",
    "    return X_train, y_train, X_test, y_test"
   ]
  },
  {
   "cell_type": "code",
   "execution_count": 66,
   "id": "8b3e8d54-85f9-4358-859b-26c5fc74e71c",
   "metadata": {
    "tags": []
   },
   "outputs": [
    {
     "name": "stderr",
     "output_type": "stream",
     "text": [
      "/home/lorenzp/.conda/envs/cuda--11-1-1--pytorch--1-9-0/lib/python3.9/site-packages/sklearn/linear_model/_logistic.py:1523: UserWarning: 'n_jobs' > 1 does not have any effect when 'solver' is set to 'liblinear'. Got 'n_jobs' = 8.\n",
      "  warnings.warn(\n"
     ]
    },
    {
     "name": "stdout",
     "output_type": "stream",
     "text": [
      "it:0, cifar10, wrn28-10, lid, fgsm, bim, 76.4, 64.1\n",
      "it:0, cifar10, wrn28-10, lid, fgsm, bim, 80.5, 70.5\n",
      "it:0, cifar10, wrn28-10, lid, fgsm, pgd, 78.3, 65.4\n",
      "it:0, cifar10, wrn28-10, lid, fgsm, pgd, 82.0, 69.9\n",
      "it:0, cifar10, wrn28-10, lid, fgsm, aa, 86.4, 76.9\n",
      "it:0, cifar10, wrn28-10, lid, fgsm, aa, 90.2, 81.6\n",
      "it:0, cifar10, wrn28-10, lid, fgsm, df, 78.8, 66.6\n",
      "it:0, cifar10, wrn28-10, lid, fgsm, df, 79.3, 68.0\n",
      "it:0, cifar10, wrn28-10, lid, fgsm, cw, 75.9, 63.7\n",
      "it:0, cifar10, wrn28-10, lid, fgsm, cw, 76.8, 67.8\n"
     ]
    },
    {
     "name": "stderr",
     "output_type": "stream",
     "text": [
      "/home/lorenzp/.conda/envs/cuda--11-1-1--pytorch--1-9-0/lib/python3.9/site-packages/sklearn/linear_model/_logistic.py:1523: UserWarning: 'n_jobs' > 1 does not have any effect when 'solver' is set to 'liblinear'. Got 'n_jobs' = 8.\n",
      "  warnings.warn(\n"
     ]
    },
    {
     "name": "stdout",
     "output_type": "stream",
     "text": [
      "it:0, cifar10, wrn28-10, lid, bim, fgsm, 89.8, 81.6\n",
      "it:0, cifar10, wrn28-10, lid, bim, fgsm, 85.5, 75.9\n",
      "it:0, cifar10, wrn28-10, lid, bim, pgd, 86.0, 77.4\n",
      "it:0, cifar10, wrn28-10, lid, bim, pgd, 89.5, 82.6\n",
      "it:0, cifar10, wrn28-10, lid, bim, aa, 96.8, 89.1\n",
      "it:0, cifar10, wrn28-10, lid, bim, aa, 96.3, 88.5\n",
      "it:0, cifar10, wrn28-10, lid, bim, df, 89.5, 81.9\n",
      "it:0, cifar10, wrn28-10, lid, bim, df, 80.7, 70.8\n",
      "it:0, cifar10, wrn28-10, lid, bim, cw, 83.6, 74.9\n",
      "it:0, cifar10, wrn28-10, lid, bim, cw, 75.3, 65.9\n"
     ]
    },
    {
     "name": "stderr",
     "output_type": "stream",
     "text": [
      "/home/lorenzp/.conda/envs/cuda--11-1-1--pytorch--1-9-0/lib/python3.9/site-packages/sklearn/linear_model/_logistic.py:1523: UserWarning: 'n_jobs' > 1 does not have any effect when 'solver' is set to 'liblinear'. Got 'n_jobs' = 8.\n",
      "  warnings.warn(\n"
     ]
    },
    {
     "name": "stdout",
     "output_type": "stream",
     "text": [
      "it:0, cifar10, wrn28-10, lid, pgd, fgsm, 90.6, 82.2\n",
      "it:0, cifar10, wrn28-10, lid, pgd, fgsm, 87.8, 81.5\n",
      "it:0, cifar10, wrn28-10, lid, pgd, bim, 86.2, 79.8\n",
      "it:0, cifar10, wrn28-10, lid, pgd, bim, 86.9, 79.0\n",
      "it:0, cifar10, wrn28-10, lid, pgd, aa, 97.1, 89.5\n",
      "it:0, cifar10, wrn28-10, lid, pgd, aa, 96.7, 90.2\n",
      "it:0, cifar10, wrn28-10, lid, pgd, df, 92.0, 84.9\n",
      "it:0, cifar10, wrn28-10, lid, pgd, df, 87.1, 77.9\n",
      "it:0, cifar10, wrn28-10, lid, pgd, cw, 87.3, 78.2\n",
      "it:0, cifar10, wrn28-10, lid, pgd, cw, 82.2, 72.6\n"
     ]
    },
    {
     "name": "stderr",
     "output_type": "stream",
     "text": [
      "/home/lorenzp/.conda/envs/cuda--11-1-1--pytorch--1-9-0/lib/python3.9/site-packages/sklearn/linear_model/_logistic.py:1523: UserWarning: 'n_jobs' > 1 does not have any effect when 'solver' is set to 'liblinear'. Got 'n_jobs' = 8.\n",
      "  warnings.warn(\n"
     ]
    },
    {
     "name": "stdout",
     "output_type": "stream",
     "text": [
      "it:0, cifar10, wrn28-10, lid, aa, fgsm, 88.9, 80.0\n",
      "it:0, cifar10, wrn28-10, lid, aa, fgsm, 89.8, 79.5\n",
      "it:0, cifar10, wrn28-10, lid, aa, bim, 86.6, 75.6\n",
      "it:0, cifar10, wrn28-10, lid, aa, bim, 85.1, 73.5\n",
      "it:0, cifar10, wrn28-10, lid, aa, pgd, 85.9, 73.1\n",
      "it:0, cifar10, wrn28-10, lid, aa, pgd, 87.0, 76.9\n",
      "it:0, cifar10, wrn28-10, lid, aa, df, 90.4, 81.0\n",
      "it:0, cifar10, wrn28-10, lid, aa, df, 89.3, 76.4\n",
      "it:0, cifar10, wrn28-10, lid, aa, cw, 85.4, 74.9\n",
      "it:0, cifar10, wrn28-10, lid, aa, cw, 85.1, 70.5\n"
     ]
    },
    {
     "name": "stderr",
     "output_type": "stream",
     "text": [
      "/home/lorenzp/.conda/envs/cuda--11-1-1--pytorch--1-9-0/lib/python3.9/site-packages/sklearn/linear_model/_logistic.py:1523: UserWarning: 'n_jobs' > 1 does not have any effect when 'solver' is set to 'liblinear'. Got 'n_jobs' = 8.\n",
      "  warnings.warn(\n"
     ]
    },
    {
     "name": "stdout",
     "output_type": "stream",
     "text": [
      "it:0, cifar10, wrn28-10, lid, df, fgsm, 87.3, 79.2\n",
      "it:0, cifar10, wrn28-10, lid, df, fgsm, 87.1, 79.2\n",
      "it:0, cifar10, wrn28-10, lid, df, bim, 79.4, 65.0\n",
      "it:0, cifar10, wrn28-10, lid, df, bim, 76.6, 64.1\n",
      "it:0, cifar10, wrn28-10, lid, df, pgd, 81.3, 64.4\n",
      "it:0, cifar10, wrn28-10, lid, df, pgd, 80.4, 68.5\n",
      "it:0, cifar10, wrn28-10, lid, df, aa, 93.8, 85.0\n",
      "it:0, cifar10, wrn28-10, lid, df, aa, 94.9, 89.8\n",
      "it:0, cifar10, wrn28-10, lid, df, cw, 92.7, 82.0\n",
      "it:0, cifar10, wrn28-10, lid, df, cw, 94.2, 87.2\n"
     ]
    },
    {
     "name": "stderr",
     "output_type": "stream",
     "text": [
      "/home/lorenzp/.conda/envs/cuda--11-1-1--pytorch--1-9-0/lib/python3.9/site-packages/sklearn/linear_model/_logistic.py:1523: UserWarning: 'n_jobs' > 1 does not have any effect when 'solver' is set to 'liblinear'. Got 'n_jobs' = 8.\n",
      "  warnings.warn(\n"
     ]
    },
    {
     "name": "stdout",
     "output_type": "stream",
     "text": [
      "it:0, cifar10, wrn28-10, lid, cw, fgsm, 85.1, 78.4\n",
      "it:0, cifar10, wrn28-10, lid, cw, fgsm, 85.4, 78.2\n",
      "it:0, cifar10, wrn28-10, lid, cw, bim, 75.6, 63.7\n",
      "it:0, cifar10, wrn28-10, lid, cw, bim, 75.1, 66.6\n",
      "it:0, cifar10, wrn28-10, lid, cw, pgd, 78.5, 64.0\n",
      "it:0, cifar10, wrn28-10, lid, cw, pgd, 80.3, 70.5\n",
      "it:0, cifar10, wrn28-10, lid, cw, aa, 91.6, 82.4\n",
      "it:0, cifar10, wrn28-10, lid, cw, aa, 94.9, 88.8\n",
      "it:0, cifar10, wrn28-10, lid, cw, df, 94.3, 87.5\n",
      "it:0, cifar10, wrn28-10, lid, cw, df, 94.7, 89.8\n"
     ]
    },
    {
     "name": "stderr",
     "output_type": "stream",
     "text": [
      "/home/lorenzp/.conda/envs/cuda--11-1-1--pytorch--1-9-0/lib/python3.9/site-packages/sklearn/linear_model/_logistic.py:1523: UserWarning: 'n_jobs' > 1 does not have any effect when 'solver' is set to 'liblinear'. Got 'n_jobs' = 8.\n",
      "  warnings.warn(\n"
     ]
    },
    {
     "name": "stdout",
     "output_type": "stream",
     "text": [
      "it:0, cifar10, wrn28-10, multilid, fgsm, bim, 86.0, 77.6\n",
      "it:0, cifar10, wrn28-10, multilid, fgsm, bim, 84.5, 72.6\n",
      "it:0, cifar10, wrn28-10, multilid, fgsm, pgd, 91.3, 84.5\n",
      "it:0, cifar10, wrn28-10, multilid, fgsm, pgd, 87.9, 77.6\n",
      "it:0, cifar10, wrn28-10, multilid, fgsm, aa, 93.5, 88.4\n",
      "it:0, cifar10, wrn28-10, multilid, fgsm, aa, 94.3, 87.8\n",
      "it:0, cifar10, wrn28-10, multilid, fgsm, df, 84.5, 76.0\n",
      "it:0, cifar10, wrn28-10, multilid, fgsm, df, 85.0, 74.2\n",
      "it:0, cifar10, wrn28-10, multilid, fgsm, cw, 80.1, 71.0\n",
      "it:0, cifar10, wrn28-10, multilid, fgsm, cw, 80.2, 70.0\n"
     ]
    },
    {
     "name": "stderr",
     "output_type": "stream",
     "text": [
      "/home/lorenzp/.conda/envs/cuda--11-1-1--pytorch--1-9-0/lib/python3.9/site-packages/sklearn/linear_model/_logistic.py:1523: UserWarning: 'n_jobs' > 1 does not have any effect when 'solver' is set to 'liblinear'. Got 'n_jobs' = 8.\n",
      "  warnings.warn(\n"
     ]
    },
    {
     "name": "stdout",
     "output_type": "stream",
     "text": [
      "it:0, cifar10, wrn28-10, multilid, bim, fgsm, 92.3, 85.5\n",
      "it:0, cifar10, wrn28-10, multilid, bim, fgsm, 85.4, 73.5\n",
      "it:0, cifar10, wrn28-10, multilid, bim, pgd, 96.6, 91.4\n",
      "it:0, cifar10, wrn28-10, multilid, bim, pgd, 96.7, 91.4\n",
      "it:0, cifar10, wrn28-10, multilid, bim, aa, 99.2, 92.9\n",
      "it:0, cifar10, wrn28-10, multilid, bim, aa, 97.1, 94.9\n",
      "it:0, cifar10, wrn28-10, multilid, bim, df, 87.4, 81.2\n",
      "it:0, cifar10, wrn28-10, multilid, bim, df, 79.4, 55.6\n",
      "it:0, cifar10, wrn28-10, multilid, bim, cw, 80.9, 75.1\n",
      "it:0, cifar10, wrn28-10, multilid, bim, cw, 74.7, 54.6\n"
     ]
    },
    {
     "name": "stderr",
     "output_type": "stream",
     "text": [
      "/home/lorenzp/.conda/envs/cuda--11-1-1--pytorch--1-9-0/lib/python3.9/site-packages/sklearn/linear_model/_logistic.py:1523: UserWarning: 'n_jobs' > 1 does not have any effect when 'solver' is set to 'liblinear'. Got 'n_jobs' = 8.\n",
      "  warnings.warn(\n"
     ]
    },
    {
     "name": "stdout",
     "output_type": "stream",
     "text": [
      "it:0, cifar10, wrn28-10, multilid, pgd, fgsm, 92.0, 83.1\n",
      "it:0, cifar10, wrn28-10, multilid, pgd, fgsm, 84.8, 72.5\n",
      "it:0, cifar10, wrn28-10, multilid, pgd, bim, 94.4, 89.2\n",
      "it:0, cifar10, wrn28-10, multilid, pgd, bim, 94.0, 87.5\n",
      "it:0, cifar10, wrn28-10, multilid, pgd, aa, 99.4, 94.8\n",
      "it:0, cifar10, wrn28-10, multilid, pgd, aa, 99.4, 96.9\n",
      "it:0, cifar10, wrn28-10, multilid, pgd, df, 87.1, 80.0\n",
      "it:0, cifar10, wrn28-10, multilid, pgd, df, 84.9, 60.0\n",
      "it:0, cifar10, wrn28-10, multilid, pgd, cw, 80.6, 75.9\n",
      "it:0, cifar10, wrn28-10, multilid, pgd, cw, 84.2, 58.5\n"
     ]
    },
    {
     "name": "stderr",
     "output_type": "stream",
     "text": [
      "/home/lorenzp/.conda/envs/cuda--11-1-1--pytorch--1-9-0/lib/python3.9/site-packages/sklearn/linear_model/_logistic.py:1523: UserWarning: 'n_jobs' > 1 does not have any effect when 'solver' is set to 'liblinear'. Got 'n_jobs' = 8.\n",
      "  warnings.warn(\n"
     ]
    },
    {
     "name": "stdout",
     "output_type": "stream",
     "text": [
      "it:0, cifar10, wrn28-10, multilid, aa, fgsm, 92.0, 81.5\n",
      "it:0, cifar10, wrn28-10, multilid, aa, fgsm, 89.5, 75.0\n",
      "it:0, cifar10, wrn28-10, multilid, aa, bim, 93.3, 81.5\n",
      "it:0, cifar10, wrn28-10, multilid, aa, bim, 86.0, 63.2\n",
      "it:0, cifar10, wrn28-10, multilid, aa, pgd, 95.4, 88.5\n",
      "it:0, cifar10, wrn28-10, multilid, aa, pgd, 92.8, 74.6\n",
      "it:0, cifar10, wrn28-10, multilid, aa, df, 89.6, 80.0\n",
      "it:0, cifar10, wrn28-10, multilid, aa, df, 92.9, 66.2\n",
      "it:0, cifar10, wrn28-10, multilid, aa, cw, 83.7, 74.0\n",
      "it:0, cifar10, wrn28-10, multilid, aa, cw, 92.0, 64.1\n"
     ]
    },
    {
     "name": "stderr",
     "output_type": "stream",
     "text": [
      "/home/lorenzp/.conda/envs/cuda--11-1-1--pytorch--1-9-0/lib/python3.9/site-packages/sklearn/linear_model/_logistic.py:1523: UserWarning: 'n_jobs' > 1 does not have any effect when 'solver' is set to 'liblinear'. Got 'n_jobs' = 8.\n",
      "  warnings.warn(\n"
     ]
    },
    {
     "name": "stdout",
     "output_type": "stream",
     "text": [
      "it:0, cifar10, wrn28-10, multilid, df, fgsm, 86.7, 79.1\n",
      "it:0, cifar10, wrn28-10, multilid, df, fgsm, 85.7, 76.9\n",
      "it:0, cifar10, wrn28-10, multilid, df, bim, 84.3, 64.0\n",
      "it:0, cifar10, wrn28-10, multilid, df, bim, 79.6, 49.2\n",
      "it:0, cifar10, wrn28-10, multilid, df, pgd, 90.1, 72.9\n",
      "it:0, cifar10, wrn28-10, multilid, df, pgd, 87.1, 55.9\n",
      "it:0, cifar10, wrn28-10, multilid, df, aa, 95.8, 93.5\n",
      "it:0, cifar10, wrn28-10, multilid, df, aa, 94.1, 86.9\n",
      "it:0, cifar10, wrn28-10, multilid, df, cw, 97.3, 94.2\n",
      "it:0, cifar10, wrn28-10, multilid, df, cw, 97.5, 95.8\n"
     ]
    },
    {
     "name": "stderr",
     "output_type": "stream",
     "text": [
      "/home/lorenzp/.conda/envs/cuda--11-1-1--pytorch--1-9-0/lib/python3.9/site-packages/sklearn/linear_model/_logistic.py:1523: UserWarning: 'n_jobs' > 1 does not have any effect when 'solver' is set to 'liblinear'. Got 'n_jobs' = 8.\n",
      "  warnings.warn(\n"
     ]
    },
    {
     "name": "stdout",
     "output_type": "stream",
     "text": [
      "it:0, cifar10, wrn28-10, multilid, cw, fgsm, 84.1, 75.2\n",
      "it:0, cifar10, wrn28-10, multilid, cw, fgsm, 82.8, 76.4\n",
      "it:0, cifar10, wrn28-10, multilid, cw, bim, 81.4, 56.5\n",
      "it:0, cifar10, wrn28-10, multilid, cw, bim, 69.0, 48.4\n",
      "it:0, cifar10, wrn28-10, multilid, cw, pgd, 87.7, 64.1\n",
      "it:0, cifar10, wrn28-10, multilid, cw, pgd, 80.5, 55.9\n",
      "it:0, cifar10, wrn28-10, multilid, cw, aa, 93.8, 89.9\n",
      "it:0, cifar10, wrn28-10, multilid, cw, aa, 93.2, 86.1\n",
      "it:0, cifar10, wrn28-10, multilid, cw, df, 97.9, 94.5\n",
      "it:0, cifar10, wrn28-10, multilid, cw, df, 97.7, 95.0\n"
     ]
    },
    {
     "name": "stderr",
     "output_type": "stream",
     "text": [
      "/home/lorenzp/.conda/envs/cuda--11-1-1--pytorch--1-9-0/lib/python3.9/site-packages/sklearn/linear_model/_logistic.py:1523: UserWarning: 'n_jobs' > 1 does not have any effect when 'solver' is set to 'liblinear'. Got 'n_jobs' = 8.\n",
      "  warnings.warn(\n"
     ]
    },
    {
     "name": "stdout",
     "output_type": "stream",
     "text": [
      "it:0, cifar10, vgg16, lid, fgsm, bim, 79.9, 73.6\n",
      "it:0, cifar10, vgg16, lid, fgsm, bim, 79.2, 71.2\n",
      "it:0, cifar10, vgg16, lid, fgsm, pgd, 79.4, 72.0\n",
      "it:0, cifar10, vgg16, lid, fgsm, pgd, 76.4, 67.1\n",
      "it:0, cifar10, vgg16, lid, fgsm, aa, 90.3, 83.0\n",
      "it:0, cifar10, vgg16, lid, fgsm, aa, 86.5, 79.5\n",
      "it:0, cifar10, vgg16, lid, fgsm, df, 79.0, 68.4\n",
      "it:0, cifar10, vgg16, lid, fgsm, df, 76.0, 67.2\n",
      "it:0, cifar10, vgg16, lid, fgsm, cw, 76.8, 67.1\n",
      "it:0, cifar10, vgg16, lid, fgsm, cw, 73.6, 65.9\n"
     ]
    },
    {
     "name": "stderr",
     "output_type": "stream",
     "text": [
      "/home/lorenzp/.conda/envs/cuda--11-1-1--pytorch--1-9-0/lib/python3.9/site-packages/sklearn/linear_model/_logistic.py:1523: UserWarning: 'n_jobs' > 1 does not have any effect when 'solver' is set to 'liblinear'. Got 'n_jobs' = 8.\n",
      "  warnings.warn(\n"
     ]
    },
    {
     "name": "stdout",
     "output_type": "stream",
     "text": [
      "it:0, cifar10, vgg16, lid, bim, fgsm, 80.4, 71.2\n",
      "it:0, cifar10, vgg16, lid, bim, fgsm, 74.4, 64.8\n",
      "it:0, cifar10, vgg16, lid, bim, pgd, 85.3, 75.8\n",
      "it:0, cifar10, vgg16, lid, bim, pgd, 90.2, 81.4\n",
      "it:0, cifar10, vgg16, lid, bim, aa, 95.5, 86.6\n",
      "it:0, cifar10, vgg16, lid, bim, aa, 97.8, 91.4\n",
      "it:0, cifar10, vgg16, lid, bim, df, 80.7, 71.2\n",
      "it:0, cifar10, vgg16, lid, bim, df, 77.8, 67.9\n",
      "it:0, cifar10, vgg16, lid, bim, cw, 78.5, 67.8\n",
      "it:0, cifar10, vgg16, lid, bim, cw, 73.3, 63.6\n"
     ]
    },
    {
     "name": "stderr",
     "output_type": "stream",
     "text": [
      "/home/lorenzp/.conda/envs/cuda--11-1-1--pytorch--1-9-0/lib/python3.9/site-packages/sklearn/linear_model/_logistic.py:1523: UserWarning: 'n_jobs' > 1 does not have any effect when 'solver' is set to 'liblinear'. Got 'n_jobs' = 8.\n",
      "  warnings.warn(\n"
     ]
    },
    {
     "name": "stdout",
     "output_type": "stream",
     "text": [
      "it:0, cifar10, vgg16, lid, pgd, fgsm, 81.4, 72.5\n",
      "it:0, cifar10, vgg16, lid, pgd, fgsm, 75.7, 66.0\n",
      "it:0, cifar10, vgg16, lid, pgd, bim, 87.1, 79.5\n",
      "it:0, cifar10, vgg16, lid, pgd, bim, 90.8, 83.5\n",
      "it:0, cifar10, vgg16, lid, pgd, aa, 95.5, 85.6\n",
      "it:0, cifar10, vgg16, lid, pgd, aa, 97.7, 90.0\n",
      "it:0, cifar10, vgg16, lid, pgd, df, 80.5, 71.8\n",
      "it:0, cifar10, vgg16, lid, pgd, df, 76.7, 67.5\n",
      "it:0, cifar10, vgg16, lid, pgd, cw, 78.3, 69.1\n",
      "it:0, cifar10, vgg16, lid, pgd, cw, 73.4, 64.2\n"
     ]
    },
    {
     "name": "stderr",
     "output_type": "stream",
     "text": [
      "/home/lorenzp/.conda/envs/cuda--11-1-1--pytorch--1-9-0/lib/python3.9/site-packages/sklearn/linear_model/_logistic.py:1523: UserWarning: 'n_jobs' > 1 does not have any effect when 'solver' is set to 'liblinear'. Got 'n_jobs' = 8.\n",
      "  warnings.warn(\n"
     ]
    },
    {
     "name": "stdout",
     "output_type": "stream",
     "text": [
      "it:0, cifar10, vgg16, lid, aa, fgsm, 82.5, 72.0\n",
      "it:0, cifar10, vgg16, lid, aa, fgsm, 79.3, 65.6\n",
      "it:0, cifar10, vgg16, lid, aa, bim, 86.4, 75.1\n",
      "it:0, cifar10, vgg16, lid, aa, bim, 89.5, 80.9\n",
      "it:0, cifar10, vgg16, lid, aa, pgd, 84.7, 72.2\n",
      "it:0, cifar10, vgg16, lid, aa, pgd, 88.8, 78.0\n",
      "it:0, cifar10, vgg16, lid, aa, df, 82.0, 67.2\n",
      "it:0, cifar10, vgg16, lid, aa, df, 81.6, 66.6\n",
      "it:0, cifar10, vgg16, lid, aa, cw, 79.7, 64.0\n",
      "it:0, cifar10, vgg16, lid, aa, cw, 78.2, 62.0\n"
     ]
    },
    {
     "name": "stderr",
     "output_type": "stream",
     "text": [
      "/home/lorenzp/.conda/envs/cuda--11-1-1--pytorch--1-9-0/lib/python3.9/site-packages/sklearn/linear_model/_logistic.py:1523: UserWarning: 'n_jobs' > 1 does not have any effect when 'solver' is set to 'liblinear'. Got 'n_jobs' = 8.\n",
      "  warnings.warn(\n"
     ]
    },
    {
     "name": "stdout",
     "output_type": "stream",
     "text": [
      "it:0, cifar10, vgg16, lid, df, fgsm, 80.6, 73.5\n",
      "it:0, cifar10, vgg16, lid, df, fgsm, 77.9, 70.5\n",
      "it:0, cifar10, vgg16, lid, df, bim, 82.7, 75.1\n",
      "it:0, cifar10, vgg16, lid, df, bim, 81.0, 75.5\n",
      "it:0, cifar10, vgg16, lid, df, pgd, 80.5, 73.2\n",
      "it:0, cifar10, vgg16, lid, df, pgd, 78.3, 72.0\n",
      "it:0, cifar10, vgg16, lid, df, aa, 93.6, 84.8\n",
      "it:0, cifar10, vgg16, lid, df, aa, 91.0, 82.2\n",
      "it:0, cifar10, vgg16, lid, df, cw, 83.5, 74.9\n",
      "it:0, cifar10, vgg16, lid, df, cw, 83.7, 77.2\n"
     ]
    },
    {
     "name": "stderr",
     "output_type": "stream",
     "text": [
      "/home/lorenzp/.conda/envs/cuda--11-1-1--pytorch--1-9-0/lib/python3.9/site-packages/sklearn/linear_model/_logistic.py:1523: UserWarning: 'n_jobs' > 1 does not have any effect when 'solver' is set to 'liblinear'. Got 'n_jobs' = 8.\n",
      "  warnings.warn(\n"
     ]
    },
    {
     "name": "stdout",
     "output_type": "stream",
     "text": [
      "it:0, cifar10, vgg16, lid, cw, fgsm, 80.0, 73.6\n",
      "it:0, cifar10, vgg16, lid, cw, fgsm, 76.1, 71.0\n",
      "it:0, cifar10, vgg16, lid, cw, bim, 83.5, 76.8\n",
      "it:0, cifar10, vgg16, lid, cw, bim, 80.1, 74.2\n",
      "it:0, cifar10, vgg16, lid, cw, pgd, 81.2, 74.6\n",
      "it:0, cifar10, vgg16, lid, cw, pgd, 77.3, 72.5\n",
      "it:0, cifar10, vgg16, lid, cw, aa, 94.0, 84.5\n",
      "it:0, cifar10, vgg16, lid, cw, aa, 87.1, 81.6\n",
      "it:0, cifar10, vgg16, lid, cw, df, 86.7, 77.0\n",
      "it:0, cifar10, vgg16, lid, cw, df, 85.5, 80.0\n"
     ]
    },
    {
     "name": "stderr",
     "output_type": "stream",
     "text": [
      "/home/lorenzp/.conda/envs/cuda--11-1-1--pytorch--1-9-0/lib/python3.9/site-packages/sklearn/linear_model/_logistic.py:1523: UserWarning: 'n_jobs' > 1 does not have any effect when 'solver' is set to 'liblinear'. Got 'n_jobs' = 8.\n",
      "  warnings.warn(\n"
     ]
    },
    {
     "name": "stdout",
     "output_type": "stream",
     "text": [
      "it:0, cifar10, vgg16, multilid, fgsm, bim, 77.3, 68.5\n",
      "it:0, cifar10, vgg16, multilid, fgsm, bim, 77.6, 67.8\n",
      "it:0, cifar10, vgg16, multilid, fgsm, pgd, 74.3, 64.9\n",
      "it:0, cifar10, vgg16, multilid, fgsm, pgd, 73.2, 64.4\n",
      "it:0, cifar10, vgg16, multilid, fgsm, aa, 90.4, 81.6\n",
      "it:0, cifar10, vgg16, multilid, fgsm, aa, 89.8, 80.6\n",
      "it:0, cifar10, vgg16, multilid, fgsm, df, 79.8, 69.9\n",
      "it:0, cifar10, vgg16, multilid, fgsm, df, 82.7, 72.8\n",
      "it:0, cifar10, vgg16, multilid, fgsm, cw, 79.8, 70.4\n",
      "it:0, cifar10, vgg16, multilid, fgsm, cw, 83.2, 70.9\n"
     ]
    },
    {
     "name": "stderr",
     "output_type": "stream",
     "text": [
      "/home/lorenzp/.conda/envs/cuda--11-1-1--pytorch--1-9-0/lib/python3.9/site-packages/sklearn/linear_model/_logistic.py:1523: UserWarning: 'n_jobs' > 1 does not have any effect when 'solver' is set to 'liblinear'. Got 'n_jobs' = 8.\n",
      "  warnings.warn(\n"
     ]
    },
    {
     "name": "stdout",
     "output_type": "stream",
     "text": [
      "it:0, cifar10, vgg16, multilid, bim, fgsm, 81.2, 72.4\n",
      "it:0, cifar10, vgg16, multilid, bim, fgsm, 72.0, 55.6\n",
      "it:0, cifar10, vgg16, multilid, bim, pgd, 89.5, 80.0\n",
      "it:0, cifar10, vgg16, multilid, bim, pgd, 89.2, 80.5\n",
      "it:0, cifar10, vgg16, multilid, bim, aa, 98.8, 92.4\n",
      "it:0, cifar10, vgg16, multilid, bim, aa, 98.5, 94.2\n",
      "it:0, cifar10, vgg16, multilid, bim, df, 71.8, 63.5\n",
      "it:0, cifar10, vgg16, multilid, bim, df, 69.1, 52.1\n",
      "it:0, cifar10, vgg16, multilid, bim, cw, 70.1, 63.0\n",
      "it:0, cifar10, vgg16, multilid, bim, cw, 66.9, 52.6\n"
     ]
    },
    {
     "name": "stderr",
     "output_type": "stream",
     "text": [
      "/home/lorenzp/.conda/envs/cuda--11-1-1--pytorch--1-9-0/lib/python3.9/site-packages/sklearn/linear_model/_logistic.py:1523: UserWarning: 'n_jobs' > 1 does not have any effect when 'solver' is set to 'liblinear'. Got 'n_jobs' = 8.\n",
      "  warnings.warn(\n"
     ]
    },
    {
     "name": "stdout",
     "output_type": "stream",
     "text": [
      "it:0, cifar10, vgg16, multilid, pgd, fgsm, 81.4, 73.6\n",
      "it:0, cifar10, vgg16, multilid, pgd, fgsm, 66.7, 55.0\n",
      "it:0, cifar10, vgg16, multilid, pgd, bim, 92.6, 84.9\n",
      "it:0, cifar10, vgg16, multilid, pgd, bim, 93.3, 86.1\n",
      "it:0, cifar10, vgg16, multilid, pgd, aa, 98.7, 91.8\n",
      "it:0, cifar10, vgg16, multilid, pgd, aa, 98.3, 93.0\n",
      "it:0, cifar10, vgg16, multilid, pgd, df, 69.0, 65.4\n",
      "it:0, cifar10, vgg16, multilid, pgd, df, 60.5, 52.2\n",
      "it:0, cifar10, vgg16, multilid, pgd, cw, 68.1, 62.9\n",
      "it:0, cifar10, vgg16, multilid, pgd, cw, 60.1, 53.6\n"
     ]
    },
    {
     "name": "stderr",
     "output_type": "stream",
     "text": [
      "/home/lorenzp/.conda/envs/cuda--11-1-1--pytorch--1-9-0/lib/python3.9/site-packages/sklearn/linear_model/_logistic.py:1523: UserWarning: 'n_jobs' > 1 does not have any effect when 'solver' is set to 'liblinear'. Got 'n_jobs' = 8.\n",
      "  warnings.warn(\n"
     ]
    },
    {
     "name": "stdout",
     "output_type": "stream",
     "text": [
      "it:0, cifar10, vgg16, multilid, aa, fgsm, 81.8, 69.6\n",
      "it:0, cifar10, vgg16, multilid, aa, fgsm, 78.8, 55.6\n",
      "it:0, cifar10, vgg16, multilid, aa, bim, 90.8, 84.5\n",
      "it:0, cifar10, vgg16, multilid, aa, bim, 90.8, 82.2\n",
      "it:0, cifar10, vgg16, multilid, aa, pgd, 87.7, 78.8\n",
      "it:0, cifar10, vgg16, multilid, aa, pgd, 85.3, 76.6\n",
      "it:0, cifar10, vgg16, multilid, aa, df, 74.0, 64.9\n",
      "it:0, cifar10, vgg16, multilid, aa, df, 81.1, 53.6\n",
      "it:0, cifar10, vgg16, multilid, aa, cw, 72.7, 60.2\n",
      "it:0, cifar10, vgg16, multilid, aa, cw, 80.9, 53.4\n"
     ]
    },
    {
     "name": "stderr",
     "output_type": "stream",
     "text": [
      "/home/lorenzp/.conda/envs/cuda--11-1-1--pytorch--1-9-0/lib/python3.9/site-packages/sklearn/linear_model/_logistic.py:1523: UserWarning: 'n_jobs' > 1 does not have any effect when 'solver' is set to 'liblinear'. Got 'n_jobs' = 8.\n",
      "  warnings.warn(\n"
     ]
    },
    {
     "name": "stdout",
     "output_type": "stream",
     "text": [
      "it:0, cifar10, vgg16, multilid, df, fgsm, 82.5, 74.2\n",
      "it:0, cifar10, vgg16, multilid, df, fgsm, 81.8, 72.6\n",
      "it:0, cifar10, vgg16, multilid, df, bim, 78.3, 72.0\n",
      "it:0, cifar10, vgg16, multilid, df, bim, 70.6, 66.1\n",
      "it:0, cifar10, vgg16, multilid, df, pgd, 73.2, 67.4\n",
      "it:0, cifar10, vgg16, multilid, df, pgd, 67.0, 59.1\n",
      "it:0, cifar10, vgg16, multilid, df, aa, 92.6, 86.4\n",
      "it:0, cifar10, vgg16, multilid, df, aa, 84.8, 81.4\n",
      "it:0, cifar10, vgg16, multilid, df, cw, 90.7, 84.2\n",
      "it:0, cifar10, vgg16, multilid, df, cw, 90.5, 83.8\n"
     ]
    },
    {
     "name": "stderr",
     "output_type": "stream",
     "text": [
      "/home/lorenzp/.conda/envs/cuda--11-1-1--pytorch--1-9-0/lib/python3.9/site-packages/sklearn/linear_model/_logistic.py:1523: UserWarning: 'n_jobs' > 1 does not have any effect when 'solver' is set to 'liblinear'. Got 'n_jobs' = 8.\n",
      "  warnings.warn(\n"
     ]
    },
    {
     "name": "stdout",
     "output_type": "stream",
     "text": [
      "it:0, cifar10, vgg16, multilid, cw, fgsm, 80.8, 73.2\n",
      "it:0, cifar10, vgg16, multilid, cw, fgsm, 80.2, 72.0\n",
      "it:0, cifar10, vgg16, multilid, cw, bim, 75.6, 70.5\n",
      "it:0, cifar10, vgg16, multilid, cw, bim, 69.7, 61.8\n",
      "it:0, cifar10, vgg16, multilid, cw, pgd, 70.6, 65.2\n",
      "it:0, cifar10, vgg16, multilid, cw, pgd, 67.2, 56.1\n",
      "it:0, cifar10, vgg16, multilid, cw, aa, 90.5, 84.2\n",
      "it:0, cifar10, vgg16, multilid, cw, aa, 83.5, 75.8\n",
      "it:0, cifar10, vgg16, multilid, cw, df, 90.8, 83.5\n",
      "it:0, cifar10, vgg16, multilid, cw, df, 90.6, 83.6\n"
     ]
    },
    {
     "name": "stderr",
     "output_type": "stream",
     "text": [
      "/home/lorenzp/.conda/envs/cuda--11-1-1--pytorch--1-9-0/lib/python3.9/site-packages/sklearn/linear_model/_logistic.py:1523: UserWarning: 'n_jobs' > 1 does not have any effect when 'solver' is set to 'liblinear'. Got 'n_jobs' = 8.\n",
      "  warnings.warn(\n"
     ]
    },
    {
     "name": "stdout",
     "output_type": "stream",
     "text": [
      "it:0, cifar100, wrn28-10, lid, fgsm, bim, 91.4, 79.9\n",
      "it:0, cifar100, wrn28-10, lid, fgsm, bim, 78.8, 68.1\n",
      "it:0, cifar100, wrn28-10, lid, fgsm, pgd, 91.1, 77.9\n",
      "it:0, cifar100, wrn28-10, lid, fgsm, pgd, 74.9, 65.0\n",
      "it:0, cifar100, wrn28-10, lid, fgsm, aa, 95.9, 88.2\n",
      "it:0, cifar100, wrn28-10, lid, fgsm, aa, 82.4, 70.6\n",
      "it:0, cifar100, wrn28-10, lid, fgsm, df, 55.0, 52.5\n",
      "it:0, cifar100, wrn28-10, lid, fgsm, df, 53.2, 52.8\n",
      "it:0, cifar100, wrn28-10, lid, fgsm, cw, 52.5, 51.4\n",
      "it:0, cifar100, wrn28-10, lid, fgsm, cw, 52.2, 51.0\n"
     ]
    },
    {
     "name": "stderr",
     "output_type": "stream",
     "text": [
      "/home/lorenzp/.conda/envs/cuda--11-1-1--pytorch--1-9-0/lib/python3.9/site-packages/sklearn/linear_model/_logistic.py:1523: UserWarning: 'n_jobs' > 1 does not have any effect when 'solver' is set to 'liblinear'. Got 'n_jobs' = 8.\n",
      "  warnings.warn(\n"
     ]
    },
    {
     "name": "stdout",
     "output_type": "stream",
     "text": [
      "it:0, cifar100, wrn28-10, lid, bim, fgsm, 95.1, 84.6\n",
      "it:0, cifar100, wrn28-10, lid, bim, fgsm, 90.6, 75.4\n",
      "it:0, cifar100, wrn28-10, lid, bim, pgd, 98.0, 93.1\n",
      "it:0, cifar100, wrn28-10, lid, bim, pgd, 97.4, 92.8\n",
      "it:0, cifar100, wrn28-10, lid, bim, aa, 99.5, 95.4\n",
      "it:0, cifar100, wrn28-10, lid, bim, aa, 99.4, 94.9\n",
      "it:0, cifar100, wrn28-10, lid, bim, df, 52.6, 49.2\n",
      "it:0, cifar100, wrn28-10, lid, bim, df, 51.7, 48.4\n",
      "it:0, cifar100, wrn28-10, lid, bim, cw, 51.2, 48.5\n",
      "it:0, cifar100, wrn28-10, lid, bim, cw, 50.6, 48.8\n"
     ]
    },
    {
     "name": "stderr",
     "output_type": "stream",
     "text": [
      "/home/lorenzp/.conda/envs/cuda--11-1-1--pytorch--1-9-0/lib/python3.9/site-packages/sklearn/linear_model/_logistic.py:1523: UserWarning: 'n_jobs' > 1 does not have any effect when 'solver' is set to 'liblinear'. Got 'n_jobs' = 8.\n",
      "  warnings.warn(\n"
     ]
    },
    {
     "name": "stdout",
     "output_type": "stream",
     "text": [
      "it:0, cifar100, wrn28-10, lid, pgd, fgsm, 96.8, 86.8\n",
      "it:0, cifar100, wrn28-10, lid, pgd, fgsm, 92.8, 76.0\n",
      "it:0, cifar100, wrn28-10, lid, pgd, bim, 95.9, 88.4\n",
      "it:0, cifar100, wrn28-10, lid, pgd, bim, 95.9, 89.2\n",
      "it:0, cifar100, wrn28-10, lid, pgd, aa, 99.5, 95.2\n",
      "it:0, cifar100, wrn28-10, lid, pgd, aa, 99.3, 95.4\n",
      "it:0, cifar100, wrn28-10, lid, pgd, df, 53.0, 49.8\n",
      "it:0, cifar100, wrn28-10, lid, pgd, df, 50.8, 49.1\n",
      "it:0, cifar100, wrn28-10, lid, pgd, cw, 51.7, 50.4\n",
      "it:0, cifar100, wrn28-10, lid, pgd, cw, 48.4, 48.4\n"
     ]
    },
    {
     "name": "stderr",
     "output_type": "stream",
     "text": [
      "/home/lorenzp/.conda/envs/cuda--11-1-1--pytorch--1-9-0/lib/python3.9/site-packages/sklearn/linear_model/_logistic.py:1523: UserWarning: 'n_jobs' > 1 does not have any effect when 'solver' is set to 'liblinear'. Got 'n_jobs' = 8.\n",
      "  warnings.warn(\n"
     ]
    },
    {
     "name": "stdout",
     "output_type": "stream",
     "text": [
      "it:0, cifar100, wrn28-10, lid, aa, fgsm, 94.6, 72.8\n",
      "it:0, cifar100, wrn28-10, lid, aa, fgsm, 93.0, 62.6\n",
      "it:0, cifar100, wrn28-10, lid, aa, bim, 95.1, 79.8\n",
      "it:0, cifar100, wrn28-10, lid, aa, bim, 95.6, 86.2\n",
      "it:0, cifar100, wrn28-10, lid, aa, pgd, 97.3, 85.4\n",
      "it:0, cifar100, wrn28-10, lid, aa, pgd, 97.9, 92.1\n",
      "it:0, cifar100, wrn28-10, lid, aa, df, 52.4, 49.9\n",
      "it:0, cifar100, wrn28-10, lid, aa, df, 50.2, 49.1\n",
      "it:0, cifar100, wrn28-10, lid, aa, cw, 50.4, 49.9\n",
      "it:0, cifar100, wrn28-10, lid, aa, cw, 49.0, 49.6\n"
     ]
    },
    {
     "name": "stderr",
     "output_type": "stream",
     "text": [
      "/home/lorenzp/.conda/envs/cuda--11-1-1--pytorch--1-9-0/lib/python3.9/site-packages/sklearn/linear_model/_logistic.py:1523: UserWarning: 'n_jobs' > 1 does not have any effect when 'solver' is set to 'liblinear'. Got 'n_jobs' = 8.\n",
      "  warnings.warn(\n"
     ]
    },
    {
     "name": "stdout",
     "output_type": "stream",
     "text": [
      "it:0, cifar100, wrn28-10, lid, df, fgsm, 94.8, 79.0\n",
      "it:0, cifar100, wrn28-10, lid, df, fgsm, 66.1, 60.8\n",
      "it:0, cifar100, wrn28-10, lid, df, bim, 36.6, 44.9\n",
      "it:0, cifar100, wrn28-10, lid, df, bim, 23.5, 34.9\n",
      "it:0, cifar100, wrn28-10, lid, df, pgd, 20.7, 35.0\n",
      "it:0, cifar100, wrn28-10, lid, df, pgd, 15.0, 27.9\n",
      "it:0, cifar100, wrn28-10, lid, df, aa, 17.1, 33.8\n",
      "it:0, cifar100, wrn28-10, lid, df, aa, 12.3, 27.1\n",
      "it:0, cifar100, wrn28-10, lid, df, cw, 52.6, 52.0\n",
      "it:0, cifar100, wrn28-10, lid, df, cw, 59.6, 57.8\n"
     ]
    },
    {
     "name": "stderr",
     "output_type": "stream",
     "text": [
      "/home/lorenzp/.conda/envs/cuda--11-1-1--pytorch--1-9-0/lib/python3.9/site-packages/sklearn/linear_model/_logistic.py:1523: UserWarning: 'n_jobs' > 1 does not have any effect when 'solver' is set to 'liblinear'. Got 'n_jobs' = 8.\n",
      "  warnings.warn(\n"
     ]
    },
    {
     "name": "stdout",
     "output_type": "stream",
     "text": [
      "it:0, cifar100, wrn28-10, lid, cw, fgsm, 89.2, 75.1\n",
      "it:0, cifar100, wrn28-10, lid, cw, fgsm, 56.0, 53.5\n",
      "it:0, cifar100, wrn28-10, lid, cw, bim, 41.8, 44.8\n",
      "it:0, cifar100, wrn28-10, lid, cw, bim, 28.1, 35.5\n",
      "it:0, cifar100, wrn28-10, lid, cw, pgd, 28.8, 37.5\n",
      "it:0, cifar100, wrn28-10, lid, cw, pgd, 23.8, 32.9\n",
      "it:0, cifar100, wrn28-10, lid, cw, aa, 22.6, 35.6\n",
      "it:0, cifar100, wrn28-10, lid, cw, aa, 20.6, 29.8\n",
      "it:0, cifar100, wrn28-10, lid, cw, df, 53.8, 52.5\n",
      "it:0, cifar100, wrn28-10, lid, cw, df, 60.3, 58.8\n"
     ]
    },
    {
     "name": "stderr",
     "output_type": "stream",
     "text": [
      "/home/lorenzp/.conda/envs/cuda--11-1-1--pytorch--1-9-0/lib/python3.9/site-packages/sklearn/linear_model/_logistic.py:1523: UserWarning: 'n_jobs' > 1 does not have any effect when 'solver' is set to 'liblinear'. Got 'n_jobs' = 8.\n",
      "  warnings.warn(\n"
     ]
    },
    {
     "name": "stdout",
     "output_type": "stream",
     "text": [
      "it:0, cifar100, wrn28-10, multilid, fgsm, bim, 80.8, 66.2\n",
      "it:0, cifar100, wrn28-10, multilid, fgsm, bim, 80.0, 65.5\n",
      "it:0, cifar100, wrn28-10, multilid, fgsm, pgd, 78.9, 63.7\n",
      "it:0, cifar100, wrn28-10, multilid, fgsm, pgd, 77.3, 64.1\n",
      "it:0, cifar100, wrn28-10, multilid, fgsm, aa, 85.4, 70.8\n",
      "it:0, cifar100, wrn28-10, multilid, fgsm, aa, 83.8, 71.1\n",
      "it:0, cifar100, wrn28-10, multilid, fgsm, df, 61.8, 54.6\n",
      "it:0, cifar100, wrn28-10, multilid, fgsm, df, 56.0, 52.5\n",
      "it:0, cifar100, wrn28-10, multilid, fgsm, cw, 56.8, 52.8\n",
      "it:0, cifar100, wrn28-10, multilid, fgsm, cw, 53.2, 50.7\n"
     ]
    },
    {
     "name": "stderr",
     "output_type": "stream",
     "text": [
      "/home/lorenzp/.conda/envs/cuda--11-1-1--pytorch--1-9-0/lib/python3.9/site-packages/sklearn/linear_model/_logistic.py:1523: UserWarning: 'n_jobs' > 1 does not have any effect when 'solver' is set to 'liblinear'. Got 'n_jobs' = 8.\n",
      "  warnings.warn(\n"
     ]
    },
    {
     "name": "stdout",
     "output_type": "stream",
     "text": [
      "it:0, cifar100, wrn28-10, multilid, bim, fgsm, 76.6, 64.2\n",
      "it:0, cifar100, wrn28-10, multilid, bim, fgsm, 83.9, 60.8\n",
      "it:0, cifar100, wrn28-10, multilid, bim, pgd, 99.0, 94.9\n",
      "it:0, cifar100, wrn28-10, multilid, bim, pgd, 99.0, 95.4\n",
      "it:0, cifar100, wrn28-10, multilid, bim, aa, 99.9, 96.5\n",
      "it:0, cifar100, wrn28-10, multilid, bim, aa, 99.9, 96.9\n",
      "it:0, cifar100, wrn28-10, multilid, bim, df, 44.6, 48.0\n",
      "it:0, cifar100, wrn28-10, multilid, bim, df, 46.6, 48.6\n",
      "it:0, cifar100, wrn28-10, multilid, bim, cw, 46.2, 49.6\n",
      "it:0, cifar100, wrn28-10, multilid, bim, cw, 44.7, 49.1\n"
     ]
    },
    {
     "name": "stderr",
     "output_type": "stream",
     "text": [
      "/home/lorenzp/.conda/envs/cuda--11-1-1--pytorch--1-9-0/lib/python3.9/site-packages/sklearn/linear_model/_logistic.py:1523: UserWarning: 'n_jobs' > 1 does not have any effect when 'solver' is set to 'liblinear'. Got 'n_jobs' = 8.\n",
      "  warnings.warn(\n"
     ]
    },
    {
     "name": "stdout",
     "output_type": "stream",
     "text": [
      "it:0, cifar100, wrn28-10, multilid, pgd, fgsm, 72.4, 58.5\n",
      "it:0, cifar100, wrn28-10, multilid, pgd, fgsm, 83.1, 54.2\n",
      "it:0, cifar100, wrn28-10, multilid, pgd, bim, 98.0, 92.5\n",
      "it:0, cifar100, wrn28-10, multilid, pgd, bim, 98.1, 91.8\n",
      "it:0, cifar100, wrn28-10, multilid, pgd, aa, 99.9, 97.9\n",
      "it:0, cifar100, wrn28-10, multilid, pgd, aa, 99.9, 97.9\n",
      "it:0, cifar100, wrn28-10, multilid, pgd, df, 43.2, 49.0\n",
      "it:0, cifar100, wrn28-10, multilid, pgd, df, 47.5, 48.8\n",
      "it:0, cifar100, wrn28-10, multilid, pgd, cw, 45.8, 48.8\n",
      "it:0, cifar100, wrn28-10, multilid, pgd, cw, 44.9, 48.9\n"
     ]
    },
    {
     "name": "stderr",
     "output_type": "stream",
     "text": [
      "/home/lorenzp/.conda/envs/cuda--11-1-1--pytorch--1-9-0/lib/python3.9/site-packages/sklearn/linear_model/_logistic.py:1523: UserWarning: 'n_jobs' > 1 does not have any effect when 'solver' is set to 'liblinear'. Got 'n_jobs' = 8.\n",
      "  warnings.warn(\n"
     ]
    },
    {
     "name": "stdout",
     "output_type": "stream",
     "text": [
      "it:0, cifar100, wrn28-10, multilid, aa, fgsm, 69.2, 53.6\n",
      "it:0, cifar100, wrn28-10, multilid, aa, fgsm, 78.8, 50.4\n",
      "it:0, cifar100, wrn28-10, multilid, aa, bim, 97.8, 92.0\n",
      "it:0, cifar100, wrn28-10, multilid, aa, bim, 97.7, 88.5\n",
      "it:0, cifar100, wrn28-10, multilid, aa, pgd, 98.8, 96.0\n",
      "it:0, cifar100, wrn28-10, multilid, aa, pgd, 98.8, 93.5\n",
      "it:0, cifar100, wrn28-10, multilid, aa, df, 42.9, 49.2\n",
      "it:0, cifar100, wrn28-10, multilid, aa, df, 47.8, 49.5\n",
      "it:0, cifar100, wrn28-10, multilid, aa, cw, 44.8, 49.4\n",
      "it:0, cifar100, wrn28-10, multilid, aa, cw, 48.4, 49.6\n"
     ]
    },
    {
     "name": "stderr",
     "output_type": "stream",
     "text": [
      "/home/lorenzp/.conda/envs/cuda--11-1-1--pytorch--1-9-0/lib/python3.9/site-packages/sklearn/linear_model/_logistic.py:1523: UserWarning: 'n_jobs' > 1 does not have any effect when 'solver' is set to 'liblinear'. Got 'n_jobs' = 8.\n",
      "  warnings.warn(\n"
     ]
    },
    {
     "name": "stdout",
     "output_type": "stream",
     "text": [
      "it:0, cifar100, wrn28-10, multilid, df, fgsm, 85.5, 77.6\n",
      "it:0, cifar100, wrn28-10, multilid, df, fgsm, 74.6, 65.9\n",
      "it:0, cifar100, wrn28-10, multilid, df, bim, 41.0, 37.9\n",
      "it:0, cifar100, wrn28-10, multilid, df, bim, 13.6, 33.0\n",
      "it:0, cifar100, wrn28-10, multilid, df, pgd, 38.1, 34.8\n",
      "it:0, cifar100, wrn28-10, multilid, df, pgd, 11.3, 32.5\n",
      "it:0, cifar100, wrn28-10, multilid, df, aa, 36.8, 31.9\n",
      "it:0, cifar100, wrn28-10, multilid, df, aa, 9.5, 30.6\n",
      "it:0, cifar100, wrn28-10, multilid, df, cw, 69.7, 63.9\n",
      "it:0, cifar100, wrn28-10, multilid, df, cw, 69.9, 64.8\n"
     ]
    },
    {
     "name": "stderr",
     "output_type": "stream",
     "text": [
      "/home/lorenzp/.conda/envs/cuda--11-1-1--pytorch--1-9-0/lib/python3.9/site-packages/sklearn/linear_model/_logistic.py:1523: UserWarning: 'n_jobs' > 1 does not have any effect when 'solver' is set to 'liblinear'. Got 'n_jobs' = 8.\n",
      "  warnings.warn(\n"
     ]
    },
    {
     "name": "stdout",
     "output_type": "stream",
     "text": [
      "it:0, cifar100, wrn28-10, multilid, cw, fgsm, 82.5, 74.4\n",
      "it:0, cifar100, wrn28-10, multilid, cw, fgsm, 68.2, 62.9\n",
      "it:0, cifar100, wrn28-10, multilid, cw, bim, 36.4, 35.9\n",
      "it:0, cifar100, wrn28-10, multilid, cw, bim, 18.7, 31.9\n",
      "it:0, cifar100, wrn28-10, multilid, cw, pgd, 32.5, 32.4\n",
      "it:0, cifar100, wrn28-10, multilid, cw, pgd, 17.1, 30.4\n",
      "it:0, cifar100, wrn28-10, multilid, cw, aa, 31.1, 29.8\n",
      "it:0, cifar100, wrn28-10, multilid, cw, aa, 17.1, 29.0\n",
      "it:0, cifar100, wrn28-10, multilid, cw, df, 76.1, 68.2\n",
      "it:0, cifar100, wrn28-10, multilid, cw, df, 74.1, 69.0\n"
     ]
    },
    {
     "name": "stderr",
     "output_type": "stream",
     "text": [
      "/home/lorenzp/.conda/envs/cuda--11-1-1--pytorch--1-9-0/lib/python3.9/site-packages/sklearn/linear_model/_logistic.py:1523: UserWarning: 'n_jobs' > 1 does not have any effect when 'solver' is set to 'liblinear'. Got 'n_jobs' = 8.\n",
      "  warnings.warn(\n"
     ]
    },
    {
     "name": "stdout",
     "output_type": "stream",
     "text": [
      "it:0, cifar100, vgg16, lid, fgsm, bim, 78.8, 70.2\n",
      "it:0, cifar100, vgg16, lid, fgsm, bim, 73.0, 66.4\n",
      "it:0, cifar100, vgg16, lid, fgsm, pgd, 78.6, 71.9\n",
      "it:0, cifar100, vgg16, lid, fgsm, pgd, 78.0, 71.4\n",
      "it:0, cifar100, vgg16, lid, fgsm, aa, 83.0, 76.0\n",
      "it:0, cifar100, vgg16, lid, fgsm, aa, 78.3, 70.2\n",
      "it:0, cifar100, vgg16, lid, fgsm, df, 53.8, 51.0\n",
      "it:0, cifar100, vgg16, lid, fgsm, df, 56.0, 53.5\n",
      "it:0, cifar100, vgg16, lid, fgsm, cw, 53.6, 51.5\n",
      "it:0, cifar100, vgg16, lid, fgsm, cw, 55.9, 53.8\n"
     ]
    },
    {
     "name": "stderr",
     "output_type": "stream",
     "text": [
      "/home/lorenzp/.conda/envs/cuda--11-1-1--pytorch--1-9-0/lib/python3.9/site-packages/sklearn/linear_model/_logistic.py:1523: UserWarning: 'n_jobs' > 1 does not have any effect when 'solver' is set to 'liblinear'. Got 'n_jobs' = 8.\n",
      "  warnings.warn(\n"
     ]
    },
    {
     "name": "stdout",
     "output_type": "stream",
     "text": [
      "it:0, cifar100, vgg16, lid, bim, fgsm, 71.3, 63.1\n",
      "it:0, cifar100, vgg16, lid, bim, fgsm, 69.3, 60.8\n",
      "it:0, cifar100, vgg16, lid, bim, pgd, 80.8, 73.4\n",
      "it:0, cifar100, vgg16, lid, bim, pgd, 83.6, 75.8\n",
      "it:0, cifar100, vgg16, lid, bim, aa, 86.3, 79.5\n",
      "it:0, cifar100, vgg16, lid, bim, aa, 90.0, 81.0\n",
      "it:0, cifar100, vgg16, lid, bim, df, 53.6, 50.5\n",
      "it:0, cifar100, vgg16, lid, bim, df, 53.1, 52.9\n",
      "it:0, cifar100, vgg16, lid, bim, cw, 56.0, 50.6\n",
      "it:0, cifar100, vgg16, lid, bim, cw, 57.3, 53.2\n"
     ]
    },
    {
     "name": "stderr",
     "output_type": "stream",
     "text": [
      "/home/lorenzp/.conda/envs/cuda--11-1-1--pytorch--1-9-0/lib/python3.9/site-packages/sklearn/linear_model/_logistic.py:1523: UserWarning: 'n_jobs' > 1 does not have any effect when 'solver' is set to 'liblinear'. Got 'n_jobs' = 8.\n",
      "  warnings.warn(\n"
     ]
    },
    {
     "name": "stdout",
     "output_type": "stream",
     "text": [
      "it:0, cifar100, vgg16, lid, pgd, fgsm, 70.1, 63.2\n",
      "it:0, cifar100, vgg16, lid, pgd, fgsm, 69.6, 59.1\n",
      "it:0, cifar100, vgg16, lid, pgd, bim, 81.8, 74.6\n",
      "it:0, cifar100, vgg16, lid, pgd, bim, 83.3, 75.1\n",
      "it:0, cifar100, vgg16, lid, pgd, aa, 83.3, 77.9\n",
      "it:0, cifar100, vgg16, lid, pgd, aa, 89.5, 81.5\n",
      "it:0, cifar100, vgg16, lid, pgd, df, 53.0, 50.5\n",
      "it:0, cifar100, vgg16, lid, pgd, df, 54.9, 52.6\n",
      "it:0, cifar100, vgg16, lid, pgd, cw, 57.7, 50.1\n",
      "it:0, cifar100, vgg16, lid, pgd, cw, 58.3, 55.1\n"
     ]
    },
    {
     "name": "stderr",
     "output_type": "stream",
     "text": [
      "/home/lorenzp/.conda/envs/cuda--11-1-1--pytorch--1-9-0/lib/python3.9/site-packages/sklearn/linear_model/_logistic.py:1523: UserWarning: 'n_jobs' > 1 does not have any effect when 'solver' is set to 'liblinear'. Got 'n_jobs' = 8.\n",
      "  warnings.warn(\n"
     ]
    },
    {
     "name": "stdout",
     "output_type": "stream",
     "text": [
      "it:0, cifar100, vgg16, lid, aa, fgsm, 73.0, 62.7\n",
      "it:0, cifar100, vgg16, lid, aa, fgsm, 70.6, 60.1\n",
      "it:0, cifar100, vgg16, lid, aa, bim, 82.4, 74.2\n",
      "it:0, cifar100, vgg16, lid, aa, bim, 85.6, 77.0\n",
      "it:0, cifar100, vgg16, lid, aa, pgd, 78.7, 69.4\n",
      "it:0, cifar100, vgg16, lid, aa, pgd, 83.9, 75.6\n",
      "it:0, cifar100, vgg16, lid, aa, df, 53.4, 50.7\n",
      "it:0, cifar100, vgg16, lid, aa, df, 52.9, 51.2\n",
      "it:0, cifar100, vgg16, lid, aa, cw, 54.2, 48.5\n",
      "it:0, cifar100, vgg16, lid, aa, cw, 57.5, 51.7\n"
     ]
    },
    {
     "name": "stderr",
     "output_type": "stream",
     "text": [
      "/home/lorenzp/.conda/envs/cuda--11-1-1--pytorch--1-9-0/lib/python3.9/site-packages/sklearn/linear_model/_logistic.py:1523: UserWarning: 'n_jobs' > 1 does not have any effect when 'solver' is set to 'liblinear'. Got 'n_jobs' = 8.\n",
      "  warnings.warn(\n"
     ]
    },
    {
     "name": "stdout",
     "output_type": "stream",
     "text": [
      "it:0, cifar100, vgg16, lid, df, fgsm, 69.7, 65.8\n",
      "it:0, cifar100, vgg16, lid, df, fgsm, 59.9, 57.0\n",
      "it:0, cifar100, vgg16, lid, df, bim, 71.1, 65.6\n",
      "it:0, cifar100, vgg16, lid, df, bim, 49.4, 47.9\n",
      "it:0, cifar100, vgg16, lid, df, pgd, 74.3, 68.5\n",
      "it:0, cifar100, vgg16, lid, df, pgd, 53.8, 52.1\n",
      "it:0, cifar100, vgg16, lid, df, aa, 74.8, 65.8\n",
      "it:0, cifar100, vgg16, lid, df, aa, 45.1, 46.9\n",
      "it:0, cifar100, vgg16, lid, df, cw, 55.7, 54.8\n",
      "it:0, cifar100, vgg16, lid, df, cw, 62.7, 58.5\n"
     ]
    },
    {
     "name": "stderr",
     "output_type": "stream",
     "text": [
      "/home/lorenzp/.conda/envs/cuda--11-1-1--pytorch--1-9-0/lib/python3.9/site-packages/sklearn/linear_model/_logistic.py:1523: UserWarning: 'n_jobs' > 1 does not have any effect when 'solver' is set to 'liblinear'. Got 'n_jobs' = 8.\n",
      "  warnings.warn(\n"
     ]
    },
    {
     "name": "stdout",
     "output_type": "stream",
     "text": [
      "it:0, cifar100, vgg16, lid, cw, fgsm, 62.6, 60.1\n",
      "it:0, cifar100, vgg16, lid, cw, fgsm, 60.5, 57.8\n",
      "it:0, cifar100, vgg16, lid, cw, bim, 76.0, 68.4\n",
      "it:0, cifar100, vgg16, lid, cw, bim, 60.5, 60.6\n",
      "it:0, cifar100, vgg16, lid, cw, pgd, 82.2, 72.4\n",
      "it:0, cifar100, vgg16, lid, cw, pgd, 69.1, 65.0\n",
      "it:0, cifar100, vgg16, lid, cw, aa, 75.5, 65.4\n",
      "it:0, cifar100, vgg16, lid, cw, aa, 54.8, 54.5\n",
      "it:0, cifar100, vgg16, lid, cw, df, 52.7, 51.5\n",
      "it:0, cifar100, vgg16, lid, cw, df, 58.6, 56.1\n"
     ]
    },
    {
     "name": "stderr",
     "output_type": "stream",
     "text": [
      "/home/lorenzp/.conda/envs/cuda--11-1-1--pytorch--1-9-0/lib/python3.9/site-packages/sklearn/linear_model/_logistic.py:1523: UserWarning: 'n_jobs' > 1 does not have any effect when 'solver' is set to 'liblinear'. Got 'n_jobs' = 8.\n",
      "  warnings.warn(\n"
     ]
    },
    {
     "name": "stdout",
     "output_type": "stream",
     "text": [
      "it:0, cifar100, vgg16, multilid, fgsm, bim, 79.5, 72.2\n",
      "it:0, cifar100, vgg16, multilid, fgsm, bim, 77.4, 71.0\n",
      "it:0, cifar100, vgg16, multilid, fgsm, pgd, 82.8, 75.0\n",
      "it:0, cifar100, vgg16, multilid, fgsm, pgd, 80.8, 73.2\n",
      "it:0, cifar100, vgg16, multilid, fgsm, aa, 82.9, 75.1\n",
      "it:0, cifar100, vgg16, multilid, fgsm, aa, 79.8, 71.9\n",
      "it:0, cifar100, vgg16, multilid, fgsm, df, 63.3, 56.0\n",
      "it:0, cifar100, vgg16, multilid, fgsm, df, 59.6, 56.2\n",
      "it:0, cifar100, vgg16, multilid, fgsm, cw, 62.9, 55.2\n",
      "it:0, cifar100, vgg16, multilid, fgsm, cw, 60.3, 56.0\n"
     ]
    },
    {
     "name": "stderr",
     "output_type": "stream",
     "text": [
      "/home/lorenzp/.conda/envs/cuda--11-1-1--pytorch--1-9-0/lib/python3.9/site-packages/sklearn/linear_model/_logistic.py:1523: UserWarning: 'n_jobs' > 1 does not have any effect when 'solver' is set to 'liblinear'. Got 'n_jobs' = 8.\n",
      "  warnings.warn(\n"
     ]
    },
    {
     "name": "stdout",
     "output_type": "stream",
     "text": [
      "it:0, cifar100, vgg16, multilid, bim, fgsm, 77.9, 70.0\n",
      "it:0, cifar100, vgg16, multilid, bim, fgsm, 70.6, 62.7\n",
      "it:0, cifar100, vgg16, multilid, bim, pgd, 88.4, 79.5\n",
      "it:0, cifar100, vgg16, multilid, bim, pgd, 87.7, 79.9\n",
      "it:0, cifar100, vgg16, multilid, bim, aa, 89.7, 82.0\n",
      "it:0, cifar100, vgg16, multilid, bim, aa, 89.1, 82.0\n",
      "it:0, cifar100, vgg16, multilid, bim, df, 57.0, 51.9\n",
      "it:0, cifar100, vgg16, multilid, bim, df, 53.9, 51.9\n",
      "it:0, cifar100, vgg16, multilid, bim, cw, 59.9, 54.8\n",
      "it:0, cifar100, vgg16, multilid, bim, cw, 59.7, 54.2\n"
     ]
    },
    {
     "name": "stderr",
     "output_type": "stream",
     "text": [
      "/home/lorenzp/.conda/envs/cuda--11-1-1--pytorch--1-9-0/lib/python3.9/site-packages/sklearn/linear_model/_logistic.py:1523: UserWarning: 'n_jobs' > 1 does not have any effect when 'solver' is set to 'liblinear'. Got 'n_jobs' = 8.\n",
      "  warnings.warn(\n"
     ]
    },
    {
     "name": "stdout",
     "output_type": "stream",
     "text": [
      "it:0, cifar100, vgg16, multilid, pgd, fgsm, 76.9, 65.6\n",
      "it:0, cifar100, vgg16, multilid, pgd, fgsm, 70.1, 60.4\n",
      "it:0, cifar100, vgg16, multilid, pgd, bim, 84.1, 74.6\n",
      "it:0, cifar100, vgg16, multilid, pgd, bim, 81.6, 72.4\n",
      "it:0, cifar100, vgg16, multilid, pgd, aa, 87.6, 80.0\n",
      "it:0, cifar100, vgg16, multilid, pgd, aa, 86.7, 77.9\n",
      "it:0, cifar100, vgg16, multilid, pgd, df, 57.4, 52.5\n",
      "it:0, cifar100, vgg16, multilid, pgd, df, 53.5, 50.6\n",
      "it:0, cifar100, vgg16, multilid, pgd, cw, 61.9, 54.8\n",
      "it:0, cifar100, vgg16, multilid, pgd, cw, 59.4, 55.5\n"
     ]
    },
    {
     "name": "stderr",
     "output_type": "stream",
     "text": [
      "/home/lorenzp/.conda/envs/cuda--11-1-1--pytorch--1-9-0/lib/python3.9/site-packages/sklearn/linear_model/_logistic.py:1523: UserWarning: 'n_jobs' > 1 does not have any effect when 'solver' is set to 'liblinear'. Got 'n_jobs' = 8.\n",
      "  warnings.warn(\n"
     ]
    },
    {
     "name": "stdout",
     "output_type": "stream",
     "text": [
      "it:0, cifar100, vgg16, multilid, aa, fgsm, 77.1, 69.0\n",
      "it:0, cifar100, vgg16, multilid, aa, fgsm, 65.9, 61.0\n",
      "it:0, cifar100, vgg16, multilid, aa, bim, 84.5, 76.0\n",
      "it:0, cifar100, vgg16, multilid, aa, bim, 82.9, 75.2\n",
      "it:0, cifar100, vgg16, multilid, aa, pgd, 88.2, 78.9\n",
      "it:0, cifar100, vgg16, multilid, aa, pgd, 87.6, 79.0\n",
      "it:0, cifar100, vgg16, multilid, aa, df, 55.2, 51.4\n",
      "it:0, cifar100, vgg16, multilid, aa, df, 51.8, 50.6\n",
      "it:0, cifar100, vgg16, multilid, aa, cw, 57.6, 52.0\n",
      "it:0, cifar100, vgg16, multilid, aa, cw, 58.0, 53.0\n"
     ]
    },
    {
     "name": "stderr",
     "output_type": "stream",
     "text": [
      "/home/lorenzp/.conda/envs/cuda--11-1-1--pytorch--1-9-0/lib/python3.9/site-packages/sklearn/linear_model/_logistic.py:1523: UserWarning: 'n_jobs' > 1 does not have any effect when 'solver' is set to 'liblinear'. Got 'n_jobs' = 8.\n",
      "  warnings.warn(\n"
     ]
    },
    {
     "name": "stdout",
     "output_type": "stream",
     "text": [
      "it:0, cifar100, vgg16, multilid, df, fgsm, 74.4, 68.5\n",
      "it:0, cifar100, vgg16, multilid, df, fgsm, 65.8, 61.4\n",
      "it:0, cifar100, vgg16, multilid, df, bim, 69.2, 64.8\n",
      "it:0, cifar100, vgg16, multilid, df, bim, 60.8, 57.0\n",
      "it:0, cifar100, vgg16, multilid, df, pgd, 71.9, 67.4\n",
      "it:0, cifar100, vgg16, multilid, df, pgd, 61.6, 54.9\n",
      "it:0, cifar100, vgg16, multilid, df, aa, 65.1, 63.6\n",
      "it:0, cifar100, vgg16, multilid, df, aa, 53.3, 48.5\n",
      "it:0, cifar100, vgg16, multilid, df, cw, 69.1, 62.7\n",
      "it:0, cifar100, vgg16, multilid, df, cw, 75.8, 69.8\n"
     ]
    },
    {
     "name": "stderr",
     "output_type": "stream",
     "text": [
      "/home/lorenzp/.conda/envs/cuda--11-1-1--pytorch--1-9-0/lib/python3.9/site-packages/sklearn/linear_model/_logistic.py:1523: UserWarning: 'n_jobs' > 1 does not have any effect when 'solver' is set to 'liblinear'. Got 'n_jobs' = 8.\n",
      "  warnings.warn(\n"
     ]
    },
    {
     "name": "stdout",
     "output_type": "stream",
     "text": [
      "it:0, cifar100, vgg16, multilid, cw, fgsm, 73.2, 66.9\n",
      "it:0, cifar100, vgg16, multilid, cw, fgsm, 66.6, 63.0\n",
      "it:0, cifar100, vgg16, multilid, cw, bim, 72.7, 67.5\n",
      "it:0, cifar100, vgg16, multilid, cw, bim, 66.5, 63.4\n",
      "it:0, cifar100, vgg16, multilid, cw, pgd, 79.7, 74.5\n",
      "it:0, cifar100, vgg16, multilid, cw, pgd, 70.5, 66.8\n",
      "it:0, cifar100, vgg16, multilid, cw, aa, 68.3, 63.1\n",
      "it:0, cifar100, vgg16, multilid, cw, aa, 61.7, 61.1\n",
      "it:0, cifar100, vgg16, multilid, cw, df, 67.2, 60.1\n",
      "it:0, cifar100, vgg16, multilid, cw, df, 69.8, 64.5\n"
     ]
    },
    {
     "name": "stderr",
     "output_type": "stream",
     "text": [
      "/home/lorenzp/.conda/envs/cuda--11-1-1--pytorch--1-9-0/lib/python3.9/site-packages/sklearn/linear_model/_logistic.py:1523: UserWarning: 'n_jobs' > 1 does not have any effect when 'solver' is set to 'liblinear'. Got 'n_jobs' = 8.\n",
      "  warnings.warn(\n"
     ]
    },
    {
     "name": "stdout",
     "output_type": "stream",
     "text": [
      "it:0, imagenet, wrn50-2, lid, fgsm, bim, 73.1, 67.1\n",
      "it:0, imagenet, wrn50-2, lid, fgsm, bim, 62.2, 57.8\n",
      "it:0, imagenet, wrn50-2, lid, fgsm, pgd, 79.3, 71.5\n",
      "it:0, imagenet, wrn50-2, lid, fgsm, pgd, 62.8, 61.0\n",
      "it:0, imagenet, wrn50-2, lid, fgsm, aa, 95.6, 78.6\n",
      "it:0, imagenet, wrn50-2, lid, fgsm, aa, 58.8, 56.1\n",
      "it:0, imagenet, wrn50-2, lid, fgsm, df, 52.0, 51.7\n",
      "it:0, imagenet, wrn50-2, lid, fgsm, df, 51.0, 51.9\n",
      "it:0, imagenet, wrn50-2, lid, fgsm, cw, 51.3, 51.1\n",
      "it:0, imagenet, wrn50-2, lid, fgsm, cw, 50.4, 50.4\n"
     ]
    },
    {
     "name": "stderr",
     "output_type": "stream",
     "text": [
      "/home/lorenzp/.conda/envs/cuda--11-1-1--pytorch--1-9-0/lib/python3.9/site-packages/sklearn/linear_model/_logistic.py:1523: UserWarning: 'n_jobs' > 1 does not have any effect when 'solver' is set to 'liblinear'. Got 'n_jobs' = 8.\n",
      "  warnings.warn(\n"
     ]
    },
    {
     "name": "stdout",
     "output_type": "stream",
     "text": [
      "it:0, imagenet, wrn50-2, lid, bim, fgsm, 57.9, 51.9\n",
      "it:0, imagenet, wrn50-2, lid, bim, fgsm, 56.8, 53.6\n",
      "it:0, imagenet, wrn50-2, lid, bim, pgd, 92.3, 85.1\n",
      "it:0, imagenet, wrn50-2, lid, bim, pgd, 92.1, 84.5\n",
      "it:0, imagenet, wrn50-2, lid, bim, aa, 99.9, 96.4\n",
      "it:0, imagenet, wrn50-2, lid, bim, aa, 99.7, 94.4\n",
      "it:0, imagenet, wrn50-2, lid, bim, df, 54.6, 52.0\n",
      "it:0, imagenet, wrn50-2, lid, bim, df, 54.1, 51.7\n",
      "it:0, imagenet, wrn50-2, lid, bim, cw, 54.0, 50.5\n",
      "it:0, imagenet, wrn50-2, lid, bim, cw, 53.1, 50.7\n"
     ]
    },
    {
     "name": "stderr",
     "output_type": "stream",
     "text": [
      "/home/lorenzp/.conda/envs/cuda--11-1-1--pytorch--1-9-0/lib/python3.9/site-packages/sklearn/linear_model/_logistic.py:1523: UserWarning: 'n_jobs' > 1 does not have any effect when 'solver' is set to 'liblinear'. Got 'n_jobs' = 8.\n",
      "  warnings.warn(\n"
     ]
    },
    {
     "name": "stdout",
     "output_type": "stream",
     "text": [
      "it:0, imagenet, wrn50-2, lid, pgd, fgsm, 60.1, 52.0\n",
      "it:0, imagenet, wrn50-2, lid, pgd, fgsm, 57.8, 53.2\n",
      "it:0, imagenet, wrn50-2, lid, pgd, bim, 92.5, 83.1\n",
      "it:0, imagenet, wrn50-2, lid, pgd, bim, 91.4, 83.0\n",
      "it:0, imagenet, wrn50-2, lid, pgd, aa, 100.0, 97.2\n",
      "it:0, imagenet, wrn50-2, lid, pgd, aa, 99.8, 96.2\n",
      "it:0, imagenet, wrn50-2, lid, pgd, df, 54.4, 51.4\n",
      "it:0, imagenet, wrn50-2, lid, pgd, df, 54.1, 51.0\n",
      "it:0, imagenet, wrn50-2, lid, pgd, cw, 53.8, 50.9\n",
      "it:0, imagenet, wrn50-2, lid, pgd, cw, 52.3, 50.7\n"
     ]
    },
    {
     "name": "stderr",
     "output_type": "stream",
     "text": [
      "/home/lorenzp/.conda/envs/cuda--11-1-1--pytorch--1-9-0/lib/python3.9/site-packages/sklearn/linear_model/_logistic.py:1523: UserWarning: 'n_jobs' > 1 does not have any effect when 'solver' is set to 'liblinear'. Got 'n_jobs' = 8.\n",
      "  warnings.warn(\n"
     ]
    },
    {
     "name": "stdout",
     "output_type": "stream",
     "text": [
      "it:0, imagenet, wrn50-2, lid, aa, fgsm, 54.1, 50.4\n",
      "it:0, imagenet, wrn50-2, lid, aa, fgsm, 47.9, 49.8\n",
      "it:0, imagenet, wrn50-2, lid, aa, bim, 90.9, 65.0\n",
      "it:0, imagenet, wrn50-2, lid, aa, bim, 86.0, 68.0\n",
      "it:0, imagenet, wrn50-2, lid, aa, pgd, 86.4, 63.0\n",
      "it:0, imagenet, wrn50-2, lid, aa, pgd, 84.7, 74.2\n",
      "it:0, imagenet, wrn50-2, lid, aa, df, 53.4, 50.1\n",
      "it:0, imagenet, wrn50-2, lid, aa, df, 51.6, 50.2\n",
      "it:0, imagenet, wrn50-2, lid, aa, cw, 53.3, 50.0\n",
      "it:0, imagenet, wrn50-2, lid, aa, cw, 50.5, 50.4\n"
     ]
    },
    {
     "name": "stderr",
     "output_type": "stream",
     "text": [
      "/home/lorenzp/.conda/envs/cuda--11-1-1--pytorch--1-9-0/lib/python3.9/site-packages/sklearn/linear_model/_logistic.py:1523: UserWarning: 'n_jobs' > 1 does not have any effect when 'solver' is set to 'liblinear'. Got 'n_jobs' = 8.\n",
      "  warnings.warn(\n"
     ]
    },
    {
     "name": "stdout",
     "output_type": "stream",
     "text": [
      "it:0, imagenet, wrn50-2, lid, df, fgsm, 57.8, 55.9\n",
      "it:0, imagenet, wrn50-2, lid, df, fgsm, 55.4, 53.4\n",
      "it:0, imagenet, wrn50-2, lid, df, bim, 93.6, 77.2\n",
      "it:0, imagenet, wrn50-2, lid, df, bim, 74.4, 67.6\n",
      "it:0, imagenet, wrn50-2, lid, df, pgd, 94.7, 76.8\n",
      "it:0, imagenet, wrn50-2, lid, df, pgd, 81.0, 69.4\n",
      "it:0, imagenet, wrn50-2, lid, df, aa, 99.9, 80.1\n",
      "it:0, imagenet, wrn50-2, lid, df, aa, 80.3, 72.0\n",
      "it:0, imagenet, wrn50-2, lid, df, cw, 54.1, 52.1\n",
      "it:0, imagenet, wrn50-2, lid, df, cw, 52.3, 52.0\n"
     ]
    },
    {
     "name": "stderr",
     "output_type": "stream",
     "text": [
      "/home/lorenzp/.conda/envs/cuda--11-1-1--pytorch--1-9-0/lib/python3.9/site-packages/sklearn/linear_model/_logistic.py:1523: UserWarning: 'n_jobs' > 1 does not have any effect when 'solver' is set to 'liblinear'. Got 'n_jobs' = 8.\n",
      "  warnings.warn(\n"
     ]
    },
    {
     "name": "stdout",
     "output_type": "stream",
     "text": [
      "it:0, imagenet, wrn50-2, lid, cw, fgsm, 56.2, 55.9\n",
      "it:0, imagenet, wrn50-2, lid, cw, fgsm, 53.9, 53.5\n",
      "it:0, imagenet, wrn50-2, lid, cw, bim, 93.6, 74.2\n",
      "it:0, imagenet, wrn50-2, lid, cw, bim, 71.3, 63.7\n",
      "it:0, imagenet, wrn50-2, lid, cw, pgd, 93.2, 75.1\n",
      "it:0, imagenet, wrn50-2, lid, cw, pgd, 80.1, 68.5\n",
      "it:0, imagenet, wrn50-2, lid, cw, aa, 99.9, 79.4\n",
      "it:0, imagenet, wrn50-2, lid, cw, aa, 78.3, 68.8\n",
      "it:0, imagenet, wrn50-2, lid, cw, df, 54.8, 54.0\n",
      "it:0, imagenet, wrn50-2, lid, cw, df, 52.9, 51.5\n"
     ]
    },
    {
     "name": "stderr",
     "output_type": "stream",
     "text": [
      "/home/lorenzp/.conda/envs/cuda--11-1-1--pytorch--1-9-0/lib/python3.9/site-packages/sklearn/linear_model/_logistic.py:1523: UserWarning: 'n_jobs' > 1 does not have any effect when 'solver' is set to 'liblinear'. Got 'n_jobs' = 8.\n",
      "  warnings.warn(\n"
     ]
    },
    {
     "name": "stdout",
     "output_type": "stream",
     "text": [
      "it:0, imagenet, wrn50-2, multilid, fgsm, bim, 70.1, 63.5\n",
      "it:0, imagenet, wrn50-2, multilid, fgsm, bim, 58.0, 55.5\n",
      "it:0, imagenet, wrn50-2, multilid, fgsm, pgd, 68.0, 64.1\n",
      "it:0, imagenet, wrn50-2, multilid, fgsm, pgd, 60.9, 56.5\n",
      "it:0, imagenet, wrn50-2, multilid, fgsm, aa, 81.5, 75.4\n",
      "it:0, imagenet, wrn50-2, multilid, fgsm, aa, 53.2, 50.5\n",
      "it:0, imagenet, wrn50-2, multilid, fgsm, df, 52.3, 51.2\n",
      "it:0, imagenet, wrn50-2, multilid, fgsm, df, 50.8, 50.0\n",
      "it:0, imagenet, wrn50-2, multilid, fgsm, cw, 52.0, 51.1\n",
      "it:0, imagenet, wrn50-2, multilid, fgsm, cw, 51.1, 50.7\n"
     ]
    },
    {
     "name": "stderr",
     "output_type": "stream",
     "text": [
      "/home/lorenzp/.conda/envs/cuda--11-1-1--pytorch--1-9-0/lib/python3.9/site-packages/sklearn/linear_model/_logistic.py:1523: UserWarning: 'n_jobs' > 1 does not have any effect when 'solver' is set to 'liblinear'. Got 'n_jobs' = 8.\n",
      "  warnings.warn(\n"
     ]
    },
    {
     "name": "stdout",
     "output_type": "stream",
     "text": [
      "it:0, imagenet, wrn50-2, multilid, bim, fgsm, 59.4, 54.0\n",
      "it:0, imagenet, wrn50-2, multilid, bim, fgsm, 54.2, 51.4\n",
      "it:0, imagenet, wrn50-2, multilid, bim, pgd, 92.4, 84.1\n",
      "it:0, imagenet, wrn50-2, multilid, bim, pgd, 93.6, 86.6\n",
      "it:0, imagenet, wrn50-2, multilid, bim, aa, 99.7, 91.4\n",
      "it:0, imagenet, wrn50-2, multilid, bim, aa, 99.7, 92.9\n",
      "it:0, imagenet, wrn50-2, multilid, bim, df, 54.4, 52.8\n",
      "it:0, imagenet, wrn50-2, multilid, bim, df, 53.6, 52.5\n",
      "it:0, imagenet, wrn50-2, multilid, bim, cw, 54.6, 52.2\n",
      "it:0, imagenet, wrn50-2, multilid, bim, cw, 54.1, 52.1\n"
     ]
    },
    {
     "name": "stderr",
     "output_type": "stream",
     "text": [
      "/home/lorenzp/.conda/envs/cuda--11-1-1--pytorch--1-9-0/lib/python3.9/site-packages/sklearn/linear_model/_logistic.py:1523: UserWarning: 'n_jobs' > 1 does not have any effect when 'solver' is set to 'liblinear'. Got 'n_jobs' = 8.\n",
      "  warnings.warn(\n"
     ]
    },
    {
     "name": "stdout",
     "output_type": "stream",
     "text": [
      "it:0, imagenet, wrn50-2, multilid, pgd, fgsm, 58.9, 53.0\n",
      "it:0, imagenet, wrn50-2, multilid, pgd, fgsm, 56.1, 51.9\n",
      "it:0, imagenet, wrn50-2, multilid, pgd, bim, 89.9, 81.4\n",
      "it:0, imagenet, wrn50-2, multilid, pgd, bim, 90.7, 82.4\n",
      "it:0, imagenet, wrn50-2, multilid, pgd, aa, 99.7, 93.4\n",
      "it:0, imagenet, wrn50-2, multilid, pgd, aa, 99.7, 92.8\n",
      "it:0, imagenet, wrn50-2, multilid, pgd, df, 54.1, 51.5\n",
      "it:0, imagenet, wrn50-2, multilid, pgd, df, 54.3, 51.1\n",
      "it:0, imagenet, wrn50-2, multilid, pgd, cw, 54.6, 51.2\n",
      "it:0, imagenet, wrn50-2, multilid, pgd, cw, 53.7, 51.6\n"
     ]
    },
    {
     "name": "stderr",
     "output_type": "stream",
     "text": [
      "/home/lorenzp/.conda/envs/cuda--11-1-1--pytorch--1-9-0/lib/python3.9/site-packages/sklearn/linear_model/_logistic.py:1523: UserWarning: 'n_jobs' > 1 does not have any effect when 'solver' is set to 'liblinear'. Got 'n_jobs' = 8.\n",
      "  warnings.warn(\n"
     ]
    },
    {
     "name": "stdout",
     "output_type": "stream",
     "text": [
      "it:0, imagenet, wrn50-2, multilid, aa, fgsm, 56.7, 50.0\n",
      "it:0, imagenet, wrn50-2, multilid, aa, fgsm, 49.1, 49.5\n",
      "it:0, imagenet, wrn50-2, multilid, aa, bim, 92.0, 78.0\n",
      "it:0, imagenet, wrn50-2, multilid, aa, bim, 84.7, 66.8\n",
      "it:0, imagenet, wrn50-2, multilid, aa, pgd, 93.5, 77.8\n",
      "it:0, imagenet, wrn50-2, multilid, aa, pgd, 89.7, 71.9\n",
      "it:0, imagenet, wrn50-2, multilid, aa, df, 54.0, 50.7\n",
      "it:0, imagenet, wrn50-2, multilid, aa, df, 50.1, 50.5\n",
      "it:0, imagenet, wrn50-2, multilid, aa, cw, 54.1, 50.5\n",
      "it:0, imagenet, wrn50-2, multilid, aa, cw, 51.6, 50.6\n"
     ]
    },
    {
     "name": "stderr",
     "output_type": "stream",
     "text": [
      "/home/lorenzp/.conda/envs/cuda--11-1-1--pytorch--1-9-0/lib/python3.9/site-packages/sklearn/linear_model/_logistic.py:1523: UserWarning: 'n_jobs' > 1 does not have any effect when 'solver' is set to 'liblinear'. Got 'n_jobs' = 8.\n",
      "  warnings.warn(\n"
     ]
    },
    {
     "name": "stdout",
     "output_type": "stream",
     "text": [
      "it:0, imagenet, wrn50-2, multilid, df, fgsm, 57.2, 55.9\n",
      "it:0, imagenet, wrn50-2, multilid, df, fgsm, 49.7, 50.7\n",
      "it:0, imagenet, wrn50-2, multilid, df, bim, 85.5, 72.1\n",
      "it:0, imagenet, wrn50-2, multilid, df, bim, 75.4, 67.5\n",
      "it:0, imagenet, wrn50-2, multilid, df, pgd, 81.4, 72.9\n",
      "it:0, imagenet, wrn50-2, multilid, df, pgd, 82.3, 71.1\n",
      "it:0, imagenet, wrn50-2, multilid, df, aa, 95.9, 75.2\n",
      "it:0, imagenet, wrn50-2, multilid, df, aa, 88.4, 72.9\n",
      "it:0, imagenet, wrn50-2, multilid, df, cw, 54.1, 52.8\n",
      "it:0, imagenet, wrn50-2, multilid, df, cw, 54.2, 53.2\n"
     ]
    },
    {
     "name": "stderr",
     "output_type": "stream",
     "text": [
      "/home/lorenzp/.conda/envs/cuda--11-1-1--pytorch--1-9-0/lib/python3.9/site-packages/sklearn/linear_model/_logistic.py:1523: UserWarning: 'n_jobs' > 1 does not have any effect when 'solver' is set to 'liblinear'. Got 'n_jobs' = 8.\n",
      "  warnings.warn(\n"
     ]
    },
    {
     "name": "stdout",
     "output_type": "stream",
     "text": [
      "it:0, imagenet, wrn50-2, multilid, cw, fgsm, 55.9, 54.5\n",
      "it:0, imagenet, wrn50-2, multilid, cw, fgsm, 51.9, 51.1\n",
      "it:0, imagenet, wrn50-2, multilid, cw, bim, 85.9, 69.1\n",
      "it:0, imagenet, wrn50-2, multilid, cw, bim, 76.2, 68.1\n",
      "it:0, imagenet, wrn50-2, multilid, cw, pgd, 79.0, 67.9\n",
      "it:0, imagenet, wrn50-2, multilid, cw, pgd, 79.2, 71.4\n",
      "it:0, imagenet, wrn50-2, multilid, cw, aa, 95.8, 74.1\n",
      "it:0, imagenet, wrn50-2, multilid, cw, aa, 86.7, 74.4\n",
      "it:0, imagenet, wrn50-2, multilid, cw, df, 53.7, 54.0\n",
      "it:0, imagenet, wrn50-2, multilid, cw, df, 49.7, 49.1\n"
     ]
    },
    {
     "name": "stderr",
     "output_type": "stream",
     "text": [
      "/home/lorenzp/.conda/envs/cuda--11-1-1--pytorch--1-9-0/lib/python3.9/site-packages/sklearn/linear_model/_logistic.py:1523: UserWarning: 'n_jobs' > 1 does not have any effect when 'solver' is set to 'liblinear'. Got 'n_jobs' = 8.\n",
      "  warnings.warn(\n"
     ]
    },
    {
     "name": "stdout",
     "output_type": "stream",
     "text": [
      "it:1, cifar10, wrn28-10, lid, fgsm, bim, 57.2, 52.4\n",
      "it:1, cifar10, wrn28-10, lid, fgsm, bim, 54.9, 52.1\n",
      "it:1, cifar10, wrn28-10, lid, fgsm, pgd, 55.1, 52.6\n",
      "it:1, cifar10, wrn28-10, lid, fgsm, pgd, 49.4, 47.9\n",
      "it:1, cifar10, wrn28-10, lid, fgsm, aa, 57.3, 55.8\n",
      "it:1, cifar10, wrn28-10, lid, fgsm, aa, 54.4, 48.2\n",
      "it:1, cifar10, wrn28-10, lid, fgsm, df, 78.4, 64.8\n",
      "it:1, cifar10, wrn28-10, lid, fgsm, df, 79.3, 66.8\n",
      "it:1, cifar10, wrn28-10, lid, fgsm, cw, 76.1, 61.3\n",
      "it:1, cifar10, wrn28-10, lid, fgsm, cw, 75.3, 65.6\n"
     ]
    },
    {
     "name": "stderr",
     "output_type": "stream",
     "text": [
      "/home/lorenzp/.conda/envs/cuda--11-1-1--pytorch--1-9-0/lib/python3.9/site-packages/sklearn/linear_model/_logistic.py:1523: UserWarning: 'n_jobs' > 1 does not have any effect when 'solver' is set to 'liblinear'. Got 'n_jobs' = 8.\n",
      "  warnings.warn(\n"
     ]
    },
    {
     "name": "stdout",
     "output_type": "stream",
     "text": [
      "it:1, cifar10, wrn28-10, lid, bim, fgsm, 72.6, 50.7\n",
      "it:1, cifar10, wrn28-10, lid, bim, fgsm, 43.4, 45.0\n",
      "it:1, cifar10, wrn28-10, lid, bim, pgd, 87.2, 77.0\n",
      "it:1, cifar10, wrn28-10, lid, bim, pgd, 89.1, 79.8\n",
      "it:1, cifar10, wrn28-10, lid, bim, aa, 95.6, 86.4\n",
      "it:1, cifar10, wrn28-10, lid, bim, aa, 93.4, 86.1\n",
      "it:1, cifar10, wrn28-10, lid, bim, df, 54.6, 50.6\n",
      "it:1, cifar10, wrn28-10, lid, bim, df, 56.7, 55.4\n",
      "it:1, cifar10, wrn28-10, lid, bim, cw, 49.4, 50.1\n",
      "it:1, cifar10, wrn28-10, lid, bim, cw, 51.2, 51.0\n"
     ]
    },
    {
     "name": "stderr",
     "output_type": "stream",
     "text": [
      "/home/lorenzp/.conda/envs/cuda--11-1-1--pytorch--1-9-0/lib/python3.9/site-packages/sklearn/linear_model/_logistic.py:1523: UserWarning: 'n_jobs' > 1 does not have any effect when 'solver' is set to 'liblinear'. Got 'n_jobs' = 8.\n",
      "  warnings.warn(\n"
     ]
    },
    {
     "name": "stdout",
     "output_type": "stream",
     "text": [
      "it:1, cifar10, wrn28-10, lid, pgd, fgsm, 72.2, 50.1\n",
      "it:1, cifar10, wrn28-10, lid, pgd, fgsm, 34.3, 37.4\n",
      "it:1, cifar10, wrn28-10, lid, pgd, bim, 87.1, 78.6\n",
      "it:1, cifar10, wrn28-10, lid, pgd, bim, 87.4, 79.6\n",
      "it:1, cifar10, wrn28-10, lid, pgd, aa, 96.0, 87.4\n",
      "it:1, cifar10, wrn28-10, lid, pgd, aa, 94.4, 87.8\n",
      "it:1, cifar10, wrn28-10, lid, pgd, df, 54.2, 50.2\n",
      "it:1, cifar10, wrn28-10, lid, pgd, df, 55.0, 52.8\n",
      "it:1, cifar10, wrn28-10, lid, pgd, cw, 49.6, 50.1\n",
      "it:1, cifar10, wrn28-10, lid, pgd, cw, 49.5, 49.1\n"
     ]
    },
    {
     "name": "stderr",
     "output_type": "stream",
     "text": [
      "/home/lorenzp/.conda/envs/cuda--11-1-1--pytorch--1-9-0/lib/python3.9/site-packages/sklearn/linear_model/_logistic.py:1523: UserWarning: 'n_jobs' > 1 does not have any effect when 'solver' is set to 'liblinear'. Got 'n_jobs' = 8.\n",
      "  warnings.warn(\n"
     ]
    },
    {
     "name": "stdout",
     "output_type": "stream",
     "text": [
      "it:1, cifar10, wrn28-10, lid, aa, fgsm, 74.3, 50.7\n",
      "it:1, cifar10, wrn28-10, lid, aa, fgsm, 40.7, 46.9\n",
      "it:1, cifar10, wrn28-10, lid, aa, bim, 86.2, 73.1\n",
      "it:1, cifar10, wrn28-10, lid, aa, bim, 85.8, 72.4\n",
      "it:1, cifar10, wrn28-10, lid, aa, pgd, 86.8, 73.5\n",
      "it:1, cifar10, wrn28-10, lid, aa, pgd, 87.0, 75.4\n",
      "it:1, cifar10, wrn28-10, lid, aa, df, 54.8, 50.9\n",
      "it:1, cifar10, wrn28-10, lid, aa, df, 59.9, 55.8\n",
      "it:1, cifar10, wrn28-10, lid, aa, cw, 50.0, 50.2\n",
      "it:1, cifar10, wrn28-10, lid, aa, cw, 51.9, 49.9\n"
     ]
    },
    {
     "name": "stderr",
     "output_type": "stream",
     "text": [
      "/home/lorenzp/.conda/envs/cuda--11-1-1--pytorch--1-9-0/lib/python3.9/site-packages/sklearn/linear_model/_logistic.py:1523: UserWarning: 'n_jobs' > 1 does not have any effect when 'solver' is set to 'liblinear'. Got 'n_jobs' = 8.\n",
      "  warnings.warn(\n"
     ]
    },
    {
     "name": "stdout",
     "output_type": "stream",
     "text": [
      "it:1, cifar10, wrn28-10, lid, df, fgsm, 87.0, 79.5\n",
      "it:1, cifar10, wrn28-10, lid, df, fgsm, 85.2, 77.5\n",
      "it:1, cifar10, wrn28-10, lid, df, bim, 61.9, 50.0\n",
      "it:1, cifar10, wrn28-10, lid, df, bim, 57.4, 50.0\n",
      "it:1, cifar10, wrn28-10, lid, df, pgd, 59.7, 50.0\n",
      "it:1, cifar10, wrn28-10, lid, df, pgd, 62.2, 50.0\n",
      "it:1, cifar10, wrn28-10, lid, df, aa, 61.8, 50.1\n",
      "it:1, cifar10, wrn28-10, lid, df, aa, 61.2, 50.0\n",
      "it:1, cifar10, wrn28-10, lid, df, cw, 93.5, 83.5\n",
      "it:1, cifar10, wrn28-10, lid, df, cw, 93.3, 87.0\n"
     ]
    },
    {
     "name": "stderr",
     "output_type": "stream",
     "text": [
      "/home/lorenzp/.conda/envs/cuda--11-1-1--pytorch--1-9-0/lib/python3.9/site-packages/sklearn/linear_model/_logistic.py:1523: UserWarning: 'n_jobs' > 1 does not have any effect when 'solver' is set to 'liblinear'. Got 'n_jobs' = 8.\n",
      "  warnings.warn(\n"
     ]
    },
    {
     "name": "stdout",
     "output_type": "stream",
     "text": [
      "it:1, cifar10, wrn28-10, lid, cw, fgsm, 84.6, 77.5\n",
      "it:1, cifar10, wrn28-10, lid, cw, fgsm, 83.9, 76.8\n",
      "it:1, cifar10, wrn28-10, lid, cw, bim, 62.4, 50.0\n",
      "it:1, cifar10, wrn28-10, lid, cw, bim, 46.7, 50.0\n",
      "it:1, cifar10, wrn28-10, lid, cw, pgd, 60.3, 50.0\n",
      "it:1, cifar10, wrn28-10, lid, cw, pgd, 52.3, 50.0\n",
      "it:1, cifar10, wrn28-10, lid, cw, aa, 62.7, 50.0\n",
      "it:1, cifar10, wrn28-10, lid, cw, aa, 49.2, 50.0\n",
      "it:1, cifar10, wrn28-10, lid, cw, df, 93.4, 85.2\n",
      "it:1, cifar10, wrn28-10, lid, cw, df, 94.9, 89.8\n"
     ]
    },
    {
     "name": "stderr",
     "output_type": "stream",
     "text": [
      "/home/lorenzp/.conda/envs/cuda--11-1-1--pytorch--1-9-0/lib/python3.9/site-packages/sklearn/linear_model/_logistic.py:1523: UserWarning: 'n_jobs' > 1 does not have any effect when 'solver' is set to 'liblinear'. Got 'n_jobs' = 8.\n",
      "  warnings.warn(\n"
     ]
    },
    {
     "name": "stdout",
     "output_type": "stream",
     "text": [
      "it:1, cifar10, wrn28-10, multilid, fgsm, bim, 70.6, 51.0\n",
      "it:1, cifar10, wrn28-10, multilid, fgsm, bim, 51.5, 47.5\n",
      "it:1, cifar10, wrn28-10, multilid, fgsm, pgd, 91.3, 74.0\n",
      "it:1, cifar10, wrn28-10, multilid, fgsm, pgd, 87.0, 68.5\n",
      "it:1, cifar10, wrn28-10, multilid, fgsm, aa, 95.9, 86.1\n",
      "it:1, cifar10, wrn28-10, multilid, fgsm, aa, 96.1, 88.1\n",
      "it:1, cifar10, wrn28-10, multilid, fgsm, df, 79.9, 68.1\n",
      "it:1, cifar10, wrn28-10, multilid, fgsm, df, 82.4, 72.1\n",
      "it:1, cifar10, wrn28-10, multilid, fgsm, cw, 77.4, 67.4\n",
      "it:1, cifar10, wrn28-10, multilid, fgsm, cw, 80.6, 69.9\n"
     ]
    },
    {
     "name": "stderr",
     "output_type": "stream",
     "text": [
      "/home/lorenzp/.conda/envs/cuda--11-1-1--pytorch--1-9-0/lib/python3.9/site-packages/sklearn/linear_model/_logistic.py:1523: UserWarning: 'n_jobs' > 1 does not have any effect when 'solver' is set to 'liblinear'. Got 'n_jobs' = 8.\n",
      "  warnings.warn(\n"
     ]
    },
    {
     "name": "stdout",
     "output_type": "stream",
     "text": [
      "it:1, cifar10, wrn28-10, multilid, bim, fgsm, 16.3, 49.5\n",
      "it:1, cifar10, wrn28-10, multilid, bim, fgsm, 43.7, 44.4\n",
      "it:1, cifar10, wrn28-10, multilid, bim, pgd, 20.0, 50.4\n",
      "it:1, cifar10, wrn28-10, multilid, bim, pgd, 53.9, 53.0\n",
      "it:1, cifar10, wrn28-10, multilid, bim, aa, 9.1, 50.0\n",
      "it:1, cifar10, wrn28-10, multilid, bim, aa, 57.0, 55.6\n",
      "it:1, cifar10, wrn28-10, multilid, bim, df, 5.8, 48.8\n",
      "it:1, cifar10, wrn28-10, multilid, bim, df, 56.7, 55.9\n",
      "it:1, cifar10, wrn28-10, multilid, bim, cw, 6.0, 46.5\n",
      "it:1, cifar10, wrn28-10, multilid, bim, cw, 51.5, 52.1\n"
     ]
    },
    {
     "name": "stderr",
     "output_type": "stream",
     "text": [
      "/home/lorenzp/.conda/envs/cuda--11-1-1--pytorch--1-9-0/lib/python3.9/site-packages/sklearn/linear_model/_logistic.py:1523: UserWarning: 'n_jobs' > 1 does not have any effect when 'solver' is set to 'liblinear'. Got 'n_jobs' = 8.\n",
      "  warnings.warn(\n"
     ]
    },
    {
     "name": "stdout",
     "output_type": "stream",
     "text": [
      "it:1, cifar10, wrn28-10, multilid, pgd, fgsm, 95.8, 88.2\n",
      "it:1, cifar10, wrn28-10, multilid, pgd, fgsm, 85.2, 75.5\n",
      "it:1, cifar10, wrn28-10, multilid, pgd, bim, 28.4, 50.2\n",
      "it:1, cifar10, wrn28-10, multilid, pgd, bim, 55.7, 52.5\n",
      "it:1, cifar10, wrn28-10, multilid, pgd, aa, 98.5, 94.2\n",
      "it:1, cifar10, wrn28-10, multilid, pgd, aa, 98.6, 95.1\n",
      "it:1, cifar10, wrn28-10, multilid, pgd, df, 88.2, 80.0\n",
      "it:1, cifar10, wrn28-10, multilid, pgd, df, 82.5, 55.4\n",
      "it:1, cifar10, wrn28-10, multilid, pgd, cw, 85.7, 76.1\n",
      "it:1, cifar10, wrn28-10, multilid, pgd, cw, 84.5, 56.9\n"
     ]
    },
    {
     "name": "stderr",
     "output_type": "stream",
     "text": [
      "/home/lorenzp/.conda/envs/cuda--11-1-1--pytorch--1-9-0/lib/python3.9/site-packages/sklearn/linear_model/_logistic.py:1523: UserWarning: 'n_jobs' > 1 does not have any effect when 'solver' is set to 'liblinear'. Got 'n_jobs' = 8.\n",
      "  warnings.warn(\n"
     ]
    },
    {
     "name": "stdout",
     "output_type": "stream",
     "text": [
      "it:1, cifar10, wrn28-10, multilid, aa, fgsm, 94.1, 87.9\n",
      "it:1, cifar10, wrn28-10, multilid, aa, fgsm, 89.5, 77.5\n",
      "it:1, cifar10, wrn28-10, multilid, aa, bim, 26.9, 50.4\n",
      "it:1, cifar10, wrn28-10, multilid, aa, bim, 62.4, 59.4\n",
      "it:1, cifar10, wrn28-10, multilid, aa, pgd, 94.8, 86.5\n",
      "it:1, cifar10, wrn28-10, multilid, aa, pgd, 91.5, 75.5\n",
      "it:1, cifar10, wrn28-10, multilid, aa, df, 86.9, 78.9\n",
      "it:1, cifar10, wrn28-10, multilid, aa, df, 92.1, 67.9\n",
      "it:1, cifar10, wrn28-10, multilid, aa, cw, 84.4, 74.2\n",
      "it:1, cifar10, wrn28-10, multilid, aa, cw, 93.1, 66.8\n"
     ]
    },
    {
     "name": "stderr",
     "output_type": "stream",
     "text": [
      "/home/lorenzp/.conda/envs/cuda--11-1-1--pytorch--1-9-0/lib/python3.9/site-packages/sklearn/linear_model/_logistic.py:1523: UserWarning: 'n_jobs' > 1 does not have any effect when 'solver' is set to 'liblinear'. Got 'n_jobs' = 8.\n",
      "  warnings.warn(\n"
     ]
    },
    {
     "name": "stdout",
     "output_type": "stream",
     "text": [
      "it:1, cifar10, wrn28-10, multilid, df, fgsm, 85.5, 78.8\n",
      "it:1, cifar10, wrn28-10, multilid, df, fgsm, 85.9, 79.5\n",
      "it:1, cifar10, wrn28-10, multilid, df, bim, 61.2, 50.0\n",
      "it:1, cifar10, wrn28-10, multilid, df, bim, 57.9, 50.0\n",
      "it:1, cifar10, wrn28-10, multilid, df, pgd, 85.4, 64.9\n",
      "it:1, cifar10, wrn28-10, multilid, df, pgd, 83.4, 54.6\n",
      "it:1, cifar10, wrn28-10, multilid, df, aa, 93.2, 89.2\n",
      "it:1, cifar10, wrn28-10, multilid, df, aa, 93.9, 86.5\n",
      "it:1, cifar10, wrn28-10, multilid, df, cw, 96.0, 94.0\n",
      "it:1, cifar10, wrn28-10, multilid, df, cw, 98.0, 95.5\n"
     ]
    },
    {
     "name": "stderr",
     "output_type": "stream",
     "text": [
      "/home/lorenzp/.conda/envs/cuda--11-1-1--pytorch--1-9-0/lib/python3.9/site-packages/sklearn/linear_model/_logistic.py:1523: UserWarning: 'n_jobs' > 1 does not have any effect when 'solver' is set to 'liblinear'. Got 'n_jobs' = 8.\n",
      "  warnings.warn(\n"
     ]
    },
    {
     "name": "stdout",
     "output_type": "stream",
     "text": [
      "it:1, cifar10, wrn28-10, multilid, cw, fgsm, 86.1, 78.2\n",
      "it:1, cifar10, wrn28-10, multilid, cw, fgsm, 83.6, 78.4\n",
      "it:1, cifar10, wrn28-10, multilid, cw, bim, 30.5, 50.0\n",
      "it:1, cifar10, wrn28-10, multilid, cw, bim, 39.8, 49.2\n",
      "it:1, cifar10, wrn28-10, multilid, cw, pgd, 85.7, 63.1\n",
      "it:1, cifar10, wrn28-10, multilid, cw, pgd, 77.8, 51.6\n",
      "it:1, cifar10, wrn28-10, multilid, cw, aa, 94.3, 90.6\n",
      "it:1, cifar10, wrn28-10, multilid, cw, aa, 93.1, 72.4\n",
      "it:1, cifar10, wrn28-10, multilid, cw, df, 97.6, 93.4\n",
      "it:1, cifar10, wrn28-10, multilid, cw, df, 96.8, 94.5\n"
     ]
    },
    {
     "name": "stderr",
     "output_type": "stream",
     "text": [
      "/home/lorenzp/.conda/envs/cuda--11-1-1--pytorch--1-9-0/lib/python3.9/site-packages/sklearn/linear_model/_logistic.py:1523: UserWarning: 'n_jobs' > 1 does not have any effect when 'solver' is set to 'liblinear'. Got 'n_jobs' = 8.\n",
      "  warnings.warn(\n"
     ]
    },
    {
     "name": "stdout",
     "output_type": "stream",
     "text": [
      "it:1, cifar10, vgg16, lid, fgsm, bim, 81.4, 73.5\n",
      "it:1, cifar10, vgg16, lid, fgsm, bim, 79.9, 70.9\n",
      "it:1, cifar10, vgg16, lid, fgsm, pgd, 77.5, 70.8\n",
      "it:1, cifar10, vgg16, lid, fgsm, pgd, 74.6, 67.2\n",
      "it:1, cifar10, vgg16, lid, fgsm, aa, 93.5, 86.8\n",
      "it:1, cifar10, vgg16, lid, fgsm, aa, 90.8, 80.4\n",
      "it:1, cifar10, vgg16, lid, fgsm, df, 78.3, 69.2\n",
      "it:1, cifar10, vgg16, lid, fgsm, df, 76.2, 68.5\n",
      "it:1, cifar10, vgg16, lid, fgsm, cw, 75.3, 66.8\n",
      "it:1, cifar10, vgg16, lid, fgsm, cw, 72.8, 65.5\n"
     ]
    },
    {
     "name": "stderr",
     "output_type": "stream",
     "text": [
      "/home/lorenzp/.conda/envs/cuda--11-1-1--pytorch--1-9-0/lib/python3.9/site-packages/sklearn/linear_model/_logistic.py:1523: UserWarning: 'n_jobs' > 1 does not have any effect when 'solver' is set to 'liblinear'. Got 'n_jobs' = 8.\n",
      "  warnings.warn(\n"
     ]
    },
    {
     "name": "stdout",
     "output_type": "stream",
     "text": [
      "it:1, cifar10, vgg16, lid, bim, fgsm, 82.3, 73.9\n",
      "it:1, cifar10, vgg16, lid, bim, fgsm, 75.7, 65.4\n",
      "it:1, cifar10, vgg16, lid, bim, pgd, 84.4, 76.2\n",
      "it:1, cifar10, vgg16, lid, bim, pgd, 89.5, 81.4\n",
      "it:1, cifar10, vgg16, lid, bim, aa, 96.4, 89.2\n",
      "it:1, cifar10, vgg16, lid, bim, aa, 97.9, 91.8\n",
      "it:1, cifar10, vgg16, lid, bim, df, 80.2, 71.9\n",
      "it:1, cifar10, vgg16, lid, bim, df, 78.5, 68.8\n",
      "it:1, cifar10, vgg16, lid, bim, cw, 78.9, 71.0\n",
      "it:1, cifar10, vgg16, lid, bim, cw, 76.1, 63.6\n"
     ]
    },
    {
     "name": "stderr",
     "output_type": "stream",
     "text": [
      "/home/lorenzp/.conda/envs/cuda--11-1-1--pytorch--1-9-0/lib/python3.9/site-packages/sklearn/linear_model/_logistic.py:1523: UserWarning: 'n_jobs' > 1 does not have any effect when 'solver' is set to 'liblinear'. Got 'n_jobs' = 8.\n",
      "  warnings.warn(\n"
     ]
    },
    {
     "name": "stdout",
     "output_type": "stream",
     "text": [
      "it:1, cifar10, vgg16, lid, pgd, fgsm, 82.0, 73.5\n",
      "it:1, cifar10, vgg16, lid, pgd, fgsm, 74.3, 66.0\n",
      "it:1, cifar10, vgg16, lid, pgd, bim, 86.9, 78.6\n",
      "it:1, cifar10, vgg16, lid, pgd, bim, 91.5, 83.6\n",
      "it:1, cifar10, vgg16, lid, pgd, aa, 96.2, 88.5\n",
      "it:1, cifar10, vgg16, lid, pgd, aa, 97.5, 90.5\n",
      "it:1, cifar10, vgg16, lid, pgd, df, 78.4, 72.1\n",
      "it:1, cifar10, vgg16, lid, pgd, df, 75.8, 66.1\n",
      "it:1, cifar10, vgg16, lid, pgd, cw, 77.1, 69.1\n",
      "it:1, cifar10, vgg16, lid, pgd, cw, 74.0, 62.7\n"
     ]
    },
    {
     "name": "stderr",
     "output_type": "stream",
     "text": [
      "/home/lorenzp/.conda/envs/cuda--11-1-1--pytorch--1-9-0/lib/python3.9/site-packages/sklearn/linear_model/_logistic.py:1523: UserWarning: 'n_jobs' > 1 does not have any effect when 'solver' is set to 'liblinear'. Got 'n_jobs' = 8.\n",
      "  warnings.warn(\n"
     ]
    },
    {
     "name": "stdout",
     "output_type": "stream",
     "text": [
      "it:1, cifar10, vgg16, lid, aa, fgsm, 83.2, 70.4\n",
      "it:1, cifar10, vgg16, lid, aa, fgsm, 79.7, 64.2\n",
      "it:1, cifar10, vgg16, lid, aa, bim, 86.2, 76.2\n",
      "it:1, cifar10, vgg16, lid, aa, bim, 91.2, 81.4\n",
      "it:1, cifar10, vgg16, lid, aa, pgd, 83.4, 72.5\n",
      "it:1, cifar10, vgg16, lid, aa, pgd, 87.6, 77.8\n",
      "it:1, cifar10, vgg16, lid, aa, df, 79.1, 66.6\n",
      "it:1, cifar10, vgg16, lid, aa, df, 79.3, 64.9\n",
      "it:1, cifar10, vgg16, lid, aa, cw, 77.8, 63.0\n",
      "it:1, cifar10, vgg16, lid, aa, cw, 77.8, 60.0\n"
     ]
    },
    {
     "name": "stderr",
     "output_type": "stream",
     "text": [
      "/home/lorenzp/.conda/envs/cuda--11-1-1--pytorch--1-9-0/lib/python3.9/site-packages/sklearn/linear_model/_logistic.py:1523: UserWarning: 'n_jobs' > 1 does not have any effect when 'solver' is set to 'liblinear'. Got 'n_jobs' = 8.\n",
      "  warnings.warn(\n"
     ]
    },
    {
     "name": "stdout",
     "output_type": "stream",
     "text": [
      "it:1, cifar10, vgg16, lid, df, fgsm, 80.2, 71.9\n",
      "it:1, cifar10, vgg16, lid, df, fgsm, 78.5, 71.9\n",
      "it:1, cifar10, vgg16, lid, df, bim, 83.4, 74.9\n",
      "it:1, cifar10, vgg16, lid, df, bim, 81.7, 74.2\n",
      "it:1, cifar10, vgg16, lid, df, pgd, 79.8, 73.1\n",
      "it:1, cifar10, vgg16, lid, df, pgd, 78.3, 71.6\n",
      "it:1, cifar10, vgg16, lid, df, aa, 94.2, 85.5\n",
      "it:1, cifar10, vgg16, lid, df, aa, 91.6, 83.4\n",
      "it:1, cifar10, vgg16, lid, df, cw, 83.3, 74.1\n",
      "it:1, cifar10, vgg16, lid, df, cw, 84.1, 76.8\n"
     ]
    },
    {
     "name": "stderr",
     "output_type": "stream",
     "text": [
      "/home/lorenzp/.conda/envs/cuda--11-1-1--pytorch--1-9-0/lib/python3.9/site-packages/sklearn/linear_model/_logistic.py:1523: UserWarning: 'n_jobs' > 1 does not have any effect when 'solver' is set to 'liblinear'. Got 'n_jobs' = 8.\n",
      "  warnings.warn(\n"
     ]
    },
    {
     "name": "stdout",
     "output_type": "stream",
     "text": [
      "it:1, cifar10, vgg16, lid, cw, fgsm, 79.3, 72.0\n",
      "it:1, cifar10, vgg16, lid, cw, fgsm, 75.4, 72.9\n",
      "it:1, cifar10, vgg16, lid, cw, bim, 84.1, 76.5\n",
      "it:1, cifar10, vgg16, lid, cw, bim, 80.1, 75.2\n",
      "it:1, cifar10, vgg16, lid, cw, pgd, 80.6, 72.9\n",
      "it:1, cifar10, vgg16, lid, cw, pgd, 77.6, 71.6\n",
      "it:1, cifar10, vgg16, lid, cw, aa, 94.5, 85.5\n",
      "it:1, cifar10, vgg16, lid, cw, aa, 90.8, 83.8\n",
      "it:1, cifar10, vgg16, lid, cw, df, 85.7, 77.4\n",
      "it:1, cifar10, vgg16, lid, cw, df, 85.4, 79.4\n"
     ]
    },
    {
     "name": "stderr",
     "output_type": "stream",
     "text": [
      "/home/lorenzp/.conda/envs/cuda--11-1-1--pytorch--1-9-0/lib/python3.9/site-packages/sklearn/linear_model/_logistic.py:1523: UserWarning: 'n_jobs' > 1 does not have any effect when 'solver' is set to 'liblinear'. Got 'n_jobs' = 8.\n",
      "  warnings.warn(\n"
     ]
    },
    {
     "name": "stdout",
     "output_type": "stream",
     "text": [
      "it:1, cifar10, vgg16, multilid, fgsm, bim, 79.1, 69.5\n",
      "it:1, cifar10, vgg16, multilid, fgsm, bim, 77.7, 67.6\n",
      "it:1, cifar10, vgg16, multilid, fgsm, pgd, 76.9, 67.8\n",
      "it:1, cifar10, vgg16, multilid, fgsm, pgd, 75.7, 66.6\n",
      "it:1, cifar10, vgg16, multilid, fgsm, aa, 89.6, 82.9\n",
      "it:1, cifar10, vgg16, multilid, fgsm, aa, 88.6, 82.6\n",
      "it:1, cifar10, vgg16, multilid, fgsm, df, 77.8, 68.0\n",
      "it:1, cifar10, vgg16, multilid, fgsm, df, 79.9, 71.9\n",
      "it:1, cifar10, vgg16, multilid, fgsm, cw, 77.7, 67.2\n",
      "it:1, cifar10, vgg16, multilid, fgsm, cw, 80.7, 68.9\n"
     ]
    },
    {
     "name": "stderr",
     "output_type": "stream",
     "text": [
      "/home/lorenzp/.conda/envs/cuda--11-1-1--pytorch--1-9-0/lib/python3.9/site-packages/sklearn/linear_model/_logistic.py:1523: UserWarning: 'n_jobs' > 1 does not have any effect when 'solver' is set to 'liblinear'. Got 'n_jobs' = 8.\n",
      "  warnings.warn(\n"
     ]
    },
    {
     "name": "stdout",
     "output_type": "stream",
     "text": [
      "it:1, cifar10, vgg16, multilid, bim, fgsm, 81.8, 72.4\n",
      "it:1, cifar10, vgg16, multilid, bim, fgsm, 69.1, 57.2\n",
      "it:1, cifar10, vgg16, multilid, bim, pgd, 90.4, 83.0\n",
      "it:1, cifar10, vgg16, multilid, bim, pgd, 92.6, 85.8\n",
      "it:1, cifar10, vgg16, multilid, bim, aa, 98.6, 90.8\n",
      "it:1, cifar10, vgg16, multilid, bim, aa, 97.3, 91.6\n",
      "it:1, cifar10, vgg16, multilid, bim, df, 72.4, 65.0\n",
      "it:1, cifar10, vgg16, multilid, bim, df, 60.8, 52.8\n",
      "it:1, cifar10, vgg16, multilid, bim, cw, 74.3, 67.1\n",
      "it:1, cifar10, vgg16, multilid, bim, cw, 64.0, 53.4\n"
     ]
    },
    {
     "name": "stderr",
     "output_type": "stream",
     "text": [
      "/home/lorenzp/.conda/envs/cuda--11-1-1--pytorch--1-9-0/lib/python3.9/site-packages/sklearn/linear_model/_logistic.py:1523: UserWarning: 'n_jobs' > 1 does not have any effect when 'solver' is set to 'liblinear'. Got 'n_jobs' = 8.\n",
      "  warnings.warn(\n"
     ]
    },
    {
     "name": "stdout",
     "output_type": "stream",
     "text": [
      "it:1, cifar10, vgg16, multilid, pgd, fgsm, 84.8, 76.2\n",
      "it:1, cifar10, vgg16, multilid, pgd, fgsm, 69.9, 58.2\n",
      "it:1, cifar10, vgg16, multilid, pgd, bim, 91.2, 83.8\n",
      "it:1, cifar10, vgg16, multilid, pgd, bim, 92.8, 85.5\n",
      "it:1, cifar10, vgg16, multilid, pgd, aa, 97.9, 88.8\n",
      "it:1, cifar10, vgg16, multilid, pgd, aa, 96.6, 90.4\n",
      "it:1, cifar10, vgg16, multilid, pgd, df, 70.2, 63.5\n",
      "it:1, cifar10, vgg16, multilid, pgd, df, 59.9, 52.0\n",
      "it:1, cifar10, vgg16, multilid, pgd, cw, 71.0, 64.4\n",
      "it:1, cifar10, vgg16, multilid, pgd, cw, 60.6, 52.1\n"
     ]
    },
    {
     "name": "stderr",
     "output_type": "stream",
     "text": [
      "/home/lorenzp/.conda/envs/cuda--11-1-1--pytorch--1-9-0/lib/python3.9/site-packages/sklearn/linear_model/_logistic.py:1523: UserWarning: 'n_jobs' > 1 does not have any effect when 'solver' is set to 'liblinear'. Got 'n_jobs' = 8.\n",
      "  warnings.warn(\n"
     ]
    },
    {
     "name": "stdout",
     "output_type": "stream",
     "text": [
      "it:1, cifar10, vgg16, multilid, aa, fgsm, 83.9, 70.1\n",
      "it:1, cifar10, vgg16, multilid, aa, fgsm, 80.1, 57.2\n",
      "it:1, cifar10, vgg16, multilid, aa, bim, 91.7, 86.8\n",
      "it:1, cifar10, vgg16, multilid, aa, bim, 91.6, 83.9\n",
      "it:1, cifar10, vgg16, multilid, aa, pgd, 89.8, 82.1\n",
      "it:1, cifar10, vgg16, multilid, aa, pgd, 90.3, 81.4\n",
      "it:1, cifar10, vgg16, multilid, aa, df, 75.0, 62.4\n",
      "it:1, cifar10, vgg16, multilid, aa, df, 78.8, 54.1\n",
      "it:1, cifar10, vgg16, multilid, aa, cw, 75.9, 64.1\n",
      "it:1, cifar10, vgg16, multilid, aa, cw, 80.0, 55.1\n"
     ]
    },
    {
     "name": "stderr",
     "output_type": "stream",
     "text": [
      "/home/lorenzp/.conda/envs/cuda--11-1-1--pytorch--1-9-0/lib/python3.9/site-packages/sklearn/linear_model/_logistic.py:1523: UserWarning: 'n_jobs' > 1 does not have any effect when 'solver' is set to 'liblinear'. Got 'n_jobs' = 8.\n",
      "  warnings.warn(\n"
     ]
    },
    {
     "name": "stdout",
     "output_type": "stream",
     "text": [
      "it:1, cifar10, vgg16, multilid, df, fgsm, 82.0, 73.8\n",
      "it:1, cifar10, vgg16, multilid, df, fgsm, 81.0, 72.6\n",
      "it:1, cifar10, vgg16, multilid, df, bim, 78.7, 70.9\n",
      "it:1, cifar10, vgg16, multilid, df, bim, 70.9, 62.4\n",
      "it:1, cifar10, vgg16, multilid, df, pgd, 72.1, 66.0\n",
      "it:1, cifar10, vgg16, multilid, df, pgd, 65.0, 55.4\n",
      "it:1, cifar10, vgg16, multilid, df, aa, 90.9, 82.6\n",
      "it:1, cifar10, vgg16, multilid, df, aa, 82.4, 76.9\n",
      "it:1, cifar10, vgg16, multilid, df, cw, 89.8, 83.5\n",
      "it:1, cifar10, vgg16, multilid, df, cw, 89.8, 84.6\n"
     ]
    },
    {
     "name": "stderr",
     "output_type": "stream",
     "text": [
      "/home/lorenzp/.conda/envs/cuda--11-1-1--pytorch--1-9-0/lib/python3.9/site-packages/sklearn/linear_model/_logistic.py:1523: UserWarning: 'n_jobs' > 1 does not have any effect when 'solver' is set to 'liblinear'. Got 'n_jobs' = 8.\n",
      "  warnings.warn(\n"
     ]
    },
    {
     "name": "stdout",
     "output_type": "stream",
     "text": [
      "it:1, cifar10, vgg16, multilid, cw, fgsm, 81.8, 73.2\n",
      "it:1, cifar10, vgg16, multilid, cw, fgsm, 80.5, 73.1\n",
      "it:1, cifar10, vgg16, multilid, cw, bim, 79.8, 71.0\n",
      "it:1, cifar10, vgg16, multilid, cw, bim, 69.9, 58.1\n",
      "it:1, cifar10, vgg16, multilid, cw, pgd, 73.8, 66.9\n",
      "it:1, cifar10, vgg16, multilid, cw, pgd, 64.3, 53.1\n",
      "it:1, cifar10, vgg16, multilid, cw, aa, 92.1, 84.5\n",
      "it:1, cifar10, vgg16, multilid, cw, aa, 79.2, 66.8\n",
      "it:1, cifar10, vgg16, multilid, cw, df, 89.7, 82.0\n",
      "it:1, cifar10, vgg16, multilid, cw, df, 89.0, 83.9\n"
     ]
    },
    {
     "name": "stderr",
     "output_type": "stream",
     "text": [
      "/home/lorenzp/.conda/envs/cuda--11-1-1--pytorch--1-9-0/lib/python3.9/site-packages/sklearn/linear_model/_logistic.py:1523: UserWarning: 'n_jobs' > 1 does not have any effect when 'solver' is set to 'liblinear'. Got 'n_jobs' = 8.\n",
      "  warnings.warn(\n"
     ]
    },
    {
     "name": "stdout",
     "output_type": "stream",
     "text": [
      "it:1, cifar100, wrn28-10, lid, fgsm, bim, 93.2, 82.1\n",
      "it:1, cifar100, wrn28-10, lid, fgsm, bim, 85.4, 69.5\n",
      "it:1, cifar100, wrn28-10, lid, fgsm, pgd, 93.4, 85.8\n",
      "it:1, cifar100, wrn28-10, lid, fgsm, pgd, 83.3, 69.5\n",
      "it:1, cifar100, wrn28-10, lid, fgsm, aa, 96.7, 90.9\n",
      "it:1, cifar100, wrn28-10, lid, fgsm, aa, 86.0, 71.1\n",
      "it:1, cifar100, wrn28-10, lid, fgsm, df, 54.7, 52.0\n",
      "it:1, cifar100, wrn28-10, lid, fgsm, df, 53.8, 52.5\n",
      "it:1, cifar100, wrn28-10, lid, fgsm, cw, 51.8, 50.2\n",
      "it:1, cifar100, wrn28-10, lid, fgsm, cw, 51.1, 51.1\n"
     ]
    },
    {
     "name": "stderr",
     "output_type": "stream",
     "text": [
      "/home/lorenzp/.conda/envs/cuda--11-1-1--pytorch--1-9-0/lib/python3.9/site-packages/sklearn/linear_model/_logistic.py:1523: UserWarning: 'n_jobs' > 1 does not have any effect when 'solver' is set to 'liblinear'. Got 'n_jobs' = 8.\n",
      "  warnings.warn(\n"
     ]
    },
    {
     "name": "stdout",
     "output_type": "stream",
     "text": [
      "it:1, cifar100, wrn28-10, lid, bim, fgsm, 95.7, 87.4\n",
      "it:1, cifar100, wrn28-10, lid, bim, fgsm, 90.0, 75.9\n",
      "it:1, cifar100, wrn28-10, lid, bim, pgd, 97.8, 92.1\n",
      "it:1, cifar100, wrn28-10, lid, bim, pgd, 97.8, 92.8\n",
      "it:1, cifar100, wrn28-10, lid, bim, aa, 99.2, 94.2\n",
      "it:1, cifar100, wrn28-10, lid, bim, aa, 99.0, 95.0\n",
      "it:1, cifar100, wrn28-10, lid, bim, df, 53.6, 49.9\n",
      "it:1, cifar100, wrn28-10, lid, bim, df, 54.2, 49.9\n",
      "it:1, cifar100, wrn28-10, lid, bim, cw, 51.2, 49.1\n",
      "it:1, cifar100, wrn28-10, lid, bim, cw, 50.6, 49.2\n"
     ]
    },
    {
     "name": "stderr",
     "output_type": "stream",
     "text": [
      "/home/lorenzp/.conda/envs/cuda--11-1-1--pytorch--1-9-0/lib/python3.9/site-packages/sklearn/linear_model/_logistic.py:1523: UserWarning: 'n_jobs' > 1 does not have any effect when 'solver' is set to 'liblinear'. Got 'n_jobs' = 8.\n",
      "  warnings.warn(\n"
     ]
    },
    {
     "name": "stdout",
     "output_type": "stream",
     "text": [
      "it:1, cifar100, wrn28-10, lid, pgd, fgsm, 92.9, 74.2\n",
      "it:1, cifar100, wrn28-10, lid, pgd, fgsm, 89.5, 67.0\n",
      "it:1, cifar100, wrn28-10, lid, pgd, bim, 95.8, 88.0\n",
      "it:1, cifar100, wrn28-10, lid, pgd, bim, 95.4, 89.0\n",
      "it:1, cifar100, wrn28-10, lid, pgd, aa, 99.2, 95.2\n",
      "it:1, cifar100, wrn28-10, lid, pgd, aa, 99.2, 96.0\n",
      "it:1, cifar100, wrn28-10, lid, pgd, df, 52.6, 50.0\n",
      "it:1, cifar100, wrn28-10, lid, pgd, df, 50.3, 49.5\n",
      "it:1, cifar100, wrn28-10, lid, pgd, cw, 51.3, 49.1\n",
      "it:1, cifar100, wrn28-10, lid, pgd, cw, 49.4, 48.5\n"
     ]
    },
    {
     "name": "stderr",
     "output_type": "stream",
     "text": [
      "/home/lorenzp/.conda/envs/cuda--11-1-1--pytorch--1-9-0/lib/python3.9/site-packages/sklearn/linear_model/_logistic.py:1523: UserWarning: 'n_jobs' > 1 does not have any effect when 'solver' is set to 'liblinear'. Got 'n_jobs' = 8.\n",
      "  warnings.warn(\n"
     ]
    },
    {
     "name": "stdout",
     "output_type": "stream",
     "text": [
      "it:1, cifar100, wrn28-10, lid, aa, fgsm, 94.6, 75.1\n",
      "it:1, cifar100, wrn28-10, lid, aa, fgsm, 89.4, 59.1\n",
      "it:1, cifar100, wrn28-10, lid, aa, bim, 95.2, 84.8\n",
      "it:1, cifar100, wrn28-10, lid, aa, bim, 94.9, 87.1\n",
      "it:1, cifar100, wrn28-10, lid, aa, pgd, 97.0, 88.8\n",
      "it:1, cifar100, wrn28-10, lid, aa, pgd, 97.4, 91.1\n",
      "it:1, cifar100, wrn28-10, lid, aa, df, 53.2, 49.9\n",
      "it:1, cifar100, wrn28-10, lid, aa, df, 50.2, 49.4\n",
      "it:1, cifar100, wrn28-10, lid, aa, cw, 50.5, 49.6\n",
      "it:1, cifar100, wrn28-10, lid, aa, cw, 47.7, 49.4\n"
     ]
    },
    {
     "name": "stderr",
     "output_type": "stream",
     "text": [
      "/home/lorenzp/.conda/envs/cuda--11-1-1--pytorch--1-9-0/lib/python3.9/site-packages/sklearn/linear_model/_logistic.py:1523: UserWarning: 'n_jobs' > 1 does not have any effect when 'solver' is set to 'liblinear'. Got 'n_jobs' = 8.\n",
      "  warnings.warn(\n"
     ]
    },
    {
     "name": "stdout",
     "output_type": "stream",
     "text": [
      "it:1, cifar100, wrn28-10, lid, df, fgsm, 92.1, 79.2\n",
      "it:1, cifar100, wrn28-10, lid, df, fgsm, 71.4, 63.7\n",
      "it:1, cifar100, wrn28-10, lid, df, bim, 30.4, 42.5\n",
      "it:1, cifar100, wrn28-10, lid, df, bim, 16.9, 34.4\n",
      "it:1, cifar100, wrn28-10, lid, df, pgd, 21.6, 38.2\n",
      "it:1, cifar100, wrn28-10, lid, df, pgd, 14.0, 31.0\n",
      "it:1, cifar100, wrn28-10, lid, df, aa, 13.4, 35.5\n",
      "it:1, cifar100, wrn28-10, lid, df, aa, 7.7, 30.2\n",
      "it:1, cifar100, wrn28-10, lid, df, cw, 52.5, 50.9\n",
      "it:1, cifar100, wrn28-10, lid, df, cw, 58.9, 55.1\n"
     ]
    },
    {
     "name": "stderr",
     "output_type": "stream",
     "text": [
      "/home/lorenzp/.conda/envs/cuda--11-1-1--pytorch--1-9-0/lib/python3.9/site-packages/sklearn/linear_model/_logistic.py:1523: UserWarning: 'n_jobs' > 1 does not have any effect when 'solver' is set to 'liblinear'. Got 'n_jobs' = 8.\n",
      "  warnings.warn(\n"
     ]
    },
    {
     "name": "stdout",
     "output_type": "stream",
     "text": [
      "it:1, cifar100, wrn28-10, lid, cw, fgsm, 88.3, 70.1\n",
      "it:1, cifar100, wrn28-10, lid, cw, fgsm, 60.9, 59.0\n",
      "it:1, cifar100, wrn28-10, lid, cw, bim, 37.3, 40.4\n",
      "it:1, cifar100, wrn28-10, lid, cw, bim, 22.6, 30.5\n",
      "it:1, cifar100, wrn28-10, lid, cw, pgd, 28.3, 35.0\n",
      "it:1, cifar100, wrn28-10, lid, cw, pgd, 19.9, 28.5\n",
      "it:1, cifar100, wrn28-10, lid, cw, aa, 19.4, 30.9\n",
      "it:1, cifar100, wrn28-10, lid, cw, aa, 13.9, 26.1\n",
      "it:1, cifar100, wrn28-10, lid, cw, df, 55.1, 53.2\n",
      "it:1, cifar100, wrn28-10, lid, cw, df, 59.2, 55.9\n"
     ]
    },
    {
     "name": "stderr",
     "output_type": "stream",
     "text": [
      "/home/lorenzp/.conda/envs/cuda--11-1-1--pytorch--1-9-0/lib/python3.9/site-packages/sklearn/linear_model/_logistic.py:1523: UserWarning: 'n_jobs' > 1 does not have any effect when 'solver' is set to 'liblinear'. Got 'n_jobs' = 8.\n",
      "  warnings.warn(\n"
     ]
    },
    {
     "name": "stdout",
     "output_type": "stream",
     "text": [
      "it:1, cifar100, wrn28-10, multilid, fgsm, bim, 82.9, 63.1\n",
      "it:1, cifar100, wrn28-10, multilid, fgsm, bim, 81.5, 66.4\n",
      "it:1, cifar100, wrn28-10, multilid, fgsm, pgd, 76.1, 59.4\n",
      "it:1, cifar100, wrn28-10, multilid, fgsm, pgd, 75.6, 63.1\n",
      "it:1, cifar100, wrn28-10, multilid, fgsm, aa, 83.5, 67.0\n",
      "it:1, cifar100, wrn28-10, multilid, fgsm, aa, 84.7, 70.9\n",
      "it:1, cifar100, wrn28-10, multilid, fgsm, df, 62.3, 55.6\n",
      "it:1, cifar100, wrn28-10, multilid, fgsm, df, 54.8, 52.4\n",
      "it:1, cifar100, wrn28-10, multilid, fgsm, cw, 59.1, 52.5\n",
      "it:1, cifar100, wrn28-10, multilid, fgsm, cw, 53.1, 51.5\n"
     ]
    },
    {
     "name": "stderr",
     "output_type": "stream",
     "text": [
      "/home/lorenzp/.conda/envs/cuda--11-1-1--pytorch--1-9-0/lib/python3.9/site-packages/sklearn/linear_model/_logistic.py:1523: UserWarning: 'n_jobs' > 1 does not have any effect when 'solver' is set to 'liblinear'. Got 'n_jobs' = 8.\n",
      "  warnings.warn(\n"
     ]
    },
    {
     "name": "stdout",
     "output_type": "stream",
     "text": [
      "it:1, cifar100, wrn28-10, multilid, bim, fgsm, 78.5, 64.4\n",
      "it:1, cifar100, wrn28-10, multilid, bim, fgsm, 78.2, 54.6\n",
      "it:1, cifar100, wrn28-10, multilid, bim, pgd, 98.7, 93.5\n",
      "it:1, cifar100, wrn28-10, multilid, bim, pgd, 98.5, 93.8\n",
      "it:1, cifar100, wrn28-10, multilid, bim, aa, 99.9, 94.8\n",
      "it:1, cifar100, wrn28-10, multilid, bim, aa, 99.8, 96.6\n",
      "it:1, cifar100, wrn28-10, multilid, bim, df, 42.9, 48.2\n",
      "it:1, cifar100, wrn28-10, multilid, bim, df, 41.3, 48.0\n",
      "it:1, cifar100, wrn28-10, multilid, bim, cw, 44.6, 47.8\n",
      "it:1, cifar100, wrn28-10, multilid, bim, cw, 42.9, 47.2\n"
     ]
    },
    {
     "name": "stderr",
     "output_type": "stream",
     "text": [
      "/home/lorenzp/.conda/envs/cuda--11-1-1--pytorch--1-9-0/lib/python3.9/site-packages/sklearn/linear_model/_logistic.py:1523: UserWarning: 'n_jobs' > 1 does not have any effect when 'solver' is set to 'liblinear'. Got 'n_jobs' = 8.\n",
      "  warnings.warn(\n"
     ]
    },
    {
     "name": "stdout",
     "output_type": "stream",
     "text": [
      "it:1, cifar100, wrn28-10, multilid, pgd, fgsm, 69.8, 56.2\n",
      "it:1, cifar100, wrn28-10, multilid, pgd, fgsm, 83.5, 51.6\n",
      "it:1, cifar100, wrn28-10, multilid, pgd, bim, 97.9, 92.4\n",
      "it:1, cifar100, wrn28-10, multilid, pgd, bim, 97.0, 90.4\n",
      "it:1, cifar100, wrn28-10, multilid, pgd, aa, 99.9, 96.6\n",
      "it:1, cifar100, wrn28-10, multilid, pgd, aa, 99.8, 97.8\n",
      "it:1, cifar100, wrn28-10, multilid, pgd, df, 41.1, 48.0\n",
      "it:1, cifar100, wrn28-10, multilid, pgd, df, 43.6, 48.5\n",
      "it:1, cifar100, wrn28-10, multilid, pgd, cw, 43.5, 48.1\n",
      "it:1, cifar100, wrn28-10, multilid, pgd, cw, 44.8, 49.0\n"
     ]
    },
    {
     "name": "stderr",
     "output_type": "stream",
     "text": [
      "/home/lorenzp/.conda/envs/cuda--11-1-1--pytorch--1-9-0/lib/python3.9/site-packages/sklearn/linear_model/_logistic.py:1523: UserWarning: 'n_jobs' > 1 does not have any effect when 'solver' is set to 'liblinear'. Got 'n_jobs' = 8.\n",
      "  warnings.warn(\n"
     ]
    },
    {
     "name": "stdout",
     "output_type": "stream",
     "text": [
      "it:1, cifar100, wrn28-10, multilid, aa, fgsm, 66.9, 52.5\n",
      "it:1, cifar100, wrn28-10, multilid, aa, fgsm, 73.9, 50.2\n",
      "it:1, cifar100, wrn28-10, multilid, aa, bim, 97.6, 91.4\n",
      "it:1, cifar100, wrn28-10, multilid, aa, bim, 96.5, 88.1\n",
      "it:1, cifar100, wrn28-10, multilid, aa, pgd, 98.3, 94.2\n",
      "it:1, cifar100, wrn28-10, multilid, aa, pgd, 98.2, 91.8\n",
      "it:1, cifar100, wrn28-10, multilid, aa, df, 40.7, 48.6\n",
      "it:1, cifar100, wrn28-10, multilid, aa, df, 44.0, 49.5\n",
      "it:1, cifar100, wrn28-10, multilid, aa, cw, 42.8, 48.1\n",
      "it:1, cifar100, wrn28-10, multilid, aa, cw, 42.8, 49.2\n"
     ]
    },
    {
     "name": "stderr",
     "output_type": "stream",
     "text": [
      "/home/lorenzp/.conda/envs/cuda--11-1-1--pytorch--1-9-0/lib/python3.9/site-packages/sklearn/linear_model/_logistic.py:1523: UserWarning: 'n_jobs' > 1 does not have any effect when 'solver' is set to 'liblinear'. Got 'n_jobs' = 8.\n",
      "  warnings.warn(\n"
     ]
    },
    {
     "name": "stdout",
     "output_type": "stream",
     "text": [
      "it:1, cifar100, wrn28-10, multilid, df, fgsm, 89.1, 82.2\n",
      "it:1, cifar100, wrn28-10, multilid, df, fgsm, 78.8, 73.0\n",
      "it:1, cifar100, wrn28-10, multilid, df, bim, 48.7, 40.8\n",
      "it:1, cifar100, wrn28-10, multilid, df, bim, 24.9, 34.5\n",
      "it:1, cifar100, wrn28-10, multilid, df, pgd, 37.5, 35.4\n",
      "it:1, cifar100, wrn28-10, multilid, df, pgd, 19.7, 33.2\n",
      "it:1, cifar100, wrn28-10, multilid, df, aa, 34.9, 33.5\n",
      "it:1, cifar100, wrn28-10, multilid, df, aa, 18.2, 32.9\n",
      "it:1, cifar100, wrn28-10, multilid, df, cw, 70.7, 62.3\n",
      "it:1, cifar100, wrn28-10, multilid, df, cw, 68.3, 63.1\n"
     ]
    },
    {
     "name": "stderr",
     "output_type": "stream",
     "text": [
      "/home/lorenzp/.conda/envs/cuda--11-1-1--pytorch--1-9-0/lib/python3.9/site-packages/sklearn/linear_model/_logistic.py:1523: UserWarning: 'n_jobs' > 1 does not have any effect when 'solver' is set to 'liblinear'. Got 'n_jobs' = 8.\n",
      "  warnings.warn(\n"
     ]
    },
    {
     "name": "stdout",
     "output_type": "stream",
     "text": [
      "it:1, cifar100, wrn28-10, multilid, cw, fgsm, 81.2, 74.5\n",
      "it:1, cifar100, wrn28-10, multilid, cw, fgsm, 70.3, 67.6\n",
      "it:1, cifar100, wrn28-10, multilid, cw, bim, 40.5, 37.1\n",
      "it:1, cifar100, wrn28-10, multilid, cw, bim, 20.2, 31.5\n",
      "it:1, cifar100, wrn28-10, multilid, cw, pgd, 31.6, 31.2\n",
      "it:1, cifar100, wrn28-10, multilid, cw, pgd, 13.9, 28.0\n",
      "it:1, cifar100, wrn28-10, multilid, cw, aa, 27.1, 28.9\n",
      "it:1, cifar100, wrn28-10, multilid, cw, aa, 12.2, 27.5\n",
      "it:1, cifar100, wrn28-10, multilid, cw, df, 73.7, 67.2\n",
      "it:1, cifar100, wrn28-10, multilid, cw, df, 72.0, 66.4\n"
     ]
    },
    {
     "name": "stderr",
     "output_type": "stream",
     "text": [
      "/home/lorenzp/.conda/envs/cuda--11-1-1--pytorch--1-9-0/lib/python3.9/site-packages/sklearn/linear_model/_logistic.py:1523: UserWarning: 'n_jobs' > 1 does not have any effect when 'solver' is set to 'liblinear'. Got 'n_jobs' = 8.\n",
      "  warnings.warn(\n"
     ]
    },
    {
     "name": "stdout",
     "output_type": "stream",
     "text": [
      "it:1, cifar100, vgg16, lid, fgsm, bim, 76.5, 70.2\n",
      "it:1, cifar100, vgg16, lid, fgsm, bim, 72.0, 66.6\n",
      "it:1, cifar100, vgg16, lid, fgsm, pgd, 79.4, 73.0\n",
      "it:1, cifar100, vgg16, lid, fgsm, pgd, 76.5, 70.4\n",
      "it:1, cifar100, vgg16, lid, fgsm, aa, 83.0, 76.1\n",
      "it:1, cifar100, vgg16, lid, fgsm, aa, 79.5, 72.9\n",
      "it:1, cifar100, vgg16, lid, fgsm, df, 53.2, 50.5\n",
      "it:1, cifar100, vgg16, lid, fgsm, df, 56.1, 54.0\n",
      "it:1, cifar100, vgg16, lid, fgsm, cw, 56.1, 52.9\n",
      "it:1, cifar100, vgg16, lid, fgsm, cw, 57.2, 56.4\n"
     ]
    },
    {
     "name": "stderr",
     "output_type": "stream",
     "text": [
      "/home/lorenzp/.conda/envs/cuda--11-1-1--pytorch--1-9-0/lib/python3.9/site-packages/sklearn/linear_model/_logistic.py:1523: UserWarning: 'n_jobs' > 1 does not have any effect when 'solver' is set to 'liblinear'. Got 'n_jobs' = 8.\n",
      "  warnings.warn(\n"
     ]
    },
    {
     "name": "stdout",
     "output_type": "stream",
     "text": [
      "it:1, cifar100, vgg16, lid, bim, fgsm, 70.0, 64.0\n",
      "it:1, cifar100, vgg16, lid, bim, fgsm, 70.3, 62.6\n",
      "it:1, cifar100, vgg16, lid, bim, pgd, 84.2, 77.2\n",
      "it:1, cifar100, vgg16, lid, bim, pgd, 85.3, 79.5\n",
      "it:1, cifar100, vgg16, lid, bim, aa, 85.8, 78.2\n",
      "it:1, cifar100, vgg16, lid, bim, aa, 88.3, 79.0\n",
      "it:1, cifar100, vgg16, lid, bim, df, 53.2, 51.0\n",
      "it:1, cifar100, vgg16, lid, bim, df, 52.8, 51.2\n",
      "it:1, cifar100, vgg16, lid, bim, cw, 57.6, 50.2\n",
      "it:1, cifar100, vgg16, lid, bim, cw, 58.8, 54.4\n"
     ]
    },
    {
     "name": "stderr",
     "output_type": "stream",
     "text": [
      "/home/lorenzp/.conda/envs/cuda--11-1-1--pytorch--1-9-0/lib/python3.9/site-packages/sklearn/linear_model/_logistic.py:1523: UserWarning: 'n_jobs' > 1 does not have any effect when 'solver' is set to 'liblinear'. Got 'n_jobs' = 8.\n",
      "  warnings.warn(\n"
     ]
    },
    {
     "name": "stdout",
     "output_type": "stream",
     "text": [
      "it:1, cifar100, vgg16, lid, pgd, fgsm, 68.8, 63.6\n",
      "it:1, cifar100, vgg16, lid, pgd, fgsm, 69.7, 60.6\n",
      "it:1, cifar100, vgg16, lid, pgd, bim, 79.1, 69.9\n",
      "it:1, cifar100, vgg16, lid, pgd, bim, 79.1, 71.4\n",
      "it:1, cifar100, vgg16, lid, pgd, aa, 85.1, 76.8\n",
      "it:1, cifar100, vgg16, lid, pgd, aa, 88.5, 79.5\n",
      "it:1, cifar100, vgg16, lid, pgd, df, 53.1, 52.2\n",
      "it:1, cifar100, vgg16, lid, pgd, df, 51.7, 50.6\n",
      "it:1, cifar100, vgg16, lid, pgd, cw, 59.7, 52.4\n",
      "it:1, cifar100, vgg16, lid, pgd, cw, 57.9, 54.6\n"
     ]
    },
    {
     "name": "stderr",
     "output_type": "stream",
     "text": [
      "/home/lorenzp/.conda/envs/cuda--11-1-1--pytorch--1-9-0/lib/python3.9/site-packages/sklearn/linear_model/_logistic.py:1523: UserWarning: 'n_jobs' > 1 does not have any effect when 'solver' is set to 'liblinear'. Got 'n_jobs' = 8.\n",
      "  warnings.warn(\n"
     ]
    },
    {
     "name": "stdout",
     "output_type": "stream",
     "text": [
      "it:1, cifar100, vgg16, lid, aa, fgsm, 70.8, 61.1\n",
      "it:1, cifar100, vgg16, lid, aa, fgsm, 71.3, 61.1\n",
      "it:1, cifar100, vgg16, lid, aa, bim, 77.3, 69.1\n",
      "it:1, cifar100, vgg16, lid, aa, bim, 80.7, 72.2\n",
      "it:1, cifar100, vgg16, lid, aa, pgd, 81.5, 71.9\n",
      "it:1, cifar100, vgg16, lid, aa, pgd, 86.4, 79.6\n",
      "it:1, cifar100, vgg16, lid, aa, df, 53.3, 50.0\n",
      "it:1, cifar100, vgg16, lid, aa, df, 52.8, 50.0\n",
      "it:1, cifar100, vgg16, lid, aa, cw, 54.6, 49.2\n",
      "it:1, cifar100, vgg16, lid, aa, cw, 56.1, 53.5\n"
     ]
    },
    {
     "name": "stderr",
     "output_type": "stream",
     "text": [
      "/home/lorenzp/.conda/envs/cuda--11-1-1--pytorch--1-9-0/lib/python3.9/site-packages/sklearn/linear_model/_logistic.py:1523: UserWarning: 'n_jobs' > 1 does not have any effect when 'solver' is set to 'liblinear'. Got 'n_jobs' = 8.\n",
      "  warnings.warn(\n"
     ]
    },
    {
     "name": "stdout",
     "output_type": "stream",
     "text": [
      "it:1, cifar100, vgg16, lid, df, fgsm, 69.2, 64.9\n",
      "it:1, cifar100, vgg16, lid, df, fgsm, 58.4, 55.9\n",
      "it:1, cifar100, vgg16, lid, df, bim, 73.3, 65.1\n",
      "it:1, cifar100, vgg16, lid, df, bim, 52.2, 49.4\n",
      "it:1, cifar100, vgg16, lid, df, pgd, 75.4, 68.4\n",
      "it:1, cifar100, vgg16, lid, df, pgd, 57.2, 55.9\n",
      "it:1, cifar100, vgg16, lid, df, aa, 83.4, 74.0\n",
      "it:1, cifar100, vgg16, lid, df, aa, 49.3, 48.2\n",
      "it:1, cifar100, vgg16, lid, df, cw, 55.1, 54.6\n",
      "it:1, cifar100, vgg16, lid, df, cw, 59.2, 56.4\n"
     ]
    },
    {
     "name": "stderr",
     "output_type": "stream",
     "text": [
      "/home/lorenzp/.conda/envs/cuda--11-1-1--pytorch--1-9-0/lib/python3.9/site-packages/sklearn/linear_model/_logistic.py:1523: UserWarning: 'n_jobs' > 1 does not have any effect when 'solver' is set to 'liblinear'. Got 'n_jobs' = 8.\n",
      "  warnings.warn(\n"
     ]
    },
    {
     "name": "stdout",
     "output_type": "stream",
     "text": [
      "it:1, cifar100, vgg16, lid, cw, fgsm, 63.3, 59.4\n",
      "it:1, cifar100, vgg16, lid, cw, fgsm, 58.0, 56.9\n",
      "it:1, cifar100, vgg16, lid, cw, bim, 76.2, 65.6\n",
      "it:1, cifar100, vgg16, lid, cw, bim, 64.8, 61.1\n",
      "it:1, cifar100, vgg16, lid, cw, pgd, 86.5, 72.1\n",
      "it:1, cifar100, vgg16, lid, cw, pgd, 68.9, 61.6\n",
      "it:1, cifar100, vgg16, lid, cw, aa, 82.2, 67.6\n",
      "it:1, cifar100, vgg16, lid, cw, aa, 59.9, 59.0\n",
      "it:1, cifar100, vgg16, lid, cw, df, 51.7, 51.6\n",
      "it:1, cifar100, vgg16, lid, cw, df, 59.3, 56.4\n"
     ]
    },
    {
     "name": "stderr",
     "output_type": "stream",
     "text": [
      "/home/lorenzp/.conda/envs/cuda--11-1-1--pytorch--1-9-0/lib/python3.9/site-packages/sklearn/linear_model/_logistic.py:1523: UserWarning: 'n_jobs' > 1 does not have any effect when 'solver' is set to 'liblinear'. Got 'n_jobs' = 8.\n",
      "  warnings.warn(\n"
     ]
    },
    {
     "name": "stdout",
     "output_type": "stream",
     "text": [
      "it:1, cifar100, vgg16, multilid, fgsm, bim, 77.4, 70.5\n",
      "it:1, cifar100, vgg16, multilid, fgsm, bim, 77.1, 68.9\n",
      "it:1, cifar100, vgg16, multilid, fgsm, pgd, 78.7, 71.6\n",
      "it:1, cifar100, vgg16, multilid, fgsm, pgd, 76.8, 69.0\n",
      "it:1, cifar100, vgg16, multilid, fgsm, aa, 81.9, 74.1\n",
      "it:1, cifar100, vgg16, multilid, fgsm, aa, 78.6, 70.8\n",
      "it:1, cifar100, vgg16, multilid, fgsm, df, 65.2, 58.5\n",
      "it:1, cifar100, vgg16, multilid, fgsm, df, 62.1, 58.6\n",
      "it:1, cifar100, vgg16, multilid, fgsm, cw, 64.3, 57.9\n",
      "it:1, cifar100, vgg16, multilid, fgsm, cw, 61.6, 59.5\n"
     ]
    },
    {
     "name": "stderr",
     "output_type": "stream",
     "text": [
      "/home/lorenzp/.conda/envs/cuda--11-1-1--pytorch--1-9-0/lib/python3.9/site-packages/sklearn/linear_model/_logistic.py:1523: UserWarning: 'n_jobs' > 1 does not have any effect when 'solver' is set to 'liblinear'. Got 'n_jobs' = 8.\n",
      "  warnings.warn(\n"
     ]
    },
    {
     "name": "stdout",
     "output_type": "stream",
     "text": [
      "it:1, cifar100, vgg16, multilid, bim, fgsm, 78.5, 70.0\n",
      "it:1, cifar100, vgg16, multilid, bim, fgsm, 73.8, 65.4\n",
      "it:1, cifar100, vgg16, multilid, bim, pgd, 87.1, 78.2\n",
      "it:1, cifar100, vgg16, multilid, bim, pgd, 85.4, 77.8\n",
      "it:1, cifar100, vgg16, multilid, bim, aa, 91.0, 82.8\n",
      "it:1, cifar100, vgg16, multilid, bim, aa, 90.4, 81.9\n",
      "it:1, cifar100, vgg16, multilid, bim, df, 61.3, 55.8\n",
      "it:1, cifar100, vgg16, multilid, bim, df, 54.5, 52.4\n",
      "it:1, cifar100, vgg16, multilid, bim, cw, 62.0, 56.9\n",
      "it:1, cifar100, vgg16, multilid, bim, cw, 58.6, 55.8\n"
     ]
    },
    {
     "name": "stderr",
     "output_type": "stream",
     "text": [
      "/home/lorenzp/.conda/envs/cuda--11-1-1--pytorch--1-9-0/lib/python3.9/site-packages/sklearn/linear_model/_logistic.py:1523: UserWarning: 'n_jobs' > 1 does not have any effect when 'solver' is set to 'liblinear'. Got 'n_jobs' = 8.\n",
      "  warnings.warn(\n"
     ]
    },
    {
     "name": "stdout",
     "output_type": "stream",
     "text": [
      "it:1, cifar100, vgg16, multilid, pgd, fgsm, 76.1, 66.6\n",
      "it:1, cifar100, vgg16, multilid, pgd, fgsm, 71.3, 62.3\n",
      "it:1, cifar100, vgg16, multilid, pgd, bim, 83.8, 74.4\n",
      "it:1, cifar100, vgg16, multilid, pgd, bim, 81.5, 73.5\n",
      "it:1, cifar100, vgg16, multilid, pgd, aa, 89.4, 80.6\n",
      "it:1, cifar100, vgg16, multilid, pgd, aa, 88.8, 81.1\n",
      "it:1, cifar100, vgg16, multilid, pgd, df, 58.3, 52.9\n",
      "it:1, cifar100, vgg16, multilid, pgd, df, 55.1, 51.9\n",
      "it:1, cifar100, vgg16, multilid, pgd, cw, 61.9, 56.1\n",
      "it:1, cifar100, vgg16, multilid, pgd, cw, 59.4, 54.6\n"
     ]
    },
    {
     "name": "stderr",
     "output_type": "stream",
     "text": [
      "/home/lorenzp/.conda/envs/cuda--11-1-1--pytorch--1-9-0/lib/python3.9/site-packages/sklearn/linear_model/_logistic.py:1523: UserWarning: 'n_jobs' > 1 does not have any effect when 'solver' is set to 'liblinear'. Got 'n_jobs' = 8.\n",
      "  warnings.warn(\n"
     ]
    },
    {
     "name": "stdout",
     "output_type": "stream",
     "text": [
      "it:1, cifar100, vgg16, multilid, aa, fgsm, 76.3, 65.9\n",
      "it:1, cifar100, vgg16, multilid, aa, fgsm, 66.9, 61.5\n",
      "it:1, cifar100, vgg16, multilid, aa, bim, 83.9, 75.2\n",
      "it:1, cifar100, vgg16, multilid, aa, bim, 82.1, 73.5\n",
      "it:1, cifar100, vgg16, multilid, aa, pgd, 86.7, 77.9\n",
      "it:1, cifar100, vgg16, multilid, aa, pgd, 85.7, 76.9\n",
      "it:1, cifar100, vgg16, multilid, aa, df, 56.5, 50.5\n",
      "it:1, cifar100, vgg16, multilid, aa, df, 51.9, 49.8\n",
      "it:1, cifar100, vgg16, multilid, aa, cw, 57.6, 52.9\n",
      "it:1, cifar100, vgg16, multilid, aa, cw, 55.7, 53.1\n"
     ]
    },
    {
     "name": "stderr",
     "output_type": "stream",
     "text": [
      "/home/lorenzp/.conda/envs/cuda--11-1-1--pytorch--1-9-0/lib/python3.9/site-packages/sklearn/linear_model/_logistic.py:1523: UserWarning: 'n_jobs' > 1 does not have any effect when 'solver' is set to 'liblinear'. Got 'n_jobs' = 8.\n",
      "  warnings.warn(\n"
     ]
    },
    {
     "name": "stdout",
     "output_type": "stream",
     "text": [
      "it:1, cifar100, vgg16, multilid, df, fgsm, 74.7, 68.0\n",
      "it:1, cifar100, vgg16, multilid, df, fgsm, 67.6, 62.5\n",
      "it:1, cifar100, vgg16, multilid, df, bim, 67.3, 63.6\n",
      "it:1, cifar100, vgg16, multilid, df, bim, 57.8, 54.1\n",
      "it:1, cifar100, vgg16, multilid, df, pgd, 67.9, 65.2\n",
      "it:1, cifar100, vgg16, multilid, df, pgd, 66.3, 58.9\n",
      "it:1, cifar100, vgg16, multilid, df, aa, 66.7, 62.7\n",
      "it:1, cifar100, vgg16, multilid, df, aa, 57.2, 51.5\n",
      "it:1, cifar100, vgg16, multilid, df, cw, 67.1, 62.3\n",
      "it:1, cifar100, vgg16, multilid, df, cw, 75.0, 68.9\n"
     ]
    },
    {
     "name": "stderr",
     "output_type": "stream",
     "text": [
      "/home/lorenzp/.conda/envs/cuda--11-1-1--pytorch--1-9-0/lib/python3.9/site-packages/sklearn/linear_model/_logistic.py:1523: UserWarning: 'n_jobs' > 1 does not have any effect when 'solver' is set to 'liblinear'. Got 'n_jobs' = 8.\n",
      "  warnings.warn(\n"
     ]
    },
    {
     "name": "stdout",
     "output_type": "stream",
     "text": [
      "it:1, cifar100, vgg16, multilid, cw, fgsm, 74.7, 67.2\n",
      "it:1, cifar100, vgg16, multilid, cw, fgsm, 69.9, 64.9\n",
      "it:1, cifar100, vgg16, multilid, cw, bim, 73.9, 68.9\n",
      "it:1, cifar100, vgg16, multilid, cw, bim, 67.6, 63.4\n",
      "it:1, cifar100, vgg16, multilid, cw, pgd, 76.5, 72.0\n",
      "it:1, cifar100, vgg16, multilid, cw, pgd, 72.2, 67.9\n",
      "it:1, cifar100, vgg16, multilid, cw, aa, 74.0, 67.0\n",
      "it:1, cifar100, vgg16, multilid, cw, aa, 66.4, 62.1\n",
      "it:1, cifar100, vgg16, multilid, cw, df, 68.7, 62.9\n",
      "it:1, cifar100, vgg16, multilid, cw, df, 70.7, 65.2\n"
     ]
    },
    {
     "name": "stderr",
     "output_type": "stream",
     "text": [
      "/home/lorenzp/.conda/envs/cuda--11-1-1--pytorch--1-9-0/lib/python3.9/site-packages/sklearn/linear_model/_logistic.py:1523: UserWarning: 'n_jobs' > 1 does not have any effect when 'solver' is set to 'liblinear'. Got 'n_jobs' = 8.\n",
      "  warnings.warn(\n"
     ]
    },
    {
     "name": "stdout",
     "output_type": "stream",
     "text": [
      "it:1, imagenet, wrn50-2, lid, fgsm, bim, 65.7, 61.3\n",
      "it:1, imagenet, wrn50-2, lid, fgsm, bim, 56.3, 54.4\n",
      "it:1, imagenet, wrn50-2, lid, fgsm, pgd, 76.2, 69.8\n",
      "it:1, imagenet, wrn50-2, lid, fgsm, pgd, 62.0, 59.4\n",
      "it:1, imagenet, wrn50-2, lid, fgsm, aa, 90.8, 74.1\n",
      "it:1, imagenet, wrn50-2, lid, fgsm, aa, 52.6, 50.4\n",
      "it:1, imagenet, wrn50-2, lid, fgsm, df, 51.1, 49.8\n",
      "it:1, imagenet, wrn50-2, lid, fgsm, df, 50.1, 49.2\n",
      "it:1, imagenet, wrn50-2, lid, fgsm, cw, 51.4, 51.0\n",
      "it:1, imagenet, wrn50-2, lid, fgsm, cw, 50.9, 50.9\n"
     ]
    },
    {
     "name": "stderr",
     "output_type": "stream",
     "text": [
      "/home/lorenzp/.conda/envs/cuda--11-1-1--pytorch--1-9-0/lib/python3.9/site-packages/sklearn/linear_model/_logistic.py:1523: UserWarning: 'n_jobs' > 1 does not have any effect when 'solver' is set to 'liblinear'. Got 'n_jobs' = 8.\n",
      "  warnings.warn(\n"
     ]
    },
    {
     "name": "stdout",
     "output_type": "stream",
     "text": [
      "it:1, imagenet, wrn50-2, lid, bim, fgsm, 55.4, 51.5\n",
      "it:1, imagenet, wrn50-2, lid, bim, fgsm, 52.5, 51.9\n",
      "it:1, imagenet, wrn50-2, lid, bim, pgd, 94.2, 87.6\n",
      "it:1, imagenet, wrn50-2, lid, bim, pgd, 92.2, 85.5\n",
      "it:1, imagenet, wrn50-2, lid, bim, aa, 100.0, 95.4\n",
      "it:1, imagenet, wrn50-2, lid, bim, aa, 99.0, 94.4\n",
      "it:1, imagenet, wrn50-2, lid, bim, df, 53.9, 51.6\n",
      "it:1, imagenet, wrn50-2, lid, bim, df, 53.3, 51.1\n",
      "it:1, imagenet, wrn50-2, lid, bim, cw, 53.7, 51.1\n",
      "it:1, imagenet, wrn50-2, lid, bim, cw, 53.1, 50.2\n"
     ]
    },
    {
     "name": "stderr",
     "output_type": "stream",
     "text": [
      "/home/lorenzp/.conda/envs/cuda--11-1-1--pytorch--1-9-0/lib/python3.9/site-packages/sklearn/linear_model/_logistic.py:1523: UserWarning: 'n_jobs' > 1 does not have any effect when 'solver' is set to 'liblinear'. Got 'n_jobs' = 8.\n",
      "  warnings.warn(\n"
     ]
    },
    {
     "name": "stdout",
     "output_type": "stream",
     "text": [
      "it:1, imagenet, wrn50-2, lid, pgd, fgsm, 56.8, 51.0\n",
      "it:1, imagenet, wrn50-2, lid, pgd, fgsm, 52.3, 51.1\n",
      "it:1, imagenet, wrn50-2, lid, pgd, bim, 89.5, 79.9\n",
      "it:1, imagenet, wrn50-2, lid, pgd, bim, 89.6, 80.2\n",
      "it:1, imagenet, wrn50-2, lid, pgd, aa, 100.0, 96.4\n",
      "it:1, imagenet, wrn50-2, lid, pgd, aa, 99.8, 95.6\n",
      "it:1, imagenet, wrn50-2, lid, pgd, df, 53.9, 50.9\n",
      "it:1, imagenet, wrn50-2, lid, pgd, df, 53.0, 51.2\n",
      "it:1, imagenet, wrn50-2, lid, pgd, cw, 53.9, 51.5\n",
      "it:1, imagenet, wrn50-2, lid, pgd, cw, 53.5, 51.5\n"
     ]
    },
    {
     "name": "stderr",
     "output_type": "stream",
     "text": [
      "/home/lorenzp/.conda/envs/cuda--11-1-1--pytorch--1-9-0/lib/python3.9/site-packages/sklearn/linear_model/_logistic.py:1523: UserWarning: 'n_jobs' > 1 does not have any effect when 'solver' is set to 'liblinear'. Got 'n_jobs' = 8.\n",
      "  warnings.warn(\n"
     ]
    },
    {
     "name": "stdout",
     "output_type": "stream",
     "text": [
      "it:1, imagenet, wrn50-2, lid, aa, fgsm, 52.0, 49.6\n",
      "it:1, imagenet, wrn50-2, lid, aa, fgsm, 46.8, 49.8\n",
      "it:1, imagenet, wrn50-2, lid, aa, bim, 89.8, 60.5\n",
      "it:1, imagenet, wrn50-2, lid, aa, bim, 82.8, 62.5\n",
      "it:1, imagenet, wrn50-2, lid, aa, pgd, 89.7, 65.2\n",
      "it:1, imagenet, wrn50-2, lid, aa, pgd, 89.6, 71.4\n",
      "it:1, imagenet, wrn50-2, lid, aa, df, 53.6, 50.0\n",
      "it:1, imagenet, wrn50-2, lid, aa, df, 50.7, 50.5\n",
      "it:1, imagenet, wrn50-2, lid, aa, cw, 52.8, 50.2\n",
      "it:1, imagenet, wrn50-2, lid, aa, cw, 53.8, 50.0\n"
     ]
    },
    {
     "name": "stderr",
     "output_type": "stream",
     "text": [
      "/home/lorenzp/.conda/envs/cuda--11-1-1--pytorch--1-9-0/lib/python3.9/site-packages/sklearn/linear_model/_logistic.py:1523: UserWarning: 'n_jobs' > 1 does not have any effect when 'solver' is set to 'liblinear'. Got 'n_jobs' = 8.\n",
      "  warnings.warn(\n"
     ]
    },
    {
     "name": "stdout",
     "output_type": "stream",
     "text": [
      "it:1, imagenet, wrn50-2, lid, df, fgsm, 55.1, 53.4\n",
      "it:1, imagenet, wrn50-2, lid, df, fgsm, 51.9, 51.6\n",
      "it:1, imagenet, wrn50-2, lid, df, bim, 91.7, 76.9\n",
      "it:1, imagenet, wrn50-2, lid, df, bim, 69.0, 63.5\n",
      "it:1, imagenet, wrn50-2, lid, df, pgd, 95.0, 79.1\n",
      "it:1, imagenet, wrn50-2, lid, df, pgd, 69.7, 63.9\n",
      "it:1, imagenet, wrn50-2, lid, df, aa, 99.8, 79.0\n",
      "it:1, imagenet, wrn50-2, lid, df, aa, 51.8, 49.4\n",
      "it:1, imagenet, wrn50-2, lid, df, cw, 54.1, 52.6\n",
      "it:1, imagenet, wrn50-2, lid, df, cw, 53.4, 52.6\n"
     ]
    },
    {
     "name": "stderr",
     "output_type": "stream",
     "text": [
      "/home/lorenzp/.conda/envs/cuda--11-1-1--pytorch--1-9-0/lib/python3.9/site-packages/sklearn/linear_model/_logistic.py:1523: UserWarning: 'n_jobs' > 1 does not have any effect when 'solver' is set to 'liblinear'. Got 'n_jobs' = 8.\n",
      "  warnings.warn(\n"
     ]
    },
    {
     "name": "stdout",
     "output_type": "stream",
     "text": [
      "it:1, imagenet, wrn50-2, lid, cw, fgsm, 55.9, 54.6\n",
      "it:1, imagenet, wrn50-2, lid, cw, fgsm, 50.9, 51.1\n",
      "it:1, imagenet, wrn50-2, lid, cw, bim, 90.4, 75.0\n",
      "it:1, imagenet, wrn50-2, lid, cw, bim, 72.6, 66.9\n",
      "it:1, imagenet, wrn50-2, lid, cw, pgd, 95.4, 78.5\n",
      "it:1, imagenet, wrn50-2, lid, cw, pgd, 76.7, 67.4\n",
      "it:1, imagenet, wrn50-2, lid, cw, aa, 99.9, 77.0\n",
      "it:1, imagenet, wrn50-2, lid, cw, aa, 68.5, 59.9\n",
      "it:1, imagenet, wrn50-2, lid, cw, df, 54.3, 52.5\n",
      "it:1, imagenet, wrn50-2, lid, cw, df, 54.8, 54.0\n"
     ]
    },
    {
     "name": "stderr",
     "output_type": "stream",
     "text": [
      "/home/lorenzp/.conda/envs/cuda--11-1-1--pytorch--1-9-0/lib/python3.9/site-packages/sklearn/linear_model/_logistic.py:1523: UserWarning: 'n_jobs' > 1 does not have any effect when 'solver' is set to 'liblinear'. Got 'n_jobs' = 8.\n",
      "  warnings.warn(\n"
     ]
    },
    {
     "name": "stdout",
     "output_type": "stream",
     "text": [
      "it:1, imagenet, wrn50-2, multilid, fgsm, bim, 70.6, 64.9\n",
      "it:1, imagenet, wrn50-2, multilid, fgsm, bim, 53.8, 51.4\n",
      "it:1, imagenet, wrn50-2, multilid, fgsm, pgd, 72.3, 67.8\n",
      "it:1, imagenet, wrn50-2, multilid, fgsm, pgd, 59.6, 57.1\n",
      "it:1, imagenet, wrn50-2, multilid, fgsm, aa, 71.8, 66.2\n",
      "it:1, imagenet, wrn50-2, multilid, fgsm, aa, 45.9, 45.4\n",
      "it:1, imagenet, wrn50-2, multilid, fgsm, df, 50.9, 51.2\n",
      "it:1, imagenet, wrn50-2, multilid, fgsm, df, 50.2, 49.6\n",
      "it:1, imagenet, wrn50-2, multilid, fgsm, cw, 52.0, 51.5\n",
      "it:1, imagenet, wrn50-2, multilid, fgsm, cw, 50.0, 50.4\n"
     ]
    },
    {
     "name": "stderr",
     "output_type": "stream",
     "text": [
      "/home/lorenzp/.conda/envs/cuda--11-1-1--pytorch--1-9-0/lib/python3.9/site-packages/sklearn/linear_model/_logistic.py:1523: UserWarning: 'n_jobs' > 1 does not have any effect when 'solver' is set to 'liblinear'. Got 'n_jobs' = 8.\n",
      "  warnings.warn(\n"
     ]
    },
    {
     "name": "stdout",
     "output_type": "stream",
     "text": [
      "it:1, imagenet, wrn50-2, multilid, bim, fgsm, 58.8, 53.1\n",
      "it:1, imagenet, wrn50-2, multilid, bim, fgsm, 54.0, 51.6\n",
      "it:1, imagenet, wrn50-2, multilid, bim, pgd, 92.1, 83.6\n",
      "it:1, imagenet, wrn50-2, multilid, bim, pgd, 94.2, 86.1\n",
      "it:1, imagenet, wrn50-2, multilid, bim, aa, 99.9, 95.8\n",
      "it:1, imagenet, wrn50-2, multilid, bim, aa, 99.3, 95.2\n",
      "it:1, imagenet, wrn50-2, multilid, bim, df, 53.6, 52.1\n",
      "it:1, imagenet, wrn50-2, multilid, bim, df, 54.2, 52.5\n",
      "it:1, imagenet, wrn50-2, multilid, bim, cw, 54.6, 51.2\n",
      "it:1, imagenet, wrn50-2, multilid, bim, cw, 53.7, 51.5\n"
     ]
    },
    {
     "name": "stderr",
     "output_type": "stream",
     "text": [
      "/home/lorenzp/.conda/envs/cuda--11-1-1--pytorch--1-9-0/lib/python3.9/site-packages/sklearn/linear_model/_logistic.py:1523: UserWarning: 'n_jobs' > 1 does not have any effect when 'solver' is set to 'liblinear'. Got 'n_jobs' = 8.\n",
      "  warnings.warn(\n"
     ]
    },
    {
     "name": "stdout",
     "output_type": "stream",
     "text": [
      "it:1, imagenet, wrn50-2, multilid, pgd, fgsm, 57.6, 53.0\n",
      "it:1, imagenet, wrn50-2, multilid, pgd, fgsm, 53.8, 51.9\n",
      "it:1, imagenet, wrn50-2, multilid, pgd, bim, 93.7, 84.8\n",
      "it:1, imagenet, wrn50-2, multilid, pgd, bim, 92.2, 81.9\n",
      "it:1, imagenet, wrn50-2, multilid, pgd, aa, 99.9, 93.9\n",
      "it:1, imagenet, wrn50-2, multilid, pgd, aa, 99.6, 95.9\n",
      "it:1, imagenet, wrn50-2, multilid, pgd, df, 53.9, 52.1\n",
      "it:1, imagenet, wrn50-2, multilid, pgd, df, 53.2, 52.5\n",
      "it:1, imagenet, wrn50-2, multilid, pgd, cw, 54.5, 51.9\n",
      "it:1, imagenet, wrn50-2, multilid, pgd, cw, 54.5, 50.6\n"
     ]
    },
    {
     "name": "stderr",
     "output_type": "stream",
     "text": [
      "/home/lorenzp/.conda/envs/cuda--11-1-1--pytorch--1-9-0/lib/python3.9/site-packages/sklearn/linear_model/_logistic.py:1523: UserWarning: 'n_jobs' > 1 does not have any effect when 'solver' is set to 'liblinear'. Got 'n_jobs' = 8.\n",
      "  warnings.warn(\n"
     ]
    },
    {
     "name": "stdout",
     "output_type": "stream",
     "text": [
      "it:1, imagenet, wrn50-2, multilid, aa, fgsm, 55.0, 50.0\n",
      "it:1, imagenet, wrn50-2, multilid, aa, fgsm, 52.7, 50.0\n",
      "it:1, imagenet, wrn50-2, multilid, aa, bim, 90.9, 72.4\n",
      "it:1, imagenet, wrn50-2, multilid, aa, bim, 86.7, 61.8\n",
      "it:1, imagenet, wrn50-2, multilid, aa, pgd, 93.0, 78.6\n",
      "it:1, imagenet, wrn50-2, multilid, aa, pgd, 89.2, 71.5\n",
      "it:1, imagenet, wrn50-2, multilid, aa, df, 53.3, 50.7\n",
      "it:1, imagenet, wrn50-2, multilid, aa, df, 52.5, 50.1\n",
      "it:1, imagenet, wrn50-2, multilid, aa, cw, 54.3, 50.4\n",
      "it:1, imagenet, wrn50-2, multilid, aa, cw, 52.2, 50.1\n"
     ]
    },
    {
     "name": "stderr",
     "output_type": "stream",
     "text": [
      "/home/lorenzp/.conda/envs/cuda--11-1-1--pytorch--1-9-0/lib/python3.9/site-packages/sklearn/linear_model/_logistic.py:1523: UserWarning: 'n_jobs' > 1 does not have any effect when 'solver' is set to 'liblinear'. Got 'n_jobs' = 8.\n",
      "  warnings.warn(\n"
     ]
    },
    {
     "name": "stdout",
     "output_type": "stream",
     "text": [
      "it:1, imagenet, wrn50-2, multilid, df, fgsm, 59.7, 57.2\n",
      "it:1, imagenet, wrn50-2, multilid, df, fgsm, 55.3, 52.4\n",
      "it:1, imagenet, wrn50-2, multilid, df, bim, 89.1, 74.4\n",
      "it:1, imagenet, wrn50-2, multilid, df, bim, 75.4, 68.6\n",
      "it:1, imagenet, wrn50-2, multilid, df, pgd, 85.8, 73.0\n",
      "it:1, imagenet, wrn50-2, multilid, df, pgd, 80.3, 71.6\n",
      "it:1, imagenet, wrn50-2, multilid, df, aa, 97.6, 78.9\n",
      "it:1, imagenet, wrn50-2, multilid, df, aa, 82.8, 73.0\n",
      "it:1, imagenet, wrn50-2, multilid, df, cw, 53.1, 51.6\n",
      "it:1, imagenet, wrn50-2, multilid, df, cw, 53.4, 52.0\n"
     ]
    },
    {
     "name": "stderr",
     "output_type": "stream",
     "text": [
      "/home/lorenzp/.conda/envs/cuda--11-1-1--pytorch--1-9-0/lib/python3.9/site-packages/sklearn/linear_model/_logistic.py:1523: UserWarning: 'n_jobs' > 1 does not have any effect when 'solver' is set to 'liblinear'. Got 'n_jobs' = 8.\n",
      "  warnings.warn(\n"
     ]
    },
    {
     "name": "stdout",
     "output_type": "stream",
     "text": [
      "it:1, imagenet, wrn50-2, multilid, cw, fgsm, 61.3, 58.9\n",
      "it:1, imagenet, wrn50-2, multilid, cw, fgsm, 54.1, 53.6\n",
      "it:1, imagenet, wrn50-2, multilid, cw, bim, 89.1, 74.5\n",
      "it:1, imagenet, wrn50-2, multilid, cw, bim, 80.5, 68.5\n",
      "it:1, imagenet, wrn50-2, multilid, cw, pgd, 85.6, 73.8\n",
      "it:1, imagenet, wrn50-2, multilid, cw, pgd, 87.1, 75.9\n",
      "it:1, imagenet, wrn50-2, multilid, cw, aa, 98.1, 76.8\n",
      "it:1, imagenet, wrn50-2, multilid, cw, aa, 97.6, 73.8\n",
      "it:1, imagenet, wrn50-2, multilid, cw, df, 53.6, 51.2\n",
      "it:1, imagenet, wrn50-2, multilid, cw, df, 51.5, 52.0\n"
     ]
    },
    {
     "name": "stderr",
     "output_type": "stream",
     "text": [
      "/home/lorenzp/.conda/envs/cuda--11-1-1--pytorch--1-9-0/lib/python3.9/site-packages/sklearn/linear_model/_logistic.py:1523: UserWarning: 'n_jobs' > 1 does not have any effect when 'solver' is set to 'liblinear'. Got 'n_jobs' = 8.\n",
      "  warnings.warn(\n"
     ]
    },
    {
     "name": "stdout",
     "output_type": "stream",
     "text": [
      "it:2, cifar10, wrn28-10, lid, fgsm, bim, 53.2, 50.7\n",
      "it:2, cifar10, wrn28-10, lid, fgsm, bim, 51.6, 51.2\n",
      "it:2, cifar10, wrn28-10, lid, fgsm, pgd, 55.3, 53.9\n",
      "it:2, cifar10, wrn28-10, lid, fgsm, pgd, 51.7, 49.4\n",
      "it:2, cifar10, wrn28-10, lid, fgsm, aa, 56.8, 54.1\n",
      "it:2, cifar10, wrn28-10, lid, fgsm, aa, 60.8, 57.5\n",
      "it:2, cifar10, wrn28-10, lid, fgsm, df, 80.5, 61.8\n",
      "it:2, cifar10, wrn28-10, lid, fgsm, df, 80.3, 64.6\n",
      "it:2, cifar10, wrn28-10, lid, fgsm, cw, 76.9, 61.4\n",
      "it:2, cifar10, wrn28-10, lid, fgsm, cw, 75.1, 61.3\n"
     ]
    },
    {
     "name": "stderr",
     "output_type": "stream",
     "text": [
      "/home/lorenzp/.conda/envs/cuda--11-1-1--pytorch--1-9-0/lib/python3.9/site-packages/sklearn/linear_model/_logistic.py:1523: UserWarning: 'n_jobs' > 1 does not have any effect when 'solver' is set to 'liblinear'. Got 'n_jobs' = 8.\n",
      "  warnings.warn(\n"
     ]
    },
    {
     "name": "stdout",
     "output_type": "stream",
     "text": [
      "it:2, cifar10, wrn28-10, lid, bim, fgsm, 72.6, 51.2\n",
      "it:2, cifar10, wrn28-10, lid, bim, fgsm, 34.2, 41.5\n",
      "it:2, cifar10, wrn28-10, lid, bim, pgd, 87.4, 78.6\n",
      "it:2, cifar10, wrn28-10, lid, bim, pgd, 91.5, 84.6\n",
      "it:2, cifar10, wrn28-10, lid, bim, aa, 94.4, 86.1\n",
      "it:2, cifar10, wrn28-10, lid, bim, aa, 94.6, 89.5\n",
      "it:2, cifar10, wrn28-10, lid, bim, df, 54.3, 50.7\n",
      "it:2, cifar10, wrn28-10, lid, bim, df, 55.7, 53.1\n",
      "it:2, cifar10, wrn28-10, lid, bim, cw, 48.7, 50.0\n",
      "it:2, cifar10, wrn28-10, lid, bim, cw, 50.9, 51.0\n"
     ]
    },
    {
     "name": "stderr",
     "output_type": "stream",
     "text": [
      "/home/lorenzp/.conda/envs/cuda--11-1-1--pytorch--1-9-0/lib/python3.9/site-packages/sklearn/linear_model/_logistic.py:1523: UserWarning: 'n_jobs' > 1 does not have any effect when 'solver' is set to 'liblinear'. Got 'n_jobs' = 8.\n",
      "  warnings.warn(\n"
     ]
    },
    {
     "name": "stdout",
     "output_type": "stream",
     "text": [
      "it:2, cifar10, wrn28-10, lid, pgd, fgsm, 74.0, 50.1\n",
      "it:2, cifar10, wrn28-10, lid, pgd, fgsm, 44.8, 47.6\n",
      "it:2, cifar10, wrn28-10, lid, pgd, bim, 87.4, 80.2\n",
      "it:2, cifar10, wrn28-10, lid, pgd, bim, 87.7, 80.1\n",
      "it:2, cifar10, wrn28-10, lid, pgd, aa, 96.3, 88.5\n",
      "it:2, cifar10, wrn28-10, lid, pgd, aa, 95.7, 89.6\n",
      "it:2, cifar10, wrn28-10, lid, pgd, df, 53.7, 50.1\n",
      "it:2, cifar10, wrn28-10, lid, pgd, df, 56.9, 52.5\n",
      "it:2, cifar10, wrn28-10, lid, pgd, cw, 49.2, 50.0\n",
      "it:2, cifar10, wrn28-10, lid, pgd, cw, 51.5, 50.5\n"
     ]
    },
    {
     "name": "stderr",
     "output_type": "stream",
     "text": [
      "/home/lorenzp/.conda/envs/cuda--11-1-1--pytorch--1-9-0/lib/python3.9/site-packages/sklearn/linear_model/_logistic.py:1523: UserWarning: 'n_jobs' > 1 does not have any effect when 'solver' is set to 'liblinear'. Got 'n_jobs' = 8.\n",
      "  warnings.warn(\n"
     ]
    },
    {
     "name": "stdout",
     "output_type": "stream",
     "text": [
      "it:2, cifar10, wrn28-10, lid, aa, fgsm, 75.0, 50.6\n",
      "it:2, cifar10, wrn28-10, lid, aa, fgsm, 44.3, 47.2\n",
      "it:2, cifar10, wrn28-10, lid, aa, bim, 86.4, 73.2\n",
      "it:2, cifar10, wrn28-10, lid, aa, bim, 87.9, 73.8\n",
      "it:2, cifar10, wrn28-10, lid, aa, pgd, 89.4, 76.4\n",
      "it:2, cifar10, wrn28-10, lid, aa, pgd, 92.1, 80.8\n",
      "it:2, cifar10, wrn28-10, lid, aa, df, 54.4, 50.4\n",
      "it:2, cifar10, wrn28-10, lid, aa, df, 58.8, 53.8\n",
      "it:2, cifar10, wrn28-10, lid, aa, cw, 49.7, 50.0\n",
      "it:2, cifar10, wrn28-10, lid, aa, cw, 51.4, 50.5\n"
     ]
    },
    {
     "name": "stderr",
     "output_type": "stream",
     "text": [
      "/home/lorenzp/.conda/envs/cuda--11-1-1--pytorch--1-9-0/lib/python3.9/site-packages/sklearn/linear_model/_logistic.py:1523: UserWarning: 'n_jobs' > 1 does not have any effect when 'solver' is set to 'liblinear'. Got 'n_jobs' = 8.\n",
      "  warnings.warn(\n"
     ]
    },
    {
     "name": "stdout",
     "output_type": "stream",
     "text": [
      "it:2, cifar10, wrn28-10, lid, df, fgsm, 89.1, 79.6\n",
      "it:2, cifar10, wrn28-10, lid, df, fgsm, 87.3, 78.2\n",
      "it:2, cifar10, wrn28-10, lid, df, bim, 61.2, 50.0\n",
      "it:2, cifar10, wrn28-10, lid, df, bim, 53.4, 50.0\n",
      "it:2, cifar10, wrn28-10, lid, df, pgd, 60.6, 50.0\n",
      "it:2, cifar10, wrn28-10, lid, df, pgd, 57.1, 50.0\n",
      "it:2, cifar10, wrn28-10, lid, df, aa, 61.8, 50.1\n",
      "it:2, cifar10, wrn28-10, lid, df, aa, 58.3, 50.0\n",
      "it:2, cifar10, wrn28-10, lid, df, cw, 92.1, 83.1\n",
      "it:2, cifar10, wrn28-10, lid, df, cw, 92.8, 87.8\n"
     ]
    },
    {
     "name": "stderr",
     "output_type": "stream",
     "text": [
      "/home/lorenzp/.conda/envs/cuda--11-1-1--pytorch--1-9-0/lib/python3.9/site-packages/sklearn/linear_model/_logistic.py:1523: UserWarning: 'n_jobs' > 1 does not have any effect when 'solver' is set to 'liblinear'. Got 'n_jobs' = 8.\n",
      "  warnings.warn(\n"
     ]
    },
    {
     "name": "stdout",
     "output_type": "stream",
     "text": [
      "it:2, cifar10, wrn28-10, lid, cw, fgsm, 86.7, 77.6\n",
      "it:2, cifar10, wrn28-10, lid, cw, fgsm, 84.1, 76.9\n",
      "it:2, cifar10, wrn28-10, lid, cw, bim, 61.0, 50.0\n",
      "it:2, cifar10, wrn28-10, lid, cw, bim, 40.0, 49.9\n",
      "it:2, cifar10, wrn28-10, lid, cw, pgd, 60.6, 50.0\n",
      "it:2, cifar10, wrn28-10, lid, cw, pgd, 45.1, 50.0\n",
      "it:2, cifar10, wrn28-10, lid, cw, aa, 61.7, 50.0\n",
      "it:2, cifar10, wrn28-10, lid, cw, aa, 54.3, 49.9\n",
      "it:2, cifar10, wrn28-10, lid, cw, df, 94.2, 87.1\n",
      "it:2, cifar10, wrn28-10, lid, cw, df, 94.3, 87.9\n"
     ]
    },
    {
     "name": "stderr",
     "output_type": "stream",
     "text": [
      "/home/lorenzp/.conda/envs/cuda--11-1-1--pytorch--1-9-0/lib/python3.9/site-packages/sklearn/linear_model/_logistic.py:1523: UserWarning: 'n_jobs' > 1 does not have any effect when 'solver' is set to 'liblinear'. Got 'n_jobs' = 8.\n",
      "  warnings.warn(\n"
     ]
    },
    {
     "name": "stdout",
     "output_type": "stream",
     "text": [
      "it:2, cifar10, wrn28-10, multilid, fgsm, bim, 68.2, 49.9\n",
      "it:2, cifar10, wrn28-10, multilid, fgsm, bim, 50.5, 49.1\n",
      "it:2, cifar10, wrn28-10, multilid, fgsm, pgd, 88.6, 70.9\n",
      "it:2, cifar10, wrn28-10, multilid, fgsm, pgd, 84.7, 66.4\n",
      "it:2, cifar10, wrn28-10, multilid, fgsm, aa, 83.5, 53.8\n",
      "it:2, cifar10, wrn28-10, multilid, fgsm, aa, 56.3, 53.9\n",
      "it:2, cifar10, wrn28-10, multilid, fgsm, df, 84.6, 71.0\n",
      "it:2, cifar10, wrn28-10, multilid, fgsm, df, 85.7, 71.4\n",
      "it:2, cifar10, wrn28-10, multilid, fgsm, cw, 79.8, 65.6\n",
      "it:2, cifar10, wrn28-10, multilid, fgsm, cw, 82.8, 65.5\n"
     ]
    },
    {
     "name": "stderr",
     "output_type": "stream",
     "text": [
      "/home/lorenzp/.conda/envs/cuda--11-1-1--pytorch--1-9-0/lib/python3.9/site-packages/sklearn/linear_model/_logistic.py:1523: UserWarning: 'n_jobs' > 1 does not have any effect when 'solver' is set to 'liblinear'. Got 'n_jobs' = 8.\n",
      "  warnings.warn(\n"
     ]
    },
    {
     "name": "stdout",
     "output_type": "stream",
     "text": [
      "it:2, cifar10, wrn28-10, multilid, bim, fgsm, 18.7, 48.9\n",
      "it:2, cifar10, wrn28-10, multilid, bim, fgsm, 52.7, 51.1\n",
      "it:2, cifar10, wrn28-10, multilid, bim, pgd, 18.9, 50.4\n",
      "it:2, cifar10, wrn28-10, multilid, bim, pgd, 55.8, 54.2\n",
      "it:2, cifar10, wrn28-10, multilid, bim, aa, 99.4, 93.1\n",
      "it:2, cifar10, wrn28-10, multilid, bim, aa, 95.9, 91.6\n",
      "it:2, cifar10, wrn28-10, multilid, bim, df, 4.3, 46.8\n",
      "it:2, cifar10, wrn28-10, multilid, bim, df, 54.8, 52.6\n",
      "it:2, cifar10, wrn28-10, multilid, bim, cw, 4.1, 44.2\n",
      "it:2, cifar10, wrn28-10, multilid, bim, cw, 49.6, 49.9\n"
     ]
    },
    {
     "name": "stderr",
     "output_type": "stream",
     "text": [
      "/home/lorenzp/.conda/envs/cuda--11-1-1--pytorch--1-9-0/lib/python3.9/site-packages/sklearn/linear_model/_logistic.py:1523: UserWarning: 'n_jobs' > 1 does not have any effect when 'solver' is set to 'liblinear'. Got 'n_jobs' = 8.\n",
      "  warnings.warn(\n"
     ]
    },
    {
     "name": "stdout",
     "output_type": "stream",
     "text": [
      "it:2, cifar10, wrn28-10, multilid, pgd, fgsm, 93.2, 86.6\n",
      "it:2, cifar10, wrn28-10, multilid, pgd, fgsm, 84.5, 71.0\n",
      "it:2, cifar10, wrn28-10, multilid, pgd, bim, 27.8, 50.6\n",
      "it:2, cifar10, wrn28-10, multilid, pgd, bim, 58.9, 55.6\n",
      "it:2, cifar10, wrn28-10, multilid, pgd, aa, 12.2, 50.1\n",
      "it:2, cifar10, wrn28-10, multilid, pgd, aa, 58.6, 57.8\n",
      "it:2, cifar10, wrn28-10, multilid, pgd, df, 88.8, 79.9\n",
      "it:2, cifar10, wrn28-10, multilid, pgd, df, 85.3, 57.4\n",
      "it:2, cifar10, wrn28-10, multilid, pgd, cw, 84.8, 76.2\n",
      "it:2, cifar10, wrn28-10, multilid, pgd, cw, 85.7, 56.2\n"
     ]
    },
    {
     "name": "stderr",
     "output_type": "stream",
     "text": [
      "/home/lorenzp/.conda/envs/cuda--11-1-1--pytorch--1-9-0/lib/python3.9/site-packages/sklearn/linear_model/_logistic.py:1523: UserWarning: 'n_jobs' > 1 does not have any effect when 'solver' is set to 'liblinear'. Got 'n_jobs' = 8.\n",
      "  warnings.warn(\n"
     ]
    },
    {
     "name": "stdout",
     "output_type": "stream",
     "text": [
      "it:2, cifar10, wrn28-10, multilid, aa, fgsm, 21.3, 49.2\n",
      "it:2, cifar10, wrn28-10, multilid, aa, fgsm, 55.1, 55.1\n",
      "it:2, cifar10, wrn28-10, multilid, aa, bim, 91.9, 82.1\n",
      "it:2, cifar10, wrn28-10, multilid, aa, bim, 84.6, 60.9\n",
      "it:2, cifar10, wrn28-10, multilid, aa, pgd, 21.5, 50.1\n",
      "it:2, cifar10, wrn28-10, multilid, aa, pgd, 56.1, 56.4\n",
      "it:2, cifar10, wrn28-10, multilid, aa, df, 8.0, 47.8\n",
      "it:2, cifar10, wrn28-10, multilid, aa, df, 56.5, 53.0\n",
      "it:2, cifar10, wrn28-10, multilid, aa, cw, 5.6, 47.2\n",
      "it:2, cifar10, wrn28-10, multilid, aa, cw, 50.9, 50.7\n"
     ]
    },
    {
     "name": "stderr",
     "output_type": "stream",
     "text": [
      "/home/lorenzp/.conda/envs/cuda--11-1-1--pytorch--1-9-0/lib/python3.9/site-packages/sklearn/linear_model/_logistic.py:1523: UserWarning: 'n_jobs' > 1 does not have any effect when 'solver' is set to 'liblinear'. Got 'n_jobs' = 8.\n",
      "  warnings.warn(\n"
     ]
    },
    {
     "name": "stdout",
     "output_type": "stream",
     "text": [
      "it:2, cifar10, wrn28-10, multilid, df, fgsm, 88.8, 80.9\n",
      "it:2, cifar10, wrn28-10, multilid, df, fgsm, 88.1, 79.8\n",
      "it:2, cifar10, wrn28-10, multilid, df, bim, 25.4, 50.0\n",
      "it:2, cifar10, wrn28-10, multilid, df, bim, 46.3, 50.0\n",
      "it:2, cifar10, wrn28-10, multilid, df, pgd, 85.8, 69.8\n",
      "it:2, cifar10, wrn28-10, multilid, df, pgd, 81.5, 55.5\n",
      "it:2, cifar10, wrn28-10, multilid, df, aa, 10.1, 50.0\n",
      "it:2, cifar10, wrn28-10, multilid, df, aa, 51.7, 50.0\n",
      "it:2, cifar10, wrn28-10, multilid, df, cw, 98.1, 93.0\n",
      "it:2, cifar10, wrn28-10, multilid, df, cw, 97.6, 94.9\n"
     ]
    },
    {
     "name": "stderr",
     "output_type": "stream",
     "text": [
      "/home/lorenzp/.conda/envs/cuda--11-1-1--pytorch--1-9-0/lib/python3.9/site-packages/sklearn/linear_model/_logistic.py:1523: UserWarning: 'n_jobs' > 1 does not have any effect when 'solver' is set to 'liblinear'. Got 'n_jobs' = 8.\n",
      "  warnings.warn(\n"
     ]
    },
    {
     "name": "stdout",
     "output_type": "stream",
     "text": [
      "it:2, cifar10, wrn28-10, multilid, cw, fgsm, 87.7, 79.9\n",
      "it:2, cifar10, wrn28-10, multilid, cw, fgsm, 87.1, 79.0\n",
      "it:2, cifar10, wrn28-10, multilid, cw, bim, 32.5, 50.0\n",
      "it:2, cifar10, wrn28-10, multilid, cw, bim, 40.2, 49.5\n",
      "it:2, cifar10, wrn28-10, multilid, cw, pgd, 84.8, 64.8\n",
      "it:2, cifar10, wrn28-10, multilid, cw, pgd, 77.2, 53.9\n",
      "it:2, cifar10, wrn28-10, multilid, cw, aa, 11.7, 50.0\n",
      "it:2, cifar10, wrn28-10, multilid, cw, aa, 42.6, 50.0\n",
      "it:2, cifar10, wrn28-10, multilid, cw, df, 97.3, 93.2\n",
      "it:2, cifar10, wrn28-10, multilid, cw, df, 97.2, 94.0\n"
     ]
    },
    {
     "name": "stderr",
     "output_type": "stream",
     "text": [
      "/home/lorenzp/.conda/envs/cuda--11-1-1--pytorch--1-9-0/lib/python3.9/site-packages/sklearn/linear_model/_logistic.py:1523: UserWarning: 'n_jobs' > 1 does not have any effect when 'solver' is set to 'liblinear'. Got 'n_jobs' = 8.\n",
      "  warnings.warn(\n"
     ]
    },
    {
     "name": "stdout",
     "output_type": "stream",
     "text": [
      "it:2, cifar10, vgg16, lid, fgsm, bim, 81.7, 74.9\n",
      "it:2, cifar10, vgg16, lid, fgsm, bim, 79.1, 69.5\n",
      "it:2, cifar10, vgg16, lid, fgsm, pgd, 79.6, 73.2\n",
      "it:2, cifar10, vgg16, lid, fgsm, pgd, 75.8, 68.5\n",
      "it:2, cifar10, vgg16, lid, fgsm, aa, 92.2, 84.0\n",
      "it:2, cifar10, vgg16, lid, fgsm, aa, 87.2, 78.6\n",
      "it:2, cifar10, vgg16, lid, fgsm, df, 79.1, 69.9\n",
      "it:2, cifar10, vgg16, lid, fgsm, df, 76.2, 66.2\n",
      "it:2, cifar10, vgg16, lid, fgsm, cw, 75.5, 66.5\n",
      "it:2, cifar10, vgg16, lid, fgsm, cw, 73.8, 65.1\n"
     ]
    },
    {
     "name": "stderr",
     "output_type": "stream",
     "text": [
      "/home/lorenzp/.conda/envs/cuda--11-1-1--pytorch--1-9-0/lib/python3.9/site-packages/sklearn/linear_model/_logistic.py:1523: UserWarning: 'n_jobs' > 1 does not have any effect when 'solver' is set to 'liblinear'. Got 'n_jobs' = 8.\n",
      "  warnings.warn(\n"
     ]
    },
    {
     "name": "stdout",
     "output_type": "stream",
     "text": [
      "it:2, cifar10, vgg16, lid, bim, fgsm, 81.3, 73.5\n",
      "it:2, cifar10, vgg16, lid, bim, fgsm, 76.1, 64.5\n",
      "it:2, cifar10, vgg16, lid, bim, pgd, 85.2, 74.5\n",
      "it:2, cifar10, vgg16, lid, bim, pgd, 91.2, 83.2\n",
      "it:2, cifar10, vgg16, lid, bim, aa, 94.9, 87.9\n",
      "it:2, cifar10, vgg16, lid, bim, aa, 97.0, 91.2\n",
      "it:2, cifar10, vgg16, lid, bim, df, 80.5, 71.6\n",
      "it:2, cifar10, vgg16, lid, bim, df, 74.9, 63.6\n",
      "it:2, cifar10, vgg16, lid, bim, cw, 77.4, 68.2\n",
      "it:2, cifar10, vgg16, lid, bim, cw, 74.9, 61.1\n"
     ]
    },
    {
     "name": "stderr",
     "output_type": "stream",
     "text": [
      "/home/lorenzp/.conda/envs/cuda--11-1-1--pytorch--1-9-0/lib/python3.9/site-packages/sklearn/linear_model/_logistic.py:1523: UserWarning: 'n_jobs' > 1 does not have any effect when 'solver' is set to 'liblinear'. Got 'n_jobs' = 8.\n",
      "  warnings.warn(\n"
     ]
    },
    {
     "name": "stdout",
     "output_type": "stream",
     "text": [
      "it:2, cifar10, vgg16, lid, pgd, fgsm, 81.4, 74.4\n",
      "it:2, cifar10, vgg16, lid, pgd, fgsm, 74.6, 66.6\n",
      "it:2, cifar10, vgg16, lid, pgd, bim, 88.9, 80.4\n",
      "it:2, cifar10, vgg16, lid, pgd, bim, 93.4, 85.9\n",
      "it:2, cifar10, vgg16, lid, pgd, aa, 94.8, 87.9\n",
      "it:2, cifar10, vgg16, lid, pgd, aa, 96.9, 88.9\n",
      "it:2, cifar10, vgg16, lid, pgd, df, 78.6, 70.4\n",
      "it:2, cifar10, vgg16, lid, pgd, df, 72.6, 62.9\n",
      "it:2, cifar10, vgg16, lid, pgd, cw, 76.1, 68.0\n",
      "it:2, cifar10, vgg16, lid, pgd, cw, 73.0, 63.1\n"
     ]
    },
    {
     "name": "stderr",
     "output_type": "stream",
     "text": [
      "/home/lorenzp/.conda/envs/cuda--11-1-1--pytorch--1-9-0/lib/python3.9/site-packages/sklearn/linear_model/_logistic.py:1523: UserWarning: 'n_jobs' > 1 does not have any effect when 'solver' is set to 'liblinear'. Got 'n_jobs' = 8.\n",
      "  warnings.warn(\n"
     ]
    },
    {
     "name": "stdout",
     "output_type": "stream",
     "text": [
      "it:2, cifar10, vgg16, lid, aa, fgsm, 82.4, 71.2\n",
      "it:2, cifar10, vgg16, lid, aa, fgsm, 78.8, 63.6\n",
      "it:2, cifar10, vgg16, lid, aa, bim, 87.6, 74.8\n",
      "it:2, cifar10, vgg16, lid, aa, bim, 92.1, 82.2\n",
      "it:2, cifar10, vgg16, lid, aa, pgd, 84.2, 70.8\n",
      "it:2, cifar10, vgg16, lid, aa, pgd, 88.9, 79.0\n",
      "it:2, cifar10, vgg16, lid, aa, df, 80.9, 67.4\n",
      "it:2, cifar10, vgg16, lid, aa, df, 79.8, 64.5\n",
      "it:2, cifar10, vgg16, lid, aa, cw, 77.2, 62.6\n",
      "it:2, cifar10, vgg16, lid, aa, cw, 77.0, 60.0\n"
     ]
    },
    {
     "name": "stderr",
     "output_type": "stream",
     "text": [
      "/home/lorenzp/.conda/envs/cuda--11-1-1--pytorch--1-9-0/lib/python3.9/site-packages/sklearn/linear_model/_logistic.py:1523: UserWarning: 'n_jobs' > 1 does not have any effect when 'solver' is set to 'liblinear'. Got 'n_jobs' = 8.\n",
      "  warnings.warn(\n"
     ]
    },
    {
     "name": "stdout",
     "output_type": "stream",
     "text": [
      "it:2, cifar10, vgg16, lid, df, fgsm, 81.3, 72.4\n",
      "it:2, cifar10, vgg16, lid, df, fgsm, 79.9, 72.6\n",
      "it:2, cifar10, vgg16, lid, df, bim, 84.7, 78.4\n",
      "it:2, cifar10, vgg16, lid, df, bim, 83.0, 76.4\n",
      "it:2, cifar10, vgg16, lid, df, pgd, 81.3, 75.1\n",
      "it:2, cifar10, vgg16, lid, df, pgd, 80.1, 74.9\n",
      "it:2, cifar10, vgg16, lid, df, aa, 93.6, 85.5\n",
      "it:2, cifar10, vgg16, lid, df, aa, 92.0, 82.2\n",
      "it:2, cifar10, vgg16, lid, df, cw, 81.9, 74.6\n",
      "it:2, cifar10, vgg16, lid, df, cw, 82.1, 76.4\n"
     ]
    },
    {
     "name": "stderr",
     "output_type": "stream",
     "text": [
      "/home/lorenzp/.conda/envs/cuda--11-1-1--pytorch--1-9-0/lib/python3.9/site-packages/sklearn/linear_model/_logistic.py:1523: UserWarning: 'n_jobs' > 1 does not have any effect when 'solver' is set to 'liblinear'. Got 'n_jobs' = 8.\n",
      "  warnings.warn(\n"
     ]
    },
    {
     "name": "stdout",
     "output_type": "stream",
     "text": [
      "it:2, cifar10, vgg16, lid, cw, fgsm, 80.0, 72.2\n",
      "it:2, cifar10, vgg16, lid, cw, fgsm, 77.6, 71.4\n",
      "it:2, cifar10, vgg16, lid, cw, bim, 85.1, 79.0\n",
      "it:2, cifar10, vgg16, lid, cw, bim, 79.3, 73.1\n",
      "it:2, cifar10, vgg16, lid, cw, pgd, 81.6, 76.2\n",
      "it:2, cifar10, vgg16, lid, cw, pgd, 77.6, 72.5\n",
      "it:2, cifar10, vgg16, lid, cw, aa, 93.6, 85.5\n",
      "it:2, cifar10, vgg16, lid, cw, aa, 86.5, 80.8\n",
      "it:2, cifar10, vgg16, lid, cw, df, 86.5, 78.2\n",
      "it:2, cifar10, vgg16, lid, cw, df, 85.7, 79.0\n"
     ]
    },
    {
     "name": "stderr",
     "output_type": "stream",
     "text": [
      "/home/lorenzp/.conda/envs/cuda--11-1-1--pytorch--1-9-0/lib/python3.9/site-packages/sklearn/linear_model/_logistic.py:1523: UserWarning: 'n_jobs' > 1 does not have any effect when 'solver' is set to 'liblinear'. Got 'n_jobs' = 8.\n",
      "  warnings.warn(\n"
     ]
    },
    {
     "name": "stdout",
     "output_type": "stream",
     "text": [
      "it:2, cifar10, vgg16, multilid, fgsm, bim, 78.6, 68.5\n",
      "it:2, cifar10, vgg16, multilid, fgsm, bim, 77.6, 67.1\n",
      "it:2, cifar10, vgg16, multilid, fgsm, pgd, 75.3, 67.6\n",
      "it:2, cifar10, vgg16, multilid, fgsm, pgd, 75.7, 66.1\n",
      "it:2, cifar10, vgg16, multilid, fgsm, aa, 88.5, 81.4\n",
      "it:2, cifar10, vgg16, multilid, fgsm, aa, 88.1, 79.8\n",
      "it:2, cifar10, vgg16, multilid, fgsm, df, 76.7, 68.9\n",
      "it:2, cifar10, vgg16, multilid, fgsm, df, 80.2, 71.8\n",
      "it:2, cifar10, vgg16, multilid, fgsm, cw, 77.5, 66.5\n",
      "it:2, cifar10, vgg16, multilid, fgsm, cw, 80.3, 68.8\n"
     ]
    },
    {
     "name": "stderr",
     "output_type": "stream",
     "text": [
      "/home/lorenzp/.conda/envs/cuda--11-1-1--pytorch--1-9-0/lib/python3.9/site-packages/sklearn/linear_model/_logistic.py:1523: UserWarning: 'n_jobs' > 1 does not have any effect when 'solver' is set to 'liblinear'. Got 'n_jobs' = 8.\n",
      "  warnings.warn(\n"
     ]
    },
    {
     "name": "stdout",
     "output_type": "stream",
     "text": [
      "it:2, cifar10, vgg16, multilid, bim, fgsm, 80.0, 70.6\n",
      "it:2, cifar10, vgg16, multilid, bim, fgsm, 68.0, 58.4\n",
      "it:2, cifar10, vgg16, multilid, bim, pgd, 89.9, 83.4\n",
      "it:2, cifar10, vgg16, multilid, bim, pgd, 91.4, 84.0\n",
      "it:2, cifar10, vgg16, multilid, bim, aa, 96.9, 90.5\n",
      "it:2, cifar10, vgg16, multilid, bim, aa, 96.3, 91.2\n",
      "it:2, cifar10, vgg16, multilid, bim, df, 67.7, 62.7\n",
      "it:2, cifar10, vgg16, multilid, bim, df, 63.1, 53.5\n",
      "it:2, cifar10, vgg16, multilid, bim, cw, 67.8, 58.8\n",
      "it:2, cifar10, vgg16, multilid, bim, cw, 63.3, 51.1\n"
     ]
    },
    {
     "name": "stderr",
     "output_type": "stream",
     "text": [
      "/home/lorenzp/.conda/envs/cuda--11-1-1--pytorch--1-9-0/lib/python3.9/site-packages/sklearn/linear_model/_logistic.py:1523: UserWarning: 'n_jobs' > 1 does not have any effect when 'solver' is set to 'liblinear'. Got 'n_jobs' = 8.\n",
      "  warnings.warn(\n"
     ]
    },
    {
     "name": "stdout",
     "output_type": "stream",
     "text": [
      "it:2, cifar10, vgg16, multilid, pgd, fgsm, 81.2, 72.0\n",
      "it:2, cifar10, vgg16, multilid, pgd, fgsm, 66.0, 58.2\n",
      "it:2, cifar10, vgg16, multilid, pgd, bim, 94.1, 85.8\n",
      "it:2, cifar10, vgg16, multilid, pgd, bim, 94.3, 87.1\n",
      "it:2, cifar10, vgg16, multilid, pgd, aa, 96.8, 88.4\n",
      "it:2, cifar10, vgg16, multilid, pgd, aa, 96.1, 90.4\n",
      "it:2, cifar10, vgg16, multilid, pgd, df, 69.1, 62.9\n",
      "it:2, cifar10, vgg16, multilid, pgd, df, 54.6, 51.1\n",
      "it:2, cifar10, vgg16, multilid, pgd, cw, 69.2, 59.0\n",
      "it:2, cifar10, vgg16, multilid, pgd, cw, 55.7, 49.9\n"
     ]
    },
    {
     "name": "stderr",
     "output_type": "stream",
     "text": [
      "/home/lorenzp/.conda/envs/cuda--11-1-1--pytorch--1-9-0/lib/python3.9/site-packages/sklearn/linear_model/_logistic.py:1523: UserWarning: 'n_jobs' > 1 does not have any effect when 'solver' is set to 'liblinear'. Got 'n_jobs' = 8.\n",
      "  warnings.warn(\n"
     ]
    },
    {
     "name": "stdout",
     "output_type": "stream",
     "text": [
      "it:2, cifar10, vgg16, multilid, aa, fgsm, 85.0, 72.2\n",
      "it:2, cifar10, vgg16, multilid, aa, fgsm, 80.3, 59.4\n",
      "it:2, cifar10, vgg16, multilid, aa, bim, 93.0, 85.5\n",
      "it:2, cifar10, vgg16, multilid, aa, bim, 93.0, 84.9\n",
      "it:2, cifar10, vgg16, multilid, aa, pgd, 88.7, 82.2\n",
      "it:2, cifar10, vgg16, multilid, aa, pgd, 89.2, 80.1\n",
      "it:2, cifar10, vgg16, multilid, aa, df, 74.7, 63.1\n",
      "it:2, cifar10, vgg16, multilid, aa, df, 79.9, 55.4\n",
      "it:2, cifar10, vgg16, multilid, aa, cw, 75.1, 61.4\n",
      "it:2, cifar10, vgg16, multilid, aa, cw, 77.8, 53.5\n"
     ]
    },
    {
     "name": "stderr",
     "output_type": "stream",
     "text": [
      "/home/lorenzp/.conda/envs/cuda--11-1-1--pytorch--1-9-0/lib/python3.9/site-packages/sklearn/linear_model/_logistic.py:1523: UserWarning: 'n_jobs' > 1 does not have any effect when 'solver' is set to 'liblinear'. Got 'n_jobs' = 8.\n",
      "  warnings.warn(\n"
     ]
    },
    {
     "name": "stdout",
     "output_type": "stream",
     "text": [
      "it:2, cifar10, vgg16, multilid, df, fgsm, 81.1, 72.2\n",
      "it:2, cifar10, vgg16, multilid, df, fgsm, 80.9, 72.8\n",
      "it:2, cifar10, vgg16, multilid, df, bim, 79.1, 71.6\n",
      "it:2, cifar10, vgg16, multilid, df, bim, 73.4, 62.5\n",
      "it:2, cifar10, vgg16, multilid, df, pgd, 73.8, 68.6\n",
      "it:2, cifar10, vgg16, multilid, df, pgd, 68.1, 58.4\n",
      "it:2, cifar10, vgg16, multilid, df, aa, 89.6, 82.0\n",
      "it:2, cifar10, vgg16, multilid, df, aa, 79.6, 69.2\n",
      "it:2, cifar10, vgg16, multilid, df, cw, 88.0, 81.4\n",
      "it:2, cifar10, vgg16, multilid, df, cw, 88.7, 80.9\n"
     ]
    },
    {
     "name": "stderr",
     "output_type": "stream",
     "text": [
      "/home/lorenzp/.conda/envs/cuda--11-1-1--pytorch--1-9-0/lib/python3.9/site-packages/sklearn/linear_model/_logistic.py:1523: UserWarning: 'n_jobs' > 1 does not have any effect when 'solver' is set to 'liblinear'. Got 'n_jobs' = 8.\n",
      "  warnings.warn(\n"
     ]
    },
    {
     "name": "stdout",
     "output_type": "stream",
     "text": [
      "it:2, cifar10, vgg16, multilid, cw, fgsm, 79.7, 73.1\n",
      "it:2, cifar10, vgg16, multilid, cw, fgsm, 78.7, 71.1\n",
      "it:2, cifar10, vgg16, multilid, cw, bim, 79.2, 70.6\n",
      "it:2, cifar10, vgg16, multilid, cw, bim, 69.8, 54.4\n",
      "it:2, cifar10, vgg16, multilid, cw, pgd, 72.7, 68.5\n",
      "it:2, cifar10, vgg16, multilid, cw, pgd, 63.2, 50.4\n",
      "it:2, cifar10, vgg16, multilid, cw, aa, 88.5, 81.4\n",
      "it:2, cifar10, vgg16, multilid, cw, aa, 74.4, 58.9\n",
      "it:2, cifar10, vgg16, multilid, cw, df, 88.1, 80.6\n",
      "it:2, cifar10, vgg16, multilid, cw, df, 87.7, 80.8\n"
     ]
    },
    {
     "name": "stderr",
     "output_type": "stream",
     "text": [
      "/home/lorenzp/.conda/envs/cuda--11-1-1--pytorch--1-9-0/lib/python3.9/site-packages/sklearn/linear_model/_logistic.py:1523: UserWarning: 'n_jobs' > 1 does not have any effect when 'solver' is set to 'liblinear'. Got 'n_jobs' = 8.\n",
      "  warnings.warn(\n"
     ]
    },
    {
     "name": "stdout",
     "output_type": "stream",
     "text": [
      "it:2, cifar100, wrn28-10, lid, fgsm, bim, 85.7, 74.4\n",
      "it:2, cifar100, wrn28-10, lid, fgsm, bim, 77.9, 66.8\n",
      "it:2, cifar100, wrn28-10, lid, fgsm, pgd, 88.4, 77.1\n",
      "it:2, cifar100, wrn28-10, lid, fgsm, pgd, 78.9, 66.9\n",
      "it:2, cifar100, wrn28-10, lid, fgsm, aa, 91.7, 83.6\n",
      "it:2, cifar100, wrn28-10, lid, fgsm, aa, 81.6, 69.6\n",
      "it:2, cifar100, wrn28-10, lid, fgsm, df, 53.9, 51.7\n",
      "it:2, cifar100, wrn28-10, lid, fgsm, df, 53.3, 52.5\n",
      "it:2, cifar100, wrn28-10, lid, fgsm, cw, 51.9, 50.5\n",
      "it:2, cifar100, wrn28-10, lid, fgsm, cw, 51.7, 51.6\n"
     ]
    },
    {
     "name": "stderr",
     "output_type": "stream",
     "text": [
      "/home/lorenzp/.conda/envs/cuda--11-1-1--pytorch--1-9-0/lib/python3.9/site-packages/sklearn/linear_model/_logistic.py:1523: UserWarning: 'n_jobs' > 1 does not have any effect when 'solver' is set to 'liblinear'. Got 'n_jobs' = 8.\n",
      "  warnings.warn(\n"
     ]
    },
    {
     "name": "stdout",
     "output_type": "stream",
     "text": [
      "it:2, cifar100, wrn28-10, lid, bim, fgsm, 91.8, 80.2\n",
      "it:2, cifar100, wrn28-10, lid, bim, fgsm, 88.5, 69.9\n",
      "it:2, cifar100, wrn28-10, lid, bim, pgd, 97.3, 90.5\n",
      "it:2, cifar100, wrn28-10, lid, bim, pgd, 97.8, 91.4\n",
      "it:2, cifar100, wrn28-10, lid, bim, aa, 99.2, 94.8\n",
      "it:2, cifar100, wrn28-10, lid, bim, aa, 98.9, 93.8\n",
      "it:2, cifar100, wrn28-10, lid, bim, df, 51.0, 48.6\n",
      "it:2, cifar100, wrn28-10, lid, bim, df, 50.4, 47.9\n",
      "it:2, cifar100, wrn28-10, lid, bim, cw, 50.3, 49.2\n",
      "it:2, cifar100, wrn28-10, lid, bim, cw, 50.3, 48.5\n"
     ]
    },
    {
     "name": "stderr",
     "output_type": "stream",
     "text": [
      "/home/lorenzp/.conda/envs/cuda--11-1-1--pytorch--1-9-0/lib/python3.9/site-packages/sklearn/linear_model/_logistic.py:1523: UserWarning: 'n_jobs' > 1 does not have any effect when 'solver' is set to 'liblinear'. Got 'n_jobs' = 8.\n",
      "  warnings.warn(\n"
     ]
    },
    {
     "name": "stdout",
     "output_type": "stream",
     "text": [
      "it:2, cifar100, wrn28-10, lid, pgd, fgsm, 91.0, 70.6\n",
      "it:2, cifar100, wrn28-10, lid, pgd, fgsm, 89.1, 60.8\n",
      "it:2, cifar100, wrn28-10, lid, pgd, bim, 93.8, 85.4\n",
      "it:2, cifar100, wrn28-10, lid, pgd, bim, 94.4, 87.9\n",
      "it:2, cifar100, wrn28-10, lid, pgd, aa, 99.2, 94.2\n",
      "it:2, cifar100, wrn28-10, lid, pgd, aa, 99.0, 94.2\n",
      "it:2, cifar100, wrn28-10, lid, pgd, df, 50.7, 49.4\n",
      "it:2, cifar100, wrn28-10, lid, pgd, df, 48.7, 48.4\n",
      "it:2, cifar100, wrn28-10, lid, pgd, cw, 50.6, 49.5\n",
      "it:2, cifar100, wrn28-10, lid, pgd, cw, 49.2, 49.2\n"
     ]
    },
    {
     "name": "stderr",
     "output_type": "stream",
     "text": [
      "/home/lorenzp/.conda/envs/cuda--11-1-1--pytorch--1-9-0/lib/python3.9/site-packages/sklearn/linear_model/_logistic.py:1523: UserWarning: 'n_jobs' > 1 does not have any effect when 'solver' is set to 'liblinear'. Got 'n_jobs' = 8.\n",
      "  warnings.warn(\n"
     ]
    },
    {
     "name": "stdout",
     "output_type": "stream",
     "text": [
      "it:2, cifar100, wrn28-10, lid, aa, fgsm, 91.1, 65.8\n",
      "it:2, cifar100, wrn28-10, lid, aa, fgsm, 84.5, 54.2\n",
      "it:2, cifar100, wrn28-10, lid, aa, bim, 92.8, 77.9\n",
      "it:2, cifar100, wrn28-10, lid, aa, bim, 93.9, 85.6\n",
      "it:2, cifar100, wrn28-10, lid, aa, pgd, 96.6, 88.0\n",
      "it:2, cifar100, wrn28-10, lid, aa, pgd, 97.3, 91.6\n",
      "it:2, cifar100, wrn28-10, lid, aa, df, 50.9, 50.1\n",
      "it:2, cifar100, wrn28-10, lid, aa, df, 48.7, 49.1\n",
      "it:2, cifar100, wrn28-10, lid, aa, cw, 50.9, 50.2\n",
      "it:2, cifar100, wrn28-10, lid, aa, cw, 49.6, 48.9\n"
     ]
    },
    {
     "name": "stderr",
     "output_type": "stream",
     "text": [
      "/home/lorenzp/.conda/envs/cuda--11-1-1--pytorch--1-9-0/lib/python3.9/site-packages/sklearn/linear_model/_logistic.py:1523: UserWarning: 'n_jobs' > 1 does not have any effect when 'solver' is set to 'liblinear'. Got 'n_jobs' = 8.\n",
      "  warnings.warn(\n"
     ]
    },
    {
     "name": "stdout",
     "output_type": "stream",
     "text": [
      "it:2, cifar100, wrn28-10, lid, df, fgsm, 93.1, 77.2\n",
      "it:2, cifar100, wrn28-10, lid, df, fgsm, 73.3, 67.4\n",
      "it:2, cifar100, wrn28-10, lid, df, bim, 55.6, 57.1\n",
      "it:2, cifar100, wrn28-10, lid, df, bim, 19.8, 35.0\n",
      "it:2, cifar100, wrn28-10, lid, df, pgd, 45.2, 50.2\n",
      "it:2, cifar100, wrn28-10, lid, df, pgd, 15.8, 32.8\n",
      "it:2, cifar100, wrn28-10, lid, df, aa, 31.8, 42.1\n",
      "it:2, cifar100, wrn28-10, lid, df, aa, 9.9, 30.1\n",
      "it:2, cifar100, wrn28-10, lid, df, cw, 52.5, 51.6\n",
      "it:2, cifar100, wrn28-10, lid, df, cw, 57.6, 55.9\n"
     ]
    },
    {
     "name": "stderr",
     "output_type": "stream",
     "text": [
      "/home/lorenzp/.conda/envs/cuda--11-1-1--pytorch--1-9-0/lib/python3.9/site-packages/sklearn/linear_model/_logistic.py:1523: UserWarning: 'n_jobs' > 1 does not have any effect when 'solver' is set to 'liblinear'. Got 'n_jobs' = 8.\n",
      "  warnings.warn(\n"
     ]
    },
    {
     "name": "stdout",
     "output_type": "stream",
     "text": [
      "it:2, cifar100, wrn28-10, lid, cw, fgsm, 85.5, 73.2\n",
      "it:2, cifar100, wrn28-10, lid, cw, fgsm, 61.3, 59.4\n",
      "it:2, cifar100, wrn28-10, lid, cw, bim, 38.8, 43.5\n",
      "it:2, cifar100, wrn28-10, lid, cw, bim, 18.1, 32.6\n",
      "it:2, cifar100, wrn28-10, lid, cw, pgd, 33.4, 42.5\n",
      "it:2, cifar100, wrn28-10, lid, cw, pgd, 13.6, 28.2\n",
      "it:2, cifar100, wrn28-10, lid, cw, aa, 18.1, 35.1\n",
      "it:2, cifar100, wrn28-10, lid, cw, aa, 8.2, 26.6\n",
      "it:2, cifar100, wrn28-10, lid, cw, df, 53.3, 52.1\n",
      "it:2, cifar100, wrn28-10, lid, cw, df, 62.5, 59.2\n"
     ]
    },
    {
     "name": "stderr",
     "output_type": "stream",
     "text": [
      "/home/lorenzp/.conda/envs/cuda--11-1-1--pytorch--1-9-0/lib/python3.9/site-packages/sklearn/linear_model/_logistic.py:1523: UserWarning: 'n_jobs' > 1 does not have any effect when 'solver' is set to 'liblinear'. Got 'n_jobs' = 8.\n",
      "  warnings.warn(\n"
     ]
    },
    {
     "name": "stdout",
     "output_type": "stream",
     "text": [
      "it:2, cifar100, wrn28-10, multilid, fgsm, bim, 80.7, 66.2\n",
      "it:2, cifar100, wrn28-10, multilid, fgsm, bim, 78.9, 63.5\n",
      "it:2, cifar100, wrn28-10, multilid, fgsm, pgd, 80.2, 67.0\n",
      "it:2, cifar100, wrn28-10, multilid, fgsm, pgd, 77.0, 65.2\n",
      "it:2, cifar100, wrn28-10, multilid, fgsm, aa, 85.7, 67.9\n",
      "it:2, cifar100, wrn28-10, multilid, fgsm, aa, 84.3, 68.4\n",
      "it:2, cifar100, wrn28-10, multilid, fgsm, df, 60.7, 53.8\n",
      "it:2, cifar100, wrn28-10, multilid, fgsm, df, 53.9, 52.1\n",
      "it:2, cifar100, wrn28-10, multilid, fgsm, cw, 56.7, 51.6\n",
      "it:2, cifar100, wrn28-10, multilid, fgsm, cw, 52.1, 51.6\n"
     ]
    },
    {
     "name": "stderr",
     "output_type": "stream",
     "text": [
      "/home/lorenzp/.conda/envs/cuda--11-1-1--pytorch--1-9-0/lib/python3.9/site-packages/sklearn/linear_model/_logistic.py:1523: UserWarning: 'n_jobs' > 1 does not have any effect when 'solver' is set to 'liblinear'. Got 'n_jobs' = 8.\n",
      "  warnings.warn(\n"
     ]
    },
    {
     "name": "stdout",
     "output_type": "stream",
     "text": [
      "it:2, cifar100, wrn28-10, multilid, bim, fgsm, 77.5, 60.0\n",
      "it:2, cifar100, wrn28-10, multilid, bim, fgsm, 82.8, 55.1\n",
      "it:2, cifar100, wrn28-10, multilid, bim, pgd, 98.8, 93.8\n",
      "it:2, cifar100, wrn28-10, multilid, bim, pgd, 99.0, 95.9\n",
      "it:2, cifar100, wrn28-10, multilid, bim, aa, 99.9, 96.1\n",
      "it:2, cifar100, wrn28-10, multilid, bim, aa, 99.9, 97.5\n",
      "it:2, cifar100, wrn28-10, multilid, bim, df, 43.3, 48.4\n",
      "it:2, cifar100, wrn28-10, multilid, bim, df, 44.8, 47.9\n",
      "it:2, cifar100, wrn28-10, multilid, bim, cw, 44.8, 47.2\n",
      "it:2, cifar100, wrn28-10, multilid, bim, cw, 42.4, 47.2\n"
     ]
    },
    {
     "name": "stderr",
     "output_type": "stream",
     "text": [
      "/home/lorenzp/.conda/envs/cuda--11-1-1--pytorch--1-9-0/lib/python3.9/site-packages/sklearn/linear_model/_logistic.py:1523: UserWarning: 'n_jobs' > 1 does not have any effect when 'solver' is set to 'liblinear'. Got 'n_jobs' = 8.\n",
      "  warnings.warn(\n"
     ]
    },
    {
     "name": "stdout",
     "output_type": "stream",
     "text": [
      "it:2, cifar100, wrn28-10, multilid, pgd, fgsm, 75.6, 58.2\n",
      "it:2, cifar100, wrn28-10, multilid, pgd, fgsm, 82.3, 52.1\n",
      "it:2, cifar100, wrn28-10, multilid, pgd, bim, 97.4, 92.0\n",
      "it:2, cifar100, wrn28-10, multilid, pgd, bim, 97.1, 90.2\n",
      "it:2, cifar100, wrn28-10, multilid, pgd, aa, 99.9, 97.4\n",
      "it:2, cifar100, wrn28-10, multilid, pgd, aa, 99.9, 97.9\n",
      "it:2, cifar100, wrn28-10, multilid, pgd, df, 42.6, 48.2\n",
      "it:2, cifar100, wrn28-10, multilid, pgd, df, 42.8, 48.6\n",
      "it:2, cifar100, wrn28-10, multilid, pgd, cw, 44.7, 47.9\n",
      "it:2, cifar100, wrn28-10, multilid, pgd, cw, 42.8, 47.5\n"
     ]
    },
    {
     "name": "stderr",
     "output_type": "stream",
     "text": [
      "/home/lorenzp/.conda/envs/cuda--11-1-1--pytorch--1-9-0/lib/python3.9/site-packages/sklearn/linear_model/_logistic.py:1523: UserWarning: 'n_jobs' > 1 does not have any effect when 'solver' is set to 'liblinear'. Got 'n_jobs' = 8.\n",
      "  warnings.warn(\n"
     ]
    },
    {
     "name": "stdout",
     "output_type": "stream",
     "text": [
      "it:2, cifar100, wrn28-10, multilid, aa, fgsm, 68.3, 51.2\n",
      "it:2, cifar100, wrn28-10, multilid, aa, fgsm, 76.4, 50.2\n",
      "it:2, cifar100, wrn28-10, multilid, aa, bim, 96.7, 91.5\n",
      "it:2, cifar100, wrn28-10, multilid, aa, bim, 96.7, 88.2\n",
      "it:2, cifar100, wrn28-10, multilid, aa, pgd, 98.4, 94.2\n",
      "it:2, cifar100, wrn28-10, multilid, aa, pgd, 98.5, 91.4\n",
      "it:2, cifar100, wrn28-10, multilid, aa, df, 41.2, 48.9\n",
      "it:2, cifar100, wrn28-10, multilid, aa, df, 45.6, 49.4\n",
      "it:2, cifar100, wrn28-10, multilid, aa, cw, 43.9, 47.5\n",
      "it:2, cifar100, wrn28-10, multilid, aa, cw, 43.6, 48.9\n"
     ]
    },
    {
     "name": "stderr",
     "output_type": "stream",
     "text": [
      "/home/lorenzp/.conda/envs/cuda--11-1-1--pytorch--1-9-0/lib/python3.9/site-packages/sklearn/linear_model/_logistic.py:1523: UserWarning: 'n_jobs' > 1 does not have any effect when 'solver' is set to 'liblinear'. Got 'n_jobs' = 8.\n",
      "  warnings.warn(\n"
     ]
    },
    {
     "name": "stdout",
     "output_type": "stream",
     "text": [
      "it:2, cifar100, wrn28-10, multilid, df, fgsm, 85.9, 78.9\n",
      "it:2, cifar100, wrn28-10, multilid, df, fgsm, 75.5, 69.6\n",
      "it:2, cifar100, wrn28-10, multilid, df, bim, 41.7, 39.0\n",
      "it:2, cifar100, wrn28-10, multilid, df, bim, 19.5, 35.6\n",
      "it:2, cifar100, wrn28-10, multilid, df, pgd, 37.7, 32.8\n",
      "it:2, cifar100, wrn28-10, multilid, df, pgd, 15.4, 31.8\n",
      "it:2, cifar100, wrn28-10, multilid, df, aa, 35.4, 33.4\n",
      "it:2, cifar100, wrn28-10, multilid, df, aa, 13.0, 31.6\n",
      "it:2, cifar100, wrn28-10, multilid, df, cw, 67.9, 62.7\n",
      "it:2, cifar100, wrn28-10, multilid, df, cw, 69.7, 63.2\n"
     ]
    },
    {
     "name": "stderr",
     "output_type": "stream",
     "text": [
      "/home/lorenzp/.conda/envs/cuda--11-1-1--pytorch--1-9-0/lib/python3.9/site-packages/sklearn/linear_model/_logistic.py:1523: UserWarning: 'n_jobs' > 1 does not have any effect when 'solver' is set to 'liblinear'. Got 'n_jobs' = 8.\n",
      "  warnings.warn(\n"
     ]
    },
    {
     "name": "stdout",
     "output_type": "stream",
     "text": [
      "it:2, cifar100, wrn28-10, multilid, cw, fgsm, 86.1, 76.5\n",
      "it:2, cifar100, wrn28-10, multilid, cw, fgsm, 73.5, 69.4\n",
      "it:2, cifar100, wrn28-10, multilid, cw, bim, 39.3, 36.4\n",
      "it:2, cifar100, wrn28-10, multilid, cw, bim, 24.0, 34.8\n",
      "it:2, cifar100, wrn28-10, multilid, cw, pgd, 36.8, 34.1\n",
      "it:2, cifar100, wrn28-10, multilid, cw, pgd, 22.5, 31.8\n",
      "it:2, cifar100, wrn28-10, multilid, cw, aa, 33.7, 31.4\n",
      "it:2, cifar100, wrn28-10, multilid, cw, aa, 15.7, 32.2\n",
      "it:2, cifar100, wrn28-10, multilid, cw, df, 75.7, 68.5\n",
      "it:2, cifar100, wrn28-10, multilid, cw, df, 73.2, 67.8\n"
     ]
    },
    {
     "name": "stderr",
     "output_type": "stream",
     "text": [
      "/home/lorenzp/.conda/envs/cuda--11-1-1--pytorch--1-9-0/lib/python3.9/site-packages/sklearn/linear_model/_logistic.py:1523: UserWarning: 'n_jobs' > 1 does not have any effect when 'solver' is set to 'liblinear'. Got 'n_jobs' = 8.\n",
      "  warnings.warn(\n"
     ]
    },
    {
     "name": "stdout",
     "output_type": "stream",
     "text": [
      "it:2, cifar100, vgg16, lid, fgsm, bim, 77.9, 70.6\n",
      "it:2, cifar100, vgg16, lid, fgsm, bim, 74.1, 67.5\n",
      "it:2, cifar100, vgg16, lid, fgsm, pgd, 80.3, 73.8\n",
      "it:2, cifar100, vgg16, lid, fgsm, pgd, 78.6, 72.4\n",
      "it:2, cifar100, vgg16, lid, fgsm, aa, 84.4, 77.0\n",
      "it:2, cifar100, vgg16, lid, fgsm, aa, 77.2, 70.8\n",
      "it:2, cifar100, vgg16, lid, fgsm, df, 52.8, 50.0\n",
      "it:2, cifar100, vgg16, lid, fgsm, df, 55.0, 52.9\n",
      "it:2, cifar100, vgg16, lid, fgsm, cw, 54.4, 51.5\n",
      "it:2, cifar100, vgg16, lid, fgsm, cw, 56.6, 53.8\n"
     ]
    },
    {
     "name": "stderr",
     "output_type": "stream",
     "text": [
      "/home/lorenzp/.conda/envs/cuda--11-1-1--pytorch--1-9-0/lib/python3.9/site-packages/sklearn/linear_model/_logistic.py:1523: UserWarning: 'n_jobs' > 1 does not have any effect when 'solver' is set to 'liblinear'. Got 'n_jobs' = 8.\n",
      "  warnings.warn(\n"
     ]
    },
    {
     "name": "stdout",
     "output_type": "stream",
     "text": [
      "it:2, cifar100, vgg16, lid, bim, fgsm, 70.6, 65.5\n",
      "it:2, cifar100, vgg16, lid, bim, fgsm, 72.6, 65.6\n",
      "it:2, cifar100, vgg16, lid, bim, pgd, 84.0, 77.1\n",
      "it:2, cifar100, vgg16, lid, bim, pgd, 86.9, 80.2\n",
      "it:2, cifar100, vgg16, lid, bim, aa, 86.8, 79.5\n",
      "it:2, cifar100, vgg16, lid, bim, aa, 89.8, 80.1\n",
      "it:2, cifar100, vgg16, lid, bim, df, 51.7, 49.1\n",
      "it:2, cifar100, vgg16, lid, bim, df, 53.3, 50.2\n",
      "it:2, cifar100, vgg16, lid, bim, cw, 56.9, 53.0\n",
      "it:2, cifar100, vgg16, lid, bim, cw, 57.6, 54.2\n"
     ]
    },
    {
     "name": "stderr",
     "output_type": "stream",
     "text": [
      "/home/lorenzp/.conda/envs/cuda--11-1-1--pytorch--1-9-0/lib/python3.9/site-packages/sklearn/linear_model/_logistic.py:1523: UserWarning: 'n_jobs' > 1 does not have any effect when 'solver' is set to 'liblinear'. Got 'n_jobs' = 8.\n",
      "  warnings.warn(\n"
     ]
    },
    {
     "name": "stdout",
     "output_type": "stream",
     "text": [
      "it:2, cifar100, vgg16, lid, pgd, fgsm, 69.7, 65.2\n",
      "it:2, cifar100, vgg16, lid, pgd, fgsm, 72.1, 59.8\n",
      "it:2, cifar100, vgg16, lid, pgd, bim, 80.0, 73.4\n",
      "it:2, cifar100, vgg16, lid, pgd, bim, 79.2, 70.6\n",
      "it:2, cifar100, vgg16, lid, pgd, aa, 82.7, 77.4\n",
      "it:2, cifar100, vgg16, lid, pgd, aa, 87.3, 79.6\n",
      "it:2, cifar100, vgg16, lid, pgd, df, 51.5, 49.1\n",
      "it:2, cifar100, vgg16, lid, pgd, df, 54.5, 53.1\n",
      "it:2, cifar100, vgg16, lid, pgd, cw, 58.9, 53.0\n",
      "it:2, cifar100, vgg16, lid, pgd, cw, 57.3, 52.9\n"
     ]
    },
    {
     "name": "stderr",
     "output_type": "stream",
     "text": [
      "/home/lorenzp/.conda/envs/cuda--11-1-1--pytorch--1-9-0/lib/python3.9/site-packages/sklearn/linear_model/_logistic.py:1523: UserWarning: 'n_jobs' > 1 does not have any effect when 'solver' is set to 'liblinear'. Got 'n_jobs' = 8.\n",
      "  warnings.warn(\n"
     ]
    },
    {
     "name": "stdout",
     "output_type": "stream",
     "text": [
      "it:2, cifar100, vgg16, lid, aa, fgsm, 72.0, 62.9\n",
      "it:2, cifar100, vgg16, lid, aa, fgsm, 69.0, 60.4\n",
      "it:2, cifar100, vgg16, lid, aa, bim, 81.3, 72.4\n",
      "it:2, cifar100, vgg16, lid, aa, bim, 80.8, 71.5\n",
      "it:2, cifar100, vgg16, lid, aa, pgd, 81.6, 73.4\n",
      "it:2, cifar100, vgg16, lid, aa, pgd, 86.7, 78.1\n",
      "it:2, cifar100, vgg16, lid, aa, df, 52.3, 48.2\n",
      "it:2, cifar100, vgg16, lid, aa, df, 52.6, 49.1\n",
      "it:2, cifar100, vgg16, lid, aa, cw, 54.0, 51.1\n",
      "it:2, cifar100, vgg16, lid, aa, cw, 56.9, 53.8\n"
     ]
    },
    {
     "name": "stderr",
     "output_type": "stream",
     "text": [
      "/home/lorenzp/.conda/envs/cuda--11-1-1--pytorch--1-9-0/lib/python3.9/site-packages/sklearn/linear_model/_logistic.py:1523: UserWarning: 'n_jobs' > 1 does not have any effect when 'solver' is set to 'liblinear'. Got 'n_jobs' = 8.\n",
      "  warnings.warn(\n"
     ]
    },
    {
     "name": "stdout",
     "output_type": "stream",
     "text": [
      "it:2, cifar100, vgg16, lid, df, fgsm, 66.2, 61.5\n",
      "it:2, cifar100, vgg16, lid, df, fgsm, 58.1, 55.5\n",
      "it:2, cifar100, vgg16, lid, df, bim, 73.2, 65.6\n",
      "it:2, cifar100, vgg16, lid, df, bim, 52.7, 52.4\n",
      "it:2, cifar100, vgg16, lid, df, pgd, 73.5, 69.0\n",
      "it:2, cifar100, vgg16, lid, df, pgd, 57.0, 54.5\n",
      "it:2, cifar100, vgg16, lid, df, aa, 79.7, 70.2\n",
      "it:2, cifar100, vgg16, lid, df, aa, 45.4, 46.1\n",
      "it:2, cifar100, vgg16, lid, df, cw, 56.1, 52.9\n",
      "it:2, cifar100, vgg16, lid, df, cw, 60.8, 57.4\n"
     ]
    },
    {
     "name": "stderr",
     "output_type": "stream",
     "text": [
      "/home/lorenzp/.conda/envs/cuda--11-1-1--pytorch--1-9-0/lib/python3.9/site-packages/sklearn/linear_model/_logistic.py:1523: UserWarning: 'n_jobs' > 1 does not have any effect when 'solver' is set to 'liblinear'. Got 'n_jobs' = 8.\n",
      "  warnings.warn(\n"
     ]
    },
    {
     "name": "stdout",
     "output_type": "stream",
     "text": [
      "it:2, cifar100, vgg16, lid, cw, fgsm, 59.7, 56.6\n",
      "it:2, cifar100, vgg16, lid, cw, fgsm, 56.8, 55.4\n",
      "it:2, cifar100, vgg16, lid, cw, bim, 68.9, 64.4\n",
      "it:2, cifar100, vgg16, lid, cw, bim, 61.4, 58.5\n",
      "it:2, cifar100, vgg16, lid, cw, pgd, 80.1, 68.8\n",
      "it:2, cifar100, vgg16, lid, cw, pgd, 65.3, 63.5\n",
      "it:2, cifar100, vgg16, lid, cw, aa, 74.9, 64.4\n",
      "it:2, cifar100, vgg16, lid, cw, aa, 53.9, 51.5\n",
      "it:2, cifar100, vgg16, lid, cw, df, 53.1, 52.8\n",
      "it:2, cifar100, vgg16, lid, cw, df, 59.0, 56.9\n"
     ]
    },
    {
     "name": "stderr",
     "output_type": "stream",
     "text": [
      "/home/lorenzp/.conda/envs/cuda--11-1-1--pytorch--1-9-0/lib/python3.9/site-packages/sklearn/linear_model/_logistic.py:1523: UserWarning: 'n_jobs' > 1 does not have any effect when 'solver' is set to 'liblinear'. Got 'n_jobs' = 8.\n",
      "  warnings.warn(\n"
     ]
    },
    {
     "name": "stdout",
     "output_type": "stream",
     "text": [
      "it:2, cifar100, vgg16, multilid, fgsm, bim, 75.4, 67.6\n",
      "it:2, cifar100, vgg16, multilid, fgsm, bim, 73.4, 68.8\n",
      "it:2, cifar100, vgg16, multilid, fgsm, pgd, 78.7, 71.0\n",
      "it:2, cifar100, vgg16, multilid, fgsm, pgd, 78.0, 70.8\n",
      "it:2, cifar100, vgg16, multilid, fgsm, aa, 78.3, 70.0\n",
      "it:2, cifar100, vgg16, multilid, fgsm, aa, 75.8, 67.9\n",
      "it:2, cifar100, vgg16, multilid, fgsm, df, 65.2, 59.1\n",
      "it:2, cifar100, vgg16, multilid, fgsm, df, 61.6, 58.1\n",
      "it:2, cifar100, vgg16, multilid, fgsm, cw, 63.5, 55.2\n",
      "it:2, cifar100, vgg16, multilid, fgsm, cw, 60.3, 56.0\n"
     ]
    },
    {
     "name": "stderr",
     "output_type": "stream",
     "text": [
      "/home/lorenzp/.conda/envs/cuda--11-1-1--pytorch--1-9-0/lib/python3.9/site-packages/sklearn/linear_model/_logistic.py:1523: UserWarning: 'n_jobs' > 1 does not have any effect when 'solver' is set to 'liblinear'. Got 'n_jobs' = 8.\n",
      "  warnings.warn(\n"
     ]
    },
    {
     "name": "stdout",
     "output_type": "stream",
     "text": [
      "it:2, cifar100, vgg16, multilid, bim, fgsm, 76.3, 69.6\n",
      "it:2, cifar100, vgg16, multilid, bim, fgsm, 70.4, 63.6\n",
      "it:2, cifar100, vgg16, multilid, bim, pgd, 88.0, 78.6\n",
      "it:2, cifar100, vgg16, multilid, bim, pgd, 85.3, 79.5\n",
      "it:2, cifar100, vgg16, multilid, bim, aa, 87.4, 76.9\n",
      "it:2, cifar100, vgg16, multilid, bim, aa, 88.0, 79.2\n",
      "it:2, cifar100, vgg16, multilid, bim, df, 57.2, 54.0\n",
      "it:2, cifar100, vgg16, multilid, bim, df, 53.2, 50.1\n",
      "it:2, cifar100, vgg16, multilid, bim, cw, 59.6, 55.1\n",
      "it:2, cifar100, vgg16, multilid, bim, cw, 56.3, 54.0\n"
     ]
    },
    {
     "name": "stderr",
     "output_type": "stream",
     "text": [
      "/home/lorenzp/.conda/envs/cuda--11-1-1--pytorch--1-9-0/lib/python3.9/site-packages/sklearn/linear_model/_logistic.py:1523: UserWarning: 'n_jobs' > 1 does not have any effect when 'solver' is set to 'liblinear'. Got 'n_jobs' = 8.\n",
      "  warnings.warn(\n"
     ]
    },
    {
     "name": "stdout",
     "output_type": "stream",
     "text": [
      "it:2, cifar100, vgg16, multilid, pgd, fgsm, 72.7, 61.5\n",
      "it:2, cifar100, vgg16, multilid, pgd, fgsm, 68.7, 58.1\n",
      "it:2, cifar100, vgg16, multilid, pgd, bim, 82.2, 75.1\n",
      "it:2, cifar100, vgg16, multilid, pgd, bim, 78.5, 69.8\n",
      "it:2, cifar100, vgg16, multilid, pgd, aa, 87.0, 79.1\n",
      "it:2, cifar100, vgg16, multilid, pgd, aa, 86.9, 77.5\n",
      "it:2, cifar100, vgg16, multilid, pgd, df, 57.1, 51.9\n",
      "it:2, cifar100, vgg16, multilid, pgd, df, 55.3, 51.6\n",
      "it:2, cifar100, vgg16, multilid, pgd, cw, 61.1, 54.9\n",
      "it:2, cifar100, vgg16, multilid, pgd, cw, 57.7, 53.4\n"
     ]
    },
    {
     "name": "stderr",
     "output_type": "stream",
     "text": [
      "/home/lorenzp/.conda/envs/cuda--11-1-1--pytorch--1-9-0/lib/python3.9/site-packages/sklearn/linear_model/_logistic.py:1523: UserWarning: 'n_jobs' > 1 does not have any effect when 'solver' is set to 'liblinear'. Got 'n_jobs' = 8.\n",
      "  warnings.warn(\n"
     ]
    },
    {
     "name": "stdout",
     "output_type": "stream",
     "text": [
      "it:2, cifar100, vgg16, multilid, aa, fgsm, 71.1, 60.8\n",
      "it:2, cifar100, vgg16, multilid, aa, fgsm, 64.9, 57.4\n",
      "it:2, cifar100, vgg16, multilid, aa, bim, 80.8, 73.0\n",
      "it:2, cifar100, vgg16, multilid, aa, bim, 79.1, 69.6\n",
      "it:2, cifar100, vgg16, multilid, aa, pgd, 87.2, 79.6\n",
      "it:2, cifar100, vgg16, multilid, aa, pgd, 86.7, 79.0\n",
      "it:2, cifar100, vgg16, multilid, aa, df, 53.6, 49.8\n",
      "it:2, cifar100, vgg16, multilid, aa, df, 53.5, 51.0\n",
      "it:2, cifar100, vgg16, multilid, aa, cw, 56.2, 52.2\n",
      "it:2, cifar100, vgg16, multilid, aa, cw, 55.8, 53.1\n"
     ]
    },
    {
     "name": "stderr",
     "output_type": "stream",
     "text": [
      "/home/lorenzp/.conda/envs/cuda--11-1-1--pytorch--1-9-0/lib/python3.9/site-packages/sklearn/linear_model/_logistic.py:1523: UserWarning: 'n_jobs' > 1 does not have any effect when 'solver' is set to 'liblinear'. Got 'n_jobs' = 8.\n",
      "  warnings.warn(\n"
     ]
    },
    {
     "name": "stdout",
     "output_type": "stream",
     "text": [
      "it:2, cifar100, vgg16, multilid, df, fgsm, 73.5, 67.8\n",
      "it:2, cifar100, vgg16, multilid, df, fgsm, 64.6, 60.1\n",
      "it:2, cifar100, vgg16, multilid, df, bim, 65.1, 64.1\n",
      "it:2, cifar100, vgg16, multilid, df, bim, 56.8, 50.6\n",
      "it:2, cifar100, vgg16, multilid, df, pgd, 65.3, 60.9\n",
      "it:2, cifar100, vgg16, multilid, df, pgd, 62.6, 57.6\n",
      "it:2, cifar100, vgg16, multilid, df, aa, 64.6, 63.9\n",
      "it:2, cifar100, vgg16, multilid, df, aa, 54.6, 50.0\n",
      "it:2, cifar100, vgg16, multilid, df, cw, 67.6, 60.8\n",
      "it:2, cifar100, vgg16, multilid, df, cw, 74.3, 68.6\n"
     ]
    },
    {
     "name": "stderr",
     "output_type": "stream",
     "text": [
      "/home/lorenzp/.conda/envs/cuda--11-1-1--pytorch--1-9-0/lib/python3.9/site-packages/sklearn/linear_model/_logistic.py:1523: UserWarning: 'n_jobs' > 1 does not have any effect when 'solver' is set to 'liblinear'. Got 'n_jobs' = 8.\n",
      "  warnings.warn(\n"
     ]
    },
    {
     "name": "stdout",
     "output_type": "stream",
     "text": [
      "it:2, cifar100, vgg16, multilid, cw, fgsm, 72.7, 65.9\n",
      "it:2, cifar100, vgg16, multilid, cw, fgsm, 63.2, 61.5\n",
      "it:2, cifar100, vgg16, multilid, cw, bim, 71.8, 66.6\n",
      "it:2, cifar100, vgg16, multilid, cw, bim, 61.4, 56.9\n",
      "it:2, cifar100, vgg16, multilid, cw, pgd, 77.7, 70.1\n",
      "it:2, cifar100, vgg16, multilid, cw, pgd, 68.2, 63.6\n",
      "it:2, cifar100, vgg16, multilid, cw, aa, 72.0, 65.1\n",
      "it:2, cifar100, vgg16, multilid, cw, aa, 58.5, 53.9\n",
      "it:2, cifar100, vgg16, multilid, cw, df, 70.1, 65.8\n",
      "it:2, cifar100, vgg16, multilid, cw, df, 71.5, 66.4\n"
     ]
    },
    {
     "name": "stderr",
     "output_type": "stream",
     "text": [
      "/home/lorenzp/.conda/envs/cuda--11-1-1--pytorch--1-9-0/lib/python3.9/site-packages/sklearn/linear_model/_logistic.py:1523: UserWarning: 'n_jobs' > 1 does not have any effect when 'solver' is set to 'liblinear'. Got 'n_jobs' = 8.\n",
      "  warnings.warn(\n"
     ]
    },
    {
     "name": "stdout",
     "output_type": "stream",
     "text": [
      "it:2, imagenet, wrn50-2, lid, fgsm, bim, 71.4, 65.0\n",
      "it:2, imagenet, wrn50-2, lid, fgsm, bim, 59.8, 55.5\n",
      "it:2, imagenet, wrn50-2, lid, fgsm, pgd, 79.6, 73.1\n",
      "it:2, imagenet, wrn50-2, lid, fgsm, pgd, 61.4, 55.2\n",
      "it:2, imagenet, wrn50-2, lid, fgsm, aa, 96.2, 79.8\n",
      "it:2, imagenet, wrn50-2, lid, fgsm, aa, 57.5, 52.2\n",
      "it:2, imagenet, wrn50-2, lid, fgsm, df, 51.4, 51.9\n",
      "it:2, imagenet, wrn50-2, lid, fgsm, df, 50.6, 50.2\n",
      "it:2, imagenet, wrn50-2, lid, fgsm, cw, 51.3, 50.6\n",
      "it:2, imagenet, wrn50-2, lid, fgsm, cw, 50.3, 50.1\n"
     ]
    },
    {
     "name": "stderr",
     "output_type": "stream",
     "text": [
      "/home/lorenzp/.conda/envs/cuda--11-1-1--pytorch--1-9-0/lib/python3.9/site-packages/sklearn/linear_model/_logistic.py:1523: UserWarning: 'n_jobs' > 1 does not have any effect when 'solver' is set to 'liblinear'. Got 'n_jobs' = 8.\n",
      "  warnings.warn(\n"
     ]
    },
    {
     "name": "stdout",
     "output_type": "stream",
     "text": [
      "it:2, imagenet, wrn50-2, lid, bim, fgsm, 56.2, 50.4\n",
      "it:2, imagenet, wrn50-2, lid, bim, fgsm, 54.8, 52.8\n",
      "it:2, imagenet, wrn50-2, lid, bim, pgd, 95.0, 88.4\n",
      "it:2, imagenet, wrn50-2, lid, bim, pgd, 94.5, 87.4\n",
      "it:2, imagenet, wrn50-2, lid, bim, aa, 99.9, 95.6\n",
      "it:2, imagenet, wrn50-2, lid, bim, aa, 99.4, 95.1\n",
      "it:2, imagenet, wrn50-2, lid, bim, df, 54.2, 51.2\n",
      "it:2, imagenet, wrn50-2, lid, bim, df, 53.7, 51.4\n",
      "it:2, imagenet, wrn50-2, lid, bim, cw, 54.6, 51.2\n",
      "it:2, imagenet, wrn50-2, lid, bim, cw, 52.9, 51.6\n"
     ]
    },
    {
     "name": "stderr",
     "output_type": "stream",
     "text": [
      "/home/lorenzp/.conda/envs/cuda--11-1-1--pytorch--1-9-0/lib/python3.9/site-packages/sklearn/linear_model/_logistic.py:1523: UserWarning: 'n_jobs' > 1 does not have any effect when 'solver' is set to 'liblinear'. Got 'n_jobs' = 8.\n",
      "  warnings.warn(\n"
     ]
    },
    {
     "name": "stdout",
     "output_type": "stream",
     "text": [
      "it:2, imagenet, wrn50-2, lid, pgd, fgsm, 60.0, 50.6\n",
      "it:2, imagenet, wrn50-2, lid, pgd, fgsm, 55.8, 51.7\n",
      "it:2, imagenet, wrn50-2, lid, pgd, bim, 93.3, 83.5\n",
      "it:2, imagenet, wrn50-2, lid, pgd, bim, 92.8, 85.0\n",
      "it:2, imagenet, wrn50-2, lid, pgd, aa, 100.0, 97.4\n",
      "it:2, imagenet, wrn50-2, lid, pgd, aa, 99.6, 96.2\n",
      "it:2, imagenet, wrn50-2, lid, pgd, df, 54.1, 50.7\n",
      "it:2, imagenet, wrn50-2, lid, pgd, df, 53.6, 50.9\n",
      "it:2, imagenet, wrn50-2, lid, pgd, cw, 54.0, 51.5\n",
      "it:2, imagenet, wrn50-2, lid, pgd, cw, 53.6, 51.9\n"
     ]
    },
    {
     "name": "stderr",
     "output_type": "stream",
     "text": [
      "/home/lorenzp/.conda/envs/cuda--11-1-1--pytorch--1-9-0/lib/python3.9/site-packages/sklearn/linear_model/_logistic.py:1523: UserWarning: 'n_jobs' > 1 does not have any effect when 'solver' is set to 'liblinear'. Got 'n_jobs' = 8.\n",
      "  warnings.warn(\n"
     ]
    },
    {
     "name": "stdout",
     "output_type": "stream",
     "text": [
      "it:2, imagenet, wrn50-2, lid, aa, fgsm, 52.0, 49.5\n",
      "it:2, imagenet, wrn50-2, lid, aa, fgsm, 50.1, 49.9\n",
      "it:2, imagenet, wrn50-2, lid, aa, bim, 87.7, 63.2\n",
      "it:2, imagenet, wrn50-2, lid, aa, bim, 87.6, 64.1\n",
      "it:2, imagenet, wrn50-2, lid, aa, pgd, 87.8, 62.7\n",
      "it:2, imagenet, wrn50-2, lid, aa, pgd, 91.1, 73.4\n",
      "it:2, imagenet, wrn50-2, lid, aa, df, 53.1, 50.4\n",
      "it:2, imagenet, wrn50-2, lid, aa, df, 51.5, 50.2\n",
      "it:2, imagenet, wrn50-2, lid, aa, cw, 53.1, 49.8\n",
      "it:2, imagenet, wrn50-2, lid, aa, cw, 51.6, 50.2\n"
     ]
    },
    {
     "name": "stderr",
     "output_type": "stream",
     "text": [
      "/home/lorenzp/.conda/envs/cuda--11-1-1--pytorch--1-9-0/lib/python3.9/site-packages/sklearn/linear_model/_logistic.py:1523: UserWarning: 'n_jobs' > 1 does not have any effect when 'solver' is set to 'liblinear'. Got 'n_jobs' = 8.\n",
      "  warnings.warn(\n"
     ]
    },
    {
     "name": "stdout",
     "output_type": "stream",
     "text": [
      "it:2, imagenet, wrn50-2, lid, df, fgsm, 59.4, 55.1\n",
      "it:2, imagenet, wrn50-2, lid, df, fgsm, 54.9, 53.9\n",
      "it:2, imagenet, wrn50-2, lid, df, bim, 92.5, 78.8\n",
      "it:2, imagenet, wrn50-2, lid, df, bim, 71.6, 66.0\n",
      "it:2, imagenet, wrn50-2, lid, df, pgd, 94.9, 78.8\n",
      "it:2, imagenet, wrn50-2, lid, df, pgd, 69.9, 64.6\n",
      "it:2, imagenet, wrn50-2, lid, df, aa, 99.7, 80.4\n",
      "it:2, imagenet, wrn50-2, lid, df, aa, 70.8, 65.5\n",
      "it:2, imagenet, wrn50-2, lid, df, cw, 54.5, 52.9\n",
      "it:2, imagenet, wrn50-2, lid, df, cw, 55.5, 53.4\n"
     ]
    },
    {
     "name": "stderr",
     "output_type": "stream",
     "text": [
      "/home/lorenzp/.conda/envs/cuda--11-1-1--pytorch--1-9-0/lib/python3.9/site-packages/sklearn/linear_model/_logistic.py:1523: UserWarning: 'n_jobs' > 1 does not have any effect when 'solver' is set to 'liblinear'. Got 'n_jobs' = 8.\n",
      "  warnings.warn(\n"
     ]
    },
    {
     "name": "stdout",
     "output_type": "stream",
     "text": [
      "it:2, imagenet, wrn50-2, lid, cw, fgsm, 56.4, 53.6\n",
      "it:2, imagenet, wrn50-2, lid, cw, fgsm, 52.1, 51.1\n",
      "it:2, imagenet, wrn50-2, lid, cw, bim, 93.5, 77.5\n",
      "it:2, imagenet, wrn50-2, lid, cw, bim, 72.4, 65.8\n",
      "it:2, imagenet, wrn50-2, lid, cw, pgd, 94.9, 78.5\n",
      "it:2, imagenet, wrn50-2, lid, cw, pgd, 81.9, 69.8\n",
      "it:2, imagenet, wrn50-2, lid, cw, aa, 99.7, 81.0\n",
      "it:2, imagenet, wrn50-2, lid, cw, aa, 95.5, 76.2\n",
      "it:2, imagenet, wrn50-2, lid, cw, df, 54.0, 52.5\n",
      "it:2, imagenet, wrn50-2, lid, cw, df, 53.3, 53.4\n"
     ]
    },
    {
     "name": "stderr",
     "output_type": "stream",
     "text": [
      "/home/lorenzp/.conda/envs/cuda--11-1-1--pytorch--1-9-0/lib/python3.9/site-packages/sklearn/linear_model/_logistic.py:1523: UserWarning: 'n_jobs' > 1 does not have any effect when 'solver' is set to 'liblinear'. Got 'n_jobs' = 8.\n",
      "  warnings.warn(\n"
     ]
    },
    {
     "name": "stdout",
     "output_type": "stream",
     "text": [
      "it:2, imagenet, wrn50-2, multilid, fgsm, bim, 70.4, 63.0\n",
      "it:2, imagenet, wrn50-2, multilid, fgsm, bim, 54.1, 51.5\n",
      "it:2, imagenet, wrn50-2, multilid, fgsm, pgd, 67.2, 58.4\n",
      "it:2, imagenet, wrn50-2, multilid, fgsm, pgd, 58.1, 53.9\n",
      "it:2, imagenet, wrn50-2, multilid, fgsm, aa, 74.2, 65.9\n",
      "it:2, imagenet, wrn50-2, multilid, fgsm, aa, 53.1, 50.5\n",
      "it:2, imagenet, wrn50-2, multilid, fgsm, df, 51.7, 51.1\n",
      "it:2, imagenet, wrn50-2, multilid, fgsm, df, 49.4, 49.2\n",
      "it:2, imagenet, wrn50-2, multilid, fgsm, cw, 51.9, 51.6\n",
      "it:2, imagenet, wrn50-2, multilid, fgsm, cw, 50.3, 50.7\n"
     ]
    },
    {
     "name": "stderr",
     "output_type": "stream",
     "text": [
      "/home/lorenzp/.conda/envs/cuda--11-1-1--pytorch--1-9-0/lib/python3.9/site-packages/sklearn/linear_model/_logistic.py:1523: UserWarning: 'n_jobs' > 1 does not have any effect when 'solver' is set to 'liblinear'. Got 'n_jobs' = 8.\n",
      "  warnings.warn(\n"
     ]
    },
    {
     "name": "stdout",
     "output_type": "stream",
     "text": [
      "it:2, imagenet, wrn50-2, multilid, bim, fgsm, 61.2, 56.5\n",
      "it:2, imagenet, wrn50-2, multilid, bim, fgsm, 55.7, 51.7\n",
      "it:2, imagenet, wrn50-2, multilid, bim, pgd, 94.8, 88.6\n",
      "it:2, imagenet, wrn50-2, multilid, bim, pgd, 94.4, 89.2\n",
      "it:2, imagenet, wrn50-2, multilid, bim, aa, 99.7, 89.2\n",
      "it:2, imagenet, wrn50-2, multilid, bim, aa, 99.6, 92.2\n",
      "it:2, imagenet, wrn50-2, multilid, bim, df, 55.2, 52.4\n",
      "it:2, imagenet, wrn50-2, multilid, bim, df, 53.9, 52.6\n",
      "it:2, imagenet, wrn50-2, multilid, bim, cw, 53.3, 51.6\n",
      "it:2, imagenet, wrn50-2, multilid, bim, cw, 52.4, 51.0\n"
     ]
    },
    {
     "name": "stderr",
     "output_type": "stream",
     "text": [
      "/home/lorenzp/.conda/envs/cuda--11-1-1--pytorch--1-9-0/lib/python3.9/site-packages/sklearn/linear_model/_logistic.py:1523: UserWarning: 'n_jobs' > 1 does not have any effect when 'solver' is set to 'liblinear'. Got 'n_jobs' = 8.\n",
      "  warnings.warn(\n"
     ]
    },
    {
     "name": "stdout",
     "output_type": "stream",
     "text": [
      "it:2, imagenet, wrn50-2, multilid, pgd, fgsm, 59.5, 54.4\n",
      "it:2, imagenet, wrn50-2, multilid, pgd, fgsm, 55.7, 50.7\n",
      "it:2, imagenet, wrn50-2, multilid, pgd, bim, 94.1, 86.8\n",
      "it:2, imagenet, wrn50-2, multilid, pgd, bim, 92.5, 84.5\n",
      "it:2, imagenet, wrn50-2, multilid, pgd, aa, 99.8, 92.8\n",
      "it:2, imagenet, wrn50-2, multilid, pgd, aa, 99.6, 94.0\n",
      "it:2, imagenet, wrn50-2, multilid, pgd, df, 54.8, 52.1\n",
      "it:2, imagenet, wrn50-2, multilid, pgd, df, 53.2, 51.4\n",
      "it:2, imagenet, wrn50-2, multilid, pgd, cw, 52.9, 51.6\n",
      "it:2, imagenet, wrn50-2, multilid, pgd, cw, 52.9, 51.4\n"
     ]
    },
    {
     "name": "stderr",
     "output_type": "stream",
     "text": [
      "/home/lorenzp/.conda/envs/cuda--11-1-1--pytorch--1-9-0/lib/python3.9/site-packages/sklearn/linear_model/_logistic.py:1523: UserWarning: 'n_jobs' > 1 does not have any effect when 'solver' is set to 'liblinear'. Got 'n_jobs' = 8.\n",
      "  warnings.warn(\n"
     ]
    },
    {
     "name": "stdout",
     "output_type": "stream",
     "text": [
      "it:2, imagenet, wrn50-2, multilid, aa, fgsm, 55.7, 50.5\n",
      "it:2, imagenet, wrn50-2, multilid, aa, fgsm, 52.3, 50.1\n",
      "it:2, imagenet, wrn50-2, multilid, aa, bim, 91.8, 76.6\n",
      "it:2, imagenet, wrn50-2, multilid, aa, bim, 85.7, 61.6\n",
      "it:2, imagenet, wrn50-2, multilid, aa, pgd, 93.5, 75.6\n",
      "it:2, imagenet, wrn50-2, multilid, aa, pgd, 90.7, 72.4\n",
      "it:2, imagenet, wrn50-2, multilid, aa, df, 54.2, 50.6\n",
      "it:2, imagenet, wrn50-2, multilid, aa, df, 52.0, 50.1\n",
      "it:2, imagenet, wrn50-2, multilid, aa, cw, 52.6, 50.2\n",
      "it:2, imagenet, wrn50-2, multilid, aa, cw, 51.3, 50.2\n"
     ]
    },
    {
     "name": "stderr",
     "output_type": "stream",
     "text": [
      "/home/lorenzp/.conda/envs/cuda--11-1-1--pytorch--1-9-0/lib/python3.9/site-packages/sklearn/linear_model/_logistic.py:1523: UserWarning: 'n_jobs' > 1 does not have any effect when 'solver' is set to 'liblinear'. Got 'n_jobs' = 8.\n",
      "  warnings.warn(\n"
     ]
    },
    {
     "name": "stdout",
     "output_type": "stream",
     "text": [
      "it:2, imagenet, wrn50-2, multilid, df, fgsm, 55.7, 54.2\n",
      "it:2, imagenet, wrn50-2, multilid, df, fgsm, 53.5, 51.5\n",
      "it:2, imagenet, wrn50-2, multilid, df, bim, 89.7, 70.0\n",
      "it:2, imagenet, wrn50-2, multilid, df, bim, 72.0, 65.1\n",
      "it:2, imagenet, wrn50-2, multilid, df, pgd, 89.1, 73.2\n",
      "it:2, imagenet, wrn50-2, multilid, df, pgd, 73.1, 65.8\n",
      "it:2, imagenet, wrn50-2, multilid, df, aa, 97.6, 71.1\n",
      "it:2, imagenet, wrn50-2, multilid, df, aa, 54.0, 53.4\n",
      "it:2, imagenet, wrn50-2, multilid, df, cw, 53.5, 52.2\n",
      "it:2, imagenet, wrn50-2, multilid, df, cw, 53.1, 50.9\n"
     ]
    },
    {
     "name": "stderr",
     "output_type": "stream",
     "text": [
      "/home/lorenzp/.conda/envs/cuda--11-1-1--pytorch--1-9-0/lib/python3.9/site-packages/sklearn/linear_model/_logistic.py:1523: UserWarning: 'n_jobs' > 1 does not have any effect when 'solver' is set to 'liblinear'. Got 'n_jobs' = 8.\n",
      "  warnings.warn(\n"
     ]
    },
    {
     "name": "stdout",
     "output_type": "stream",
     "text": [
      "it:2, imagenet, wrn50-2, multilid, cw, fgsm, 58.6, 55.5\n",
      "it:2, imagenet, wrn50-2, multilid, cw, fgsm, 54.2, 54.2\n",
      "it:2, imagenet, wrn50-2, multilid, cw, bim, 87.1, 71.0\n",
      "it:2, imagenet, wrn50-2, multilid, cw, bim, 73.7, 66.4\n",
      "it:2, imagenet, wrn50-2, multilid, cw, pgd, 85.5, 74.4\n",
      "it:2, imagenet, wrn50-2, multilid, cw, pgd, 76.0, 66.4\n",
      "it:2, imagenet, wrn50-2, multilid, cw, aa, 94.3, 76.5\n",
      "it:2, imagenet, wrn50-2, multilid, cw, aa, 78.1, 69.2\n",
      "it:2, imagenet, wrn50-2, multilid, cw, df, 53.6, 52.6\n",
      "it:2, imagenet, wrn50-2, multilid, cw, df, 51.6, 51.2\n"
     ]
    }
   ],
   "source": [
    "factor = 0.8\n",
    "nr_mean = 3\n",
    "mean_tables = []\n",
    "nr_samples=2000\n",
    "\n",
    "attacks = ['fgsm', 'bim', 'pgd', 'aa', 'df', 'cw']\n",
    "datasets = ['cifar10', 'cifar100', 'imagenet']\n",
    "models = ['wrn28-10', 'vgg16', 'wrn50-2']\n",
    "detectors = ['lid', 'multilid']\n",
    "\n",
    "results = {}\n",
    "\n",
    "for it in range(nr_mean):\n",
    "    # it = 2\n",
    "    random_state = [21, 30, 65][it] # random.randint(100)\n",
    "    final_table = np.zeros((len(attacks), 2))\n",
    "    base_path = os.path.join(home, 'workspace/multiLID/data/extract/run_{}/'.format(it+1))\n",
    "    results[it] = {}\n",
    "\n",
    "    for dataset in datasets:\n",
    "        if dataset == 'imagenet':\n",
    "            k=30\n",
    "        else:\n",
    "            k=20\n",
    "\n",
    "        for model in models:\n",
    "            if dataset in ['cifar10', 'cifar100'] and model in ['wrn50-2']:\n",
    "                continue\n",
    "            if dataset in ['imagenet'] and model in  ['wrn28-10', 'vgg16']:\n",
    "                continue\n",
    "\n",
    "            if not dataset in results[it]:\n",
    "                results[it][dataset] = {}\n",
    "            if not model in results[it][dataset]:\n",
    "                results[it][dataset][model] = {}\n",
    "\n",
    "            for detector in detectors:\n",
    "                nor_fgsm  = torch.load(os.path.join(base_path,  f\"{dataset}/{model}/{detector}/fgsm/k{k}/{detector}_normalos_8255.pt\"))[:nr_samples]\n",
    "                adv_fgsm  = torch.load(os.path.join(base_path,  f\"{dataset}/{model}/{detector}/fgsm/k{k}/{detector}_adverlos_8255.pt\"))[:nr_samples]\n",
    "                nor_bim   = torch.load(os.path.join(base_path,  f\"{dataset}/{model}/{detector}/bim/k{k}/{detector}_normalos_8255.pt\"))[:nr_samples]\n",
    "                adv_bim   = torch.load(os.path.join(base_path,  f\"{dataset}/{model}/{detector}/bim/k{k}/{detector}_adverlos_8255.pt\"))[:nr_samples]\n",
    "                nor_pgd   = torch.load(os.path.join(base_path,  f\"{dataset}/{model}/{detector}/pgd/k{k}/{detector}_normalos_8255.pt\"))[:nr_samples]\n",
    "                adv_pgd   = torch.load(os.path.join(base_path,  f\"{dataset}/{model}/{detector}/pgd/k{k}/{detector}_adverlos_8255.pt\"))[:nr_samples]\n",
    "                nor_aa    = torch.load(os.path.join(base_path,  f\"{dataset}/{model}/{detector}/aa/k{k}/{detector}_normalos_8255.pt\"))[:nr_samples]\n",
    "                adv_aa    = torch.load(os.path.join(base_path,  f\"{dataset}/{model}/{detector}/aa/k{k}/{detector}_adverlos_8255.pt\"))[:nr_samples]\n",
    "                nor_df    = torch.load(os.path.join(base_path,  f\"{dataset}/{model}/{detector}/df/k{k}/{detector}_normalos.pt\"))[:nr_samples]\n",
    "                adv_df    = torch.load(os.path.join(base_path,  f\"{dataset}/{model}/{detector}/df/k{k}/{detector}_adverlos.pt\"))[:nr_samples]\n",
    "                nor_cw    = torch.load(os.path.join(base_path,  f\"{dataset}/{model}/{detector}/cw/k{k}/{detector}_normalos.pt\"))[:nr_samples]\n",
    "                adv_cw    = torch.load(os.path.join(base_path,  f\"{dataset}/{model}/{detector}/cw/k{k}/{detector}_adverlos.pt\"))[:nr_samples]\n",
    "                \n",
    "                assert(nor_fgsm.shape[0] == nr_samples)\n",
    "                assert(nor_bim.shape[0] == nr_samples)\n",
    "                assert(nor_pgd.shape[0] == nr_samples)\n",
    "                assert(nor_aa.shape[0] == nr_samples)\n",
    "                assert(nor_df.shape[0] == nr_samples)\n",
    "                assert(nor_cw.shape[0] == nr_samples)\n",
    "\n",
    "                nor = [nor_fgsm, nor_bim, nor_pgd, nor_aa, nor_df, nor_cw]\n",
    "                adv = [adv_fgsm, adv_bim, adv_pgd, adv_aa, adv_df, adv_cw]\n",
    "\n",
    "                for source in range(len(nor)):\n",
    "                    X_train_src, y_train_src, X_test_src, y_test_src = prepare_datasets(nor[source], adv[source], factor)\n",
    "                    clf_lr, scaler, y_hat_lr, y_hat_pr_lr = LR(X_train_src, y_train_src, X_test_src, y_test_src)\n",
    "                    clf_rf, y_hat_rf, y_hat_pr_rf = RF(X_train_src, y_train_src, X_test_src, y_test_src)\n",
    "\n",
    "                    for target in range(len(nor)):\n",
    "                        if source == target:\n",
    "                            continue\n",
    "\n",
    "                        auc_lr = 0;\n",
    "                        auc_rf = 0\n",
    "                        f1_lr = 0\n",
    "                        f1_rf = 0\n",
    "\n",
    "                        unique_classes = np.unique(y_test_src)\n",
    "                        if len(unique_classes) < 2:\n",
    "                            print(\"ROC AUC score is not defined when there is only one class.\")\n",
    "                            print(f\"it:{it}, {dataset}, {model}, {detector}, {source}, {target}\")\n",
    "                        else:\n",
    "                            X_train_tar, y_train_tar, X_test_tar, y_test_tar = prepare_datasets(nor[target], adv[target], factor)\n",
    "                            y_test_lr, y_hat_pr_lr = predictions(clf_lr, X_test_tar, scaler)\n",
    "                            auc_lr = round(100*roc_auc_score(y_test_tar, y_hat_pr_lr), 1)\n",
    "                            # f1_lr =  round(100*f1_score(y_test_tar, y_hat_lr), 1)\n",
    "                            acc_lr =  round(100*accuracy_score(y_test_tar, y_test_lr), 1)\n",
    "\n",
    "                            y_test_rf, y_hat_pr_rf = predictions(clf_rf, X_test_tar)\n",
    "                            auc_rf = round(100*roc_auc_score(y_test_tar, y_hat_pr_rf), 1)\n",
    "                            # f1_rf =  round(100*f1_score(y_test_tar, y_hat_rf), 1)\n",
    "                            acc_rf =  round(100*accuracy_score(y_test_tar, y_test_rf), 1)\n",
    "                            print(f\"it:{it}, {dataset}, {model}, {detector}, {attacks[source]}, {attacks[target]}, {auc_lr}, {acc_lr}\")\n",
    "                            print(f\"it:{it}, {dataset}, {model}, {detector}, {attacks[source]}, {attacks[target]}, {auc_rf}, {acc_rf}\")\n",
    "\n",
    "                        if not detector in results[it][dataset][model]:\n",
    "                            results[it][dataset][model][detector] = {}\n",
    "                        if not attacks[source] in results[it][dataset][model][detector]: \n",
    "                            results[it][dataset][model][detector][attacks[source]] = {}\n",
    "                        if not attacks[target] in results[it][dataset][model][detector][attacks[source]]: \n",
    "                            results[it][dataset][model][detector][attacks[source]][attacks[target]] = {}\n",
    "\n",
    "                        results[it][dataset][model][detector][attacks[source]][attacks[target]]['auc_lr'] = auc_lr\n",
    "                        results[it][dataset][model][detector][attacks[source]][attacks[target]]['auc_rf'] = auc_rf\n",
    "                        results[it][dataset][model][detector][attacks[source]][attacks[target]]['acc_lr'] = acc_lr\n",
    "                        results[it][dataset][model][detector][attacks[source]][attacks[target]]['acc_rf'] = acc_rf"
   ]
  },
  {
   "cell_type": "markdown",
   "id": "04e74111-ee97-4fb9-bf13-23c6725d54fa",
   "metadata": {},
   "source": [
    "# LID"
   ]
  },
  {
   "cell_type": "code",
   "execution_count": 72,
   "id": "f8c86b77-46ee-472c-949d-b8a8cf71063c",
   "metadata": {},
   "outputs": [
    {
     "name": "stdout",
     "output_type": "stream",
     "text": [
      "\\textbf{FGSM} & \\textbf{BIM} & $62.3 \\pm 102.5$ & $55.7 \\pm 35.5$ & $62.9 \\pm 118.6$ & $57.3 \\pm 33.1$ & $66.8 \\pm 191.5$ & $62.3 \\pm 107.5$ & $79.2 \\pm 0.8$ & $64.4 \\pm 3.9$ & $76.3 \\pm 0.2$ & $62.1 \\pm 1.2$ \\\\\n",
      "\\textbf{FGSM} & \\textbf{PGD} & $78.3 \\pm 65.7$ & $61.2 \\pm 208.8$ & $86.9 \\pm 0.4$ & $77.7 \\pm 0.5$ & $95.6 \\pm 1.0$ & $87.2 \\pm 1.8$ & $66.1 \\pm 273.0$ & $61.1 \\pm 217.0$ & $60.6 \\pm 265.3$ & $58.3 \\pm 137.2$ \\\\\n",
      "\\textbf{FGSM} & \\textbf{AA} & $78.9 \\pm 68.6$ & $60.8 \\pm 229.0$ & $86.9 \\pm 0.3$ & $79.5 \\pm 0.5$ & $96.5 \\pm 0.2$ & $88.5 \\pm 0.7$ & $66.6 \\pm 321.8$ & $61.7 \\pm 268.3$ & $62.0 \\pm 319.2$ & $59.4 \\pm 176.1$ \\\\\n",
      "\\textbf{FGSM} & \\textbf{DF} & $79.4 \\pm 45.2$ & $60.4 \\pm 191.4$ & $86.4 \\pm 0.0$ & $74.0 \\pm 1.3$ & $87.4 \\pm 2.2$ & $74.3 \\pm 2.2$ & $66.5 \\pm 284.8$ & $60.8 \\pm 204.7$ & $61.7 \\pm 280.9$ & $58.4 \\pm 136.7$ \\\\\n",
      "\\textbf{FGSM} & \\textbf{CW} & $87.8 \\pm 0.9$ & $79.4 \\pm 0.0$ & $67.5 \\pm 70.9$ & $55.0 \\pm 50.0$ & $67.2 \\pm 99.5$ & $54.8 \\pm 46.1$ & $72.5 \\pm 227.6$ & $61.7 \\pm 270.7$ & $92.8 \\pm 0.3$ & $82.9 \\pm 0.4$ \\\\ \n",
      "\\hline \n",
      "\\textbf{FGSM} & \\textbf{$\\mu$} & $69.5 \\pm 82.7$ & $60.4 \\pm 36.3$ & $77.5 \\pm 121.1$ & $69.1 \\pm 113.1$ & $78.2 \\pm 142.0$ & $70.0 \\pm 134.9$ & $76.3 \\pm 122.6$ & $65.6 \\pm 107.3$ & $77.5 \\pm 79.8$ & $66.8 \\pm 73.4$\\\\ \n",
      "\\hline\n",
      "\n",
      "\n",
      "\\textbf{BIM} & \\textbf{FGSM} & $85.5 \\pm 0.8$ & $77.8 \\pm 0.2$ & $66.3 \\pm 43.3$ & $54.6 \\pm 41.7$ & $66.5 \\pm 72.4$ & $54.7 \\pm 43.6$ & $72.0 \\pm 192.2$ & $60.8 \\pm 233.3$ & $94.0 \\pm 0.2$ & $86.6 \\pm 1.0$ \\\\\n",
      "\\textbf{BIM} & \\textbf{PGD} & $81.0 \\pm 0.6$ & $74.0 \\pm 0.4$ & $78.8 \\pm 0.9$ & $72.0 \\pm 1.0$ & $92.0 \\pm 1.7$ & $84.6 \\pm 2.6$ & $78.8 \\pm 0.1$ & $69.2 \\pm 0.4$ & $75.9 \\pm 0.4$ & $66.8 \\pm 0.1$ \\\\\n",
      "\\textbf{BIM} & \\textbf{AA} & $81.3 \\pm 0.6$ & $72.9 \\pm 1.4$ & $85.0 \\pm 0.2$ & $75.5 \\pm 0.5$ & $95.6 \\pm 0.4$ & $87.9 \\pm 1.1$ & $80.5 \\pm 0.0$ & $71.6 \\pm 0.1$ & $78.3 \\pm 0.4$ & $69.0 \\pm 2.0$ \\\\\n",
      "\\textbf{BIM} & \\textbf{DF} & $81.6 \\pm 0.1$ & $73.5 \\pm 0.6$ & $87.6 \\pm 0.8$ & $79.5 \\pm 0.5$ & $95.5 \\pm 0.3$ & $87.3 \\pm 1.6$ & $79.2 \\pm 0.9$ & $71.4 \\pm 0.5$ & $77.2 \\pm 0.8$ & $68.7 \\pm 0.3$ \\\\\n",
      "\\textbf{BIM} & \\textbf{CW} & $82.7 \\pm 0.1$ & $71.2 \\pm 0.4$ & $86.7 \\pm 0.4$ & $75.4 \\pm 0.4$ & $84.1 \\pm 0.3$ & $71.8 \\pm 0.5$ & $80.7 \\pm 1.4$ & $67.1 \\pm 0.1$ & $78.2 \\pm 1.1$ & $63.2 \\pm 0.3$ \\\\ \n",
      "\\hline \n",
      "\\textbf{BIM} & \\textbf{$\\mu$} & $76.8 \\pm 61.8$ & $66.9 \\pm 63.9$ & $81.3 \\pm 0.8$ & $73.3 \\pm 0.9$ & $84.1 \\pm 0.3$ & $75.4 \\pm 1.0$ & $84.2 \\pm 0.6$ & $76.1 \\pm 0.7$ & $82.5 \\pm 0.7$ & $69.7 \\pm 0.4$\\\\ \n",
      "\\hline\n",
      "\n",
      "\n",
      "\\textbf{PGD} & \\textbf{FGSM} & $80.7 \\pm 0.2$ & $72.6 \\pm 0.4$ & $83.6 \\pm 0.7$ & $76.1 \\pm 2.6$ & $80.5 \\pm 0.4$ & $73.8 \\pm 0.8$ & $93.8 \\pm 0.1$ & $85.3 \\pm 0.1$ & $82.9 \\pm 0.5$ & $74.5 \\pm 0.1$ \\\\\n",
      "\\textbf{PGD} & \\textbf{BIM} & $79.8 \\pm 0.1$ & $72.6 \\pm 0.5$ & $84.2 \\pm 0.4$ & $77.4 \\pm 1.2$ & $81.1 \\pm 0.2$ & $74.6 \\pm 1.8$ & $94.0 \\pm 0.1$ & $85.2 \\pm 0.2$ & $86.3 \\pm 0.2$ & $77.5 \\pm 0.2$ \\\\\n",
      "\\textbf{PGD} & \\textbf{AA} & $90.1 \\pm 10.2$ & $78.8 \\pm 10.5$ & $91.0 \\pm 4.2$ & $80.3 \\pm 15.4$ & $94.8 \\pm 4.8$ & $87.6 \\pm 9.1$ & $54.5 \\pm 0.2$ & $52.1 \\pm 0.1$ & $52.1 \\pm 0.1$ & $50.7 \\pm 0.3$ \\\\\n",
      "\\textbf{PGD} & \\textbf{DF} & $94.2 \\pm 2.9$ & $84.1 \\pm 8.8$ & $97.7 \\pm 0.1$ & $91.9 \\pm 1.1$ & $99.3 \\pm 0.0$ & $94.8 \\pm 0.2$ & $52.4 \\pm 1.1$ & $49.2 \\pm 0.3$ & $50.9 \\pm 0.2$ & $48.9 \\pm 0.1$ \\\\\n",
      "\\textbf{PGD} & \\textbf{CW} & $93.6 \\pm 5.8$ & $77.2 \\pm 48.2$ & $95.2 \\pm 0.9$ & $87.3 \\pm 1.8$ & $99.3 \\pm 0.0$ & $94.9 \\pm 0.2$ & $52.1 \\pm 1.0$ & $49.7 \\pm 0.1$ & $51.2 \\pm 0.2$ & $49.7 \\pm 0.3$ \\\\ \n",
      "\\hline \n",
      "\\textbf{PGD} & \\textbf{$\\mu$} & $84.3 \\pm 0.4$ & $76.5 \\pm 0.8$ & $85.1 \\pm 0.2$ & $77.5 \\pm 0.8$ & $76.5 \\pm 3.9$ & $69.9 \\pm 7.1$ & $78.9 \\pm 0.9$ & $73.8 \\pm 2.1$ & $78.3 \\pm 1.6$ & $71.7 \\pm 10.1$\\\\ \n",
      "\\hline\n",
      "\n",
      "\n",
      "\\textbf{AA} & \\textbf{FGSM} & $93.4 \\pm 2.7$ & $71.2 \\pm 15.6$ & $94.4 \\pm 1.2$ & $80.8 \\pm 8.5$ & $97.0 \\pm 0.1$ & $87.4 \\pm 2.1$ & $52.2 \\pm 0.9$ & $50.0 \\pm 0.0$ & $50.6 \\pm 0.0$ & $49.9 \\pm 0.1$ \\\\\n",
      "\\textbf{AA} & \\textbf{BIM} & $93.3 \\pm 1.2$ & $78.5 \\pm 0.8$ & $40.9 \\pm 114.9$ & $48.2 \\pm 40.9$ & $29.2 \\pm 128.7$ & $41.1 \\pm 42.8$ & $20.8 \\pm 63.1$ & $37.1 \\pm 12.8$ & $52.5 \\pm 0.0$ & $51.5 \\pm 0.2$ \\\\\n",
      "\\textbf{AA} & \\textbf{PGD} & $87.7 \\pm 2.5$ & $72.8 \\pm 4.2$ & $39.3 \\pm 3.5$ & $42.9 \\pm 3.4$ & $30.2 \\pm 5.3$ & $38.3 \\pm 9.7$ & $20.0 \\pm 3.6$ & $33.9 \\pm 4.4$ & $54.1 \\pm 0.6$ & $52.6 \\pm 0.2$ \\\\\n",
      "\\textbf{AA} & \\textbf{DF} & $77.7 \\pm 0.9$ & $70.3 \\pm 0.0$ & $79.4 \\pm 0.5$ & $72.9 \\pm 0.6$ & $83.5 \\pm 0.4$ & $76.4 \\pm 0.2$ & $53.3 \\pm 0.2$ & $50.5 \\pm 0.2$ & $54.7 \\pm 1.1$ & $52.0 \\pm 0.4$ \\\\\n",
      "\\textbf{AA} & \\textbf{CW} & $70.6 \\pm 0.3$ & $64.2 \\pm 1.0$ & $83.0 \\pm 2.4$ & $75.9 \\pm 3.1$ & $86.3 \\pm 0.2$ & $79.1 \\pm 0.4$ & $52.8 \\pm 0.7$ & $50.2 \\pm 0.6$ & $56.8 \\pm 0.4$ & $51.3 \\pm 1.5$ \\\\ \n",
      "\\hline \n",
      "\\textbf{AA} & \\textbf{$\\mu$} & $77.5 \\pm 1.0$ & $67.9 \\pm 5.3$ & $47.3 \\pm 61.6$ & $51.3 \\pm 19.5$ & $46.2 \\pm 3.1$ & $48.1 \\pm 4.4$ & $69.7 \\pm 0.6$ & $64.4 \\pm 0.3$ & $69.9 \\pm 0.8$ & $64.1 \\pm 1.3$\\\\ \n",
      "\\hline\n",
      "\n",
      "\n",
      "\\textbf{DF} & \\textbf{FGSM} & $69.5 \\pm 0.3$ & $64.0 \\pm 0.7$ & $80.3 \\pm 1.3$ & $72.6 \\pm 4.0$ & $83.7 \\pm 1.0$ & $77.4 \\pm 0.2$ & $52.5 \\pm 0.5$ & $50.6 \\pm 1.6$ & $58.8 \\pm 0.7$ & $51.8 \\pm 1.6$ \\\\\n",
      "\\textbf{DF} & \\textbf{BIM} & $71.9 \\pm 0.8$ & $62.2 \\pm 0.6$ & $80.3 \\pm 4.8$ & $71.9 \\pm 4.5$ & $80.6 \\pm 1.8$ & $71.6 \\pm 2.7$ & $53.0 \\pm 0.2$ & $49.6 \\pm 1.1$ & $54.3 \\pm 0.1$ & $49.6 \\pm 1.2$ \\\\\n",
      "\\textbf{DF} & \\textbf{PGD} & $68.4 \\pm 2.4$ & $64.1 \\pm 3.4$ & $72.5 \\pm 1.0$ & $65.4 \\pm 0.1$ & $74.4 \\pm 0.6$ & $68.6 \\pm 0.1$ & $79.3 \\pm 12.4$ & $70.0 \\pm 11.2$ & $55.6 \\pm 0.2$ & $54.1 \\pm 0.7$ \\\\\n",
      "\\textbf{DF} & \\textbf{AA} & $61.9 \\pm 2.4$ & $58.7 \\pm 2.3$ & $73.7 \\pm 11.5$ & $66.1 \\pm 2.8$ & $82.9 \\pm 7.1$ & $71.1 \\pm 2.7$ & $77.5 \\pm 10.9$ & $65.8 \\pm 1.8$ & $52.5 \\pm 0.3$ & $52.0 \\pm 0.3$ \\\\\n",
      "\\textbf{DF} & \\textbf{CW} & $70.1 \\pm 10.0$ & $64.5 \\pm 5.7$ & $78.4 \\pm 2.4$ & $71.5 \\pm 1.8$ & $94.2 \\pm 5.8$ & $77.5 \\pm 6.0$ & $51.5 \\pm 0.1$ & $51.1 \\pm 0.9$ & $51.3 \\pm 0.0$ & $50.9 \\pm 0.0$ \\\\ \n",
      "\\hline \n",
      "\\textbf{DF} & \\textbf{$\\mu$} & $69.0 \\pm 0.8$ & $63.3 \\pm 1.6$ & $68.0 \\pm 1.5$ & $61.0 \\pm 2.0$ & $70.0 \\pm 3.3$ & $64.4 \\pm 3.1$ & $69.7 \\pm 6.5$ & $62.7 \\pm 2.0$ & $69.1 \\pm 3.7$ & $63.1 \\pm 2.9$\\\\ \n",
      "\\hline\n",
      "\n",
      "\n",
      "\\textbf{CW} & \\textbf{FGSM} & $56.5 \\pm 1.1$ & $51.3 \\pm 0.4$ & $93.8 \\pm 1.3$ & $87.0 \\pm 2.0$ & $99.9 \\pm 0.0$ & $95.8 \\pm 0.2$ & $54.2 \\pm 0.1$ & $51.6 \\pm 0.1$ & $54.1 \\pm 0.1$ & $50.9 \\pm 0.1$ \\\\\n",
      "\\textbf{CW} & \\textbf{BIM} & $59.0 \\pm 2.3$ & $51.2 \\pm 0.3$ & $91.8 \\pm 2.7$ & $82.2 \\pm 2.6$ & $100.0 \\pm 0.0$ & $97.0 \\pm 0.2$ & $54.1 \\pm 0.0$ & $51.0 \\pm 0.1$ & $53.9 \\pm 0.0$ & $51.3 \\pm 0.1$ \\\\\n",
      "\\textbf{CW} & \\textbf{PGD} & $52.7 \\pm 1.0$ & $49.8 \\pm 0.2$ & $89.5 \\pm 1.8$ & $62.9 \\pm 3.4$ & $88.0 \\pm 1.8$ & $63.6 \\pm 1.2$ & $53.4 \\pm 0.0$ & $50.2 \\pm 0.0$ & $53.1 \\pm 0.0$ & $50.0 \\pm 0.0$ \\\\\n",
      "\\textbf{CW} & \\textbf{AA} & $57.4 \\pm 3.1$ & $54.8 \\pm 1.1$ & $92.6 \\pm 0.6$ & $77.6 \\pm 0.7$ & $94.9 \\pm 0.0$ & $78.2 \\pm 1.0$ & $99.8 \\pm 0.0$ & $79.8 \\pm 0.4$ & $54.2 \\pm 0.0$ & $52.5 \\pm 0.1$ \\\\\n",
      "\\textbf{CW} & \\textbf{DF} & $56.2 \\pm 0.0$ & $54.7 \\pm 0.9$ & $92.5 \\pm 2.2$ & $75.6 \\pm 2.0$ & $94.5 \\pm 0.9$ & $77.4 \\pm 2.6$ & $99.8 \\pm 0.0$ & $79.1 \\pm 2.7$ & $54.4 \\pm 0.1$ & $53.0 \\pm 0.5$ \\\\ \n",
      "\\hline \n",
      "\\textbf{CW} & \\textbf{$\\mu$} & $71.7 \\pm 0.5$ & $67.3 \\pm 0.6$ & $71.8 \\pm 1.0$ & $66.5 \\pm 0.7$ & $67.3 \\pm 0.9$ & $55.3 \\pm 1.0$ & $79.8 \\pm 0.8$ & $68.6 \\pm 0.7$ & $79.5 \\pm 0.7$ & $68.0 \\pm 1.7$\\\\ \n",
      "\\hline\n",
      "\n",
      "\n"
     ]
    }
   ],
   "source": [
    "source_attacks = ['fgsm', 'bim', 'pgd', 'aa', 'df', 'cw']\n",
    "# source_attacks = ['fgsm',  'bim']\n",
    "target_attacks = ['fgsm', 'bim', 'pgd', 'aa', 'df', 'cw']\n",
    "models = ['wrn28-10', 'vgg16', 'wrn50-2']\n",
    "datasets =  ['cifar10', 'cifar100', 'imagenet']\n",
    "\n",
    "lid_list_mean = []\n",
    "\n",
    "for it_mean in range(nr_mean):\n",
    "    lid_list = []\n",
    "\n",
    "    for dataset in datasets:\n",
    "        for model in models:\n",
    "            if dataset in ['cifar10', 'cifar100'] and model in ['wrn50-2']:\n",
    "                continue\n",
    "            if dataset in ['imagenet'] and model in  ['wrn28-10', 'vgg16']:\n",
    "                continue\n",
    "            \n",
    "            for source_attack in source_attacks:\n",
    "                tmp = np.zeros((len(target_attacks)-1, 2))\n",
    "                iter_tar = 0\n",
    "                \n",
    "                for target_attack in target_attacks:\n",
    "                    if target_attack == source_attack:\n",
    "                        continue\n",
    "                        \n",
    "                    for it, val in enumerate(results[it_mean][dataset][model]['lid'][source_attack][target_attack].items()):\n",
    "                        # print(val)\n",
    "                        if 'auc_lr' in val[0]:\n",
    "                            tmp[iter_tar, 0] = val[1]\n",
    "                        if 'acc_lr' in val[0]:\n",
    "                            tmp[iter_tar, 1] = val[1]\n",
    "                    iter_tar += 1\n",
    "                \n",
    "                lid_list.append(tmp.copy())\n",
    "    lid_list_mean.append(np.stack(lid_list))\n",
    "\n",
    "lid_mean = np.mean(lid_list_mean, axis=0)\n",
    "lid_var = np.var(lid_list_mean, axis=0)\n",
    "\n",
    "it = 0\n",
    "\n",
    "for i in range(lid_mean.shape[0]):\n",
    "    \n",
    "    attacks_saved = target_attacks.copy()\n",
    "    \n",
    "    if i % 5 == 0:\n",
    "        # print(it)\n",
    "        source = source_attacks[it]\n",
    "        it = it + 1\n",
    "    attacks_saved.remove(source)\n",
    "\n",
    "    latex_table = \"\"\n",
    "    latex_table += \"\\\\textbf{\"+f\"{source.upper()}\"+\"} & \\\\textbf{\"+f\"{attacks_saved[int((i) % 5)].upper()}\"+\"} & \"\n",
    "    for j in range(lid_mean.shape[1]): \n",
    "        mean = lid_mean[i, j, 0]\n",
    "        variance = lid_var[i, j, 0]\n",
    "        latex_table += f\"${mean:.1f} \\\\pm {variance:.1f}$ & \"\n",
    "        mean = lid_mean[i, j, 1]\n",
    "        variance = lid_var[i, j, 1]\n",
    "        latex_table += f\"${mean:.1f} \\\\pm {variance:.1f}$ & \"\n",
    "        \n",
    "    latex_table = latex_table[:-2] + \"\\\\\\\\\"\n",
    "    \n",
    "    if int((i+1) % 5)==0:\n",
    "        \n",
    "        latex_table += \" \\n\\hline\"\n",
    "        latex_table += \" \\n\"\n",
    "        \n",
    "        start = i+1-5\n",
    "        end = i+1\n",
    "        avg_mean = lid_mean[start:end].mean(axis=1).flatten()\n",
    "        avg_var  = lid_var[start:end].mean(axis=1).flatten()\n",
    "        latex_table += \"\\\\textbf{\"+f\"{source.upper()}\"+\"} & \\\\textbf{$\\mu$}\"\n",
    "        for k in range(len(avg_mean)):\n",
    "            latex_table += f\" & ${avg_mean[k]:.1f} \\\\pm {avg_var[k]:.1f}$\"\n",
    "        latex_table = latex_table + \"\\\\\\\\ \\n\\hline\"\n",
    "        \n",
    "        latex_table += \"\\n\\n\"\n",
    "    \n",
    "    print(latex_table)"
   ]
  },
  {
   "cell_type": "code",
   "execution_count": 73,
   "id": "756bbbc6-5492-44ca-bf74-c4ad6e3fa197",
   "metadata": {},
   "outputs": [
    {
     "name": "stdout",
     "output_type": "stream",
     "text": [
      "\\textbf{FGSM} & \\textbf{BIM} & $62.3 \\pm 166.8$ & $57.9 \\pm 79.1$ & $61.0 \\pm 220.7$ & $55.7 \\pm 100.7$ & $68.5 \\pm 243.0$ & $62.4 \\pm 198.1$ & $79.6 \\pm 0.2$ & $66.5 \\pm 2.0$ & $75.7 \\pm 0.6$ & $64.9 \\pm 7.3$ \\\\\n",
      "\\textbf{FGSM} & \\textbf{PGD} & $54.4 \\pm 498.7$ & $54.1 \\pm 238.9$ & $90.0 \\pm 1.1$ & $82.3 \\pm 3.9$ & $94.8 \\pm 1.4$ & $88.0 \\pm 2.0$ & $64.4 \\pm 133.6$ & $59.8 \\pm 61.7$ & $59.1 \\pm 130.7$ & $56.0 \\pm 49.3$ \\\\\n",
      "\\textbf{FGSM} & \\textbf{AA} & $55.6 \\pm 535.7$ & $55.5 \\pm 355.3$ & $87.3 \\pm 0.1$ & $79.6 \\pm 0.2$ & $95.6 \\pm 0.9$ & $89.2 \\pm 1.0$ & $66.3 \\pm 216.2$ & $61.1 \\pm 141.7$ & $61.1 \\pm 224.0$ & $57.4 \\pm 115.8$ \\\\\n",
      "\\textbf{FGSM} & \\textbf{DF} & $58.3 \\pm 499.3$ & $57.9 \\pm 234.0$ & $86.3 \\pm 1.4$ & $73.2 \\pm 0.4$ & $88.7 \\pm 5.8$ & $77.7 \\pm 5.2$ & $69.3 \\pm 199.5$ & $62.0 \\pm 104.3$ & $62.8 \\pm 248.7$ & $57.0 \\pm 91.6$ \\\\\n",
      "\\textbf{FGSM} & \\textbf{CW} & $86.5 \\pm 0.9$ & $78.3 \\pm 0.5$ & $62.5 \\pm 102.5$ & $54.7 \\pm 44.2$ & $66.6 \\pm 100.0$ & $56.2 \\pm 76.1$ & $71.5 \\pm 276.0$ & $63.3 \\pm 352.0$ & $93.4 \\pm 0.3$ & $87.3 \\pm 0.1$ \\\\ \n",
      "\\hline \n",
      "\\textbf{FGSM} & \\textbf{$\\mu$} & $69.4 \\pm 126.3$ & $61.5 \\pm 77.4$ & $72.5 \\pm 153.1$ & $68.0 \\pm 71.2$ & $73.2 \\pm 195.4$ & $68.5 \\pm 122.8$ & $73.1 \\pm 191.0$ & $65.6 \\pm 87.1$ & $76.1 \\pm 96.0$ & $68.0 \\pm 94.6$\\\\ \n",
      "\\hline\n",
      "\n",
      "\\textbf{BIM} & \\textbf{FGSM} & $84.5 \\pm 0.4$ & $77.3 \\pm 0.4$ & $53.9 \\pm 231.5$ & $55.5 \\pm 61.6$ & $59.2 \\pm 230.5$ & $56.8 \\pm 93.4$ & $66.1 \\pm 418.1$ & $62.9 \\pm 335.4$ & $94.6 \\pm 0.1$ & $89.2 \\pm 0.8$ \\\\\n",
      "\\textbf{BIM} & \\textbf{PGD} & $79.4 \\pm 0.1$ & $70.5 \\pm 0.5$ & $75.6 \\pm 0.6$ & $67.6 \\pm 0.4$ & $88.2 \\pm 3.5$ & $79.5 \\pm 0.5$ & $76.1 \\pm 0.0$ & $67.3 \\pm 0.9$ & $73.4 \\pm 0.2$ & $65.5 \\pm 0.1$ \\\\\n",
      "\\textbf{BIM} & \\textbf{AA} & $75.4 \\pm 0.5$ & $64.9 \\pm 0.1$ & $90.3 \\pm 0.5$ & $82.0 \\pm 0.7$ & $97.6 \\pm 0.2$ & $91.5 \\pm 0.1$ & $77.1 \\pm 2.4$ & $66.8 \\pm 5.1$ & $74.8 \\pm 1.3$ & $62.8 \\pm 1.4$ \\\\\n",
      "\\textbf{BIM} & \\textbf{DF} & $74.9 \\pm 0.4$ & $66.2 \\pm 0.1$ & $91.9 \\pm 1.2$ & $84.3 \\pm 1.2$ & $97.4 \\pm 0.1$ & $89.8 \\pm 0.4$ & $75.0 \\pm 3.1$ & $65.5 \\pm 3.7$ & $73.5 \\pm 0.2$ & $63.3 \\pm 0.4$ \\\\\n",
      "\\textbf{BIM} & \\textbf{CW} & $79.3 \\pm 0.1$ & $64.5 \\pm 0.7$ & $90.9 \\pm 1.2$ & $81.5 \\pm 0.3$ & $88.4 \\pm 0.3$ & $78.3 \\pm 0.3$ & $80.2 \\pm 1.0$ & $65.3 \\pm 0.8$ & $77.7 \\pm 0.2$ & $60.7 \\pm 0.9$ \\\\ \n",
      "\\hline \n",
      "\\textbf{BIM} & \\textbf{$\\mu$} & $71.7 \\pm 176.1$ & $68.3 \\pm 98.3$ & $78.5 \\pm 0.9$ & $70.1 \\pm 0.5$ & $83.0 \\pm 1.0$ & $73.6 \\pm 1.5$ & $82.5 \\pm 1.0$ & $73.8 \\pm 1.2$ & $83.3 \\pm 0.6$ & $70.0 \\pm 0.6$\\\\ \n",
      "\\hline\n",
      "\n",
      "\\textbf{PGD} & \\textbf{FGSM} & $78.8 \\pm 0.7$ & $71.7 \\pm 0.8$ & $81.9 \\pm 0.7$ & $75.4 \\pm 0.8$ & $78.9 \\pm 0.7$ & $72.8 \\pm 2.2$ & $91.5 \\pm 0.2$ & $82.6 \\pm 0.3$ & $83.3 \\pm 0.7$ & $76.8 \\pm 0.1$ \\\\\n",
      "\\textbf{PGD} & \\textbf{BIM} & $76.4 \\pm 0.8$ & $71.8 \\pm 0.7$ & $79.8 \\pm 0.1$ & $74.2 \\pm 0.7$ & $77.5 \\pm 0.0$ & $72.2 \\pm 0.2$ & $88.1 \\pm 3.6$ & $82.1 \\pm 1.6$ & $85.5 \\pm 0.0$ & $79.5 \\pm 0.2$ \\\\\n",
      "\\textbf{PGD} & \\textbf{AA} & $80.7 \\pm 11.2$ & $68.1 \\pm 1.2$ & $79.0 \\pm 11.8$ & $67.1 \\pm 3.4$ & $83.3 \\pm 3.7$ & $70.4 \\pm 0.4$ & $53.4 \\pm 0.1$ & $52.6 \\pm 0.0$ & $51.7 \\pm 0.2$ & $51.2 \\pm 0.1$ \\\\\n",
      "\\textbf{PGD} & \\textbf{DF} & $89.7 \\pm 0.8$ & $73.7 \\pm 7.4$ & $97.7 \\pm 0.0$ & $92.3 \\pm 0.4$ & $99.1 \\pm 0.0$ & $94.6 \\pm 0.3$ & $52.1 \\pm 2.5$ & $48.7 \\pm 0.7$ & $50.5 \\pm 0.0$ & $48.8 \\pm 0.1$ \\\\\n",
      "\\textbf{PGD} & \\textbf{CW} & $90.5 \\pm 2.7$ & $67.9 \\pm 38.9$ & $95.2 \\pm 0.4$ & $88.7 \\pm 0.3$ & $99.2 \\pm 0.0$ & $95.2 \\pm 0.6$ & $49.9 \\pm 0.8$ & $49.0 \\pm 0.2$ & $49.0 \\pm 0.2$ & $48.7 \\pm 0.1$ \\\\ \n",
      "\\hline \n",
      "\\textbf{PGD} & \\textbf{$\\mu$} & $82.9 \\pm 0.6$ & $75.9 \\pm 0.8$ & $81.5 \\pm 0.9$ & $75.9 \\pm 0.7$ & $69.6 \\pm 5.4$ & $61.9 \\pm 1.0$ & $77.8 \\pm 0.7$ & $71.6 \\pm 1.8$ & $76.8 \\pm 0.8$ & $69.9 \\pm 8.0$\\\\ \n",
      "\\hline\n",
      "\n",
      "\\textbf{AA} & \\textbf{FGSM} & $89.0 \\pm 12.1$ & $58.6 \\pm 11.9$ & $94.8 \\pm 0.5$ & $86.3 \\pm 0.4$ & $97.5 \\pm 0.1$ & $91.6 \\pm 0.2$ & $49.7 \\pm 0.5$ & $49.2 \\pm 0.0$ & $48.8 \\pm 0.6$ & $49.3 \\pm 0.1$ \\\\\n",
      "\\textbf{AA} & \\textbf{BIM} & $70.3 \\pm 9.3$ & $64.0 \\pm 7.3$ & $20.1 \\pm 7.3$ & $34.8 \\pm 0.1$ & $14.9 \\pm 0.5$ & $30.6 \\pm 4.1$ & $10.0 \\pm 3.5$ & $29.1 \\pm 2.1$ & $58.7 \\pm 0.7$ & $56.3 \\pm 1.3$ \\\\\n",
      "\\textbf{AA} & \\textbf{PGD} & $59.4 \\pm 5.8$ & $57.3 \\pm 7.2$ & $22.9 \\pm 16.7$ & $32.9 \\pm 4.2$ & $19.1 \\pm 17.7$ & $29.9 \\pm 4.6$ & $14.2 \\pm 25.7$ & $27.5 \\pm 2.7$ & $60.7 \\pm 1.9$ & $58.0 \\pm 2.2$ \\\\\n",
      "\\textbf{AA} & \\textbf{DF} & $73.0 \\pm 0.7$ & $66.8 \\pm 0.2$ & $77.7 \\pm 0.8$ & $71.4 \\pm 0.7$ & $78.3 \\pm 0.9$ & $71.3 \\pm 1.3$ & $55.7 \\pm 0.2$ & $53.5 \\pm 0.2$ & $56.6 \\pm 0.3$ & $54.7 \\pm 1.5$ \\\\\n",
      "\\textbf{AA} & \\textbf{CW} & $70.7 \\pm 1.9$ & $63.0 \\pm 3.9$ & $85.3 \\pm 1.8$ & $78.5 \\pm 3.7$ & $89.4 \\pm 0.6$ & $80.0 \\pm 0.7$ & $53.1 \\pm 0.0$ & $51.4 \\pm 1.2$ & $57.9 \\pm 0.4$ & $53.9 \\pm 0.3$ \\\\ \n",
      "\\hline \n",
      "\\textbf{AA} & \\textbf{$\\mu$} & $76.0 \\pm 2.8$ & $67.0 \\pm 2.5$ & $34.8 \\pm 4.3$ & $42.9 \\pm 3.0$ & $35.3 \\pm 13.6$ & $41.1 \\pm 4.2$ & $68.3 \\pm 0.6$ & $63.5 \\pm 0.8$ & $71.3 \\pm 1.0$ & $65.4 \\pm 2.0$\\\\ \n",
      "\\hline\n",
      "\n",
      "\\textbf{DF} & \\textbf{FGSM} & $70.5 \\pm 1.3$ & $59.8 \\pm 0.4$ & $80.5 \\pm 3.8$ & $72.4 \\pm 3.8$ & $88.4 \\pm 0.8$ & $80.2 \\pm 0.8$ & $53.7 \\pm 2.0$ & $52.1 \\pm 1.2$ & $57.8 \\pm 0.2$ & $54.2 \\pm 0.9$ \\\\\n",
      "\\textbf{DF} & \\textbf{BIM} & $70.3 \\pm 0.9$ & $60.5 \\pm 0.2$ & $82.4 \\pm 5.2$ & $73.6 \\pm 6.0$ & $85.7 \\pm 1.6$ & $77.8 \\pm 2.7$ & $52.8 \\pm 0.0$ & $50.1 \\pm 0.7$ & $56.8 \\pm 0.3$ & $53.0 \\pm 0.9$ \\\\\n",
      "\\textbf{DF} & \\textbf{PGD} & $58.8 \\pm 0.6$ & $56.1 \\pm 0.4$ & $51.4 \\pm 2.1$ & $49.9 \\pm 3.5$ & $56.0 \\pm 2.4$ & $54.2 \\pm 2.5$ & $46.6 \\pm 3.7$ & $47.1 \\pm 0.7$ & $60.9 \\pm 2.0$ & $57.4 \\pm 0.7$ \\\\\n",
      "\\textbf{DF} & \\textbf{AA} & $58.4 \\pm 2.4$ & $56.7 \\pm 1.0$ & $62.2 \\pm 3.4$ & $60.1 \\pm 1.3$ & $67.8 \\pm 3.0$ & $63.4 \\pm 1.9$ & $56.2 \\pm 7.0$ & $55.0 \\pm 9.5$ & $59.0 \\pm 0.1$ & $56.5 \\pm 0.1$ \\\\\n",
      "\\textbf{DF} & \\textbf{CW} & $59.4 \\pm 5.9$ & $55.9 \\pm 2.0$ & $62.1 \\pm 0.3$ & $58.5 \\pm 6.0$ & $56.3 \\pm 7.1$ & $52.9 \\pm 5.7$ & $50.6 \\pm 0.1$ & $50.4 \\pm 1.2$ & $50.5 \\pm 0.1$ & $50.5 \\pm 0.1$ \\\\ \n",
      "\\hline \n",
      "\\textbf{DF} & \\textbf{$\\mu$} & $70.2 \\pm 1.6$ & $63.7 \\pm 1.4$ & $69.6 \\pm 1.6$ & $63.0 \\pm 2.1$ & $54.7 \\pm 2.2$ & $52.9 \\pm 1.6$ & $60.7 \\pm 3.2$ & $58.3 \\pm 2.8$ & $55.8 \\pm 2.7$ & $53.6 \\pm 3.0$\\\\ \n",
      "\\hline\n",
      "\n",
      "\\textbf{CW} & \\textbf{FGSM} & $54.7 \\pm 3.1$ & $52.8 \\pm 0.5$ & $92.9 \\pm 1.2$ & $85.8 \\pm 1.4$ & $99.4 \\pm 0.1$ & $94.6 \\pm 0.1$ & $53.7 \\pm 0.1$ & $51.4 \\pm 0.1$ & $53.0 \\pm 0.0$ & $50.8 \\pm 0.3$ \\\\\n",
      "\\textbf{CW} & \\textbf{BIM} & $55.3 \\pm 5.2$ & $52.0 \\pm 0.8$ & $91.3 \\pm 1.7$ & $82.7 \\pm 3.9$ & $99.7 \\pm 0.0$ & $96.0 \\pm 0.1$ & $53.6 \\pm 0.2$ & $51.0 \\pm 0.0$ & $53.1 \\pm 0.3$ & $51.4 \\pm 0.2$ \\\\\n",
      "\\textbf{CW} & \\textbf{PGD} & $48.3 \\pm 1.9$ & $49.8 \\pm 0.0$ & $85.5 \\pm 4.0$ & $64.9 \\pm 5.3$ & $88.5 \\pm 7.5$ & $73.0 \\pm 1.4$ & $51.3 \\pm 0.2$ & $50.3 \\pm 0.0$ & $52.0 \\pm 1.9$ & $50.2 \\pm 0.0$ \\\\\n",
      "\\textbf{CW} & \\textbf{AA} & $54.1 \\pm 2.4$ & $53.0 \\pm 1.0$ & $71.7 \\pm 4.9$ & $65.7 \\pm 2.8$ & $73.5 \\pm 27.9$ & $66.0 \\pm 6.0$ & $67.6 \\pm 140.4$ & $62.3 \\pm 90.2$ & $53.7 \\pm 1.8$ & $52.7 \\pm 0.3$ \\\\\n",
      "\\textbf{CW} & \\textbf{DF} & $52.3 \\pm 1.5$ & $51.9 \\pm 1.3$ & $72.1 \\pm 0.3$ & $65.5 \\pm 1.8$ & $79.6 \\pm 4.6$ & $68.6 \\pm 1.0$ & $80.8 \\pm 124.5$ & $68.3 \\pm 44.4$ & $53.7 \\pm 0.7$ & $53.0 \\pm 1.1$ \\\\ \n",
      "\\hline \n",
      "\\textbf{CW} & \\textbf{$\\mu$} & $70.7 \\pm 0.9$ & $67.1 \\pm 0.5$ & $70.6 \\pm 1.5$ & $66.6 \\pm 1.0$ & $65.1 \\pm 3.1$ & $57.6 \\pm 1.4$ & $64.1 \\pm 35.5$ & $59.9 \\pm 20.1$ & $67.7 \\pm 26.3$ & $61.4 \\pm 9.9$\\\\ \n",
      "\\hline\n",
      "\n"
     ]
    }
   ],
   "source": [
    "source_attacks = ['fgsm', 'bim', 'pgd', 'aa', 'df', 'cw']\n",
    "# source_attacks = ['fgsm',  'bim']\n",
    "target_attacks = ['fgsm', 'bim', 'pgd', 'aa', 'df', 'cw']\n",
    "models = ['wrn28-10', 'vgg16', 'wrn50-2']\n",
    "datasets =  ['cifar10', 'cifar100', 'imagenet']\n",
    "\n",
    "lid_list_mean = []\n",
    "\n",
    "for it_mean in range(nr_mean):\n",
    "    lid_list = []\n",
    "\n",
    "    for dataset in datasets:\n",
    "        for model in models:\n",
    "            if dataset in ['cifar10', 'cifar100'] and model in ['wrn50-2']:\n",
    "                continue\n",
    "            if dataset in ['imagenet'] and model in  ['wrn28-10', 'vgg16']:\n",
    "                continue\n",
    "            \n",
    "            for source_attack in source_attacks:\n",
    "                tmp = np.zeros((len(target_attacks)-1, 2))\n",
    "                iter_tar = 0\n",
    "                \n",
    "                for target_attack in target_attacks:\n",
    "                    if target_attack == source_attack:\n",
    "                        continue\n",
    "                        \n",
    "                    for it, val in enumerate(results[it_mean][dataset][model]['lid'][source_attack][target_attack].items()):\n",
    "                        # print(val)\n",
    "                        if 'auc_rf' in val[0]:\n",
    "                            tmp[iter_tar, 0] = val[1]\n",
    "                        if 'acc_rf' in val[0]:\n",
    "                            tmp[iter_tar, 1] = val[1]\n",
    "                    iter_tar += 1\n",
    "                \n",
    "                lid_list.append(tmp.copy())\n",
    "    lid_list_mean.append(np.stack(lid_list))\n",
    "\n",
    "lid_mean = np.mean(lid_list_mean,axis=0)\n",
    "lid_var = np.var(lid_list_mean,axis=0)\n",
    "\n",
    "it = 0\n",
    "\n",
    "for i in range(lid_mean.shape[0]):\n",
    "    \n",
    "    attacks_saved = target_attacks.copy()\n",
    "    \n",
    "    if i % 5 == 0:\n",
    "        # print(it)\n",
    "        source = source_attacks[it]\n",
    "        it = it + 1\n",
    "    attacks_saved.remove(source)\n",
    "\n",
    "    latex_table = \"\"\n",
    "    latex_table += \"\\\\textbf{\"+f\"{source.upper()}\"+\"} & \\\\textbf{\"+f\"{attacks_saved[int((i) % 5)].upper()}\"+\"} & \"\n",
    "    for j in range(lid_mean.shape[1]): \n",
    "        mean = lid_mean[i, j, 0]\n",
    "        variance = lid_var[i, j, 0]\n",
    "        latex_table += f\"${mean:.1f} \\\\pm {variance:.1f}$ & \"\n",
    "        mean = lid_mean[i, j, 1]\n",
    "        variance = lid_var[i, j, 1]\n",
    "        latex_table += f\"${mean:.1f} \\\\pm {variance:.1f}$ & \"\n",
    "        \n",
    "    latex_table = latex_table[:-2] + \"\\\\\\\\\"\n",
    "    \n",
    "    if int((i+1) % 5)==0:\n",
    "        \n",
    "        latex_table += \" \\n\\hline\"\n",
    "        latex_table += \" \\n\"\n",
    "        \n",
    "        start = i+1-5\n",
    "        end = i+1\n",
    "        avg_mean = lid_mean[start:end].mean(axis=1).flatten()\n",
    "        avg_var  = lid_var[start:end].mean(axis=1).flatten()\n",
    "        latex_table += \"\\\\textbf{\"+f\"{source.upper()}\"+\"} & \\\\textbf{$\\mu$}\"\n",
    "        for k in range(len(avg_mean)):\n",
    "            latex_table += f\" & ${avg_mean[k]:.1f} \\\\pm {avg_var[k]:.1f}$\"\n",
    "        latex_table += \"\\\\\\\\ \\n\\hline\"\n",
    "        latex_table += \"\\n\"\n",
    "    \n",
    "    print(latex_table)"
   ]
  },
  {
   "cell_type": "markdown",
   "id": "3c988c47-03b7-4e63-b962-076cee1aadc6",
   "metadata": {},
   "source": [
    "# multiLID"
   ]
  },
  {
   "cell_type": "code",
   "execution_count": 69,
   "id": "c23e82f7-eee5-45b1-bfbd-b2924a2d9e62",
   "metadata": {},
   "outputs": [
    {
     "name": "stdout",
     "output_type": "stream",
     "text": [
      "\\textbf{FGSM} & \\textbf{BIM} & $74.9 \\pm 62.2$ & $59.5 \\pm 164.0$ & $90.4 \\pm 1.6$ & $76.5 \\pm 33.9$ & $91.0 \\pm 28.8$ & $76.1 \\pm 249.5$ & $83.0 \\pm 4.8$ & $71.7 \\pm 10.6$ & $79.1 \\pm 1.5$ & $68.0 \\pm 5.0$ \\\\\n",
      "\\textbf{FGSM} & \\textbf{PGD} & $42.4 \\pm 1244.3$ & $61.3 \\pm 292.9$ & $45.2 \\pm 1322.9$ & $64.1 \\pm 373.6$ & $69.2 \\pm 1808.0$ & $78.7 \\pm 410.9$ & $32.5 \\pm 1507.4$ & $58.9 \\pm 248.6$ & $30.3 \\pm 1279.1$ & $55.3 \\pm 197.6$ \\\\\n",
      "\\textbf{FGSM} & \\textbf{AA} & $93.7 \\pm 2.5$ & $86.0 \\pm 4.5$ & $50.2 \\pm 976.9$ & $63.3 \\pm 334.6$ & $70.0 \\pm 1672.5$ & $79.7 \\pm 438.1$ & $88.0 \\pm 0.5$ & $80.0 \\pm 0.0$ & $83.7 \\pm 4.9$ & $76.1 \\pm 0.0$ \\\\\n",
      "\\textbf{FGSM} & \\textbf{DF} & $69.1 \\pm 1144.7$ & $72.9 \\pm 286.9$ & $70.7 \\pm 959.5$ & $71.3 \\pm 219.2$ & $70.6 \\pm 1203.8$ & $75.0 \\pm 311.5$ & $61.5 \\pm 1432.3$ & $68.9 \\pm 222.8$ & $57.9 \\pm 1367.7$ & $65.1 \\pm 160.8$ \\\\\n",
      "\\textbf{FGSM} & \\textbf{CW} & $87.0 \\pm 1.9$ & $79.6 \\pm 0.9$ & $57.0 \\pm 587.2$ & $54.7 \\pm 43.6$ & $87.1 \\pm 4.5$ & $69.2 \\pm 10.8$ & $66.4 \\pm 1584.1$ & $77.6 \\pm 383.0$ & $97.1 \\pm 0.7$ & $93.7 \\pm 0.3$ \\\\ \n",
      "\\hline \n",
      "\\textbf{FGSM} & \\textbf{$\\mu$} & $83.7 \\pm 19.8$ & $70.4 \\pm 92.6$ & $43.9 \\pm 1432.3$ & $63.6 \\pm 304.7$ & $77.1 \\pm 531.5$ & $77.0 \\pm 155.5$ & $66.0 \\pm 1221.6$ & $70.7 \\pm 240.2$ & $78.9 \\pm 435.7$ & $75.0 \\pm 87.7$\\\\ \n",
      "\\hline\n",
      "\n",
      "\n",
      "\\textbf{BIM} & \\textbf{FGSM} & $86.0 \\pm 2.2$ & $77.8 \\pm 3.8$ & $48.1 \\pm 554.0$ & $52.2 \\pm 9.4$ & $86.1 \\pm 1.5$ & $64.0 \\pm 0.5$ & $66.6 \\pm 1507.0$ & $76.8 \\pm 360.1$ & $97.6 \\pm 0.1$ & $93.7 \\pm 0.3$ \\\\\n",
      "\\textbf{BIM} & \\textbf{PGD} & $78.3 \\pm 0.6$ & $68.8 \\pm 0.2$ & $75.5 \\pm 1.1$ & $66.8 \\pm 1.7$ & $89.5 \\pm 0.6$ & $82.0 \\pm 0.4$ & $78.1 \\pm 1.6$ & $68.9 \\pm 0.6$ & $78.3 \\pm 1.1$ & $68.0 \\pm 2.9$ \\\\\n",
      "\\textbf{BIM} & \\textbf{AA} & $81.0 \\pm 0.6$ & $71.8 \\pm 0.7$ & $89.9 \\pm 0.1$ & $82.1 \\pm 2.3$ & $98.1 \\pm 0.7$ & $91.2 \\pm 0.7$ & $70.6 \\pm 4.4$ & $63.7 \\pm 0.9$ & $70.7 \\pm 7.2$ & $63.0 \\pm 11.5$ \\\\\n",
      "\\textbf{BIM} & \\textbf{DF} & $82.5 \\pm 2.7$ & $73.9 \\pm 3.0$ & $92.6 \\pm 1.4$ & $84.8 \\pm 0.7$ & $97.8 \\pm 0.6$ & $89.7 \\pm 2.3$ & $69.4 \\pm 0.3$ & $63.9 \\pm 1.1$ & $69.4 \\pm 1.4$ & $62.1 \\pm 5.2$ \\\\\n",
      "\\textbf{BIM} & \\textbf{CW} & $83.6 \\pm 1.8$ & $70.6 \\pm 1.3$ & $91.8 \\pm 0.8$ & $85.6 \\pm 0.9$ & $88.7 \\pm 0.7$ & $81.0 \\pm 2.5$ & $74.6 \\pm 0.2$ & $63.5 \\pm 1.1$ & $74.6 \\pm 1.8$ & $61.9 \\pm 2.7$ \\\\ \n",
      "\\hline \n",
      "\\textbf{BIM} & \\textbf{$\\mu$} & $76.9 \\pm 412.9$ & $72.9 \\pm 74.8$ & $80.0 \\pm 1.0$ & $70.9 \\pm 1.2$ & $82.1 \\pm 2.6$ & $74.4 \\pm 3.2$ & $82.4 \\pm 1.3$ & $74.9 \\pm 2.5$ & $82.7 \\pm 1.1$ & $72.5 \\pm 1.7$\\\\ \n",
      "\\hline\n",
      "\n",
      "\n",
      "\\textbf{PGD} & \\textbf{FGSM} & $81.9 \\pm 0.3$ & $73.4 \\pm 0.7$ & $78.7 \\pm 0.1$ & $71.5 \\pm 0.2$ & $73.0 \\pm 0.5$ & $67.3 \\pm 1.1$ & $91.0 \\pm 1.5$ & $83.7 \\pm 3.8$ & $89.5 \\pm 1.3$ & $83.0 \\pm 1.4$ \\\\\n",
      "\\textbf{PGD} & \\textbf{BIM} & $80.8 \\pm 0.7$ & $73.2 \\pm 0.0$ & $78.2 \\pm 3.4$ & $70.7 \\pm 0.0$ & $72.4 \\pm 1.8$ & $66.9 \\pm 1.8$ & $90.4 \\pm 2.2$ & $83.4 \\pm 1.9$ & $89.5 \\pm 1.2$ & $82.0 \\pm 1.4$ \\\\\n",
      "\\textbf{PGD} & \\textbf{AA} & $81.5 \\pm 1.0$ & $65.2 \\pm 2.1$ & $78.4 \\pm 2.9$ & $63.4 \\pm 9.7$ & $84.9 \\pm 0.9$ & $68.6 \\pm 2.6$ & $61.6 \\pm 0.4$ & $54.7 \\pm 0.5$ & $57.5 \\pm 1.2$ & $52.3 \\pm 0.3$ \\\\\n",
      "\\textbf{PGD} & \\textbf{DF} & $77.5 \\pm 0.6$ & $62.9 \\pm 4.1$ & $98.8 \\pm 0.0$ & $94.1 \\pm 0.4$ & $99.9 \\pm 0.0$ & $95.8 \\pm 0.5$ & $43.6 \\pm 0.5$ & $48.2 \\pm 0.0$ & $45.2 \\pm 0.5$ & $48.2 \\pm 1.0$ \\\\\n",
      "\\textbf{PGD} & \\textbf{CW} & $72.6 \\pm 5.6$ & $57.6 \\pm 1.0$ & $97.8 \\pm 0.1$ & $92.3 \\pm 0.0$ & $99.9 \\pm 0.0$ & $97.3 \\pm 0.3$ & $42.3 \\pm 0.8$ & $48.4 \\pm 0.2$ & $44.7 \\pm 0.9$ & $48.3 \\pm 0.1$ \\\\ \n",
      "\\hline \n",
      "\\textbf{PGD} & \\textbf{$\\mu$} & $82.8 \\pm 0.7$ & $75.8 \\pm 1.5$ & $82.2 \\pm 1.9$ & $75.2 \\pm 1.0$ & $72.8 \\pm 1.3$ & $60.8 \\pm 3.0$ & $73.0 \\pm 0.3$ & $69.8 \\pm 1.2$ & $71.4 \\pm 1.5$ & $68.8 \\pm 0.3$\\\\ \n",
      "\\hline\n",
      "\n",
      "\n",
      "\\textbf{AA} & \\textbf{FGSM} & $68.1 \\pm 0.9$ & $52.4 \\pm 1.0$ & $97.4 \\pm 0.2$ & $91.6 \\pm 0.1$ & $98.5 \\pm 0.0$ & $94.8 \\pm 0.7$ & $41.6 \\pm 0.9$ & $48.9 \\pm 0.1$ & $43.8 \\pm 0.7$ & $48.3 \\pm 0.6$ \\\\\n",
      "\\textbf{AA} & \\textbf{BIM} & $86.8 \\pm 2.6$ & $79.6 \\pm 3.7$ & $43.8 \\pm 12.1$ & $39.2 \\pm 1.4$ & $37.8 \\pm 0.1$ & $34.3 \\pm 1.2$ & $35.7 \\pm 0.6$ & $32.9 \\pm 0.5$ & $69.4 \\pm 1.3$ & $63.0 \\pm 0.5$ \\\\\n",
      "\\textbf{AA} & \\textbf{PGD} & $83.3 \\pm 4.3$ & $75.1 \\pm 0.9$ & $38.7 \\pm 3.0$ & $36.5 \\pm 0.2$ & $33.6 \\pm 5.1$ & $32.6 \\pm 1.4$ & $30.6 \\pm 7.4$ & $30.0 \\pm 1.1$ & $75.2 \\pm 1.1$ & $68.0 \\pm 0.3$ \\\\\n",
      "\\textbf{AA} & \\textbf{DF} & $77.4 \\pm 2.8$ & $70.1 \\pm 3.6$ & $80.1 \\pm 3.7$ & $72.5 \\pm 3.1$ & $81.0 \\pm 3.9$ & $73.1 \\pm 4.9$ & $64.6 \\pm 0.8$ & $57.9 \\pm 1.8$ & $63.6 \\pm 0.3$ & $56.1 \\pm 1.6$ \\\\\n",
      "\\textbf{AA} & \\textbf{CW} & $77.6 \\pm 0.9$ & $69.9 \\pm 0.0$ & $87.8 \\pm 0.3$ & $78.8 \\pm 0.3$ & $89.4 \\pm 2.2$ & $80.6 \\pm 6.8$ & $58.5 \\pm 3.9$ & $53.9 \\pm 2.5$ & $60.5 \\pm 1.1$ & $55.6 \\pm 0.9$ \\\\ \n",
      "\\hline \n",
      "\\textbf{AA} & \\textbf{$\\mu$} & $69.9 \\pm 0.5$ & $67.2 \\pm 0.5$ & $54.7 \\pm 3.3$ & $49.8 \\pm 1.5$ & $52.3 \\pm 4.2$ & $48.4 \\pm 0.8$ & $73.3 \\pm 2.3$ & $65.9 \\pm 3.0$ & $74.8 \\pm 1.7$ & $67.7 \\pm 2.1$\\\\ \n",
      "\\hline\n",
      "\n",
      "\n",
      "\\textbf{DF} & \\textbf{FGSM} & $75.2 \\pm 3.3$ & $64.6 \\pm 4.9$ & $83.4 \\pm 0.7$ & $74.7 \\pm 0.1$ & $88.0 \\pm 1.0$ & $79.9 \\pm 0.4$ & $57.6 \\pm 0.3$ & $52.4 \\pm 0.2$ & $61.6 \\pm 0.1$ & $55.3 \\pm 0.3$ \\\\\n",
      "\\textbf{DF} & \\textbf{BIM} & $74.8 \\pm 7.1$ & $65.2 \\pm 11.4$ & $83.1 \\pm 2.6$ & $74.7 \\pm 1.6$ & $87.4 \\pm 0.4$ & $78.8 \\pm 0.5$ & $55.1 \\pm 1.4$ & $50.6 \\pm 0.4$ & $57.1 \\pm 0.4$ & $52.4 \\pm 0.1$ \\\\\n",
      "\\textbf{DF} & \\textbf{PGD} & $74.2 \\pm 0.3$ & $68.1 \\pm 0.1$ & $67.2 \\pm 2.8$ & $64.2 \\pm 0.2$ & $68.4 \\pm 7.4$ & $64.5 \\pm 7.3$ & $65.5 \\pm 0.8$ & $63.4 \\pm 0.3$ & $67.9 \\pm 0.7$ & $61.9 \\pm 0.7$ \\\\\n",
      "\\textbf{DF} & \\textbf{AA} & $73.5 \\pm 0.7$ & $66.7 \\pm 0.3$ & $72.8 \\pm 0.7$ & $67.7 \\pm 0.9$ & $78.0 \\pm 1.7$ & $72.2 \\pm 3.2$ & $71.4 \\pm 5.6$ & $65.1 \\pm 2.5$ & $68.7 \\pm 1.4$ & $62.9 \\pm 5.4$ \\\\\n",
      "\\textbf{DF} & \\textbf{CW} & $70.4 \\pm 0.0$ & $63.8 \\pm 0.6$ & $69.2 \\pm 5.0$ & $63.4 \\pm 14.9$ & $75.8 \\pm 17.0$ & $69.2 \\pm 19.4$ & $51.6 \\pm 0.3$ & $51.2 \\pm 0.0$ & $52.0 \\pm 0.0$ & $51.4 \\pm 0.0$ \\\\ \n",
      "\\hline \n",
      "\\textbf{DF} & \\textbf{$\\mu$} & $73.2 \\pm 1.1$ & $65.4 \\pm 1.2$ & $71.5 \\pm 2.4$ & $64.3 \\pm 2.8$ & $68.6 \\pm 2.4$ & $64.4 \\pm 1.7$ & $72.9 \\pm 2.0$ & $66.9 \\pm 2.5$ & $63.8 \\pm 4.5$ & $59.8 \\pm 7.0$\\\\ \n",
      "\\hline\n",
      "\n",
      "\n",
      "\\textbf{CW} & \\textbf{FGSM} & $59.8 \\pm 1.0$ & $54.5 \\pm 2.1$ & $93.1 \\pm 1.5$ & $85.4 \\pm 5.1$ & $99.8 \\pm 0.0$ & $92.1 \\pm 7.5$ & $54.4 \\pm 0.4$ & $52.4 \\pm 0.1$ & $54.2 \\pm 0.4$ & $51.7 \\pm 0.2$ \\\\\n",
      "\\textbf{CW} & \\textbf{BIM} & $58.7 \\pm 0.6$ & $53.5 \\pm 0.4$ & $92.6 \\pm 3.6$ & $84.3 \\pm 5.0$ & $99.8 \\pm 0.0$ & $93.4 \\pm 0.2$ & $54.3 \\pm 0.1$ & $51.9 \\pm 0.1$ & $54.0 \\pm 0.6$ & $51.6 \\pm 0.1$ \\\\\n",
      "\\textbf{CW} & \\textbf{PGD} & $55.8 \\pm 0.5$ & $50.2 \\pm 0.1$ & $91.6 \\pm 0.2$ & $75.7 \\pm 5.7$ & $93.3 \\pm 0.1$ & $77.3 \\pm 1.6$ & $53.8 \\pm 0.1$ & $50.7 \\pm 0.0$ & $53.7 \\pm 0.6$ & $50.4 \\pm 0.0$ \\\\\n",
      "\\textbf{CW} & \\textbf{AA} & $57.5 \\pm 2.7$ & $55.8 \\pm 1.5$ & $88.1 \\pm 3.4$ & $72.2 \\pm 3.2$ & $85.4 \\pm 9.9$ & $73.0 \\pm 0.0$ & $97.0 \\pm 0.6$ & $75.1 \\pm 10.1$ & $53.6 \\pm 0.2$ & $52.2 \\pm 0.2$ \\\\\n",
      "\\textbf{CW} & \\textbf{DF} & $58.6 \\pm 4.9$ & $56.3 \\pm 3.5$ & $87.4 \\pm 1.7$ & $71.5 \\pm 5.0$ & $83.4 \\pm 9.5$ & $72.0 \\pm 8.6$ & $96.1 \\pm 2.4$ & $75.8 \\pm 1.5$ & $53.6 \\pm 0.0$ & $52.6 \\pm 1.3$ \\\\ \n",
      "\\hline \n",
      "\\textbf{CW} & \\textbf{$\\mu$} & $72.2 \\pm 0.7$ & $67.2 \\pm 3.0$ & $71.9 \\pm 1.0$ & $66.9 \\pm 1.2$ & $69.6 \\pm 0.3$ & $60.8 \\pm 1.5$ & $76.3 \\pm 3.4$ & $65.6 \\pm 3.0$ & $75.8 \\pm 3.7$ & $65.7 \\pm 4.0$\\\\ \n",
      "\\hline\n",
      "\n",
      "\n"
     ]
    }
   ],
   "source": [
    "source_attacks = ['fgsm', 'bim', 'pgd', 'aa', 'df', 'cw']\n",
    "# source_attacks = ['fgsm',  'bim']\n",
    "target_attacks = ['fgsm', 'bim', 'pgd', 'aa', 'df', 'cw']\n",
    "models = ['wrn28-10', 'vgg16', 'wrn50-2']\n",
    "datasets =  ['cifar10', 'cifar100', 'imagenet']\n",
    "\n",
    "lid_list_mean = []\n",
    "\n",
    "for it_mean in range(nr_mean):\n",
    "    lid_list = []\n",
    "\n",
    "    for dataset in datasets:\n",
    "        for model in models:\n",
    "            if dataset in ['cifar10', 'cifar100'] and model in ['wrn50-2']:\n",
    "                continue\n",
    "            if dataset in ['imagenet'] and model in  ['wrn28-10', 'vgg16']:\n",
    "                continue\n",
    "            \n",
    "            for source_attack in source_attacks:\n",
    "                tmp = np.zeros((len(target_attacks)-1, 2))\n",
    "                iter_tar = 0\n",
    "                \n",
    "                for target_attack in target_attacks:\n",
    "                    if target_attack == source_attack:\n",
    "                        continue\n",
    "                        \n",
    "                    for it, val in enumerate(results[it_mean][dataset][model]['multilid'][source_attack][target_attack].items()):\n",
    "                        # print(val)\n",
    "                        if 'auc_lr' in val[0]:\n",
    "                            tmp[iter_tar, 0] = val[1]\n",
    "                        if 'acc_lr' in val[0]:\n",
    "                            tmp[iter_tar, 1] = val[1]\n",
    "                    iter_tar += 1\n",
    "                \n",
    "                lid_list.append(tmp.copy())\n",
    "    lid_list_mean.append(np.stack(lid_list))\n",
    "\n",
    "lid_mean = np.mean(lid_list_mean,axis=0)\n",
    "lid_var = np.var(lid_list_mean,axis=0)\n",
    "\n",
    "it = 0\n",
    "\n",
    "for i in range(lid_mean.shape[0]):\n",
    "    \n",
    "    attacks_saved = target_attacks.copy()\n",
    "    \n",
    "    if i % 5 == 0:\n",
    "        # print(it)\n",
    "        source = source_attacks[it]\n",
    "        it = it + 1\n",
    "    attacks_saved.remove(source)\n",
    "\n",
    "    latex_table = \"\"\n",
    "    latex_table += \"\\\\textbf{\"+f\"{source.upper()}\"+\"} & \\\\textbf{\"+f\"{attacks_saved[int((i) % 5)].upper()}\"+\"} & \"\n",
    "    for j in range(lid_mean.shape[1]): \n",
    "        mean = lid_mean[i, j, 0]\n",
    "        variance = lid_var[i, j, 0]\n",
    "        latex_table += f\"${mean:.1f} \\\\pm {variance:.1f}$ & \"\n",
    "        mean = lid_mean[i, j, 1]\n",
    "        variance = lid_var[i, j, 1]\n",
    "        latex_table += f\"${mean:.1f} \\\\pm {variance:.1f}$ & \"\n",
    "        \n",
    "    latex_table = latex_table[:-2] + \"\\\\\\\\\"\n",
    "    \n",
    "    if int((i+1) % 5)==0:\n",
    "        \n",
    "        latex_table += \" \\n\\hline\"\n",
    "        latex_table += \" \\n\"\n",
    "        \n",
    "        start = i+1-5\n",
    "        end = i+1\n",
    "        avg_mean = lid_mean[start:end].mean(axis=1).flatten()\n",
    "        avg_var  = lid_var[start:end].mean(axis=1).flatten()\n",
    "        latex_table += \"\\\\textbf{\"+f\"{source.upper()}\"+\"} & \\\\textbf{$\\mu$}\"\n",
    "        for k in range(len(avg_mean)):\n",
    "            latex_table += f\" & ${avg_mean[k]:.1f} \\\\pm {avg_var[k]:.1f}$\"\n",
    "        latex_table = latex_table + \"\\\\\\\\ \\n\\hline\"\n",
    "        \n",
    "        latex_table += \"\\n\\n\"\n",
    "    \n",
    "    print(latex_table)"
   ]
  },
  {
   "cell_type": "code",
   "execution_count": 74,
   "id": "20c36627-e22f-464b-ba83-339dc3e91c3e",
   "metadata": {},
   "outputs": [
    {
     "name": "stdout",
     "output_type": "stream",
     "text": [
      "\\textbf{FGSM} & \\textbf{BIM} & $62.2 \\pm 249.6$ & $56.4 \\pm 131.6$ & $86.5 \\pm 1.8$ & $70.8 \\pm 23.6$ & $82.2 \\pm 336.8$ & $76.6 \\pm 257.7$ & $84.4 \\pm 2.0$ & $72.6 \\pm 1.4$ & $81.2 \\pm 1.3$ & $68.5 \\pm 4.4$ \\\\\n",
      "\\textbf{FGSM} & \\textbf{PGD} & $60.6 \\pm 321.0$ & $56.3 \\pm 154.8$ & $68.8 \\pm 389.8$ & $66.2 \\pm 317.8$ & $83.3 \\pm 347.0$ & $80.7 \\pm 316.8$ & $63.6 \\pm 124.9$ & $54.7 \\pm 2.2$ & $58.6 \\pm 130.2$ & $52.2 \\pm 3.7$ \\\\\n",
      "\\textbf{FGSM} & \\textbf{AA} & $84.8 \\pm 0.1$ & $73.0 \\pm 3.5$ & $69.5 \\pm 301.0$ & $65.2 \\pm 250.2$ & $85.5 \\pm 362.8$ & $83.3 \\pm 324.8$ & $84.2 \\pm 1.5$ & $57.6 \\pm 3.5$ & $84.8 \\pm 0.4$ & $57.2 \\pm 0.9$ \\\\\n",
      "\\textbf{FGSM} & \\textbf{DF} & $78.0 \\pm 263.0$ & $69.2 \\pm 100.4$ & $77.7 \\pm 116.9$ & $61.2 \\pm 2.4$ & $80.1 \\pm 289.1$ & $68.8 \\pm 77.4$ & $80.5 \\pm 288.1$ & $62.4 \\pm 44.3$ & $78.7 \\pm 385.7$ & $60.5 \\pm 49.6$ \\\\\n",
      "\\textbf{FGSM} & \\textbf{CW} & $86.6 \\pm 1.2$ & $78.7 \\pm 1.7$ & $61.3 \\pm 190.5$ & $49.7 \\pm 0.1$ & $84.0 \\pm 5.4$ & $55.3 \\pm 0.3$ & $79.9 \\pm 397.6$ & $74.5 \\pm 299.3$ & $97.7 \\pm 0.0$ & $95.4 \\pm 0.1$ \\\\ \n",
      "\\hline \n",
      "\\textbf{FGSM} & \\textbf{$\\mu$} & $79.3 \\pm 118.3$ & $69.0 \\pm 83.8$ & $67.0 \\pm 262.6$ & $62.0 \\pm 159.1$ & $81.8 \\pm 133.2$ & $67.3 \\pm 116.6$ & $79.0 \\pm 268.5$ & $64.4 \\pm 54.8$ & $81.9 \\pm 118.9$ & $70.7 \\pm 60.3$\\\\ \n",
      "\\hline\n",
      "\n",
      "\\textbf{BIM} & \\textbf{FGSM} & $84.5 \\pm 3.5$ & $77.9 \\pm 1.2$ & $49.7 \\pm 186.9$ & $49.0 \\pm 0.2$ & $78.5 \\pm 2.1$ & $53.8 \\pm 3.1$ & $76.3 \\pm 567.8$ & $69.5 \\pm 221.4$ & $97.2 \\pm 0.1$ & $94.5 \\pm 0.2$ \\\\\n",
      "\\textbf{BIM} & \\textbf{PGD} & $77.6 \\pm 0.0$ & $67.5 \\pm 0.1$ & $74.9 \\pm 1.4$ & $65.7 \\pm 0.9$ & $88.8 \\pm 0.5$ & $81.0 \\pm 1.4$ & $80.9 \\pm 1.6$ & $72.2 \\pm 0.2$ & $81.4 \\pm 1.6$ & $69.5 \\pm 0.9$ \\\\\n",
      "\\textbf{BIM} & \\textbf{AA} & $69.7 \\pm 2.8$ & $57.1 \\pm 1.3$ & $91.1 \\pm 2.0$ & $83.4 \\pm 4.8$ & $97.4 \\pm 0.8$ & $92.3 \\pm 1.8$ & $64.3 \\pm 12.2$ & $52.8 \\pm 0.3$ & $64.7 \\pm 2.4$ & $52.4 \\pm 0.9$ \\\\\n",
      "\\textbf{BIM} & \\textbf{DF} & $67.5 \\pm 2.9$ & $57.1 \\pm 2.3$ & $93.5 \\pm 0.4$ & $86.2 \\pm 0.4$ & $97.0 \\pm 0.9$ & $91.3 \\pm 1.5$ & $58.3 \\pm 7.0$ & $51.8 \\pm 0.2$ & $58.8 \\pm 4.8$ & $51.9 \\pm 2.3$ \\\\\n",
      "\\textbf{BIM} & \\textbf{CW} & $79.7 \\pm 0.4$ & $57.4 \\pm 2.4$ & $91.8 \\pm 0.8$ & $83.7 \\pm 1.2$ & $88.3 \\pm 4.6$ & $79.4 \\pm 4.1$ & $79.9 \\pm 0.9$ & $54.4 \\pm 0.6$ & $79.6 \\pm 1.7$ & $54.0 \\pm 0.6$ \\\\ \n",
      "\\hline \n",
      "\\textbf{BIM} & \\textbf{$\\mu$} & $77.2 \\pm 152.1$ & $69.0 \\pm 45.2$ & $80.7 \\pm 1.0$ & $71.2 \\pm 0.7$ & $77.4 \\pm 4.1$ & $67.6 \\pm 1.8$ & $75.0 \\pm 3.2$ & $67.7 \\pm 1.4$ & $83.9 \\pm 1.7$ & $65.8 \\pm 1.8$\\\\ \n",
      "\\hline\n",
      "\n",
      "\\textbf{PGD} & \\textbf{FGSM} & $81.2 \\pm 0.2$ & $72.7 \\pm 0.0$ & $71.6 \\pm 1.6$ & $63.7 \\pm 3.0$ & $66.7 \\pm 1.6$ & $57.6 \\pm 2.6$ & $82.3 \\pm 4.5$ & $75.8 \\pm 25.4$ & $89.7 \\pm 0.5$ & $83.1 \\pm 2.5$ \\\\\n",
      "\\textbf{PGD} & \\textbf{BIM} & $79.8 \\pm 0.6$ & $72.1 \\pm 0.7$ & $69.8 \\pm 0.0$ & $58.1 \\pm 9.1$ & $64.9 \\pm 2.8$ & $53.2 \\pm 5.4$ & $79.0 \\pm 13.8$ & $67.2 \\pm 47.7$ & $89.1 \\pm 1.4$ & $82.8 \\pm 1.9$ \\\\\n",
      "\\textbf{PGD} & \\textbf{AA} & $80.1 \\pm 1.1$ & $65.1 \\pm 1.5$ & $76.6 \\pm 0.5$ & $64.1 \\pm 0.7$ & $84.3 \\pm 0.1$ & $70.1 \\pm 1.5$ & $54.9 \\pm 0.7$ & $52.3 \\pm 0.0$ & $52.8 \\pm 0.2$ & $51.3 \\pm 0.2$ \\\\\n",
      "\\textbf{PGD} & \\textbf{DF} & $81.6 \\pm 6.1$ & $56.8 \\pm 7.9$ & $98.8 \\pm 0.1$ & $95.0 \\pm 0.8$ & $99.9 \\pm 0.0$ & $97.0 \\pm 0.1$ & $44.2 \\pm 4.8$ & $48.2 \\pm 0.1$ & $43.3 \\pm 1.0$ & $47.8 \\pm 0.8$ \\\\\n",
      "\\textbf{PGD} & \\textbf{CW} & $83.0 \\pm 0.2$ & $52.6 \\pm 1.3$ & $97.4 \\pm 0.2$ & $90.8 \\pm 0.5$ & $99.9 \\pm 0.0$ & $97.9 \\pm 0.0$ & $44.6 \\pm 4.2$ & $48.6 \\pm 0.0$ & $44.2 \\pm 0.9$ & $48.5 \\pm 0.5$ \\\\ \n",
      "\\hline \n",
      "\\textbf{PGD} & \\textbf{$\\mu$} & $78.3 \\pm 1.7$ & $70.6 \\pm 6.7$ & $76.5 \\pm 3.7$ & $66.7 \\pm 13.0$ & $69.7 \\pm 0.6$ & $60.6 \\pm 0.8$ & $73.6 \\pm 2.4$ & $69.0 \\pm 1.9$ & $73.8 \\pm 1.1$ & $67.7 \\pm 0.5$\\\\ \n",
      "\\hline\n",
      "\n",
      "\\textbf{AA} & \\textbf{FGSM} & $76.4 \\pm 4.0$ & $50.3 \\pm 0.0$ & $97.0 \\pm 0.3$ & $88.3 \\pm 0.0$ & $98.5 \\pm 0.1$ & $92.2 \\pm 0.8$ & $45.8 \\pm 2.4$ & $49.5 \\pm 0.0$ & $44.9 \\pm 6.1$ & $49.2 \\pm 0.1$ \\\\\n",
      "\\textbf{AA} & \\textbf{BIM} & $76.3 \\pm 3.3$ & $69.5 \\pm 8.4$ & $19.3 \\pm 21.3$ & $34.4 \\pm 1.1$ & $15.5 \\pm 11.8$ & $32.5 \\pm 0.3$ & $13.6 \\pm 12.8$ & $31.7 \\pm 0.9$ & $69.3 \\pm 0.5$ & $63.7 \\pm 0.6$ \\\\\n",
      "\\textbf{AA} & \\textbf{PGD} & $70.7 \\pm 4.7$ & $66.6 \\pm 7.5$ & $21.0 \\pm 5.0$ & $32.7 \\pm 2.2$ & $17.8 \\pm 12.6$ & $30.1 \\pm 2.5$ & $15.0 \\pm 4.2$ & $29.6 \\pm 3.8$ & $73.1 \\pm 0.7$ & $67.7 \\pm 1.1$ \\\\\n",
      "\\textbf{AA} & \\textbf{DF} & $76.0 \\pm 3.3$ & $69.6 \\pm 1.0$ & $78.5 \\pm 2.8$ & $71.0 \\pm 3.0$ & $78.1 \\pm 2.8$ & $70.2 \\pm 2.8$ & $61.1 \\pm 1.2$ & $57.6 \\pm 1.1$ & $60.7 \\pm 0.4$ & $57.2 \\pm 2.7$ \\\\\n",
      "\\textbf{AA} & \\textbf{CW} & $71.6 \\pm 2.4$ & $63.9 \\pm 1.3$ & $86.1 \\pm 1.2$ & $79.1 \\pm 0.8$ & $89.2 \\pm 1.0$ & $81.0 \\pm 1.7$ & $53.9 \\pm 0.3$ & $51.5 \\pm 1.0$ & $58.2 \\pm 2.0$ & $54.7 \\pm 0.6$ \\\\ \n",
      "\\hline \n",
      "\\textbf{AA} & \\textbf{$\\mu$} & $72.5 \\pm 2.6$ & $65.9 \\pm 0.2$ & $38.8 \\pm 9.9$ & $46.4 \\pm 2.3$ & $39.5 \\pm 5.5$ & $45.3 \\pm 3.4$ & $70.9 \\pm 2.1$ & $65.1 \\pm 2.1$ & $71.8 \\pm 1.4$ & $66.0 \\pm 1.1$\\\\ \n",
      "\\hline\n",
      "\n",
      "\\textbf{DF} & \\textbf{FGSM} & $70.0 \\pm 1.1$ & $60.3 \\pm 2.9$ & $80.5 \\pm 2.1$ & $71.9 \\pm 2.4$ & $87.5 \\pm 0.9$ & $78.8 \\pm 2.6$ & $54.6 \\pm 0.6$ & $51.4 \\pm 0.3$ & $58.8 \\pm 0.6$ & $54.5 \\pm 0.7$ \\\\\n",
      "\\textbf{DF} & \\textbf{BIM} & $65.9 \\pm 0.7$ & $60.0 \\pm 3.3$ & $81.4 \\pm 2.7$ & $72.8 \\pm 5.5$ & $86.7 \\pm 0.6$ & $78.3 \\pm 1.0$ & $52.4 \\pm 0.6$ & $50.5 \\pm 0.2$ & $56.5 \\pm 1.1$ & $53.1 \\pm 0.0$ \\\\\n",
      "\\textbf{DF} & \\textbf{PGD} & $66.0 \\pm 1.5$ & $61.3 \\pm 1.0$ & $58.5 \\pm 2.9$ & $53.9 \\pm 6.8$ & $63.5 \\pm 4.1$ & $57.1 \\pm 2.8$ & $55.0 \\pm 2.6$ & $50.0 \\pm 1.5$ & $75.0 \\pm 0.4$ & $69.1 \\pm 0.3$ \\\\\n",
      "\\textbf{DF} & \\textbf{AA} & $66.6 \\pm 7.5$ & $63.1 \\pm 1.9$ & $65.2 \\pm 7.3$ & $61.2 \\pm 9.4$ & $70.3 \\pm 2.7$ & $66.1 \\pm 3.3$ & $62.2 \\pm 10.5$ & $59.0 \\pm 13.3$ & $70.7 \\pm 0.5$ & $65.4 \\pm 0.6$ \\\\\n",
      "\\textbf{DF} & \\textbf{CW} & $55.3 \\pm 3.7$ & $52.8 \\pm 3.6$ & $59.5 \\pm 1.3$ & $55.8 \\pm 1.9$ & $50.7 \\pm 11.7$ & $48.8 \\pm 5.8$ & $50.1 \\pm 0.3$ & $49.6 \\pm 0.1$ & $50.5 \\pm 0.2$ & $50.6 \\pm 0.0$ \\\\ \n",
      "\\hline \n",
      "\\textbf{DF} & \\textbf{$\\mu$} & $70.3 \\pm 1.1$ & $63.4 \\pm 1.8$ & $68.6 \\pm 1.1$ & $62.9 \\pm 2.0$ & $63.6 \\pm 2.3$ & $58.3 \\pm 2.5$ & $67.0 \\pm 5.7$ & $63.0 \\pm 5.7$ & $53.2 \\pm 3.4$ & $51.5 \\pm 2.3$\\\\ \n",
      "\\hline\n",
      "\n",
      "\\textbf{CW} & \\textbf{FGSM} & $54.6 \\pm 0.6$ & $51.6 \\pm 0.0$ & $94.1 \\pm 0.1$ & $87.3 \\pm 1.8$ & $99.5 \\pm 0.0$ & $93.4 \\pm 1.6$ & $53.9 \\pm 0.1$ & $52.5 \\pm 0.0$ & $53.4 \\pm 0.5$ & $51.5 \\pm 0.2$ \\\\\n",
      "\\textbf{CW} & \\textbf{BIM} & $55.2 \\pm 1.0$ & $51.5 \\pm 0.3$ & $91.8 \\pm 0.6$ & $82.9 \\pm 1.3$ & $99.6 \\pm 0.0$ & $94.2 \\pm 1.6$ & $53.6 \\pm 0.3$ & $51.7 \\pm 0.4$ & $53.7 \\pm 0.4$ & $51.2 \\pm 0.2$ \\\\\n",
      "\\textbf{CW} & \\textbf{PGD} & $51.4 \\pm 2.6$ & $49.9 \\pm 0.1$ & $85.7 \\pm 0.7$ & $63.4 \\pm 5.8$ & $89.9 \\pm 0.4$ & $71.9 \\pm 0.1$ & $51.5 \\pm 1.1$ & $50.2 \\pm 0.0$ & $51.7 \\pm 0.1$ & $50.3 \\pm 0.0$ \\\\\n",
      "\\textbf{CW} & \\textbf{AA} & $52.8 \\pm 5.4$ & $51.5 \\pm 0.5$ & $74.3 \\pm 2.6$ & $67.1 \\pm 2.1$ & $78.6 \\pm 15.6$ & $69.5 \\pm 6.9$ & $75.1 \\pm 227.1$ & $66.4 \\pm 84.9$ & $53.6 \\pm 0.2$ & $52.0 \\pm 0.9$ \\\\\n",
      "\\textbf{CW} & \\textbf{DF} & $53.4 \\pm 1.1$ & $53.0 \\pm 1.8$ & $76.8 \\pm 7.9$ & $67.7 \\pm 0.8$ & $80.8 \\pm 21.8$ & $71.2 \\pm 15.1$ & $87.5 \\pm 63.7$ & $72.5 \\pm 5.4$ & $50.9 \\pm 0.8$ & $50.8 \\pm 1.5$ \\\\ \n",
      "\\hline \n",
      "\\textbf{CW} & \\textbf{$\\mu$} & $71.1 \\pm 0.3$ & $67.3 \\pm 0.7$ & $70.8 \\pm 0.5$ & $66.3 \\pm 0.8$ & $66.0 \\pm 1.0$ & $57.1 \\pm 1.2$ & $66.9 \\pm 50.2$ & $61.3 \\pm 19.1$ & $69.9 \\pm 19.0$ & $63.0 \\pm 4.9$\\\\ \n",
      "\\hline\n",
      "\n"
     ]
    }
   ],
   "source": [
    "source_attacks = ['fgsm', 'bim', 'pgd', 'aa', 'df', 'cw']\n",
    "# source_attacks = ['fgsm',  'bim']\n",
    "target_attacks = ['fgsm', 'bim', 'pgd', 'aa', 'df', 'cw']\n",
    "models = ['wrn28-10', 'vgg16', 'wrn50-2']\n",
    "datasets =  ['cifar10', 'cifar100', 'imagenet']\n",
    "\n",
    "lid_list_mean = []\n",
    "\n",
    "for it_mean in range(nr_mean):\n",
    "    lid_list = []\n",
    "\n",
    "    for dataset in datasets:\n",
    "        for model in models:\n",
    "            if dataset in ['cifar10', 'cifar100'] and model in ['wrn50-2']:\n",
    "                continue\n",
    "            if dataset in ['imagenet'] and model in  ['wrn28-10', 'vgg16']:\n",
    "                continue\n",
    "            \n",
    "            for source_attack in source_attacks:\n",
    "                tmp = np.zeros((len(target_attacks)-1, 2))\n",
    "                iter_tar = 0\n",
    "                \n",
    "                for target_attack in target_attacks:\n",
    "                    if target_attack == source_attack:\n",
    "                        continue\n",
    "                        \n",
    "                    for it, val in enumerate(results[it_mean][dataset][model]['multilid'][source_attack][target_attack].items()):\n",
    "                        # print(val)\n",
    "                        if 'auc_rf' in val[0]:\n",
    "                            tmp[iter_tar, 0] = val[1]\n",
    "                        if 'acc_rf' in val[0]:\n",
    "                            tmp[iter_tar, 1] = val[1]\n",
    "                    iter_tar += 1\n",
    "                \n",
    "                lid_list.append(tmp.copy())\n",
    "    lid_list_mean.append(np.stack(lid_list))\n",
    "\n",
    "lid_mean = np.mean(lid_list_mean,axis=0)\n",
    "lid_var = np.var(lid_list_mean,axis=0)\n",
    "\n",
    "it = 0\n",
    "\n",
    "for i in range(lid_mean.shape[0]):\n",
    "    \n",
    "    attacks_saved = target_attacks.copy()\n",
    "    \n",
    "    if i % 5 == 0:\n",
    "        # print(it)\n",
    "        source = source_attacks[it]\n",
    "        it = it + 1\n",
    "    attacks_saved.remove(source)\n",
    "\n",
    "    latex_table = \"\"\n",
    "    latex_table += \"\\\\textbf{\"+f\"{source.upper()}\"+\"} & \\\\textbf{\"+f\"{attacks_saved[int((i) % 5)].upper()}\"+\"} & \"\n",
    "    for j in range(lid_mean.shape[1]): \n",
    "        mean = lid_mean[i, j, 0]\n",
    "        variance = lid_var[i, j, 0]\n",
    "        latex_table += f\"${mean:.1f} \\\\pm {variance:.1f}$ & \"\n",
    "        mean = lid_mean[i, j, 1]\n",
    "        variance = lid_var[i, j, 1]\n",
    "        latex_table += f\"${mean:.1f} \\\\pm {variance:.1f}$ & \"\n",
    "        \n",
    "    latex_table = latex_table[:-2] + \"\\\\\\\\\"\n",
    "    \n",
    "    if int((i+1) % 5)==0:\n",
    "        \n",
    "        latex_table += \" \\n\\hline\"\n",
    "        latex_table += \" \\n\"\n",
    "        \n",
    "        start = i+1-5\n",
    "        end = i+1\n",
    "        avg_mean = lid_mean[start:end].mean(axis=1).flatten()\n",
    "        avg_var  = lid_var[start:end].mean(axis=1).flatten()\n",
    "        latex_table += \"\\\\textbf{\"+f\"{source.upper()}\"+\"} & \\\\textbf{$\\mu$}\"\n",
    "        for k in range(len(avg_mean)):\n",
    "            latex_table += f\" & ${avg_mean[k]:.1f} \\\\pm {avg_var[k]:.1f}$\"\n",
    "        latex_table += \"\\\\\\\\ \\n\\hline\"\n",
    "        latex_table += \"\\n\"\n",
    "    \n",
    "    print(latex_table)"
   ]
  },
  {
   "cell_type": "code",
   "execution_count": null,
   "id": "e9de4982-c877-4153-9c6e-5f03a26acf82",
   "metadata": {},
   "outputs": [],
   "source": []
  }
 ],
 "metadata": {
  "kernelspec": {
   "display_name": "Python [conda env:.conda-cuda--11-1-1--pytorch--1-9-0]",
   "language": "python",
   "name": "conda-env-.conda-cuda--11-1-1--pytorch--1-9-0-py"
  },
  "language_info": {
   "codemirror_mode": {
    "name": "ipython",
    "version": 3
   },
   "file_extension": ".py",
   "mimetype": "text/x-python",
   "name": "python",
   "nbconvert_exporter": "python",
   "pygments_lexer": "ipython3",
   "version": "3.9.10"
  }
 },
 "nbformat": 4,
 "nbformat_minor": 5
}
