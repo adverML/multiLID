{
 "cells": [
  {
   "cell_type": "code",
   "execution_count": 1,
   "id": "0b0be57e-6e73-404d-b94c-0c083affa5af",
   "metadata": {},
   "outputs": [],
   "source": [
    "import numpy as np\n",
    "import torch\n",
    "\n",
    "from sklearn.ensemble import RandomForestClassifier\n",
    "from sklearn.model_selection import train_test_split\n",
    "from sklearn.metrics import confusion_matrix, ConfusionMatrixDisplay\n",
    "from sklearn.utils.class_weight import compute_sample_weight\n",
    "from numpy import random\n",
    "\n",
    "import pandas as pd\n",
    "pd.options.display.float_format = '{:.2f}'.format\n",
    "\n",
    "import os\n",
    "from pathlib import Path\n",
    "home = str(Path.home())\n",
    "base_path = os.path.join(home, 'workspace/multilid/data/extract/run_1/')"
   ]
  },
  {
   "cell_type": "code",
   "execution_count": 37,
   "id": "5974acfe-7bb5-4584-90f8-c41cbe50ee0a",
   "metadata": {},
   "outputs": [],
   "source": [
    "nor_fgsm = torch.load(os.path.join(base_path, \"cifar10/wrn28-10/fgsm/lid/lid_normalos_8255.pt\"))\n",
    "adv_fgsm = torch.load(\"../data/extracted_characteristics/run_1/cif10/wrn28-10/fgsm/lid/lid_adverlos_8255.p\")\n",
    "nor_bim  = torch.load(\"../data/extracted_characteristics/run_1/cif10/wrn28-10/bim/lid/characteristics\")\n",
    "adv_bim  = torch.load(\"../data/extracted_characteristics/run_1/cif10/wrn28-10/bim/lid/characteristics_adv\")\n",
    "nor_pgd = torch.load(\"../data/extracted_characteristics/run_1/cif10/wrn28-10/pgd/lid/characteristics\")\n",
    "adv_pgd = torch.load(\"../data/extracted_characteristics/run_1/cif10/wrn28-10/pgd/lid/characteristics_adv\")\n",
    "nor_aa = torch.load(\"../data/extracted_characteristics/run_1/cif10/wrn28-10/aa/lid/characteristics\")\n",
    "adv_aa = torch.load(\"../data/extracted_characteristics/run_1/cif10/wrn28-10/aa/lid/characteristics_adv\")\n",
    "nor_df = torch.load(\"../data/extracted_characteristics/run_1/cif10/wrn28-10/df/lid/characteristics\")\n",
    "adv_df = torch.load(\"../data/extracted_characteristics/run_1/cif10/wrn28-10/df/lid/characteristics_adv\")\n",
    "nor_cw = torch.load(\"../data/extracted_characteristics/run_1/cif10/wrn28-10/cw/lid/characteristics\")\n",
    "adv_cw = torch.load(\"../data/extracted_characteristics/run_1/cif10/wrn28-10/cw/lid/characteristics_adv\")"
   ]
  },
  {
   "cell_type": "code",
   "execution_count": 38,
   "id": "9939193c-c109-42d5-a208-3e34b4715d2f",
   "metadata": {},
   "outputs": [],
   "source": [
    "nor = [nor_fgsm, nor_bim, nor_pgd, nor_aa, nor_df, nor_cw,]\n",
    "adv = [adv_fgsm, adv_bim, adv_pgd, adv_aa, adv_df, adv_cw,]"
   ]
  },
  {
   "cell_type": "code",
   "execution_count": 39,
   "id": "9c37f3f5-7fba-48d6-8330-7b70b8dc1ba3",
   "metadata": {},
   "outputs": [
    {
     "data": {
      "text/plain": [
       "(2000,)"
      ]
     },
     "execution_count": 39,
     "metadata": {},
     "output_type": "execute_result"
    }
   ],
   "source": [
    "np.ones(nor_fgsm.shape[0]).astype('int').shape"
   ]
  },
  {
   "cell_type": "code",
   "execution_count": 40,
   "id": "5995cb94-9240-44ca-9f6e-cc300dfea6a4",
   "metadata": {},
   "outputs": [
    {
     "data": {
      "text/plain": [
       "(2000, 13)"
      ]
     },
     "execution_count": 40,
     "metadata": {},
     "output_type": "execute_result"
    }
   ],
   "source": [
    "nor_char.shape"
   ]
  },
  {
   "cell_type": "code",
   "execution_count": 50,
   "id": "8b3e8d54-85f9-4358-859b-26c5fc74e71c",
   "metadata": {},
   "outputs": [
    {
     "name": "stdout",
     "output_type": "stream",
     "text": [
      "random state:  12\n",
      "random state:  72\n",
      "random state:  92\n",
      "random state:  2\n",
      "random state:  69\n"
     ]
    }
   ],
   "source": [
    "factor = 0.8\n",
    "nr_mean = 3\n",
    "mean_tables = []\n",
    "nr_samples=2000\n",
    "\n",
    "for it in range(nr_mean):\n",
    "    random_state = random.randint(100)\n",
    "    print(\"random state: \", random_state)\n",
    "    final_table = np.zeros((len(nor), len(adv)))\n",
    "\n",
    "    for rows in range(len(nor)):\n",
    "        \n",
    "        X_nor = nor[rows]\n",
    "        X_adv = adv[rows]\n",
    "        if len(X_nor.shape) > 2: \n",
    "            X_nor = nor[rows].reshape((nor[rows].shape[0], -1))[:,::-1]\n",
    "            X_adv = adv[rows].reshape((adv[rows].shape[0], -1))[:,::-1]\n",
    "        \n",
    "        \n",
    "        y_nor = np.zeros(X_nor.shape[0]).astype('int')\n",
    "        y_adv = np.ones(X_nor.shape[0]).astype('int')\n",
    "        \n",
    "        \n",
    "        x_train_n, x_test_n, y_train_n, y_test_n = train_test_split(X_nor, y_nor, test_size=1-factor, train_size=factor, random_state=random_state)\n",
    "        x_train_a, x_test_a, y_train_a, y_test_a = train_test_split(X_adv, y_adv, test_size=1-factor, train_size=factor, random_state=random_state)\n",
    "\n",
    "        X_train = np.concatenate((x_train_n, x_train_a))\n",
    "        y_train = np.concatenate((y_train_n, y_train_a))\n",
    "                \n",
    "        clf = RandomForestClassifier(n_estimators=300, n_jobs=-1)\n",
    "        \n",
    "        clf.fit(X_train, y_train)\n",
    "                \n",
    "                \n",
    "        for cols in range(len(nor)):\n",
    "            test_size = int(nr_samples * (1-factor))\n",
    "            X_test_nor = nor[cols][:test_size]\n",
    "            X_test_adv = adv[cols][:test_size]\n",
    "            \n",
    "            if len(nor[rows].shape) > 2: \n",
    "                X_test_nor = tmp_nor.reshape((tmp_nor.shape[0], -1))[:,::-1]\n",
    "                X_test_adv = tmp_adv.reshape((tmp_adv.shape[0], -1))[:,::-1]\n",
    "            \n",
    "        \n",
    "            X_test = np.concatenate((X_test_nor, X_test_adv))\n",
    "            y_test = np.concatenate((y_nor[:test_size], y_adv[:test_size]))\n",
    "\n",
    "            score_transfer = clf.score(X_test, y_test)\n",
    "            final_table[rows,cols] = score_transfer\n",
    "        \n",
    "    mean_tables.append(final_table)\n",
    "\n",
    "final_table\n",
    "\n",
    "final_mean = np.mean(mean_tables, axis=0)\n",
    "final_var  = np.var(mean_tables, axis=0)"
   ]
  },
  {
   "cell_type": "code",
   "execution_count": 51,
   "id": "04433913-62e4-4457-9831-263c2f37e544",
   "metadata": {},
   "outputs": [
    {
     "data": {
      "text/plain": [
       "array([[0.98245614, 0.71328321, 0.74010025, 0.87042607, 0.77067669,\n",
       "        0.73458647],\n",
       "       [0.85062657, 0.96491228, 0.90075188, 0.96240602, 0.78245614,\n",
       "        0.73609023],\n",
       "       [0.87067669, 0.89423559, 0.96842105, 0.96942356, 0.8160401 ,\n",
       "        0.77218045],\n",
       "       [0.8518797 , 0.760401  , 0.81027569, 0.98596491, 0.82155388,\n",
       "        0.75889724],\n",
       "       [0.85313283, 0.76541353, 0.79598997, 0.95889724, 0.98446115,\n",
       "        0.93433584],\n",
       "       [0.84310777, 0.80626566, 0.84686717, 0.95864662, 0.96992481,\n",
       "        0.9764411 ]])"
      ]
     },
     "execution_count": 51,
     "metadata": {},
     "output_type": "execute_result"
    }
   ],
   "source": [
    "final_mean"
   ]
  },
  {
   "cell_type": "code",
   "execution_count": 52,
   "id": "c89d0c2e-3a1d-43ae-b723-65fab6e100a1",
   "metadata": {},
   "outputs": [
    {
     "data": {
      "text/plain": [
       "array([[8.16577785e-06, 4.61052380e-05, 1.16833437e-05, 6.65824963e-06,\n",
       "        1.44471454e-05, 4.23364175e-05],\n",
       "       [3.16580926e-05, 8.16577785e-06, 2.91455456e-05, 2.82661541e-05,\n",
       "        4.77383936e-06, 3.93213610e-05],\n",
       "       [2.41204515e-05, 1.85928480e-05, 1.50752822e-06, 1.35677540e-05,\n",
       "        4.17082807e-05, 1.09295796e-05],\n",
       "       [1.15577163e-05, 4.42208278e-05, 4.14570260e-06, 2.76380173e-06,\n",
       "        1.63315557e-06, 7.91452315e-06],\n",
       "       [8.41703256e-06, 7.31151186e-05, 2.85174088e-05, 7.78889580e-06,\n",
       "        6.65824963e-06, 2.88942909e-06],\n",
       "       [1.03014428e-05, 3.61806773e-05, 2.16079045e-05, 6.28136758e-06,\n",
       "        1.19345984e-05, 5.90448552e-06]])"
      ]
     },
     "execution_count": 52,
     "metadata": {},
     "output_type": "execute_result"
    }
   ],
   "source": [
    "final_var"
   ]
  },
  {
   "cell_type": "code",
   "execution_count": 53,
   "id": "83774d2b-2eb9-40e7-b420-484db41cb779",
   "metadata": {},
   "outputs": [
    {
     "data": {
      "text/plain": [
       "[array([[0.98621554, 0.71303258, 0.7443609 , 0.87343358, 0.77568922,\n",
       "         0.74561404],\n",
       "        [0.84085213, 0.96867168, 0.9085213 , 0.96616541, 0.78070175,\n",
       "         0.73182957],\n",
       "        [0.86340852, 0.90100251, 0.96867168, 0.97243108, 0.80325815,\n",
       "         0.77192982],\n",
       "        [0.84962406, 0.7556391 , 0.81077694, 0.98621554, 0.82205514,\n",
       "         0.7556391 ],\n",
       "        [0.85714286, 0.75438596, 0.79448622, 0.95864662, 0.98496241,\n",
       "         0.93483709],\n",
       "        [0.84837093, 0.81077694, 0.84210526, 0.95989975, 0.97243108,\n",
       "         0.97744361]]),\n",
       " array([[0.98496241, 0.70300752, 0.73558897, 0.86842105, 0.76566416,\n",
       "         0.72932331],\n",
       "        [0.85714286, 0.96491228, 0.89598997, 0.96365915, 0.78446115,\n",
       "         0.7481203 ],\n",
       "        [0.87593985, 0.89097744, 0.96867168, 0.96992481, 0.81829574,\n",
       "         0.77067669],\n",
       "        [0.84837093, 0.76566416, 0.81328321, 0.98370927, 0.82330827,\n",
       "         0.7593985 ],\n",
       "        [0.85213033, 0.75814536, 0.79197995, 0.96365915, 0.98621554,\n",
       "         0.93609023],\n",
       "        [0.8433584 , 0.80701754, 0.84711779, 0.95989975, 0.96992481,\n",
       "         0.97869674]]),\n",
       " array([[0.97869674, 0.71177945, 0.73684211, 0.86716792, 0.77443609,\n",
       "         0.73809524],\n",
       "        [0.84837093, 0.95989975, 0.89348371, 0.95238095, 0.78571429,\n",
       "         0.73433584],\n",
       "        [0.87092732, 0.88847118, 0.96616541, 0.96240602, 0.81829574,\n",
       "         0.76691729],\n",
       "        [0.84962406, 0.75689223, 0.80701754, 0.98621554, 0.82080201,\n",
       "         0.7556391 ],\n",
       "        [0.85087719, 0.77067669, 0.79072682, 0.95488722, 0.98370927,\n",
       "         0.93609023],\n",
       "        [0.8433584 , 0.79949875, 0.84837093, 0.95363409, 0.96616541,\n",
       "         0.97243108]]),\n",
       " array([[0.98245614, 0.72431078, 0.7406015 , 0.86967419, 0.76817043,\n",
       "         0.73182957],\n",
       "        [0.85338346, 0.96616541, 0.90350877, 0.96741855, 0.78070175,\n",
       "         0.73558897],\n",
       "        [0.86716792, 0.89598997, 0.96992481, 0.97243108, 0.81954887,\n",
       "         0.77568922],\n",
       "        [0.85463659, 0.77067669, 0.81077694, 0.9887218 , 0.82205514,\n",
       "         0.76190476],\n",
       "        [0.84962406, 0.76566416, 0.79699248, 0.95864662, 0.97994987,\n",
       "         0.93233083],\n",
       "        [0.84210526, 0.79949875, 0.84210526, 0.95989975, 0.96616541,\n",
       "         0.97869674]]),\n",
       " array([[0.97994987, 0.71428571, 0.74310777, 0.87343358, 0.76942356,\n",
       "         0.72807018],\n",
       "        [0.85338346, 0.96491228, 0.90225564, 0.96240602, 0.78070175,\n",
       "         0.73057644],\n",
       "        [0.87593985, 0.89473684, 0.96867168, 0.96992481, 0.82080201,\n",
       "         0.77568922],\n",
       "        [0.85714286, 0.75313283, 0.80952381, 0.98496241, 0.81954887,\n",
       "         0.76190476],\n",
       "        [0.85588972, 0.77819549, 0.80576441, 0.95864662, 0.98746867,\n",
       "         0.93233083],\n",
       "        [0.83834586, 0.81453634, 0.85463659, 0.95989975, 0.97493734,\n",
       "         0.97493734]])]"
      ]
     },
     "execution_count": 53,
     "metadata": {},
     "output_type": "execute_result"
    }
   ],
   "source": [
    "mean_tables"
   ]
  },
  {
   "cell_type": "code",
   "execution_count": 54,
   "id": "43c13b52-428c-49fc-a928-12c07484dde0",
   "metadata": {},
   "outputs": [
    {
     "data": {
      "text/plain": [
       "array([[0.98621554, 0.71303258, 0.7443609 , 0.87343358, 0.77568922,\n",
       "        0.74561404],\n",
       "       [0.84085213, 0.96867168, 0.9085213 , 0.96616541, 0.78070175,\n",
       "        0.73182957],\n",
       "       [0.86340852, 0.90100251, 0.96867168, 0.97243108, 0.80325815,\n",
       "        0.77192982],\n",
       "       [0.84962406, 0.7556391 , 0.81077694, 0.98621554, 0.82205514,\n",
       "        0.7556391 ],\n",
       "       [0.85714286, 0.75438596, 0.79448622, 0.95864662, 0.98496241,\n",
       "        0.93483709],\n",
       "       [0.84837093, 0.81077694, 0.84210526, 0.95989975, 0.97243108,\n",
       "        0.97744361]])"
      ]
     },
     "execution_count": 54,
     "metadata": {},
     "output_type": "execute_result"
    }
   ],
   "source": [
    "mean_tables[0]"
   ]
  },
  {
   "cell_type": "code",
   "execution_count": null,
   "id": "97bf8ab6-2bbe-48ec-bf1c-0c74b7ae8ea1",
   "metadata": {},
   "outputs": [],
   "source": []
  }
 ],
 "metadata": {
  "kernelspec": {
   "display_name": "Python [conda env:.conda-cuda--11-1-1--pytorch--1-9-0]",
   "language": "python",
   "name": "conda-env-.conda-cuda--11-1-1--pytorch--1-9-0-py"
  },
  "language_info": {
   "codemirror_mode": {
    "name": "ipython",
    "version": 3
   },
   "file_extension": ".py",
   "mimetype": "text/x-python",
   "name": "python",
   "nbconvert_exporter": "python",
   "pygments_lexer": "ipython3",
   "version": "3.9.10"
  }
 },
 "nbformat": 4,
 "nbformat_minor": 5
}
