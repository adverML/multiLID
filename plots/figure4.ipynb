{
 "cells": [
  {
   "cell_type": "code",
   "execution_count": null,
   "id": "d37ac1f7-57c2-4c04-913e-888272a6f42c",
   "metadata": {},
   "outputs": [],
   "source": [
    "import os\n",
    "import numpy as np\n",
    "import matplotlib.pyplot as plt\n",
    "import torch \n",
    "from sklearn.metrics import roc_auc_score\n",
    "from sklearn.model_selection import train_test_split\n",
    "from sklearn.preprocessing import MinMaxScaler, StandardScaler\n",
    "from sklearn.linear_model import LogisticRegression\n",
    "from sklearn.ensemble import RandomForestClassifier\n",
    "from sklearn.metrics import f1_score\n",
    "from sklearn.exceptions import ConvergenceWarning\n",
    "ConvergenceWarning('ignore')\n",
    "import warnings\n",
    "warnings.filterwarnings(\"ignore\", category=DeprecationWarning)\n",
    "warnings.simplefilter('ignore', UserWarning)\n",
    "\n",
    "from pathlib import Path\n",
    "home = str(Path.home())\n",
    "base_path = os.path.join(home, 'workspace/multiLID/data/extract/run_1/')"
   ]
  },
  {
   "cell_type": "code",
   "execution_count": null,
   "id": "2d7b2c89-7323-4168-b9ee-9c660a88045c",
   "metadata": {},
   "outputs": [],
   "source": [
    "def split_data(characteristics, characteristics_adv, noise, test_size=0.2, random_state=42):\n",
    "    \n",
    "    shape_adv = np.shape(characteristics_adv)[0]\n",
    "    shape_char = np.shape(characteristics)[0]\n",
    "    \n",
    "    # import pdb; pdb.set_trace()\n",
    "    \n",
    "    if not noise:\n",
    "        adv_X_train_val, adv_X_test, adv_y_train_val, adv_y_actual = train_test_split(characteristics_adv, np.ones(shape_adv),   test_size=test_size, random_state=random_state)\n",
    "        b_X_train_val, b_X_test, b_y_train_val, b_y_actual         = train_test_split(characteristics,     np.zeros(shape_char), test_size=test_size, random_state=random_state)\n",
    "        adv_X_train, adv_X_val, adv_y_train, adv_y_val             = train_test_split(adv_X_train_val,     adv_y_train_val,      test_size=test_size, random_state=random_state)\n",
    "        b_X_train, b_X_val, b_y_train, b_y_val                     = train_test_split(b_X_train_val,       b_y_train_val,        test_size=test_size, random_state=random_state)\n",
    "    else:\n",
    "        adv_X_train_val, adv_X_test, adv_y_train_val, adv_y_actual = train_test_split(characteristics_adv,    np.ones(shape_adv),  test_size=test_size, random_state=random_state)\n",
    "        b_X_train_val, b_X_test, b_y_train_val, b_y_actual         = train_test_split(characteristics[:shape_adv], np.zeros(shape_adv), test_size=test_size, random_state=random_state)\n",
    "        # b_X_train_val3, b_X_test3, b_y_train_val3, b_y_actual3     = train_test_split(characteristics[:2000], np.zeros(shape_adv), test_size=test_size, random_state=random_state)\n",
    "        b_X_train_val2, b_X_test2, b_y_train_val2, b_y_actual2     = train_test_split(characteristics[shape_adv:], np.zeros(shape_adv), test_size=test_size, random_state=random_state)\n",
    "        \n",
    "        b_X_train_val = np.concatenate((b_X_train_val, b_X_train_val2))\n",
    "        b_X_test = np.concatenate((b_X_test, b_X_test2))\n",
    "        b_y_train_val = np.concatenate((b_y_train_val, b_y_train_val2))\n",
    "        b_y_actual = np.concatenate((b_y_actual, b_y_actual2)) \n",
    "        \n",
    "        adv_X_train, adv_X_val, adv_y_train, adv_y_val           = train_test_split(adv_X_train_val,     adv_y_train_val,      test_size=test_size, random_state=random_state)\n",
    "        b_X_train, b_X_val, b_y_train, b_y_val                   = train_test_split(b_X_train_val,       b_y_train_val,        test_size=test_size, random_state=random_state)\n",
    "\n",
    "\n",
    "    X_train = np.concatenate(( b_X_train, adv_X_train) )\n",
    "    y_train = np.concatenate(( b_y_train, adv_y_train) )\n",
    "\n",
    "    X_test = np.concatenate( (b_X_test, adv_X_test, b_X_val, adv_X_val) )\n",
    "    y_actual = np.concatenate( (b_y_actual, adv_y_actual, b_y_val, adv_y_val) )\n",
    "\n",
    "\n",
    "    return X_train, y_train, X_test, y_actual"
   ]
  },
  {
   "cell_type": "code",
   "execution_count": null,
   "id": "281a76e0-ca04-46ca-9ab8-3e95727576e1",
   "metadata": {},
   "outputs": [],
   "source": [
    "def RF(X_train, y_train, X_test, y_test):\n",
    "    scaler  = StandardScaler().fit(X_train)\n",
    "    X_train = scaler.transform(X_train)\n",
    "    X_test  = scaler.transform(X_test)\n",
    "    clf = RandomForestClassifier(n_estimators=300, n_jobs=-1)\n",
    "    clf.fit(X_train, y_train)\n",
    "    y_hat =    clf.predict(X_test)\n",
    "    y_hat_pr = clf.predict_proba(X_test)[:, 1]\n",
    "    \n",
    "    return y_hat, y_hat_pr"
   ]
  },
  {
   "cell_type": "code",
   "execution_count": null,
   "id": "8cfca515-0deb-4d0a-9b25-359c8baa7538",
   "metadata": {},
   "outputs": [],
   "source": [
    "def LR(X_train, y_train, X_test, y_test):\n",
    "    scaler  = StandardScaler().fit(X_train)\n",
    "    X_train = scaler.transform(X_train)\n",
    "    X_test  = scaler.transform(X_test)\n",
    "    clf = LogisticRegression()\n",
    "    clf.fit(X_train, y_train)\n",
    "    y_hat =    clf.predict(X_test)\n",
    "    y_hat_pr = clf.predict_proba(X_test)[:, 1]\n",
    "    \n",
    "    return y_hat, y_hat_pr"
   ]
  },
  {
   "cell_type": "code",
   "execution_count": null,
   "id": "d889f08e-98b6-4e02-b071-59731a1785d5",
   "metadata": {},
   "outputs": [
    {
     "name": "stdout",
     "output_type": "stream",
     "text": [
      "/home/lorenzp/workspace/multiLID/data/extract/run_1/cifar10/wrn28-10/multilid/fgsm/k20/multilid_normalos_8255.pt\n",
      "2000 100\n"
     ]
    }
   ],
   "source": [
    "NR_SAMPLES=2000\n",
    "stepsize = 10\n",
    "\n",
    "print(os.path.join(base_path, 'cifar10/wrn28-10/multilid/{}/k20/multilid_normalos_8255.pt'.format('fgsm')))\n",
    "\n",
    "tmp = torch.load(os.path.join(base_path, 'cifar10/wrn28-10/multilid/{}/k20/multilid_normalos_8255.pt'.format('fgsm'))).numpy()[:NR_SAMPLES]\n",
    "characteristics_re = tmp.reshape((tmp.shape[0], -1))\n",
    "\n",
    "tmp = torch.load(os.path.join(base_path, 'cifar10/wrn28-10/multilid/{}/k20/multilid_adverlos_8255.pt'.format('fgsm'))).numpy()[:NR_SAMPLES]\n",
    "characteristics_adv_re = tmp.reshape((tmp.shape[0], -1))\n",
    "\n",
    "samples, length = characteristics_re.shape\n",
    "\n",
    "print(samples, length)"
   ]
  },
  {
   "cell_type": "code",
   "execution_count": null,
   "id": "ef4cedab-f386-4635-91f8-fc7c8cd19480",
   "metadata": {},
   "outputs": [
    {
     "name": "stdout",
     "output_type": "stream",
     "text": [
      "10 (2000, 10)\n",
      "94.57 93.13 || f1:  87.04 85.57\n",
      "20 (2000, 20)\n",
      "94.87 93.55 || f1:  87.2 86.17\n",
      "30 (2000, 30)\n",
      "95.08 93.47 || f1:  87.72 86.4\n",
      "40 (2000, 40)\n",
      "94.98 93.33 || f1:  87.47 86.24\n",
      "50 (2000, 50)\n",
      "94.95 93.16 || f1:  87.23 85.35\n",
      "60 (2000, 60)\n",
      "94.82 92.95 || f1:  87.37 85.63\n",
      "70 (2000, 70)\n",
      "94.88 92.95 || f1:  87.48 85.67\n",
      "80 (2000, 80)\n",
      "94.85 92.73 || f1:  87.55 85.27\n",
      "90 (2000, 90)\n",
      "94.69 92.74 || f1:  87.2 85.01\n",
      "100 (2000, 100)\n",
      "94.67 92.74 || f1:  87.23 84.97\n"
     ]
    }
   ],
   "source": [
    "for i in range(stepsize, length+stepsize, stepsize):\n",
    "    print(i, characteristics_re[:, :i].shape)\n",
    "    \n",
    "    clean_feat  = characteristics_re[:, :i]\n",
    "    attack_feat = characteristics_adv_re[:, :i]\n",
    "    \n",
    "    X_train, y_train, X_test, y_test = split_data(clean_feat, attack_feat, noise=False, test_size=0.2, random_state=42)\n",
    "    y_hat, y_hat_pr = LR(X_train, y_train, X_test, y_test)\n",
    "    auc = round(100*roc_auc_score(y_test, y_hat_pr), 2)\n",
    "    f1 =  round(100*f1_score(y_test, y_hat), 2)\n",
    "    \n",
    "    y_hat, y_hat_pr = RF(X_train, y_train, X_test, y_test)\n",
    "    auc_rf = round(100*roc_auc_score(y_test, y_hat_pr), 2)\n",
    "    f1_rf =  round(100*f1_score(y_test, y_hat), 2)\n",
    "    print(auc, auc_rf, '|| f1: ', f1, f1_rf)"
   ]
  },
  {
   "cell_type": "code",
   "execution_count": null,
   "id": "acfed135-629c-48fe-a408-bab81c158da0",
   "metadata": {},
   "outputs": [],
   "source": [
    "def calc_auc(attacks, mode=\"cif10\", stepsize=10):\n",
    "    dict_res = {}\n",
    "    \n",
    "    length = 0\n",
    "    \n",
    "    for att in attacks:\n",
    "        print(\"attack\", att)\n",
    "        \n",
    "        eps = \"\"\n",
    "        if att in ['fgsm', 'bim', 'pgd', 'aa']:\n",
    "            eps = '_8255'\n",
    "\n",
    "        if mode == \"cif10\":\n",
    "            pth_tmp             =  os.path.join(base_path, 'cifar10/wrn28-10/multilid/{}/k20/multilid_normalos{}.pt'.format(att, eps))\n",
    "            pth_tmp_adv         =  os.path.join(base_path, 'cifar10/wrn28-10/multilid/{}/k20/multilid_adverlos{}.pt'.format(att, eps))\n",
    "        else:                  \n",
    "            pth_tmp             =  os.path.join(base_path, 'imagenet/wrn50-2/multilid/{}/k20/multilid_normalos{}.pt'.format(att, eps))\n",
    "            pth_tmp_adv         =  os.path.join(base_path, 'imagenet/wrn50-2/multilid/{}/k20/multilid_adverlos{}.pt'.format(att, eps))\n",
    "\n",
    "        characteristics     = torch.load(pth_tmp).numpy()[:NR_SAMPLES]\n",
    "        characteristics_adv = torch.load(pth_tmp_adv).numpy()[:NR_SAMPLES]\n",
    "\n",
    "        characteristics_re     = characteristics.reshape((characteristics.shape[0], -1))\n",
    "        characteristics_adv_re = characteristics_adv.reshape((characteristics_adv.shape[0], -1))\n",
    "        \n",
    "        characteristics_re     = characteristics_re[:,::-1]   \n",
    "        characteristics_adv_re = characteristics_adv_re[:,::-1]\n",
    "        \n",
    "        print(characteristics_re.shape)\n",
    "        nrsamples, length = characteristics_re.shape\n",
    "        print(\"length\", length, stepsize)\n",
    "        \n",
    "        auc_list = []\n",
    "\n",
    "        for i in range(0, length+stepsize, stepsize):\n",
    "\n",
    "            if not i == 0:\n",
    "            \n",
    "                clean_feat  = characteristics_re[:, :i]\n",
    "                attack_feat = characteristics_adv_re[:, :i]\n",
    "\n",
    "                X_train, y_train, X_test, y_test = split_data(clean_feat, attack_feat, noise=False, test_size=0.2, random_state=42)\n",
    "\n",
    "\n",
    "                y_hat, y_hat_pr = RF(X_train, y_train, X_test, y_test)\n",
    "                auc = round(100*roc_auc_score(y_test, y_hat_pr), 2)\n",
    "                f1_rf =  round(100*f1_score(y_test, y_hat), 2)\n",
    "                # print(auc, auc_rf, '|| f1: ', f1, f1_rf) \n",
    "\n",
    "                #print(\"auc\", auc, f1_rf)\n",
    "\n",
    "            else:\n",
    "                auc = 0\n",
    "\n",
    "            auc_list.append(auc)\n",
    "\n",
    "        dict_res[att] = auc_list \n",
    "\n",
    "    return dict_res, length"
   ]
  },
  {
   "cell_type": "code",
   "execution_count": 8,
   "id": "25069aee-c459-40ef-8d74-0feb9c478306",
   "metadata": {},
   "outputs": [],
   "source": [
    "attacks = ['fgsm', 'bim', 'pgd', 'aa', 'df', 'cw']\n",
    "labels  = ['FGSM', 'BIM', 'PGD', 'AA', 'DF', 'CW']\n",
    "cdict  = {0: 'black', 1: 'pink', 2: 'blue', 3: 'red', 4: 'green', 5: 'cyan', 6: 'orange', 7: 'purple'}\n",
    "\n",
    "# cdict  = {0: 'blue', 1: 'red', 2: 'green', 3: 'cyan', 4: 'orange', 5: 'purple'}"
   ]
  },
  {
   "cell_type": "code",
   "execution_count": 9,
   "id": "93c29bc3-89c1-4f1e-b9ba-2c0d4508c416",
   "metadata": {},
   "outputs": [
    {
     "name": "stdout",
     "output_type": "stream",
     "text": [
      "attack fgsm\n",
      "(2000, 100)\n",
      "length 100 10\n",
      "attack bim\n",
      "(2000, 100)\n",
      "length 100 10\n",
      "attack pgd\n",
      "(2000, 100)\n",
      "length 100 10\n",
      "attack aa\n",
      "(2000, 260)\n",
      "length 260 10\n",
      "attack df\n",
      "(2000, 260)\n",
      "length 260 10\n",
      "attack cw\n",
      "(2000, 100)\n",
      "length 100 10\n"
     ]
    }
   ],
   "source": [
    "dict_res, length = calc_auc(attacks, mode=\"cif10\")"
   ]
  },
  {
   "cell_type": "code",
   "execution_count": 10,
   "id": "7e28bfac-a810-47ea-bd10-9582dd3975fb",
   "metadata": {},
   "outputs": [
    {
     "data": {
      "text/plain": [
       "11"
      ]
     },
     "execution_count": 10,
     "metadata": {},
     "output_type": "execute_result"
    }
   ],
   "source": [
    "len(dict_res['fgsm'])"
   ]
  },
  {
   "cell_type": "code",
   "execution_count": 11,
   "id": "00e29d8d-1305-4296-ac42-b07783089832",
   "metadata": {},
   "outputs": [
    {
     "ename": "ValueError",
     "evalue": "x and y must have same first dimension, but have shapes (11,) and (27,)",
     "output_type": "error",
     "traceback": [
      "\u001b[0;31m---------------------------------------------------------------------------\u001b[0m",
      "\u001b[0;31mValueError\u001b[0m                                Traceback (most recent call last)",
      "Input \u001b[0;32mIn [11]\u001b[0m, in \u001b[0;36m<cell line: 6>\u001b[0;34m()\u001b[0m\n\u001b[1;32m      5\u001b[0m x \u001b[38;5;241m=\u001b[39m np\u001b[38;5;241m.\u001b[39marange(\u001b[38;5;241m0\u001b[39m, length\u001b[38;5;241m+\u001b[39mstepsize, stepsize)\n\u001b[1;32m      6\u001b[0m \u001b[38;5;28;01mfor\u001b[39;00m it, att \u001b[38;5;129;01min\u001b[39;00m \u001b[38;5;28menumerate\u001b[39m(attacks):\n\u001b[0;32m----> 7\u001b[0m     \u001b[43mplt\u001b[49m\u001b[38;5;241;43m.\u001b[39;49m\u001b[43mplot\u001b[49m\u001b[43m(\u001b[49m\u001b[43mx\u001b[49m\u001b[43m,\u001b[49m\u001b[43m \u001b[49m\u001b[43mdict_res\u001b[49m\u001b[43m[\u001b[49m\u001b[43matt\u001b[49m\u001b[43m]\u001b[49m\u001b[43m,\u001b[49m\u001b[43m \u001b[49m\u001b[43mlabel\u001b[49m\u001b[38;5;241;43m=\u001b[39;49m\u001b[43mlabels\u001b[49m\u001b[43m[\u001b[49m\u001b[43mit\u001b[49m\u001b[43m]\u001b[49m\u001b[43m,\u001b[49m\u001b[43m \u001b[49m\u001b[43mcolor\u001b[49m\u001b[38;5;241;43m=\u001b[39;49m\u001b[43mcdict\u001b[49m\u001b[43m[\u001b[49m\u001b[43mit\u001b[49m\u001b[43m]\u001b[49m\u001b[43m)\u001b[49m\n\u001b[1;32m      9\u001b[0m plt\u001b[38;5;241m.\u001b[39mgrid()\n\u001b[1;32m     10\u001b[0m plt\u001b[38;5;241m.\u001b[39mlegend()\n",
      "File \u001b[0;32m~/.conda/envs/cuda--11-1-1--pytorch--1-9-0/lib/python3.9/site-packages/matplotlib/pyplot.py:2757\u001b[0m, in \u001b[0;36mplot\u001b[0;34m(scalex, scaley, data, *args, **kwargs)\u001b[0m\n\u001b[1;32m   2755\u001b[0m \u001b[38;5;129m@_copy_docstring_and_deprecators\u001b[39m(Axes\u001b[38;5;241m.\u001b[39mplot)\n\u001b[1;32m   2756\u001b[0m \u001b[38;5;28;01mdef\u001b[39;00m \u001b[38;5;21mplot\u001b[39m(\u001b[38;5;241m*\u001b[39margs, scalex\u001b[38;5;241m=\u001b[39m\u001b[38;5;28;01mTrue\u001b[39;00m, scaley\u001b[38;5;241m=\u001b[39m\u001b[38;5;28;01mTrue\u001b[39;00m, data\u001b[38;5;241m=\u001b[39m\u001b[38;5;28;01mNone\u001b[39;00m, \u001b[38;5;241m*\u001b[39m\u001b[38;5;241m*\u001b[39mkwargs):\n\u001b[0;32m-> 2757\u001b[0m     \u001b[38;5;28;01mreturn\u001b[39;00m \u001b[43mgca\u001b[49m\u001b[43m(\u001b[49m\u001b[43m)\u001b[49m\u001b[38;5;241;43m.\u001b[39;49m\u001b[43mplot\u001b[49m\u001b[43m(\u001b[49m\n\u001b[1;32m   2758\u001b[0m \u001b[43m        \u001b[49m\u001b[38;5;241;43m*\u001b[39;49m\u001b[43margs\u001b[49m\u001b[43m,\u001b[49m\u001b[43m \u001b[49m\u001b[43mscalex\u001b[49m\u001b[38;5;241;43m=\u001b[39;49m\u001b[43mscalex\u001b[49m\u001b[43m,\u001b[49m\u001b[43m \u001b[49m\u001b[43mscaley\u001b[49m\u001b[38;5;241;43m=\u001b[39;49m\u001b[43mscaley\u001b[49m\u001b[43m,\u001b[49m\n\u001b[1;32m   2759\u001b[0m \u001b[43m        \u001b[49m\u001b[38;5;241;43m*\u001b[39;49m\u001b[38;5;241;43m*\u001b[39;49m\u001b[43m(\u001b[49m\u001b[43m{\u001b[49m\u001b[38;5;124;43m\"\u001b[39;49m\u001b[38;5;124;43mdata\u001b[39;49m\u001b[38;5;124;43m\"\u001b[39;49m\u001b[43m:\u001b[49m\u001b[43m \u001b[49m\u001b[43mdata\u001b[49m\u001b[43m}\u001b[49m\u001b[43m \u001b[49m\u001b[38;5;28;43;01mif\u001b[39;49;00m\u001b[43m \u001b[49m\u001b[43mdata\u001b[49m\u001b[43m \u001b[49m\u001b[38;5;129;43;01mis\u001b[39;49;00m\u001b[43m \u001b[49m\u001b[38;5;129;43;01mnot\u001b[39;49;00m\u001b[43m \u001b[49m\u001b[38;5;28;43;01mNone\u001b[39;49;00m\u001b[43m \u001b[49m\u001b[38;5;28;43;01melse\u001b[39;49;00m\u001b[43m \u001b[49m\u001b[43m{\u001b[49m\u001b[43m}\u001b[49m\u001b[43m)\u001b[49m\u001b[43m,\u001b[49m\u001b[43m \u001b[49m\u001b[38;5;241;43m*\u001b[39;49m\u001b[38;5;241;43m*\u001b[39;49m\u001b[43mkwargs\u001b[49m\u001b[43m)\u001b[49m\n",
      "File \u001b[0;32m~/.conda/envs/cuda--11-1-1--pytorch--1-9-0/lib/python3.9/site-packages/matplotlib/axes/_axes.py:1632\u001b[0m, in \u001b[0;36mAxes.plot\u001b[0;34m(self, scalex, scaley, data, *args, **kwargs)\u001b[0m\n\u001b[1;32m   1390\u001b[0m \u001b[38;5;250m\u001b[39m\u001b[38;5;124;03m\"\"\"\u001b[39;00m\n\u001b[1;32m   1391\u001b[0m \u001b[38;5;124;03mPlot y versus x as lines and/or markers.\u001b[39;00m\n\u001b[1;32m   1392\u001b[0m \n\u001b[0;32m   (...)\u001b[0m\n\u001b[1;32m   1629\u001b[0m \u001b[38;5;124;03m(``'green'``) or hex strings (``'#008000'``).\u001b[39;00m\n\u001b[1;32m   1630\u001b[0m \u001b[38;5;124;03m\"\"\"\u001b[39;00m\n\u001b[1;32m   1631\u001b[0m kwargs \u001b[38;5;241m=\u001b[39m cbook\u001b[38;5;241m.\u001b[39mnormalize_kwargs(kwargs, mlines\u001b[38;5;241m.\u001b[39mLine2D)\n\u001b[0;32m-> 1632\u001b[0m lines \u001b[38;5;241m=\u001b[39m [\u001b[38;5;241m*\u001b[39m\u001b[38;5;28mself\u001b[39m\u001b[38;5;241m.\u001b[39m_get_lines(\u001b[38;5;241m*\u001b[39margs, data\u001b[38;5;241m=\u001b[39mdata, \u001b[38;5;241m*\u001b[39m\u001b[38;5;241m*\u001b[39mkwargs)]\n\u001b[1;32m   1633\u001b[0m \u001b[38;5;28;01mfor\u001b[39;00m line \u001b[38;5;129;01min\u001b[39;00m lines:\n\u001b[1;32m   1634\u001b[0m     \u001b[38;5;28mself\u001b[39m\u001b[38;5;241m.\u001b[39madd_line(line)\n",
      "File \u001b[0;32m~/.conda/envs/cuda--11-1-1--pytorch--1-9-0/lib/python3.9/site-packages/matplotlib/axes/_base.py:312\u001b[0m, in \u001b[0;36m_process_plot_var_args.__call__\u001b[0;34m(self, data, *args, **kwargs)\u001b[0m\n\u001b[1;32m    310\u001b[0m     this \u001b[38;5;241m+\u001b[39m\u001b[38;5;241m=\u001b[39m args[\u001b[38;5;241m0\u001b[39m],\n\u001b[1;32m    311\u001b[0m     args \u001b[38;5;241m=\u001b[39m args[\u001b[38;5;241m1\u001b[39m:]\n\u001b[0;32m--> 312\u001b[0m \u001b[38;5;28;01myield from\u001b[39;00m \u001b[38;5;28;43mself\u001b[39;49m\u001b[38;5;241;43m.\u001b[39;49m\u001b[43m_plot_args\u001b[49m\u001b[43m(\u001b[49m\u001b[43mthis\u001b[49m\u001b[43m,\u001b[49m\u001b[43m \u001b[49m\u001b[43mkwargs\u001b[49m\u001b[43m)\u001b[49m\n",
      "File \u001b[0;32m~/.conda/envs/cuda--11-1-1--pytorch--1-9-0/lib/python3.9/site-packages/matplotlib/axes/_base.py:498\u001b[0m, in \u001b[0;36m_process_plot_var_args._plot_args\u001b[0;34m(self, tup, kwargs, return_kwargs)\u001b[0m\n\u001b[1;32m    495\u001b[0m     \u001b[38;5;28mself\u001b[39m\u001b[38;5;241m.\u001b[39maxes\u001b[38;5;241m.\u001b[39myaxis\u001b[38;5;241m.\u001b[39mupdate_units(y)\n\u001b[1;32m    497\u001b[0m \u001b[38;5;28;01mif\u001b[39;00m x\u001b[38;5;241m.\u001b[39mshape[\u001b[38;5;241m0\u001b[39m] \u001b[38;5;241m!=\u001b[39m y\u001b[38;5;241m.\u001b[39mshape[\u001b[38;5;241m0\u001b[39m]:\n\u001b[0;32m--> 498\u001b[0m     \u001b[38;5;28;01mraise\u001b[39;00m \u001b[38;5;167;01mValueError\u001b[39;00m(\u001b[38;5;124mf\u001b[39m\u001b[38;5;124m\"\u001b[39m\u001b[38;5;124mx and y must have same first dimension, but \u001b[39m\u001b[38;5;124m\"\u001b[39m\n\u001b[1;32m    499\u001b[0m                      \u001b[38;5;124mf\u001b[39m\u001b[38;5;124m\"\u001b[39m\u001b[38;5;124mhave shapes \u001b[39m\u001b[38;5;132;01m{\u001b[39;00mx\u001b[38;5;241m.\u001b[39mshape\u001b[38;5;132;01m}\u001b[39;00m\u001b[38;5;124m and \u001b[39m\u001b[38;5;132;01m{\u001b[39;00my\u001b[38;5;241m.\u001b[39mshape\u001b[38;5;132;01m}\u001b[39;00m\u001b[38;5;124m\"\u001b[39m)\n\u001b[1;32m    500\u001b[0m \u001b[38;5;28;01mif\u001b[39;00m x\u001b[38;5;241m.\u001b[39mndim \u001b[38;5;241m>\u001b[39m \u001b[38;5;241m2\u001b[39m \u001b[38;5;129;01mor\u001b[39;00m y\u001b[38;5;241m.\u001b[39mndim \u001b[38;5;241m>\u001b[39m \u001b[38;5;241m2\u001b[39m:\n\u001b[1;32m    501\u001b[0m     \u001b[38;5;28;01mraise\u001b[39;00m \u001b[38;5;167;01mValueError\u001b[39;00m(\u001b[38;5;124mf\u001b[39m\u001b[38;5;124m\"\u001b[39m\u001b[38;5;124mx and y can be no greater than 2D, but have \u001b[39m\u001b[38;5;124m\"\u001b[39m\n\u001b[1;32m    502\u001b[0m                      \u001b[38;5;124mf\u001b[39m\u001b[38;5;124m\"\u001b[39m\u001b[38;5;124mshapes \u001b[39m\u001b[38;5;132;01m{\u001b[39;00mx\u001b[38;5;241m.\u001b[39mshape\u001b[38;5;132;01m}\u001b[39;00m\u001b[38;5;124m and \u001b[39m\u001b[38;5;132;01m{\u001b[39;00my\u001b[38;5;241m.\u001b[39mshape\u001b[38;5;132;01m}\u001b[39;00m\u001b[38;5;124m\"\u001b[39m)\n",
      "\u001b[0;31mValueError\u001b[0m: x and y must have same first dimension, but have shapes (11,) and (27,)"
     ]
    },
    {
     "data": {
      "image/png": "[encoded data removed]",
      "text/plain": [
       "<Figure size 432x288 with 1 Axes>"
      ]
     },
     "metadata": {
      "needs_background": "light"
     },
     "output_type": "display_data"
    }
   ],
   "source": [
    "fig, ax = plt.subplots()\n",
    "plt.title('Cummulative LID Features - WRN 28-10 - CIFAR10')\n",
    "plt.ylabel(\"AUC\")\n",
    "plt.xlabel(\"multLID features length\")\n",
    "x = np.arange(0, length+stepsize, stepsize)\n",
    "for it, att in enumerate(attacks):\n",
    "    plt.plot(x, dict_res[att], label=labels[it], color=cdict[it])\n",
    "\n",
    "plt.grid()\n",
    "plt.legend()\n",
    "\n",
    "# ax.figure.savefig(\"plots/cummulative_lid_features/cummulative_lid_features_cifar10.png\", dpi=600, bbox_inches='tight')"
   ]
  },
  {
   "cell_type": "markdown",
   "id": "d809c769-df88-4d38-abec-de09a51b421b",
   "metadata": {},
   "source": [
    "# ImageNet"
   ]
  },
  {
   "cell_type": "code",
   "execution_count": 16,
   "id": "89ee76d8-36c1-4b3a-baf3-d46b0ce4e239",
   "metadata": {},
   "outputs": [
    {
     "name": "stdout",
     "output_type": "stream",
     "text": [
      "attack fgsm\n",
      "length 510 10\n",
      "attack bim\n",
      "length 510 10\n",
      "attack pgd\n",
      "length 510 10\n",
      "attack aa\n",
      "length 510 10\n",
      "attack df\n",
      "length 510 10\n",
      "attack cw\n",
      "length 510 10\n"
     ]
    }
   ],
   "source": [
    "dict_res, length = calc_auc(attacks, mode=\"imagenet\")"
   ]
  },
  {
   "cell_type": "code",
   "execution_count": 18,
   "id": "4ee72c8f-95f3-4e61-bac2-81b3c606bbb2",
   "metadata": {},
   "outputs": [
    {
     "data": {
      "text/plain": [
       "52"
      ]
     },
     "execution_count": 18,
     "metadata": {},
     "output_type": "execute_result"
    }
   ],
   "source": [
    "len(dict_res[\"fgsm\"])"
   ]
  },
  {
   "cell_type": "code",
   "execution_count": 19,
   "id": "56932d68-1c3a-4ca2-9420-208dcad4c4db",
   "metadata": {},
   "outputs": [
    {
     "data": {
      "text/plain": [
       "52"
      ]
     },
     "execution_count": 19,
     "metadata": {},
     "output_type": "execute_result"
    }
   ],
   "source": [
    "len(x)"
   ]
  },
  {
   "cell_type": "code",
   "execution_count": 20,
   "id": "c6921041-6fcd-4629-834c-7dedf38b6643",
   "metadata": {},
   "outputs": [
    {
     "data": {
      "text/plain": [
       "<matplotlib.legend.Legend at 0x7fd50b686d00>"
      ]
     },
     "execution_count": 20,
     "metadata": {},
     "output_type": "execute_result"
    },
    {
     "data": {
      "image/png": "[encoded data removed]",
      "text/plain": [
       "<Figure size 432x288 with 1 Axes>"
      ]
     },
     "metadata": {
      "needs_background": "light"
     },
     "output_type": "display_data"
    }
   ],
   "source": [
    "attacks = ['fgsm', 'bim', 'pgd', 'aa', 'df', 'cw']\n",
    "fig, ax = plt.subplots()\n",
    "plt.title('Cummulative LID Features - WRN 50-2 - ImageNet')\n",
    "plt.ylabel(\"AUC\")\n",
    "plt.xlabel(\"multiLID features length\")\n",
    "x = np.arange(0, length+stepsize, stepsize)\n",
    "for it, att in enumerate(attacks):\n",
    "    plt.plot(x, dict_res[att], label=labels[it], color=cdict[it])\n",
    "\n",
    "plt.grid()\n",
    "plt.legend()\n",
    "\n",
    "#ax.figure.savefig(\"plots/cummulative_lid_features/cummulative_lid_features_imagenet.png\", dpi=600, bbox_inches='tight')"
   ]
  }
 ],
 "metadata": {
  "kernelspec": {
   "display_name": "Python [conda env:.conda-cuda--11-1-1--pytorch--1-9-0]",
   "language": "python",
   "name": "conda-env-.conda-cuda--11-1-1--pytorch--1-9-0-py"
  },
  "language_info": {
   "codemirror_mode": {
    "name": "ipython",
    "version": 3
   },
   "file_extension": ".py",
   "mimetype": "text/x-python",
   "name": "python",
   "nbconvert_exporter": "python",
   "pygments_lexer": "ipython3",
   "version": "3.9.10"
  }
 },
 "nbformat": 4,
 "nbformat_minor": 5
}
