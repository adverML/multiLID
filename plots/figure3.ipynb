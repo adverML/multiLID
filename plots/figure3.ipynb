{
 "cells": [
  {
   "cell_type": "code",
   "execution_count": 1,
   "id": "0b0be57e-6e73-404d-b94c-0c083affa5af",
   "metadata": {},
   "outputs": [],
   "source": [
    "import os\n",
    "import numpy as np\n",
    "import torch\n",
    "import matplotlib.pyplot as plt\n",
    "\n",
    "from sklearn.ensemble import RandomForestClassifier\n",
    "from sklearn.model_selection import train_test_split\n",
    "from sklearn.metrics import confusion_matrix, ConfusionMatrixDisplay\n",
    "from sklearn.utils.class_weight import compute_sample_weight\n",
    "from numpy import random\n",
    "from sklearn.ensemble import RandomForestClassifier\n",
    "\n",
    "import pandas as pd\n",
    "pd.options.display.float_format = '{:.2f}'.format\n",
    "\n",
    "from pathlib import Path\n",
    "home = str(Path.home())\n",
    "base_path = os.path.join(home, 'workspace/multiLID/data/extract/run_1/')"
   ]
  },
  {
   "cell_type": "code",
   "execution_count": 2,
   "id": "4b077e71-ed4d-4ade-89bb-c729035d3c27",
   "metadata": {},
   "outputs": [],
   "source": [
    "NR_SAMPLES = 2000"
   ]
  },
  {
   "cell_type": "code",
   "execution_count": 3,
   "id": "5974acfe-7bb5-4584-90f8-c41cbe50ee0a",
   "metadata": {},
   "outputs": [],
   "source": [
    "nor_fgsm = torch.load(os.path.join(base_path, 'cifar10/wrn28-10/lid/fgsm/k20/lid_normalos_8255.pt'))[:NR_SAMPLES]\n",
    "adv_fgsm = torch.load(os.path.join(base_path, 'cifar10/wrn28-10/lid/fgsm/k20/lid_adverlos_8255.pt'))[:NR_SAMPLES]\n",
    "nor_bim  = torch.load(os.path.join(base_path, 'cifar10/wrn28-10/lid/bim/k20/lid_normalos_8255.pt'))[:NR_SAMPLES]\n",
    "adv_bim  = torch.load(os.path.join(base_path, 'cifar10/wrn28-10/lid/bim/k20/lid_adverlos_8255.pt'))[:NR_SAMPLES]\n",
    "nor_pgd  = torch.load(os.path.join(base_path, 'cifar10/wrn28-10/lid/pgd/k20/lid_normalos_8255.pt'))[:NR_SAMPLES]\n",
    "adv_pgd  = torch.load(os.path.join(base_path, 'cifar10/wrn28-10/lid/pgd/k20/lid_adverlos_8255.pt'))[:NR_SAMPLES]\n",
    "nor_aa   = torch.load(os.path.join(base_path, 'cifar10/wrn28-10/lid/aa/k20/lid_normalos_8255.pt'))[:NR_SAMPLES]\n",
    "adv_aa   = torch.load(os.path.join(base_path, 'cifar10/wrn28-10/lid/aa/k20/lid_adverlos_8255.pt'))[:NR_SAMPLES]\n",
    "nor_df   = torch.load(os.path.join(base_path, 'cifar10/wrn28-10/lid/df/k20/lid_normalos.pt'))[:NR_SAMPLES]\n",
    "adv_df   = torch.load(os.path.join(base_path, 'cifar10/wrn28-10/lid/df/k20/lid_adverlos.pt'))[:NR_SAMPLES]\n",
    "nor_cw   = torch.load(os.path.join(base_path, 'cifar10/wrn28-10/lid/cw/k20/lid_normalos.pt'))[:NR_SAMPLES]\n",
    "adv_cw   = torch.load(os.path.join(base_path, 'cifar10/wrn28-10/lid/cw/k20/lid_adverlos.pt'))[:NR_SAMPLES]"
   ]
  },
  {
   "cell_type": "code",
   "execution_count": 4,
   "id": "9939193c-c109-42d5-a208-3e34b4715d2f",
   "metadata": {},
   "outputs": [],
   "source": [
    "nor = [nor_fgsm, nor_bim, nor_pgd, nor_aa, nor_df, nor_cw,]\n",
    "adv = [adv_fgsm, adv_bim, adv_pgd, adv_aa, adv_df, adv_cw,]"
   ]
  },
  {
   "cell_type": "code",
   "execution_count": 5,
   "id": "9c37f3f5-7fba-48d6-8330-7b70b8dc1ba3",
   "metadata": {},
   "outputs": [
    {
     "data": {
      "text/plain": [
       "(100,)"
      ]
     },
     "execution_count": 5,
     "metadata": {},
     "output_type": "execute_result"
    }
   ],
   "source": [
    "np.ones(nor_fgsm.shape[0]).astype('int').shape"
   ]
  },
  {
   "cell_type": "code",
   "execution_count": 6,
   "id": "8b3e8d54-85f9-4358-859b-26c5fc74e71c",
   "metadata": {},
   "outputs": [
    {
     "name": "stdout",
     "output_type": "stream",
     "text": [
      "random state:  21\n"
     ]
    }
   ],
   "source": [
    "attacks = ['fgsm', 'bim', 'pgd', 'aa', 'df', 'cw']\n",
    "labels  = ['FGSM', 'BIM', 'PGD', 'AA', 'DF', 'CW']\n",
    "#cdict  = {0: 'black', 1: 'pink', 2: 'blue', 3: 'red', 4: 'green', 5: 'cyan', 6: 'orange', 7: 'purple'}\n",
    "cdict  = {'FGSM': 'blue', 'BIM': 'red', 'PGD': 'gree', 'AA': 'cyan', 'DF': 'orange', 'CW': 'purple'}\n",
    "\n",
    "factor = 0.8\n",
    "nr_mean = 1\n",
    "mean_tables = []\n",
    "nr_samples=2000\n",
    "\n",
    "importances_list = {}\n",
    "\n",
    "for it in range(nr_mean):\n",
    "    random_state = 21 # random.randint(100)\n",
    "    print(\"random state: \", random_state)\n",
    "    final_table = np.zeros((len(nor), len(adv)))\n",
    "\n",
    "    for i, rows in enumerate(range(len(nor))):\n",
    "        X_nor = nor[rows]\n",
    "        X_adv = adv[rows]\n",
    "        if len(X_nor.shape) > 2: \n",
    "            X_nor = nor[rows].reshape((nor[rows].shape[0], -1))[:,::-1]\n",
    "            X_adv = adv[rows].reshape((adv[rows].shape[0], -1))[:,::-1]\n",
    "                \n",
    "        y_nor = np.zeros(X_nor.shape[0]).astype('int')\n",
    "        y_adv = np.ones(X_nor.shape[0]).astype('int')\n",
    "        \n",
    "        x_train_n, x_test_n, y_train_n, y_test_n = train_test_split(X_nor, y_nor, test_size=1-factor, train_size=factor, random_state=random_state)\n",
    "        x_train_a, x_test_a, y_train_a, y_test_a = train_test_split(X_adv, y_adv, test_size=1-factor, train_size=factor, random_state=random_state)\n",
    "\n",
    "        X_train = np.concatenate((x_train_n, x_train_a))\n",
    "        y_train = np.concatenate((y_train_n, y_train_a))\n",
    "                \n",
    "        clf = RandomForestClassifier(n_estimators=300, n_jobs=-1)\n",
    "        \n",
    "        clf.fit(X_train, y_train)\n",
    "        importances = clf.feature_importances_\n",
    "        importances_list[labels[i]]  = importances"
   ]
  },
  {
   "cell_type": "code",
   "execution_count": 7,
   "id": "04433913-62e4-4457-9831-263c2f37e544",
   "metadata": {},
   "outputs": [
    {
     "data": {
      "text/plain": [
       "{'FGSM': array([0.04812599, 0.07909952, 0.07039104, 0.26130188, 0.06032364,\n",
       "        0.03738013, 0.02329828, 0.01902603, 0.05164149, 0.05531921,\n",
       "        0.02316352, 0.10889712, 0.16203215]),\n",
       " 'BIM': array([0.04510673, 0.05253479, 0.04379196, 0.16283092, 0.10195306,\n",
       "        0.05808764, 0.04335598, 0.05004729, 0.04648265, 0.04496367,\n",
       "        0.06386534, 0.10032633, 0.18665365]),\n",
       " 'PGD': array([0.03724166, 0.04252836, 0.03775719, 0.14566497, 0.08944221,\n",
       "        0.04816506, 0.03335176, 0.03530542, 0.03636089, 0.04024311,\n",
       "        0.0602539 , 0.11999746, 0.27368802]),\n",
       " 'AA': array([0.02111938, 0.026423  , 0.02000831, 0.10815503, 0.09381758,\n",
       "        0.03800345, 0.02751369, 0.01919334, 0.04125167, 0.02282126,\n",
       "        0.04617919, 0.15925138, 0.37626274]),\n",
       " 'DF': array([0.02301886, 0.02215051, 0.02377981, 0.02815492, 0.02878017,\n",
       "        0.02566668, 0.02354187, 0.02640675, 0.0245405 , 0.02894847,\n",
       "        0.04921339, 0.21109053, 0.48470754]),\n",
       " 'CW': array([0.0275344 , 0.02714873, 0.02518557, 0.02908217, 0.02789875,\n",
       "        0.02789369, 0.02796254, 0.02858972, 0.02985013, 0.03058952,\n",
       "        0.04983291, 0.21021724, 0.45821464])}"
      ]
     },
     "execution_count": 7,
     "metadata": {},
     "output_type": "execute_result"
    }
   ],
   "source": [
    "importances_list"
   ]
  },
  {
   "cell_type": "code",
   "execution_count": 8,
   "id": "f0932ea8-00ef-4566-92a8-a58c74f978fa",
   "metadata": {},
   "outputs": [],
   "source": [
    "df = pd.DataFrame.from_dict(importances_list)\n",
    "cdict  = {'FGSM': 'blue', 'BIM': 'red', 'PGD': 'green', 'AA': 'cyan', 'DF': 'orange', 'CW': 'purple'}"
   ]
  },
  {
   "cell_type": "code",
   "execution_count": 10,
   "id": "402ced70-527f-49f9-9329-8a92d7c214e7",
   "metadata": {},
   "outputs": [
    {
     "data": {
      "image/png": "[encoded data removed]",
      "text/plain": [
       "<Figure size 432x288 with 1 Axes>"
      ]
     },
     "metadata": {
      "needs_background": "light"
     },
     "output_type": "display_data"
    }
   ],
   "source": [
    "plot = df.plot(kind='bar', color=cdict, title=\"Feature importance of a WRN 28-10 - CIFAR10\", ylabel=\"feature importance\", xlabel=\"feature\", rot=0)\n",
    "fig = plot.get_figure()\n",
    "fig.savefig( 'plots/' + 'feature_importance/' + 'cifar10_wrn2810_k10.png', bbox_inches='tight', dpi=600)"
   ]
  },
  {
   "cell_type": "code",
   "execution_count": null,
   "id": "72d358c8-f8bf-4ab2-91ca-b6f1b3e771a2",
   "metadata": {},
   "outputs": [],
   "source": []
  }
 ],
 "metadata": {
  "kernelspec": {
   "display_name": "Python [conda env:.conda-cuda--11-1-1--pytorch--1-9-0]",
   "language": "python",
   "name": "conda-env-.conda-cuda--11-1-1--pytorch--1-9-0-py"
  },
  "language_info": {
   "codemirror_mode": {
    "name": "ipython",
    "version": 3
   },
   "file_extension": ".py",
   "mimetype": "text/x-python",
   "name": "python",
   "nbconvert_exporter": "python",
   "pygments_lexer": "ipython3",
   "version": "3.9.10"
  }
 },
 "nbformat": 4,
 "nbformat_minor": 5
}
