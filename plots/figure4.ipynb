{
 "cells": [
  {
   "cell_type": "code",
   "execution_count": 1,
   "id": "d37ac1f7-57c2-4c04-913e-888272a6f42c",
   "metadata": {},
   "outputs": [],
   "source": [
    "import numpy as np\n",
    "import matplotlib.pyplot as plt\n",
    "import torch \n",
    "from sklearn.metrics import roc_auc_score\n",
    "from sklearn.model_selection import train_test_split\n",
    "from sklearn.preprocessing import MinMaxScaler, StandardScaler\n",
    "from sklearn.linear_model import LogisticRegression\n",
    "from sklearn.ensemble import RandomForestClassifier\n",
    "from sklearn.metrics import f1_score\n",
    "from sklearn.exceptions import ConvergenceWarning\n",
    "ConvergenceWarning('ignore')\n",
    "import warnings\n",
    "warnings.filterwarnings(\"ignore\", category=DeprecationWarning)\n",
    "warnings.simplefilter('ignore', UserWarning)"
   ]
  },
  {
   "cell_type": "code",
   "execution_count": 2,
   "id": "2d7b2c89-7323-4168-b9ee-9c660a88045c",
   "metadata": {},
   "outputs": [],
   "source": [
    "def split_data(characteristics, characteristics_adv, noise, test_size=0.2, random_state=42):\n",
    "    \n",
    "    shape_adv = np.shape(characteristics_adv)[0]\n",
    "    shape_char = np.shape(characteristics)[0]\n",
    "    \n",
    "    # import pdb; pdb.set_trace()\n",
    "    \n",
    "    if not noise:\n",
    "        adv_X_train_val, adv_X_test, adv_y_train_val, adv_y_actual = train_test_split(characteristics_adv, np.ones(shape_adv),   test_size=test_size, random_state=random_state)\n",
    "        b_X_train_val, b_X_test, b_y_train_val, b_y_actual         = train_test_split(characteristics,     np.zeros(shape_char), test_size=test_size, random_state=random_state)\n",
    "        adv_X_train, adv_X_val, adv_y_train, adv_y_val             = train_test_split(adv_X_train_val,     adv_y_train_val,      test_size=test_size, random_state=random_state)\n",
    "        b_X_train, b_X_val, b_y_train, b_y_val                     = train_test_split(b_X_train_val,       b_y_train_val,        test_size=test_size, random_state=random_state)\n",
    "    else:\n",
    "        adv_X_train_val, adv_X_test, adv_y_train_val, adv_y_actual = train_test_split(characteristics_adv,    np.ones(shape_adv),  test_size=test_size, random_state=random_state)\n",
    "        b_X_train_val, b_X_test, b_y_train_val, b_y_actual         = train_test_split(characteristics[:shape_adv], np.zeros(shape_adv), test_size=test_size, random_state=random_state)\n",
    "        # b_X_train_val3, b_X_test3, b_y_train_val3, b_y_actual3     = train_test_split(characteristics[:2000], np.zeros(shape_adv), test_size=test_size, random_state=random_state)\n",
    "        b_X_train_val2, b_X_test2, b_y_train_val2, b_y_actual2     = train_test_split(characteristics[shape_adv:], np.zeros(shape_adv), test_size=test_size, random_state=random_state)\n",
    "        \n",
    "        b_X_train_val = np.concatenate((b_X_train_val, b_X_train_val2))\n",
    "        b_X_test = np.concatenate((b_X_test, b_X_test2))\n",
    "        b_y_train_val = np.concatenate((b_y_train_val, b_y_train_val2))\n",
    "        b_y_actual = np.concatenate((b_y_actual, b_y_actual2)) \n",
    "        \n",
    "        adv_X_train, adv_X_val, adv_y_train, adv_y_val           = train_test_split(adv_X_train_val,     adv_y_train_val,      test_size=test_size, random_state=random_state)\n",
    "        b_X_train, b_X_val, b_y_train, b_y_val                   = train_test_split(b_X_train_val,       b_y_train_val,        test_size=test_size, random_state=random_state)\n",
    "\n",
    "\n",
    "    X_train = np.concatenate(( b_X_train, adv_X_train) )\n",
    "    y_train = np.concatenate(( b_y_train, adv_y_train) )\n",
    "\n",
    "    X_test = np.concatenate( (b_X_test, adv_X_test, b_X_val, adv_X_val) )\n",
    "    y_actual = np.concatenate( (b_y_actual, adv_y_actual, b_y_val, adv_y_val) )\n",
    "\n",
    "\n",
    "    return X_train, y_train, X_test, y_actual"
   ]
  },
  {
   "cell_type": "code",
   "execution_count": 3,
   "id": "281a76e0-ca04-46ca-9ab8-3e95727576e1",
   "metadata": {},
   "outputs": [],
   "source": [
    "def RF(X_train, y_train, X_test, y_test):\n",
    "    scaler  = StandardScaler().fit(X_train)\n",
    "    X_train = scaler.transform(X_train)\n",
    "    X_test  = scaler.transform(X_test)\n",
    "    clf = RandomForestClassifier(n_estimators=300, n_jobs=-1)\n",
    "    clf.fit(X_train, y_train)\n",
    "    y_hat =    clf.predict(X_test)\n",
    "    y_hat_pr = clf.predict_proba(X_test)[:, 1]\n",
    "    \n",
    "    return y_hat, y_hat_pr"
   ]
  },
  {
   "cell_type": "code",
   "execution_count": 4,
   "id": "8cfca515-0deb-4d0a-9b25-359c8baa7538",
   "metadata": {},
   "outputs": [],
   "source": [
    "def LR(X_train, y_train, X_test, y_test):\n",
    "    scaler  = StandardScaler().fit(X_train)\n",
    "    X_train = scaler.transform(X_train)\n",
    "    X_test  = scaler.transform(X_test)\n",
    "    clf = LogisticRegression()\n",
    "    clf.fit(X_train, y_train)\n",
    "    y_hat =    clf.predict(X_test)\n",
    "    y_hat_pr = clf.predict_proba(X_test)[:, 1]\n",
    "    \n",
    "    return y_hat, y_hat_pr"
   ]
  },
  {
   "cell_type": "code",
   "execution_count": 5,
   "id": "d889f08e-98b6-4e02-b071-59731a1785d5",
   "metadata": {},
   "outputs": [
    {
     "ename": "NameError",
     "evalue": "name 'characteristics_re' is not defined",
     "output_type": "error",
     "traceback": [
      "\u001b[0;31m---------------------------------------------------------------------------\u001b[0m",
      "\u001b[0;31mNameError\u001b[0m                                 Traceback (most recent call last)",
      "Input \u001b[0;32mIn [5]\u001b[0m, in \u001b[0;36m<cell line: 6>\u001b[0;34m()\u001b[0m\n\u001b[1;32m      3\u001b[0m \u001b[38;5;66;03m# tmp = torch.load(\"./../data/extracted_characteristics/run_1/cif10/wrn_28_10_10/{}/multiLID/characteristics\".format('fgsm'))\u001b[39;00m\n\u001b[1;32m      5\u001b[0m tmp \u001b[38;5;241m=\u001b[39m torch\u001b[38;5;241m.\u001b[39mload(\u001b[38;5;124m\"\u001b[39m\u001b[38;5;124m./../data/extracted_characteristics/run_1/imagenet/wrn_50_2/\u001b[39m\u001b[38;5;132;01m{}\u001b[39;00m\u001b[38;5;124m/multiLID/characteristics\u001b[39m\u001b[38;5;124m\"\u001b[39m\u001b[38;5;241m.\u001b[39mformat(\u001b[38;5;124m'\u001b[39m\u001b[38;5;124mfgsm\u001b[39m\u001b[38;5;124m'\u001b[39m))\n\u001b[0;32m----> 6\u001b[0m tmp \u001b[38;5;241m=\u001b[39m \u001b[43mcharacteristics_re\u001b[49m\u001b[38;5;241m.\u001b[39mreshape((tmp\u001b[38;5;241m.\u001b[39mshape[\u001b[38;5;241m0\u001b[39m], \u001b[38;5;241m-\u001b[39m\u001b[38;5;241m1\u001b[39m))\n\u001b[1;32m      8\u001b[0m samples, length \u001b[38;5;241m=\u001b[39m tmp\u001b[38;5;241m.\u001b[39mshape\n",
      "\u001b[0;31mNameError\u001b[0m: name 'characteristics_re' is not defined"
     ]
    }
   ],
   "source": [
    "stepsize = 10\n",
    "\n",
    "# tmp = torch.load(\"./../data/extracted_characteristics/run_1/cif10/wrn_28_10_10/{}/multiLID/characteristics\".format('fgsm'))\n",
    "\n",
    "tmp = torch.load(\"./../data/extracted_characteristics/run_1/imagenet/wrn_50_2/{}/multiLID/characteristics\".format('fgsm'))\n",
    "tmp = characteristics_re.reshape((tmp.shape[0], -1))\n",
    "\n",
    "samples, length = tmp.shape"
   ]
  },
  {
   "cell_type": "code",
   "execution_count": 119,
   "id": "ef4cedab-f386-4635-91f8-fc7c8cd19480",
   "metadata": {},
   "outputs": [
    {
     "name": "stdout",
     "output_type": "stream",
     "text": [
      "10 (2000, 10)\n",
      "57.13 56.1 || f1:  58.53 57.86\n",
      "20 (2000, 20)\n",
      "97.94 97.63 || f1:  95.18 95.15\n",
      "30 (2000, 30)\n",
      "97.94 97.94 || f1:  95.46 95.26\n",
      "40 (2000, 40)\n",
      "97.97 97.8 || f1:  95.79 95.99\n",
      "50 (2000, 50)\n",
      "97.96 98.01 || f1:  95.78 95.93\n",
      "60 (2000, 60)\n",
      "97.92 98.11 || f1:  96.06 95.87\n",
      "70 (2000, 70)\n",
      "97.98 98.12 || f1:  96.13 95.88\n",
      "80 (2000, 80)\n",
      "97.97 98.04 || f1:  96.13 95.94\n",
      "90 (2000, 90)\n",
      "97.94 97.78 || f1:  96.07 96.01\n",
      "100 (2000, 100)\n",
      "97.89 97.9 || f1:  95.73 96.28\n",
      "110 (2000, 110)\n",
      "97.9 97.93 || f1:  96.14 96.28\n",
      "120 (2000, 120)\n",
      "97.93 97.98 || f1:  96.47 96.35\n",
      "130 (2000, 130)\n",
      "98.08 97.97 || f1:  96.33 96.41\n",
      "140 (2000, 140)\n",
      "98.05 98.09 || f1:  96.26 96.41\n",
      "150 (2000, 150)\n",
      "98.2 98.19 || f1:  96.66 96.75\n",
      "160 (2000, 160)\n",
      "98.27 98.39 || f1:  96.24 96.88\n",
      "170 (2000, 170)\n",
      "98.29 98.38 || f1:  96.51 97.01\n",
      "180 (2000, 180)\n",
      "98.29 98.39 || f1:  96.51 96.87\n",
      "190 (2000, 190)\n",
      "98.28 98.57 || f1:  96.58 96.95\n",
      "200 (2000, 200)\n",
      "98.33 98.55 || f1:  96.31 97.08\n",
      "210 (2000, 210)\n",
      "98.28 98.5 || f1:  96.16 97.01\n",
      "220 (2000, 220)\n",
      "98.32 98.43 || f1:  96.43 97.15\n",
      "230 (2000, 230)\n",
      "98.31 98.49 || f1:  96.02 97.01\n",
      "240 (2000, 240)\n",
      "98.31 98.49 || f1:  96.01 97.01\n",
      "250 (2000, 250)\n",
      "98.34 98.47 || f1:  95.93 97.29\n",
      "260 (2000, 260)\n",
      "98.34 98.56 || f1:  95.93 97.15\n"
     ]
    }
   ],
   "source": [
    "for i in range(stepsize, length+stepsize, stepsize):\n",
    "    print(i, characteristics_re[:, :i].shape)\n",
    "    \n",
    "    clean_feat  = characteristics_re[:, :i]\n",
    "    attack_feat = characteristics_adv_re[:, :i]\n",
    "    \n",
    "    X_train, y_train, X_test, y_test = split_data(clean_feat, attack_feat, noise=False, test_size=0.2, random_state=42)\n",
    "    y_hat, y_hat_pr = LR(X_train, y_train, X_test, y_test)\n",
    "    auc = round(100*roc_auc_score(y_test, y_hat_pr), 2)\n",
    "    f1 =  round(100*f1_score(y_test, y_hat), 2)\n",
    "    \n",
    "    y_hat, y_hat_pr = RF(X_train, y_train, X_test, y_test)\n",
    "    auc_rf = round(100*roc_auc_score(y_test, y_hat_pr), 2)\n",
    "    f1_rf =  round(100*f1_score(y_test, y_hat), 2)\n",
    "    print(auc, auc_rf, '|| f1: ', f1, f1_rf)"
   ]
  },
  {
   "cell_type": "code",
   "execution_count": 8,
   "id": "acfed135-629c-48fe-a408-bab81c158da0",
   "metadata": {},
   "outputs": [],
   "source": [
    "def calc_auc(attacks, mode=\"cif10\", stepsize=10):\n",
    "\n",
    "    \n",
    "    dict_res = {}\n",
    "    \n",
    "    length = 0\n",
    "    \n",
    "    for att in attacks:\n",
    "        print(\"attack\", att)\n",
    "        \n",
    "        if mode == \"cif10\":\n",
    "            pth_tmp             = \"./../data/extracted_characteristics/run_1/cif10/wrn_28_10_10/{}/multiLID/characteristics\".format(att)\n",
    "            pth_tmp_adv         = \"./../data/extracted_characteristics/run_1/cif10/wrn_28_10_10/{}/multiLID/characteristics_adv\".format(att)\n",
    "        else:    \n",
    "            pth_tmp             = \"./../data/extracted_characteristics/run_1/imagenet/wrn_50_2/{}/multiLID/characteristics\".format(att)\n",
    "            pth_tmp_adv         = \"./../data/extracted_characteristics/run_1/imagenet/wrn_50_2/{}/multiLID/characteristics_adv\".format(att)\n",
    "\n",
    "        characteristics = torch.load(pth_tmp)[:2000]\n",
    "        characteristics_adv = torch.load(pth_tmp_adv)[:2000]\n",
    "\n",
    "        characteristics_re     = characteristics.reshape((characteristics.shape[0], -1))\n",
    "        characteristics_adv_re = characteristics_adv.reshape((characteristics_adv.shape[0], -1))\n",
    "        \n",
    "        characteristics_re     = characteristics_re[:,::-1]    \n",
    "        characteristics_adv_re = characteristics_adv_re[:,::-1]\n",
    "        \n",
    "        nrsamples, length = characteristics_re.shape\n",
    "        print(\"length\", length, stepsize)\n",
    "        \n",
    "        auc_list = []\n",
    "\n",
    "        for i in range(0, length+stepsize, stepsize):\n",
    "\n",
    "            if not i == 0:\n",
    "                clean_feat  = characteristics_re[:, :i]\n",
    "                attack_feat = characteristics_adv_re[:, :i]\n",
    "\n",
    "                X_train, y_train, X_test, y_test = split_data(clean_feat, attack_feat, noise=False, test_size=0.2, random_state=42)\n",
    "\n",
    "\n",
    "                y_hat, y_hat_pr = RF(X_train, y_train, X_test, y_test)\n",
    "                auc = round(100*roc_auc_score(y_test, y_hat_pr), 2)\n",
    "                f1_rf =  round(100*f1_score(y_test, y_hat), 2)\n",
    "                # print(auc, auc_rf, '|| f1: ', f1, f1_rf) \n",
    "\n",
    "                #print(\"auc\", auc, f1_rf)\n",
    "\n",
    "            else:\n",
    "                auc = 0\n",
    "\n",
    "            auc_list.append(auc)\n",
    "\n",
    "        dict_res[att] = auc_list \n",
    "\n",
    "    return dict_res, length"
   ]
  },
  {
   "cell_type": "code",
   "execution_count": 9,
   "id": "25069aee-c459-40ef-8d74-0feb9c478306",
   "metadata": {},
   "outputs": [],
   "source": [
    "attacks = ['fgsm', 'bim', 'pgd', 'aa', 'df', 'cw']\n",
    "stepsize = 10\n",
    "labels = ['FGSM', 'BIM', 'PGD', 'AA', 'DF', 'CW']\n",
    "cdict  = {0: 'blue', 1: 'red', 2: 'green', 3: 'cyan', 4: 'orange', 5: 'purple'}\n"
   ]
  },
  {
   "cell_type": "code",
   "execution_count": 7,
   "id": "93c29bc3-89c1-4f1e-b9ba-2c0d4508c416",
   "metadata": {},
   "outputs": [
    {
     "ename": "NameError",
     "evalue": "name 'calc_auc' is not defined",
     "output_type": "error",
     "traceback": [
      "\u001b[0;31m---------------------------------------------------------------------------\u001b[0m",
      "\u001b[0;31mNameError\u001b[0m                                 Traceback (most recent call last)",
      "Input \u001b[0;32mIn [7]\u001b[0m, in \u001b[0;36m<cell line: 1>\u001b[0;34m()\u001b[0m\n\u001b[0;32m----> 1\u001b[0m dict_res, length \u001b[38;5;241m=\u001b[39m \u001b[43mcalc_auc\u001b[49m(attacks, mode\u001b[38;5;241m=\u001b[39m\u001b[38;5;124m\"\u001b[39m\u001b[38;5;124mcif10\u001b[39m\u001b[38;5;124m\"\u001b[39m)\n",
      "\u001b[0;31mNameError\u001b[0m: name 'calc_auc' is not defined"
     ]
    }
   ],
   "source": [
    "dict_res, length = calc_auc(attacks, mode=\"cif10\")"
   ]
  },
  {
   "cell_type": "code",
   "execution_count": 57,
   "id": "65a1798f-ecb0-45df-9e76-aaf33922c13b",
   "metadata": {},
   "outputs": [],
   "source": [
    "x = np.arange(0, length+stepsize, stepsize)"
   ]
  },
  {
   "cell_type": "code",
   "execution_count": 58,
   "id": "7e28bfac-a810-47ea-bd10-9582dd3975fb",
   "metadata": {},
   "outputs": [
    {
     "data": {
      "text/plain": [
       "27"
      ]
     },
     "execution_count": 58,
     "metadata": {},
     "output_type": "execute_result"
    }
   ],
   "source": [
    "len(dict_res['fgsm'])"
   ]
  },
  {
   "cell_type": "code",
   "execution_count": 59,
   "id": "00e29d8d-1305-4296-ac42-b07783089832",
   "metadata": {},
   "outputs": [
    {
     "data": {
      "image/png": "[encoded data removed]",
      "text/plain": [
       "<Figure size 432x288 with 1 Axes>"
      ]
     },
     "metadata": {
      "needs_background": "light"
     },
     "output_type": "display_data"
    }
   ],
   "source": [
    "fig, ax = plt.subplots()\n",
    "plt.title('Cummulative LID Features - WRN 28-10 - CIFAR10')\n",
    "plt.ylabel(\"AUC\")\n",
    "plt.xlabel(\"LID features length\")\n",
    "for it, att in enumerate(attacks):\n",
    "    plt.plot(x, dict_res[att], label=labels[it], color=cdict[it])\n",
    "\n",
    "plt.grid()\n",
    "plt.legend()\n",
    "\n",
    "ax.figure.savefig(\"plots/cummulative_lid_features/cummulative_lid_features_cifar10.png\", dpi=600, bbox_inches='tight')"
   ]
  },
  {
   "cell_type": "markdown",
   "id": "d809c769-df88-4d38-abec-de09a51b421b",
   "metadata": {},
   "source": [
    "# ImageNet"
   ]
  },
  {
   "cell_type": "code",
   "execution_count": 16,
   "id": "89ee76d8-36c1-4b3a-baf3-d46b0ce4e239",
   "metadata": {},
   "outputs": [
    {
     "name": "stdout",
     "output_type": "stream",
     "text": [
      "attack fgsm\n",
      "length 510 10\n",
      "attack bim\n",
      "length 510 10\n",
      "attack pgd\n",
      "length 510 10\n",
      "attack aa\n",
      "length 510 10\n",
      "attack df\n",
      "length 510 10\n",
      "attack cw\n",
      "length 510 10\n"
     ]
    }
   ],
   "source": [
    "dict_res, length = calc_auc(attacks, mode=\"imagenet\")"
   ]
  },
  {
   "cell_type": "code",
   "execution_count": 17,
   "id": "60120ab4-c344-4e1d-b4b0-8afb0a9ffcac",
   "metadata": {},
   "outputs": [],
   "source": [
    "x = np.arange(0, length+stepsize, stepsize)"
   ]
  },
  {
   "cell_type": "code",
   "execution_count": 18,
   "id": "4ee72c8f-95f3-4e61-bac2-81b3c606bbb2",
   "metadata": {},
   "outputs": [
    {
     "data": {
      "text/plain": [
       "52"
      ]
     },
     "execution_count": 18,
     "metadata": {},
     "output_type": "execute_result"
    }
   ],
   "source": [
    "len(dict_res[\"fgsm\"])"
   ]
  },
  {
   "cell_type": "code",
   "execution_count": 19,
   "id": "56932d68-1c3a-4ca2-9420-208dcad4c4db",
   "metadata": {},
   "outputs": [
    {
     "data": {
      "text/plain": [
       "52"
      ]
     },
     "execution_count": 19,
     "metadata": {},
     "output_type": "execute_result"
    }
   ],
   "source": [
    "len(x)"
   ]
  },
  {
   "cell_type": "code",
   "execution_count": 20,
   "id": "c6921041-6fcd-4629-834c-7dedf38b6643",
   "metadata": {},
   "outputs": [
    {
     "data": {
      "text/plain": [
       "<matplotlib.legend.Legend at 0x7fd50b686d00>"
      ]
     },
     "execution_count": 20,
     "metadata": {},
     "output_type": "execute_result"
    },
    {
     "data": {
      "image/png": "[encoded data removed]",
      "text/plain": [
       "<Figure size 432x288 with 1 Axes>"
      ]
     },
     "metadata": {
      "needs_background": "light"
     },
     "output_type": "display_data"
    }
   ],
   "source": [
    "attacks = ['fgsm', 'bim', 'pgd', 'aa', 'df', 'cw']\n",
    "fig, ax = plt.subplots()\n",
    "plt.title('Cummulative LID Features - WRN 50-2 - ImageNet')\n",
    "plt.ylabel(\"AUC\")\n",
    "plt.xlabel(\"LID features length\")\n",
    "for it, att in enumerate(attacks):\n",
    "    plt.plot(x, dict_res[att], label=labels[it], color=cdict[it])\n",
    "\n",
    "plt.grid()\n",
    "plt.legend()\n",
    "\n",
    "#ax.figure.savefig(\"plots/cummulative_lid_features/cummulative_lid_features_imagenet.png\", dpi=600, bbox_inches='tight')"
   ]
  }
 ],
 "metadata": {
  "kernelspec": {
   "display_name": "Python [conda env:.conda-cuda--11-1-1--pytorch--1-9-0]",
   "language": "python",
   "name": "conda-env-.conda-cuda--11-1-1--pytorch--1-9-0-py"
  },
  "language_info": {
   "codemirror_mode": {
    "name": "ipython",
    "version": 3
   },
   "file_extension": ".py",
   "mimetype": "text/x-python",
   "name": "python",
   "nbconvert_exporter": "python",
   "pygments_lexer": "ipython3",
   "version": "3.9.10"
  }
 },
 "nbformat": 4,
 "nbformat_minor": 5
}
