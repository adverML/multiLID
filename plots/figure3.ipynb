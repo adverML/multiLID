{
 "cells": [
  {
   "cell_type": "code",
   "execution_count": 1,
   "id": "0b0be57e-6e73-404d-b94c-0c083affa5af",
   "metadata": {},
   "outputs": [],
   "source": [
    "import os\n",
    "import numpy as np\n",
    "import torch\n",
    "import matplotlib.pyplot as plt\n",
    "\n",
    "from sklearn.ensemble import RandomForestClassifier\n",
    "from sklearn.model_selection import train_test_split\n",
    "from sklearn.metrics import confusion_matrix, ConfusionMatrixDisplay\n",
    "from sklearn.utils.class_weight import compute_sample_weight\n",
    "from numpy import random\n",
    "from sklearn.ensemble import RandomForestClassifier\n",
    "\n",
    "import pandas as pd\n",
    "pd.options.display.float_format = '{:.2f}'.format\n",
    "\n",
    "from pathlib import Path\n",
    "home = str(Path.home())\n",
    "base_path = os.path.join(home, 'workspace/multiLID/data/extract/run_1/')"
   ]
  },
  {
   "cell_type": "code",
   "execution_count": 2,
   "id": "4b077e71-ed4d-4ade-89bb-c729035d3c27",
   "metadata": {},
   "outputs": [],
   "source": [
    "NR_SAMPLES = 2000"
   ]
  },
  {
   "cell_type": "code",
   "execution_count": 3,
   "id": "5974acfe-7bb5-4584-90f8-c41cbe50ee0a",
   "metadata": {},
   "outputs": [
    {
     "ename": "FileNotFoundError",
     "evalue": "[Errno 2] No such file or directory: '/home/lorenzp/workspace/multiLID/data/extract/run_1/cifar10/wrn28-10/lid/fgsm/k20/lid_normalos_8255.pt'",
     "output_type": "error",
     "traceback": [
      "\u001b[0;31m---------------------------------------------------------------------------\u001b[0m",
      "\u001b[0;31mFileNotFoundError\u001b[0m                         Traceback (most recent call last)",
      "Input \u001b[0;32mIn [3]\u001b[0m, in \u001b[0;36m<cell line: 1>\u001b[0;34m()\u001b[0m\n\u001b[0;32m----> 1\u001b[0m nor_fgsm \u001b[38;5;241m=\u001b[39m \u001b[43mtorch\u001b[49m\u001b[38;5;241;43m.\u001b[39;49m\u001b[43mload\u001b[49m\u001b[43m(\u001b[49m\u001b[43mos\u001b[49m\u001b[38;5;241;43m.\u001b[39;49m\u001b[43mpath\u001b[49m\u001b[38;5;241;43m.\u001b[39;49m\u001b[43mjoin\u001b[49m\u001b[43m(\u001b[49m\u001b[43mbase_path\u001b[49m\u001b[43m,\u001b[49m\u001b[43m \u001b[49m\u001b[38;5;124;43m'\u001b[39;49m\u001b[38;5;124;43mcifar10/wrn28-10/lid/fgsm/k20/lid_normalos_8255.pt\u001b[39;49m\u001b[38;5;124;43m'\u001b[39;49m\u001b[43m)\u001b[49m\u001b[43m)\u001b[49m[:NR_SAMPLES]\n\u001b[1;32m      2\u001b[0m adv_fgsm \u001b[38;5;241m=\u001b[39m torch\u001b[38;5;241m.\u001b[39mload(os\u001b[38;5;241m.\u001b[39mpath\u001b[38;5;241m.\u001b[39mjoin(base_path, \u001b[38;5;124m'\u001b[39m\u001b[38;5;124mcifar10/wrn28-10/lid/fgsm/k20/lid_adverlos_8255.pt\u001b[39m\u001b[38;5;124m'\u001b[39m))[:NR_SAMPLES]\n\u001b[1;32m      3\u001b[0m nor_bim  \u001b[38;5;241m=\u001b[39m torch\u001b[38;5;241m.\u001b[39mload(os\u001b[38;5;241m.\u001b[39mpath\u001b[38;5;241m.\u001b[39mjoin(base_path, \u001b[38;5;124m'\u001b[39m\u001b[38;5;124mcifar10/wrn28-10/lid/bim/k20/lid_normalos_8255.pt\u001b[39m\u001b[38;5;124m'\u001b[39m))[:NR_SAMPLES]\n",
      "File \u001b[0;32m~/.conda/envs/cuda--11-1-1--pytorch--1-9-0/lib/python3.9/site-packages/torch/serialization.py:791\u001b[0m, in \u001b[0;36mload\u001b[0;34m(f, map_location, pickle_module, weights_only, **pickle_load_args)\u001b[0m\n\u001b[1;32m    788\u001b[0m \u001b[38;5;28;01mif\u001b[39;00m \u001b[38;5;124m'\u001b[39m\u001b[38;5;124mencoding\u001b[39m\u001b[38;5;124m'\u001b[39m \u001b[38;5;129;01mnot\u001b[39;00m \u001b[38;5;129;01min\u001b[39;00m pickle_load_args\u001b[38;5;241m.\u001b[39mkeys():\n\u001b[1;32m    789\u001b[0m     pickle_load_args[\u001b[38;5;124m'\u001b[39m\u001b[38;5;124mencoding\u001b[39m\u001b[38;5;124m'\u001b[39m] \u001b[38;5;241m=\u001b[39m \u001b[38;5;124m'\u001b[39m\u001b[38;5;124mutf-8\u001b[39m\u001b[38;5;124m'\u001b[39m\n\u001b[0;32m--> 791\u001b[0m \u001b[38;5;28;01mwith\u001b[39;00m \u001b[43m_open_file_like\u001b[49m\u001b[43m(\u001b[49m\u001b[43mf\u001b[49m\u001b[43m,\u001b[49m\u001b[43m \u001b[49m\u001b[38;5;124;43m'\u001b[39;49m\u001b[38;5;124;43mrb\u001b[39;49m\u001b[38;5;124;43m'\u001b[39;49m\u001b[43m)\u001b[49m \u001b[38;5;28;01mas\u001b[39;00m opened_file:\n\u001b[1;32m    792\u001b[0m     \u001b[38;5;28;01mif\u001b[39;00m _is_zipfile(opened_file):\n\u001b[1;32m    793\u001b[0m         \u001b[38;5;66;03m# The zipfile reader is going to advance the current file position.\u001b[39;00m\n\u001b[1;32m    794\u001b[0m         \u001b[38;5;66;03m# If we want to actually tail call to torch.jit.load, we need to\u001b[39;00m\n\u001b[1;32m    795\u001b[0m         \u001b[38;5;66;03m# reset back to the original position.\u001b[39;00m\n\u001b[1;32m    796\u001b[0m         orig_position \u001b[38;5;241m=\u001b[39m opened_file\u001b[38;5;241m.\u001b[39mtell()\n",
      "File \u001b[0;32m~/.conda/envs/cuda--11-1-1--pytorch--1-9-0/lib/python3.9/site-packages/torch/serialization.py:271\u001b[0m, in \u001b[0;36m_open_file_like\u001b[0;34m(name_or_buffer, mode)\u001b[0m\n\u001b[1;32m    269\u001b[0m \u001b[38;5;28;01mdef\u001b[39;00m \u001b[38;5;21m_open_file_like\u001b[39m(name_or_buffer, mode):\n\u001b[1;32m    270\u001b[0m     \u001b[38;5;28;01mif\u001b[39;00m _is_path(name_or_buffer):\n\u001b[0;32m--> 271\u001b[0m         \u001b[38;5;28;01mreturn\u001b[39;00m \u001b[43m_open_file\u001b[49m\u001b[43m(\u001b[49m\u001b[43mname_or_buffer\u001b[49m\u001b[43m,\u001b[49m\u001b[43m \u001b[49m\u001b[43mmode\u001b[49m\u001b[43m)\u001b[49m\n\u001b[1;32m    272\u001b[0m     \u001b[38;5;28;01melse\u001b[39;00m:\n\u001b[1;32m    273\u001b[0m         \u001b[38;5;28;01mif\u001b[39;00m \u001b[38;5;124m'\u001b[39m\u001b[38;5;124mw\u001b[39m\u001b[38;5;124m'\u001b[39m \u001b[38;5;129;01min\u001b[39;00m mode:\n",
      "File \u001b[0;32m~/.conda/envs/cuda--11-1-1--pytorch--1-9-0/lib/python3.9/site-packages/torch/serialization.py:252\u001b[0m, in \u001b[0;36m_open_file.__init__\u001b[0;34m(self, name, mode)\u001b[0m\n\u001b[1;32m    251\u001b[0m \u001b[38;5;28;01mdef\u001b[39;00m \u001b[38;5;21m__init__\u001b[39m(\u001b[38;5;28mself\u001b[39m, name, mode):\n\u001b[0;32m--> 252\u001b[0m     \u001b[38;5;28msuper\u001b[39m()\u001b[38;5;241m.\u001b[39m\u001b[38;5;21m__init__\u001b[39m(\u001b[38;5;28;43mopen\u001b[39;49m\u001b[43m(\u001b[49m\u001b[43mname\u001b[49m\u001b[43m,\u001b[49m\u001b[43m \u001b[49m\u001b[43mmode\u001b[49m\u001b[43m)\u001b[49m)\n",
      "\u001b[0;31mFileNotFoundError\u001b[0m: [Errno 2] No such file or directory: '/home/lorenzp/workspace/multiLID/data/extract/run_1/cifar10/wrn28-10/lid/fgsm/k20/lid_normalos_8255.pt'"
     ]
    }
   ],
   "source": [
    "nor_fgsm = torch.load(os.path.join(base_path, 'cifar10/wrn28-10/lid/fgsm/k20/lid_normalos_8255.pt'))[:NR_SAMPLES]\n",
    "adv_fgsm = torch.load(os.path.join(base_path, 'cifar10/wrn28-10/lid/fgsm/k20/lid_adverlos_8255.pt'))[:NR_SAMPLES]\n",
    "nor_bim  = torch.load(os.path.join(base_path, 'cifar10/wrn28-10/lid/bim/k20/lid_normalos_8255.pt'))[:NR_SAMPLES]\n",
    "adv_bim  = torch.load(os.path.join(base_path, 'cifar10/wrn28-10/lid/bim/k20/lid_adverlos_8255.pt'))[:NR_SAMPLES]\n",
    "nor_pgd  = torch.load(os.path.join(base_path, 'cifar10/wrn28-10/lid/pgd/k20/lid_normalos_8255.pt'))[:NR_SAMPLES]\n",
    "adv_pgd  = torch.load(os.path.join(base_path, 'cifar10/wrn28-10/lid/pgd/k20/lid_adverlos_8255.pt'))[:NR_SAMPLES]\n",
    "nor_aa   = torch.load(os.path.join(base_path, 'cifar10/wrn28-10/lid/aa/k20/lid_normalos_8255.pt'))[:NR_SAMPLES]\n",
    "adv_aa   = torch.load(os.path.join(base_path, 'cifar10/wrn28-10/lid/aa/k20/lid_adverlos_8255.pt'))[:NR_SAMPLES]\n",
    "nor_df   = torch.load(os.path.join(base_path, 'cifar10/wrn28-10/lid/df/k20/lid_normalos.pt'))[:NR_SAMPLES]\n",
    "adv_df   = torch.load(os.path.join(base_path, 'cifar10/wrn28-10/lid/df/k20/lid_adverlos.pt'))[:NR_SAMPLES]\n",
    "nor_cw   = torch.load(os.path.join(base_path, 'cifar10/wrn28-10/lid/cw/k20/lid_normalos.pt'))[:NR_SAMPLES]\n",
    "adv_cw   = torch.load(os.path.join(base_path, 'cifar10/wrn28-10/lid/cw/k20/lid_adverlos.pt'))[:NR_SAMPLES]"
   ]
  },
  {
   "cell_type": "code",
   "execution_count": 62,
   "id": "9939193c-c109-42d5-a208-3e34b4715d2f",
   "metadata": {},
   "outputs": [],
   "source": [
    "nor = [nor_fgsm, nor_bim, nor_pgd, nor_aa, nor_df, nor_cw,]\n",
    "adv = [adv_fgsm, adv_bim, adv_pgd, adv_aa, adv_df, adv_cw,]"
   ]
  },
  {
   "cell_type": "code",
   "execution_count": 63,
   "id": "9c37f3f5-7fba-48d6-8330-7b70b8dc1ba3",
   "metadata": {},
   "outputs": [
    {
     "data": {
      "text/plain": [
       "(2000,)"
      ]
     },
     "execution_count": 63,
     "metadata": {},
     "output_type": "execute_result"
    }
   ],
   "source": [
    "np.ones(nor_fgsm.shape[0]).astype('int').shape"
   ]
  },
  {
   "cell_type": "code",
   "execution_count": 33,
   "id": "8b3e8d54-85f9-4358-859b-26c5fc74e71c",
   "metadata": {},
   "outputs": [
    {
     "name": "stdout",
     "output_type": "stream",
     "text": [
      "random state:  21\n"
     ]
    }
   ],
   "source": [
    "attacks = ['fgsm', 'bim', 'pgd', 'aa', 'df', 'cw']\n",
    "labels  = ['FGSM', 'BIM', 'PGD', 'AA', 'DF', 'CW']\n",
    "#cdict  = {0: 'black', 1: 'pink', 2: 'blue', 3: 'red', 4: 'green', 5: 'cyan', 6: 'orange', 7: 'purple'}\n",
    "cdict  = {'FGSM': 'blue', 'BIM': 'red', 'PGD': 'gree', 'AA': 'cyan', 'DF': 'orange', 'CW': 'purple'}\n",
    "\n",
    "factor = 0.8\n",
    "nr_mean = 1\n",
    "mean_tables = []\n",
    "nr_samples=2000\n",
    "\n",
    "importances_list = {}\n",
    "\n",
    "for it in range(nr_mean):\n",
    "    random_state = 21 # random.randint(100)\n",
    "    print(\"random state: \", random_state)\n",
    "    final_table = np.zeros((len(nor), len(adv)))\n",
    "\n",
    "    for i, rows in enumerate(range(len(nor))):\n",
    "        X_nor = nor[rows]\n",
    "        X_adv = adv[rows]\n",
    "        if len(X_nor.shape) > 2: \n",
    "            X_nor = nor[rows].reshape((nor[rows].shape[0], -1))[:,::-1]\n",
    "            X_adv = adv[rows].reshape((adv[rows].shape[0], -1))[:,::-1]\n",
    "                \n",
    "        y_nor = np.zeros(X_nor.shape[0]).astype('int')\n",
    "        y_adv = np.ones(X_nor.shape[0]).astype('int')\n",
    "        \n",
    "        x_train_n, x_test_n, y_train_n, y_test_n = train_test_split(X_nor, y_nor, test_size=1-factor, train_size=factor, random_state=random_state)\n",
    "        x_train_a, x_test_a, y_train_a, y_test_a = train_test_split(X_adv, y_adv, test_size=1-factor, train_size=factor, random_state=random_state)\n",
    "\n",
    "        X_train = np.concatenate((x_train_n, x_train_a))\n",
    "        y_train = np.concatenate((y_train_n, y_train_a))\n",
    "                \n",
    "        clf = RandomForestClassifier(n_estimators=300, n_jobs=-1)\n",
    "        \n",
    "        clf.fit(X_train, y_train)\n",
    "        importances = clf.feature_importances_\n",
    "        importances_list[labels[i]]  = importances"
   ]
  },
  {
   "cell_type": "code",
   "execution_count": 34,
   "id": "04433913-62e4-4457-9831-263c2f37e544",
   "metadata": {},
   "outputs": [
    {
     "data": {
      "text/plain": [
       "{'FGSM': array([0.04599643, 0.07818038, 0.05865016, 0.1345582 , 0.04256506,\n",
       "        0.02528813, 0.02418541, 0.01821578, 0.03780994, 0.03861398,\n",
       "        0.02637047, 0.19992171, 0.26964434]),\n",
       " 'BIM': array([0.04144475, 0.05284261, 0.04790202, 0.12395889, 0.10895651,\n",
       "        0.07222434, 0.04578544, 0.04445017, 0.04456388, 0.04139481,\n",
       "        0.05858855, 0.10834247, 0.20954556]),\n",
       " 'PGD': array([0.03717698, 0.04892436, 0.03819485, 0.13542219, 0.0854201 ,\n",
       "        0.05697335, 0.04138476, 0.03901189, 0.03810728, 0.04130474,\n",
       "        0.05045762, 0.11397666, 0.27364523]),\n",
       " 'AA': array([0.02051893, 0.03132523, 0.01913837, 0.10144834, 0.07900264,\n",
       "        0.03735598, 0.01950095, 0.02116193, 0.0320425 , 0.01949484,\n",
       "        0.05125289, 0.15516454, 0.41259285]),\n",
       " 'DF': array([0.02313324, 0.02468592, 0.02508903, 0.02901547, 0.02974084,\n",
       "        0.02488877, 0.02617168, 0.02347685, 0.02544075, 0.02842511,\n",
       "        0.05160742, 0.21372683, 0.47459808]),\n",
       " 'CW': array([0.02672681, 0.02783806, 0.02871689, 0.03005163, 0.03145637,\n",
       "        0.02861733, 0.03113368, 0.03033552, 0.03114654, 0.03224244,\n",
       "        0.04821524, 0.21040842, 0.44311106])}"
      ]
     },
     "execution_count": 34,
     "metadata": {},
     "output_type": "execute_result"
    }
   ],
   "source": [
    "importances_list"
   ]
  },
  {
   "cell_type": "code",
   "execution_count": 39,
   "id": "f0932ea8-00ef-4566-92a8-a58c74f978fa",
   "metadata": {},
   "outputs": [],
   "source": [
    "df = pd.DataFrame.from_dict(importances_list)\n",
    "cdict  = {'FGSM': 'blue', 'BIM': 'red', 'PGD': 'green', 'AA': 'cyan', 'DF': 'orange', 'CW': 'purple'}"
   ]
  },
  {
   "cell_type": "code",
   "execution_count": 59,
   "id": "402ced70-527f-49f9-9329-8a92d7c214e7",
   "metadata": {},
   "outputs": [
    {
     "data": {
      "image/png": "[encoded data removed]",
      "text/plain": [
       "<Figure size 432x288 with 1 Axes>"
      ]
     },
     "metadata": {
      "needs_background": "light"
     },
     "output_type": "display_data"
    }
   ],
   "source": [
    "plot = df.plot(kind='bar', color=cdict, title=\"Feature importance of a WRN 28-10 - CIFAR10\", ylabel=\"feature importance\", xlabel=\"feature\", rot=0)\n",
    "fig = plot.get_figure()\n",
    "fig.savefig( 'plots/' + 'feature_importance/' + 'cifar10_wrn2810_k10.png', bbox_inches='tight', dpi=600)"
   ]
  },
  {
   "cell_type": "code",
   "execution_count": null,
   "id": "72d358c8-f8bf-4ab2-91ca-b6f1b3e771a2",
   "metadata": {},
   "outputs": [],
   "source": []
  }
 ],
 "metadata": {
  "kernelspec": {
   "display_name": "Python [conda env:.conda-cuda--11-1-1--pytorch--1-9-0]",
   "language": "python",
   "name": "conda-env-.conda-cuda--11-1-1--pytorch--1-9-0-py"
  },
  "language_info": {
   "codemirror_mode": {
    "name": "ipython",
    "version": 3
   },
   "file_extension": ".py",
   "mimetype": "text/x-python",
   "name": "python",
   "nbconvert_exporter": "python",
   "pygments_lexer": "ipython3",
   "version": "3.9.10"
  }
 },
 "nbformat": 4,
 "nbformat_minor": 5
}
