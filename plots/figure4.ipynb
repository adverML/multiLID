{
 "cells": [
  {
   "cell_type": "code",
   "execution_count": 1,
   "id": "d37ac1f7-57c2-4c04-913e-888272a6f42c",
   "metadata": {},
   "outputs": [],
   "source": [
    "import os\n",
    "import numpy as np\n",
    "import matplotlib.pyplot as plt\n",
    "import torch \n",
    "from sklearn.metrics import roc_auc_score\n",
    "from sklearn.model_selection import train_test_split\n",
    "from sklearn.preprocessing import MinMaxScaler, StandardScaler\n",
    "from sklearn.linear_model import LogisticRegression\n",
    "from sklearn.ensemble import RandomForestClassifier\n",
    "from sklearn.metrics import f1_score\n",
    "from sklearn.exceptions import ConvergenceWarning\n",
    "ConvergenceWarning('ignore')\n",
    "import warnings\n",
    "warnings.filterwarnings(\"ignore\", category=DeprecationWarning)\n",
    "warnings.simplefilter('ignore', UserWarning)\n",
    "\n",
    "from pathlib import Path\n",
    "home = str(Path.home())\n",
    "base_path = os.path.join(home, 'workspace/multiLID/data/extract/run_1/')"
   ]
  },
  {
   "cell_type": "code",
   "execution_count": 2,
   "id": "2d7b2c89-7323-4168-b9ee-9c660a88045c",
   "metadata": {},
   "outputs": [],
   "source": [
    "def split_data(characteristics, characteristics_adv, noise, test_size=0.2, random_state=42):\n",
    "    \n",
    "    shape_adv = np.shape(characteristics_adv)[0]\n",
    "    shape_char = np.shape(characteristics)[0]\n",
    "    \n",
    "    # import pdb; pdb.set_trace()\n",
    "    \n",
    "    if not noise:\n",
    "        adv_X_train_val, adv_X_test, adv_y_train_val, adv_y_actual = train_test_split(characteristics_adv, np.ones(shape_adv),   test_size=test_size, random_state=random_state)\n",
    "        b_X_train_val, b_X_test, b_y_train_val, b_y_actual         = train_test_split(characteristics,     np.zeros(shape_char), test_size=test_size, random_state=random_state)\n",
    "        adv_X_train, adv_X_val, adv_y_train, adv_y_val             = train_test_split(adv_X_train_val,     adv_y_train_val,      test_size=test_size, random_state=random_state)\n",
    "        b_X_train, b_X_val, b_y_train, b_y_val                     = train_test_split(b_X_train_val,       b_y_train_val,        test_size=test_size, random_state=random_state)\n",
    "    else:\n",
    "        adv_X_train_val, adv_X_test, adv_y_train_val, adv_y_actual = train_test_split(characteristics_adv,    np.ones(shape_adv),  test_size=test_size, random_state=random_state)\n",
    "        b_X_train_val, b_X_test, b_y_train_val, b_y_actual         = train_test_split(characteristics[:shape_adv], np.zeros(shape_adv), test_size=test_size, random_state=random_state)\n",
    "        # b_X_train_val3, b_X_test3, b_y_train_val3, b_y_actual3     = train_test_split(characteristics[:2000], np.zeros(shape_adv), test_size=test_size, random_state=random_state)\n",
    "        b_X_train_val2, b_X_test2, b_y_train_val2, b_y_actual2     = train_test_split(characteristics[shape_adv:], np.zeros(shape_adv), test_size=test_size, random_state=random_state)\n",
    "        \n",
    "        b_X_train_val = np.concatenate((b_X_train_val, b_X_train_val2))\n",
    "        b_X_test = np.concatenate((b_X_test, b_X_test2))\n",
    "        b_y_train_val = np.concatenate((b_y_train_val, b_y_train_val2))\n",
    "        b_y_actual = np.concatenate((b_y_actual, b_y_actual2)) \n",
    "        \n",
    "        adv_X_train, adv_X_val, adv_y_train, adv_y_val           = train_test_split(adv_X_train_val,     adv_y_train_val,      test_size=test_size, random_state=random_state)\n",
    "        b_X_train, b_X_val, b_y_train, b_y_val                   = train_test_split(b_X_train_val,       b_y_train_val,        test_size=test_size, random_state=random_state)\n",
    "\n",
    "\n",
    "    X_train = np.concatenate(( b_X_train, adv_X_train) )\n",
    "    y_train = np.concatenate(( b_y_train, adv_y_train) )\n",
    "\n",
    "    X_test = np.concatenate( (b_X_test, adv_X_test, b_X_val, adv_X_val) )\n",
    "    y_actual = np.concatenate( (b_y_actual, adv_y_actual, b_y_val, adv_y_val) )\n",
    "\n",
    "\n",
    "    return X_train, y_train, X_test, y_actual"
   ]
  },
  {
   "cell_type": "code",
   "execution_count": 3,
   "id": "281a76e0-ca04-46ca-9ab8-3e95727576e1",
   "metadata": {},
   "outputs": [],
   "source": [
    "def RF(X_train, y_train, X_test, y_test):\n",
    "    scaler  = StandardScaler().fit(X_train)\n",
    "    X_train = scaler.transform(X_train)\n",
    "    X_test  = scaler.transform(X_test)\n",
    "    clf = RandomForestClassifier(n_estimators=300, n_jobs=-1)\n",
    "    clf.fit(X_train, y_train)\n",
    "    y_hat =    clf.predict(X_test)\n",
    "    y_hat_pr = clf.predict_proba(X_test)[:, 1]\n",
    "    \n",
    "    return y_hat, y_hat_pr"
   ]
  },
  {
   "cell_type": "code",
   "execution_count": 4,
   "id": "8cfca515-0deb-4d0a-9b25-359c8baa7538",
   "metadata": {},
   "outputs": [],
   "source": [
    "def LR(X_train, y_train, X_test, y_test):\n",
    "    scaler  = StandardScaler().fit(X_train)\n",
    "    X_train = scaler.transform(X_train)\n",
    "    X_test  = scaler.transform(X_test)\n",
    "    clf = LogisticRegression()\n",
    "    clf.fit(X_train, y_train)\n",
    "    y_hat =    clf.predict(X_test)\n",
    "    y_hat_pr = clf.predict_proba(X_test)[:, 1]\n",
    "    \n",
    "    return y_hat, y_hat_pr"
   ]
  },
  {
   "cell_type": "code",
   "execution_count": 74,
   "id": "d889f08e-98b6-4e02-b071-59731a1785d5",
   "metadata": {},
   "outputs": [
    {
     "name": "stdout",
     "output_type": "stream",
     "text": [
      "/home/lorenzp/workspace/multiLID/data/extract/run_1/cifar10/wrn28-10/multilid/fgsm/k20/multilid_normalos_8255.pt\n",
      "2000 260\n"
     ]
    }
   ],
   "source": [
    "NR_SAMPLES=2000\n",
    "stepsize = 10\n",
    "\n",
    "print(os.path.join(base_path, 'cifar10/wrn28-10/multilid/{}/k20/multilid_normalos_8255.pt'.format('fgsm')))\n",
    "\n",
    "tmp = torch.load(os.path.join(base_path, 'cifar10/wrn28-10/multilid/{}/k20/multilid_normalos_8255.pt'.format('fgsm'))).numpy()[:NR_SAMPLES]\n",
    "characteristics_re = tmp.reshape((tmp.shape[0], -1))\n",
    "\n",
    "tmp = torch.load(os.path.join(base_path, 'cifar10/wrn28-10/multilid/{}/k20/multilid_adverlos_8255.pt'.format('fgsm'))).numpy()[:NR_SAMPLES]\n",
    "characteristics_adv_re = tmp.reshape((tmp.shape[0], -1))\n",
    "\n",
    "samples, length = characteristics_re.shape\n",
    "\n",
    "print(samples, length)"
   ]
  },
  {
   "cell_type": "code",
   "execution_count": 75,
   "id": "ef4cedab-f386-4635-91f8-fc7c8cd19480",
   "metadata": {},
   "outputs": [
    {
     "name": "stdout",
     "output_type": "stream",
     "text": [
      "10 (2000, 10)\n",
      "96.25 95.41 || f1:  89.86 89.21\n",
      "20 (2000, 20)\n",
      "96.79 96.12 || f1:  90.1 89.74\n",
      "30 (2000, 30)\n",
      "97.27 96.27 || f1:  91.06 91.16\n",
      "40 (2000, 40)\n",
      "97.47 96.5 || f1:  91.71 90.98\n",
      "50 (2000, 50)\n",
      "97.7 96.57 || f1:  92.17 90.58\n",
      "60 (2000, 60)\n",
      "97.69 96.62 || f1:  92.2 90.73\n",
      "70 (2000, 70)\n",
      "97.76 96.7 || f1:  92.19 90.8\n",
      "80 (2000, 80)\n",
      "97.8 96.69 || f1:  92.24 91.56\n",
      "90 (2000, 90)\n",
      "97.77 96.7 || f1:  92.05 90.92\n",
      "100 (2000, 100)\n",
      "97.76 96.68 || f1:  92.43 90.91\n",
      "110 (2000, 110)\n",
      "97.71 96.69 || f1:  91.75 90.98\n",
      "120 (2000, 120)\n",
      "97.7 96.6 || f1:  92.06 91.18\n",
      "130 (2000, 130)\n",
      "97.66 96.57 || f1:  92.38 90.75\n",
      "140 (2000, 140)\n",
      "97.55 96.72 || f1:  92.07 90.8\n",
      "150 (2000, 150)\n",
      "97.54 96.67 || f1:  91.94 90.7\n",
      "160 (2000, 160)\n",
      "97.44 96.67 || f1:  91.83 91.1\n",
      "170 (2000, 170)\n",
      "97.39 96.54 || f1:  91.4 90.81\n",
      "180 (2000, 180)\n",
      "97.37 96.54 || f1:  91.13 90.78\n",
      "190 (2000, 190)\n",
      "97.24 96.56 || f1:  91.31 90.43\n",
      "200 (2000, 200)\n",
      "97.17 96.46 || f1:  91.31 90.15\n",
      "210 (2000, 210)\n",
      "97.13 96.5 || f1:  91.09 90.68\n",
      "220 (2000, 220)\n",
      "97.01 96.35 || f1:  90.73 90.03\n",
      "230 (2000, 230)\n",
      "96.93 96.45 || f1:  90.61 90.53\n",
      "240 (2000, 240)\n",
      "96.79 96.44 || f1:  90.71 90.52\n",
      "250 (2000, 250)\n",
      "96.74 96.39 || f1:  90.59 90.38\n",
      "260 (2000, 260)\n",
      "96.74 96.41 || f1:  90.59 90.17\n"
     ]
    }
   ],
   "source": [
    "for i in range(stepsize, length+stepsize, stepsize):\n",
    "    print(i, characteristics_re[:, :i].shape)\n",
    "    \n",
    "    clean_feat  = characteristics_re[:, :i]\n",
    "    attack_feat = characteristics_adv_re[:, :i]\n",
    "    \n",
    "    X_train, y_train, X_test, y_test = split_data(clean_feat, attack_feat, noise=False, test_size=0.2, random_state=42)\n",
    "    y_hat, y_hat_pr = LR(X_train, y_train, X_test, y_test)\n",
    "    auc = round(100*roc_auc_score(y_test, y_hat_pr), 2)\n",
    "    f1 =  round(100*f1_score(y_test, y_hat), 2)\n",
    "    \n",
    "    y_hat, y_hat_pr = RF(X_train, y_train, X_test, y_test)\n",
    "    auc_rf = round(100*roc_auc_score(y_test, y_hat_pr), 2)\n",
    "    f1_rf =  round(100*f1_score(y_test, y_hat), 2)\n",
    "    print(auc, auc_rf, '|| f1: ', f1, f1_rf)"
   ]
  },
  {
   "cell_type": "code",
   "execution_count": 76,
   "id": "acfed135-629c-48fe-a408-bab81c158da0",
   "metadata": {},
   "outputs": [],
   "source": [
    "def calc_auc(attacks, mode=\"cif10\", stepsize=10):\n",
    "    dict_res = {}\n",
    "    \n",
    "    length = 0\n",
    "    \n",
    "    for att in attacks:\n",
    "        print(\"attack\", att)\n",
    "        \n",
    "        eps = \"\"\n",
    "        if att in ['fgsm', 'bim', 'pgd', 'aa']:\n",
    "            eps = '_8255'\n",
    "\n",
    "        if mode == \"cif10\":\n",
    "            pth_tmp             =  os.path.join(base_path, 'cifar10/wrn28-10/multilid/{}/k20/multilid_normalos{}.pt'.format(att, eps))\n",
    "            pth_tmp_adv         =  os.path.join(base_path, 'cifar10/wrn28-10/multilid/{}/k20/multilid_adverlos{}.pt'.format(att, eps))\n",
    "        else:                  \n",
    "            pth_tmp             =  os.path.join(base_path, 'imagenet/wrn50-2/multilid/{}/k20/multilid_normalos{}.pt'.format(att, eps))\n",
    "            pth_tmp_adv         =  os.path.join(base_path, 'imagenet/wrn50-2/multilid/{}/k20/multilid_adverlos{}.pt'.format(att, eps))\n",
    "\n",
    "        characteristics     = torch.load(pth_tmp).numpy()[:NR_SAMPLES]\n",
    "        characteristics_adv = torch.load(pth_tmp_adv).numpy()[:NR_SAMPLES]\n",
    "\n",
    "        characteristics_re     = characteristics.reshape((characteristics.shape[0], -1))\n",
    "        characteristics_adv_re = characteristics_adv.reshape((characteristics_adv.shape[0], -1))\n",
    "        \n",
    "        characteristics_re     = characteristics_re[:,::-1]   \n",
    "        characteristics_adv_re = characteristics_adv_re[:,::-1]\n",
    "        \n",
    "        print(characteristics_re.shape)\n",
    "        nrsamples, length = characteristics_re.shape\n",
    "        print(\"length\", length, stepsize)\n",
    "        \n",
    "        auc_list = []\n",
    "\n",
    "        for i in range(0, length+stepsize, stepsize):\n",
    "\n",
    "            if not i == 0:\n",
    "            \n",
    "                clean_feat  = characteristics_re[:, :i]\n",
    "                attack_feat = characteristics_adv_re[:, :i]\n",
    "\n",
    "                X_train, y_train, X_test, y_test = split_data(clean_feat, attack_feat, noise=False, test_size=0.2, random_state=42)\n",
    "\n",
    "\n",
    "                y_hat, y_hat_pr = RF(X_train, y_train, X_test, y_test)\n",
    "                auc = round(100*roc_auc_score(y_test, y_hat_pr), 2)\n",
    "                f1_rf =  round(100*f1_score(y_test, y_hat), 2)\n",
    "                # print(auc, auc_rf, '|| f1: ', f1, f1_rf) \n",
    "\n",
    "                #print(\"auc\", auc, f1_rf)\n",
    "\n",
    "            else:\n",
    "                auc = 0\n",
    "\n",
    "            auc_list.append(auc)\n",
    "\n",
    "        dict_res[att] = auc_list \n",
    "\n",
    "    return dict_res, length"
   ]
  },
  {
   "cell_type": "code",
   "execution_count": 77,
   "id": "25069aee-c459-40ef-8d74-0feb9c478306",
   "metadata": {},
   "outputs": [],
   "source": [
    "# attacks = ['fgsm', 'bim', 'pgd', 'aa', 'df', 'cw']\n",
    "attacks = ['fgsm', 'bim', 'pgd', 'aa']\n",
    "# labels  = ['FGSM', 'BIM', 'PGD', 'AA', 'DF', 'CW']\n",
    "labels  = ['FGSM', 'BIM', 'PGD', 'AA', ]\n",
    "#cdict  = {0: 'black', 1: 'pink', 2: 'blue', 3: 'red', 4: 'green', 5: 'cyan', 6: 'orange', 7: 'purple'}\n",
    "cdict  = {0: 'blue', 1: 'red', 2: 'green', 3: 'cyan'}\n",
    "# cdict  = {0: 'blue', 1: 'red', 2: 'green', 3: 'cyan', 4: 'orange', 5: 'purple'}"
   ]
  },
  {
   "cell_type": "code",
   "execution_count": 78,
   "id": "93c29bc3-89c1-4f1e-b9ba-2c0d4508c416",
   "metadata": {},
   "outputs": [
    {
     "name": "stdout",
     "output_type": "stream",
     "text": [
      "attack fgsm\n",
      "(2000, 260)\n",
      "length 260 10\n",
      "attack bim\n",
      "(2000, 260)\n",
      "length 260 10\n",
      "attack pgd\n",
      "(2000, 260)\n",
      "length 260 10\n",
      "attack aa\n",
      "(2000, 260)\n",
      "length 260 10\n"
     ]
    }
   ],
   "source": [
    "dict_res, length = calc_auc(attacks, mode=\"cif10\")"
   ]
  },
  {
   "cell_type": "code",
   "execution_count": 79,
   "id": "7e28bfac-a810-47ea-bd10-9582dd3975fb",
   "metadata": {},
   "outputs": [
    {
     "data": {
      "text/plain": [
       "27"
      ]
     },
     "execution_count": 79,
     "metadata": {},
     "output_type": "execute_result"
    }
   ],
   "source": [
    "len(dict_res['fgsm'])"
   ]
  },
  {
   "cell_type": "code",
   "execution_count": 80,
   "id": "00e29d8d-1305-4296-ac42-b07783089832",
   "metadata": {},
   "outputs": [
    {
     "data": {
      "text/plain": [
       "<matplotlib.legend.Legend at 0x7fc3b0759310>"
      ]
     },
     "execution_count": 80,
     "metadata": {},
     "output_type": "execute_result"
    },
    {
     "data": {
      "image/png": "[encoded data removed]",
      "text/plain": [
       "<Figure size 432x288 with 1 Axes>"
      ]
     },
     "metadata": {
      "needs_background": "light"
     },
     "output_type": "display_data"
    }
   ],
   "source": [
    "fig, ax = plt.subplots()\n",
    "plt.title('Cummulative LID Features - WRN 28-10 - CIFAR10')\n",
    "plt.ylabel(\"AUC\")\n",
    "plt.xlabel(\"multLID features length\")\n",
    "x = np.arange(0, length+stepsize, stepsize)\n",
    "for it, att in enumerate(attacks):\n",
    "    plt.plot(x, dict_res[att], label=labels[it], color=cdict[it])\n",
    "\n",
    "plt.grid()\n",
    "plt.legend()\n",
    "\n",
    "# ax.figure.savefig(\"plots/cummulative_lid_features/cummulative_lid_features_cifar10.png\", dpi=600, bbox_inches='tight')"
   ]
  },
  {
   "cell_type": "markdown",
   "id": "d809c769-df88-4d38-abec-de09a51b421b",
   "metadata": {},
   "source": [
    "# ImageNet"
   ]
  },
  {
   "cell_type": "code",
   "execution_count": 16,
   "id": "89ee76d8-36c1-4b3a-baf3-d46b0ce4e239",
   "metadata": {},
   "outputs": [
    {
     "name": "stdout",
     "output_type": "stream",
     "text": [
      "attack fgsm\n",
      "length 510 10\n",
      "attack bim\n",
      "length 510 10\n",
      "attack pgd\n",
      "length 510 10\n",
      "attack aa\n",
      "length 510 10\n",
      "attack df\n",
      "length 510 10\n",
      "attack cw\n",
      "length 510 10\n"
     ]
    }
   ],
   "source": [
    "dict_res, length = calc_auc(attacks, mode=\"imagenet\")"
   ]
  },
  {
   "cell_type": "code",
   "execution_count": 18,
   "id": "4ee72c8f-95f3-4e61-bac2-81b3c606bbb2",
   "metadata": {},
   "outputs": [
    {
     "data": {
      "text/plain": [
       "52"
      ]
     },
     "execution_count": 18,
     "metadata": {},
     "output_type": "execute_result"
    }
   ],
   "source": [
    "len(dict_res[\"fgsm\"])"
   ]
  },
  {
   "cell_type": "code",
   "execution_count": 19,
   "id": "56932d68-1c3a-4ca2-9420-208dcad4c4db",
   "metadata": {},
   "outputs": [
    {
     "data": {
      "text/plain": [
       "52"
      ]
     },
     "execution_count": 19,
     "metadata": {},
     "output_type": "execute_result"
    }
   ],
   "source": [
    "len(x)"
   ]
  },
  {
   "cell_type": "code",
   "execution_count": 20,
   "id": "c6921041-6fcd-4629-834c-7dedf38b6643",
   "metadata": {},
   "outputs": [
    {
     "data": {
      "text/plain": [
       "<matplotlib.legend.Legend at 0x7fd50b686d00>"
      ]
     },
     "execution_count": 20,
     "metadata": {},
     "output_type": "execute_result"
    },
    {
     "data": {
      "image/png": "[encoded data removed]",
      "text/plain": [
       "<Figure size 432x288 with 1 Axes>"
      ]
     },
     "metadata": {
      "needs_background": "light"
     },
     "output_type": "display_data"
    }
   ],
   "source": [
    "attacks = ['fgsm', 'bim', 'pgd', 'aa', 'df', 'cw']\n",
    "fig, ax = plt.subplots()\n",
    "plt.title('Cummulative LID Features - WRN 50-2 - ImageNet')\n",
    "plt.ylabel(\"AUC\")\n",
    "plt.xlabel(\"multiLID features length\")\n",
    "x = np.arange(0, length+stepsize, stepsize)\n",
    "for it, att in enumerate(attacks):\n",
    "    plt.plot(x, dict_res[att], label=labels[it], color=cdict[it])\n",
    "\n",
    "plt.grid()\n",
    "plt.legend()\n",
    "\n",
    "#ax.figure.savefig(\"plots/cummulative_lid_features/cummulative_lid_features_imagenet.png\", dpi=600, bbox_inches='tight')"
   ]
  }
 ],
 "metadata": {
  "kernelspec": {
   "display_name": "Python [conda env:.conda-cuda--11-1-1--pytorch--1-9-0]",
   "language": "python",
   "name": "conda-env-.conda-cuda--11-1-1--pytorch--1-9-0-py"
  },
  "language_info": {
   "codemirror_mode": {
    "name": "ipython",
    "version": 3
   },
   "file_extension": ".py",
   "mimetype": "text/x-python",
   "name": "python",
   "nbconvert_exporter": "python",
   "pygments_lexer": "ipython3",
   "version": "3.9.10"
  }
 },
 "nbformat": 4,
 "nbformat_minor": 5
}
